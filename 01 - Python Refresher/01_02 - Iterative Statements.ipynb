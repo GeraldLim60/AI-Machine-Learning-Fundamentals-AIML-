{
 "cells": [
  {
   "cell_type": "markdown",
   "metadata": {},
   "source": [
    "# 01.02 - Iterative Statements"
   ]
  },
  {
   "cell_type": "markdown",
   "metadata": {},
   "source": [
    "## **Introduction**\n",
    "\n",
    "Iterative statements, or loops, are used to repeatedly execute a block of code. Python provides two types of loops: `for` loops and `while` loops. The `for` loop is used to iterate over a sequence (such as a list, tuple, or string) or other iterable objects. The `while` loop, on the other hand, continues execution as long as a specified condition is true.\n",
    "\n",
    "In this lab, we'll learn about the syntax and usage of both types of loops, as well as some additional concepts like nested loops and control statements within loops. We'll also learn about some useful functions that can be used with loops, like `enumerate()`, `range()`, and `zip()`.\n",
    "\n",
    "## **Section 1: The `for` loop**\n",
    "\n",
    "The `for` loop in Python is used to iterate over a sequence like a list, tuple, or string. It can also iterate over a range of numbers.\n",
    "\n",
    "Here are some examples of working with `for` loops in Python:\n",
    "\n",
    "**Example 1: Basic `for` loop**"
   ]
  },
  {
   "cell_type": "code",
   "execution_count": 1,
   "metadata": {},
   "outputs": [
    {
     "name": "stdout",
     "output_type": "stream",
     "text": [
      "1\n",
      "2\n",
      "3\n",
      "4\n",
      "5\n"
     ]
    }
   ],
   "source": [
    "for i in [1, 2, 3, 4, 5]:\n",
    "    print(i)  # This will print numbers 1 through 5"
   ]
  },
  {
   "cell_type": "markdown",
   "metadata": {},
   "source": [
    "**Example 2: `for` loop with string**"
   ]
  },
  {
   "cell_type": "code",
   "execution_count": 2,
   "metadata": {},
   "outputs": [
    {
     "name": "stdout",
     "output_type": "stream",
     "text": [
      "H\n",
      "e\n",
      "l\n",
      "l\n",
      "o\n"
     ]
    }
   ],
   "source": [
    "for char in \"Hello\":\n",
    "    print(char)  # This will print each character in the string \"Hello\""
   ]
  },
  {
   "cell_type": "markdown",
   "metadata": {},
   "source": [
    "**Example 3: `for` loop with range**"
   ]
  },
  {
   "cell_type": "code",
   "execution_count": 3,
   "metadata": {},
   "outputs": [
    {
     "name": "stdout",
     "output_type": "stream",
     "text": [
      "0\n",
      "1\n",
      "2\n",
      "3\n",
      "4\n"
     ]
    }
   ],
   "source": [
    "for i in range(5):\n",
    "    print(i)  # This will print numbers 0 through 4"
   ]
  },
  {
   "cell_type": "markdown",
   "metadata": {},
   "source": [
    "**Example 4: `for` loop with nested list**"
   ]
  },
  {
   "cell_type": "code",
   "execution_count": 4,
   "metadata": {},
   "outputs": [
    {
     "name": "stdout",
     "output_type": "stream",
     "text": [
      "1\n",
      "2\n",
      "3\n",
      "4\n",
      "5\n",
      "6\n",
      "7\n",
      "8\n",
      "9\n"
     ]
    }
   ],
   "source": [
    "nested_list = [[1, 2, 3], [4, 5, 6], [7, 8, 9]]\n",
    "for list in nested_list:\n",
    "    for num in list:\n",
    "        print(num)  # This will print all numbers in the nested list"
   ]
  },
  {
   "cell_type": "markdown",
   "metadata": {},
   "source": [
    "**Example 5: `for` loop with dictionary**"
   ]
  },
  {
   "cell_type": "code",
   "execution_count": 5,
   "metadata": {},
   "outputs": [
    {
     "name": "stdout",
     "output_type": "stream",
     "text": [
      "a 1\n",
      "b 2\n",
      "c 3\n"
     ]
    }
   ],
   "source": [
    "dictionary = {\"a\": 1, \"b\": 2, \"c\": 3}\n",
    "for key in dictionary:\n",
    "    print(key, dictionary[key])  # This will print each key and its corresponding value"
   ]
  },
  {
   "cell_type": "markdown",
   "metadata": {},
   "source": [
    "## **Section 2: The `while` loop**\n",
    "\n",
    "The `while` loop in Python is used to execute a block of code repeatedly as long as a given condition is `True`. The condition is checked before the execution of the loop body and thus, if the condition is `False` at the start, the loop body won't be executed at all.\n",
    "\n",
    "Here are some examples of working with `while` loops in Python:\n",
    "\n",
    "**Example 1: Basic `while` loop**"
   ]
  },
  {
   "cell_type": "code",
   "execution_count": 6,
   "metadata": {},
   "outputs": [
    {
     "name": "stdout",
     "output_type": "stream",
     "text": [
      "1\n",
      "2\n",
      "3\n",
      "4\n",
      "5\n"
     ]
    }
   ],
   "source": [
    "i = 1\n",
    "while i <= 5:\n",
    "    print(i)  # This will print numbers 1 through 5\n",
    "    i += 1"
   ]
  },
  {
   "cell_type": "markdown",
   "metadata": {},
   "source": [
    "**Example 2: `while` loop with `break` statement**\n",
    "\n",
    "The `break` statement in Python is used to exit a loop prematurely. It is usually used in conjunction with a conditional `if` statement."
   ]
  },
  {
   "cell_type": "code",
   "execution_count": 7,
   "metadata": {},
   "outputs": [
    {
     "name": "stdout",
     "output_type": "stream",
     "text": [
      "1\n",
      "2\n",
      "3\n"
     ]
    }
   ],
   "source": [
    "i = 1\n",
    "while i <= 5:\n",
    "    if i == 4:\n",
    "        break\n",
    "    print(i)  # This will print numbers 1, 2, and 3\n",
    "    i += 1"
   ]
  },
  {
   "cell_type": "markdown",
   "metadata": {},
   "source": [
    "**Example 3: `while` loop with `continue` statement**\n",
    "\n",
    "The `continue` statement in Python is used to skip the current iteration of the loop and continue with the next one."
   ]
  },
  {
   "cell_type": "code",
   "execution_count": 8,
   "metadata": {},
   "outputs": [
    {
     "name": "stdout",
     "output_type": "stream",
     "text": [
      "1\n",
      "2\n",
      "4\n",
      "5\n"
     ]
    }
   ],
   "source": [
    "i = 0\n",
    "while i < 5:\n",
    "    i += 1\n",
    "    if i == 3:\n",
    "        continue\n",
    "    print(i)  # This will print numbers 1, 2, 4, and 5"
   ]
  },
  {
   "cell_type": "markdown",
   "metadata": {},
   "source": [
    "**Example 4: `while` loop with `else` statement**\n",
    "\n",
    "In Python, the `else` statement can be used along with the `while` loop. The `else` block executes only if the condition in the `while` loop evaluates to `False`. If the `break` statement is executed inside the `while` loop, then the `else` block won't be executed."
   ]
  },
  {
   "cell_type": "code",
   "execution_count": 9,
   "metadata": {},
   "outputs": [
    {
     "name": "stdout",
     "output_type": "stream",
     "text": [
      "1\n",
      "2\n",
      "3\n",
      "Loop has ended.\n"
     ]
    }
   ],
   "source": [
    "i = 1\n",
    "while i <= 3:\n",
    "    print(i)  # This will print numbers 1, 2, and 3\n",
    "    i += 1\n",
    "else:\n",
    "    print('Loop has ended.')  # This will print 'Loop has ended.'"
   ]
  },
  {
   "cell_type": "markdown",
   "metadata": {},
   "source": [
    "**Example 5: Infinitive `while` loop**\n",
    "\n",
    "Sometimes, a `while` loop can be used to create an infinite loop that runs until the program is interrupted. This is usually done by setting the loop condition to `True`."
   ]
  },
  {
   "cell_type": "code",
   "execution_count": 10,
   "metadata": {},
   "outputs": [],
   "source": [
    "while True:\n",
    "    user_input = input('Enter \"quit\" to stop the loop: ')\n",
    "    if user_input == 'quit':\n",
    "        break"
   ]
  },
  {
   "cell_type": "markdown",
   "metadata": {},
   "source": [
    "## **Section 3: Nested Loops**\n",
    "\n",
    "Nested loops are loops that exist inside the body of another loop. When the program control reaches the inner loop, it executes it to completion. Once the inner loop is completed, the program control moves to the next iteration of the outer loop until all iterations are completed.\n",
    "\n",
    "### **Example 1: Nested `for` Loop**"
   ]
  },
  {
   "cell_type": "code",
   "execution_count": 11,
   "metadata": {},
   "outputs": [
    {
     "name": "stdout",
     "output_type": "stream",
     "text": [
      "0 0\n",
      "0 1\n",
      "0 2\n",
      "1 0\n",
      "1 1\n",
      "1 2\n",
      "2 0\n",
      "2 1\n",
      "2 2\n"
     ]
    }
   ],
   "source": [
    "for i in range(3):\n",
    "    for j in range(3):\n",
    "        print(i, j)"
   ]
  },
  {
   "cell_type": "markdown",
   "metadata": {},
   "source": [
    "In this example, for every iteration of the outer loop, the inner loop will run to completion. The output will be pairs of numbers: (0,0), (0,1), (0,2), (1,0), (1,1), etc.\n",
    "\n",
    "### **Example 2: Nested `while` Loop**"
   ]
  },
  {
   "cell_type": "code",
   "execution_count": 12,
   "metadata": {},
   "outputs": [
    {
     "name": "stdout",
     "output_type": "stream",
     "text": [
      "0 0\n",
      "0 1\n",
      "0 2\n",
      "1 0\n",
      "1 1\n",
      "1 2\n",
      "2 0\n",
      "2 1\n",
      "2 2\n"
     ]
    }
   ],
   "source": [
    "i = 0\n",
    "while i < 3:\n",
    "    j = 0\n",
    "    while j < 3:\n",
    "        print(i, j)\n",
    "        j += 1\n",
    "    i += 1"
   ]
  },
  {
   "cell_type": "markdown",
   "metadata": {},
   "source": [
    "This example is equivalent to the previous one, but uses `while` loops instead of `for` loops. The output will be the same.\n",
    "\n",
    "### **Example 3: Using a `break` Statement in a Nested Loop**"
   ]
  },
  {
   "cell_type": "code",
   "execution_count": 13,
   "metadata": {},
   "outputs": [
    {
     "name": "stdout",
     "output_type": "stream",
     "text": [
      "0 0\n",
      "1 0\n",
      "2 0\n"
     ]
    }
   ],
   "source": [
    "for i in range(3):\n",
    "    for j in range(3):\n",
    "        if j == 1:\n",
    "            break\n",
    "        print(i, j)"
   ]
  },
  {
   "cell_type": "markdown",
   "metadata": {},
   "source": [
    "In this example, the `break` statement will terminate the inner loop when `j` equals 1. So for each iteration of the outer loop, the inner loop will only print out one value before it is terminated.\n",
    "\n",
    "### **Example 4: Multiplication Table Using a Nested Loop**"
   ]
  },
  {
   "cell_type": "code",
   "execution_count": 14,
   "metadata": {},
   "outputs": [
    {
     "name": "stdout",
     "output_type": "stream",
     "text": [
      "1 * 1 = 1\n",
      "1 * 2 = 2\n",
      "1 * 3 = 3\n",
      "1 * 4 = 4\n",
      "1 * 5 = 5\n",
      "1 * 6 = 6\n",
      "1 * 7 = 7\n",
      "1 * 8 = 8\n",
      "1 * 9 = 9\n",
      "1 * 10 = 10\n",
      "\\n\n",
      "2 * 1 = 2\n",
      "2 * 2 = 4\n",
      "2 * 3 = 6\n",
      "2 * 4 = 8\n",
      "2 * 5 = 10\n",
      "2 * 6 = 12\n",
      "2 * 7 = 14\n",
      "2 * 8 = 16\n",
      "2 * 9 = 18\n",
      "2 * 10 = 20\n",
      "\\n\n",
      "3 * 1 = 3\n",
      "3 * 2 = 6\n",
      "3 * 3 = 9\n",
      "3 * 4 = 12\n",
      "3 * 5 = 15\n",
      "3 * 6 = 18\n",
      "3 * 7 = 21\n",
      "3 * 8 = 24\n",
      "3 * 9 = 27\n",
      "3 * 10 = 30\n",
      "\\n\n",
      "4 * 1 = 4\n",
      "4 * 2 = 8\n",
      "4 * 3 = 12\n",
      "4 * 4 = 16\n",
      "4 * 5 = 20\n",
      "4 * 6 = 24\n",
      "4 * 7 = 28\n",
      "4 * 8 = 32\n",
      "4 * 9 = 36\n",
      "4 * 10 = 40\n",
      "\\n\n",
      "5 * 1 = 5\n",
      "5 * 2 = 10\n",
      "5 * 3 = 15\n",
      "5 * 4 = 20\n",
      "5 * 5 = 25\n",
      "5 * 6 = 30\n",
      "5 * 7 = 35\n",
      "5 * 8 = 40\n",
      "5 * 9 = 45\n",
      "5 * 10 = 50\n",
      "\\n\n",
      "6 * 1 = 6\n",
      "6 * 2 = 12\n",
      "6 * 3 = 18\n",
      "6 * 4 = 24\n",
      "6 * 5 = 30\n",
      "6 * 6 = 36\n",
      "6 * 7 = 42\n",
      "6 * 8 = 48\n",
      "6 * 9 = 54\n",
      "6 * 10 = 60\n",
      "\\n\n",
      "7 * 1 = 7\n",
      "7 * 2 = 14\n",
      "7 * 3 = 21\n",
      "7 * 4 = 28\n",
      "7 * 5 = 35\n",
      "7 * 6 = 42\n",
      "7 * 7 = 49\n",
      "7 * 8 = 56\n",
      "7 * 9 = 63\n",
      "7 * 10 = 70\n",
      "\\n\n",
      "8 * 1 = 8\n",
      "8 * 2 = 16\n",
      "8 * 3 = 24\n",
      "8 * 4 = 32\n",
      "8 * 5 = 40\n",
      "8 * 6 = 48\n",
      "8 * 7 = 56\n",
      "8 * 8 = 64\n",
      "8 * 9 = 72\n",
      "8 * 10 = 80\n",
      "\\n\n",
      "9 * 1 = 9\n",
      "9 * 2 = 18\n",
      "9 * 3 = 27\n",
      "9 * 4 = 36\n",
      "9 * 5 = 45\n",
      "9 * 6 = 54\n",
      "9 * 7 = 63\n",
      "9 * 8 = 72\n",
      "9 * 9 = 81\n",
      "9 * 10 = 90\n",
      "\\n\n",
      "10 * 1 = 10\n",
      "10 * 2 = 20\n",
      "10 * 3 = 30\n",
      "10 * 4 = 40\n",
      "10 * 5 = 50\n",
      "10 * 6 = 60\n",
      "10 * 7 = 70\n",
      "10 * 8 = 80\n",
      "10 * 9 = 90\n",
      "10 * 10 = 100\n",
      "\\n\n"
     ]
    }
   ],
   "source": [
    "for i in range(1, 11):\n",
    "    for j in range(1, 11):\n",
    "        print(f\"{i} * {j} = {i*j}\")\n",
    "    print(\"\\\\n\")"
   ]
  },
  {
   "cell_type": "markdown",
   "metadata": {},
   "source": [
    "This example prints a multiplication table from 1 to 10. The inner loop calculates the product of the current values of `i` and `j`.\n",
    "\n",
    "### **Example 5: List Comprehension with Nested Loop**"
   ]
  },
  {
   "cell_type": "code",
   "execution_count": 15,
   "metadata": {},
   "outputs": [
    {
     "name": "stdout",
     "output_type": "stream",
     "text": [
      "[[0, 1, 2, 3, 4], [0, 1, 2, 3, 4], [0, 1, 2, 3, 4], [0, 1, 2, 3, 4], [0, 1, 2, 3, 4]]\n"
     ]
    }
   ],
   "source": [
    "matrix = [[j for j in range(5)] for i in range(5)]\n",
    "print(matrix)"
   ]
  },
  {
   "cell_type": "markdown",
   "metadata": {},
   "source": [
    "This example uses nested list comprehension to create a 5x5 matrix. The inner loop creates each row, and the outer loop creates the list of rows.\n",
    "\n",
    "## **Section 4: Control statements in loops**\n",
    "\n",
    "Control statements in Python are used to control the order in which code is executed. In loops, they can be used to skip iterations, terminate the loop, or even skip an iteration and continue with the next one. Python provides three control statements: `break`, `continue`, and `pass`.\n",
    "\n",
    "### **Example 1: The `break` statement**\n",
    "\n",
    "The `break` statement in Python is used to exit a loop prematurely. It is usually used in conjunction with a conditional `if` statement."
   ]
  },
  {
   "cell_type": "code",
   "execution_count": 16,
   "metadata": {},
   "outputs": [
    {
     "name": "stdout",
     "output_type": "stream",
     "text": [
      "1\n",
      "2\n",
      "3\n",
      "4\n"
     ]
    }
   ],
   "source": [
    "for i in range(1, 10):\n",
    "    if i == 5:\n",
    "        break\n",
    "    print(i)\n",
    "# Output:\n",
    "# 1\n",
    "# 2\n",
    "# 3\n",
    "# 4"
   ]
  },
  {
   "cell_type": "markdown",
   "metadata": {},
   "source": [
    "In the above example, the loop is terminated as soon as i equals 5.\n",
    "\n",
    "### **Example 2: The `continue` statement**\n",
    "\n",
    "The `continue` statement in Python is used to skip the current iteration of the loop and continues with the next one."
   ]
  },
  {
   "cell_type": "code",
   "execution_count": 17,
   "metadata": {},
   "outputs": [
    {
     "name": "stdout",
     "output_type": "stream",
     "text": [
      "1\n",
      "2\n",
      "3\n",
      "4\n",
      "6\n",
      "7\n",
      "8\n",
      "9\n"
     ]
    }
   ],
   "source": [
    "for i in range(1, 10):\n",
    "    if i == 5:\n",
    "        continue\n",
    "    print(i)\n",
    "# Output:\n",
    "# 1\n",
    "# 2\n",
    "# 3\n",
    "# 4\n",
    "# 6\n",
    "# 7\n",
    "# 8\n",
    "# 9"
   ]
  },
  {
   "cell_type": "markdown",
   "metadata": {},
   "source": [
    "In the above example, when i equals 5, it skips the print statement and continues with the next iteration.\n",
    "\n",
    "### **Example 3: The `pass` statement**\n",
    "\n",
    "The `pass` statement in Python is a placeholder statement that is used when the syntax requires a statement, but you don't want to execute any code. It is mostly used for creating minimal classes and functions."
   ]
  },
  {
   "cell_type": "code",
   "execution_count": 18,
   "metadata": {},
   "outputs": [
    {
     "name": "stdout",
     "output_type": "stream",
     "text": [
      "1\n",
      "2\n",
      "3\n",
      "4\n",
      "5\n",
      "6\n",
      "7\n",
      "8\n",
      "9\n"
     ]
    }
   ],
   "source": [
    "for i in range(1, 10):\n",
    "    if i == 5:\n",
    "        pass\n",
    "    print(i)\n",
    "# Output:\n",
    "# 1\n",
    "# 2\n",
    "# 3\n",
    "# 4\n",
    "# 5\n",
    "# 6\n",
    "# 7\n",
    "# 8\n",
    "# 9"
   ]
  },
  {
   "cell_type": "markdown",
   "metadata": {},
   "source": [
    "In the above example, even when i equals 5, it doesn't affect the loop and it continues to print all numbers from 1 to 9.\n",
    "\n",
    "### **Example 4: Using `break` in a nested loop**\n",
    "\n",
    "The `break` statement in Python only terminates the innermost loop in which it is placed. If there are nested loops, the `break` statement will only exit from the loop where it was called."
   ]
  },
  {
   "cell_type": "code",
   "execution_count": 19,
   "metadata": {},
   "outputs": [
    {
     "name": "stdout",
     "output_type": "stream",
     "text": [
      "1\n",
      "2\n",
      "3\n",
      "Outside inner loop\n",
      "2\n",
      "Outside inner loop\n",
      "3\n",
      "6\n",
      "9\n",
      "12\n",
      "Outside inner loop\n",
      "Outside inner loop\n"
     ]
    }
   ],
   "source": [
    "for i in range(1, 5):\n",
    "    for j in range(1, 5):\n",
    "        if i*j == 4:\n",
    "            break\n",
    "        print(i*j)\n",
    "    print(\"Outside inner loop\")\n",
    "# Output:\n",
    "# 1\n",
    "# 2\n",
    "# 3\n",
    "# Outside inner loop\n",
    "# 2\n",
    "# Outside inner loop\n",
    "# 3\n",
    "# 6\n",
    "# Outside inner loop\n",
    "# 4\n",
    "# 8\n",
    "# 12\n",
    "# Outside inner loop"
   ]
  },
  {
   "cell_type": "markdown",
   "metadata": {},
   "source": [
    "In the above example, when i*j equals 4, it breaks out of the inner loop but continues with the next iteration of the outer loop.\n",
    "\n",
    "### **Example 5: Using `continue` in a nested loop**\n",
    "\n",
    "The `continue` statement in a nested loop works in a similar way as the `break` statement. It only affects the innermost loop in which it is placed."
   ]
  },
  {
   "cell_type": "code",
   "execution_count": 20,
   "metadata": {},
   "outputs": [
    {
     "name": "stdout",
     "output_type": "stream",
     "text": [
      "1\n",
      "2\n",
      "3\n",
      "Outside inner loop\n",
      "2\n",
      "6\n",
      "8\n",
      "Outside inner loop\n",
      "3\n",
      "6\n",
      "9\n",
      "12\n",
      "Outside inner loop\n",
      "8\n",
      "12\n",
      "16\n",
      "Outside inner loop\n"
     ]
    }
   ],
   "source": [
    "for i in range(1, 5):\n",
    "    for j in range(1, 5):\n",
    "        if i*j == 4:\n",
    "            continue\n",
    "        print(i*j)\n",
    "    print(\"Outside inner loop\")\n",
    "# Output:\n",
    "# 1\n",
    "# 2\n",
    "# 3\n",
    "# Outside inner loop\n",
    "# 2\n",
    "# 6\n",
    "# 8\n",
    "# Outside inner loop\n",
    "# 3\n",
    "# 6\n",
    "# 9\n",
    "# 12\n",
    "# Outside inner loop\n",
    "# 4\n",
    "# 8\n",
    "# 12\n",
    "# 16\n",
    "# Outside inner loop"
   ]
  },
  {
   "cell_type": "markdown",
   "metadata": {},
   "source": [
    "In the above example, when i*j equals 4, it skips the print statement for that iteration of the inner loop but continues with the next iteration.\n",
    "\n",
    "## **Section 5: The `enumerate()` function**\n",
    "\n",
    "The `enumerate()` function is used to add a counter to an iterable in Python. It takes two parameters: the iterable to enumerate, and the starting value of the counter (which is 0 by default).\n",
    "\n",
    "Here are some examples of using `enumerate()` in a `for` loop:\n",
    "\n",
    "**Example 1: Basic use of `enumerate`**"
   ]
  },
  {
   "cell_type": "code",
   "execution_count": 21,
   "metadata": {},
   "outputs": [
    {
     "name": "stdout",
     "output_type": "stream",
     "text": [
      "Index: 0, Fruit: apple\n",
      "Index: 1, Fruit: banana\n",
      "Index: 2, Fruit: cherry\n"
     ]
    }
   ],
   "source": [
    "fruits = ['apple', 'banana', 'cherry']\n",
    "for i, fruit in enumerate(fruits):\n",
    "    print(f\"Index: {i}, Fruit: {fruit}\")"
   ]
  },
  {
   "cell_type": "markdown",
   "metadata": {},
   "source": [
    "**Example 2: Starting the counter from 1**"
   ]
  },
  {
   "cell_type": "code",
   "execution_count": 22,
   "metadata": {},
   "outputs": [
    {
     "name": "stdout",
     "output_type": "stream",
     "text": [
      "Index: 1, Fruit: apple\n",
      "Index: 2, Fruit: banana\n",
      "Index: 3, Fruit: cherry\n"
     ]
    }
   ],
   "source": [
    "fruits = ['apple', 'banana', 'cherry']\n",
    "for i, fruit in enumerate(fruits, 1):\n",
    "    print(f\"Index: {i}, Fruit: {fruit}\")"
   ]
  },
  {
   "cell_type": "markdown",
   "metadata": {},
   "source": [
    "**Example 3: Using `enumerate` with a string**"
   ]
  },
  {
   "cell_type": "code",
   "execution_count": 23,
   "metadata": {},
   "outputs": [
    {
     "name": "stdout",
     "output_type": "stream",
     "text": [
      "Position: 0, Character: P\n",
      "Position: 1, Character: y\n",
      "Position: 2, Character: t\n",
      "Position: 3, Character: h\n",
      "Position: 4, Character: o\n",
      "Position: 5, Character: n\n"
     ]
    }
   ],
   "source": [
    "text = \"Python\"\n",
    "for i, char in enumerate(text):\n",
    "    print(f\"Position: {i}, Character: {char}\")"
   ]
  },
  {
   "cell_type": "markdown",
   "metadata": {},
   "source": [
    "**Example 4: Using `enumerate` with a dictionary**"
   ]
  },
  {
   "cell_type": "code",
   "execution_count": 24,
   "metadata": {},
   "outputs": [
    {
     "name": "stdout",
     "output_type": "stream",
     "text": [
      "Index: 0, Key: a, Value: 1\n",
      "Index: 1, Key: b, Value: 2\n",
      "Index: 2, Key: c, Value: 3\n"
     ]
    }
   ],
   "source": [
    "dictionary = {'a': 1, 'b': 2, 'c': 3}\n",
    "for i, (key, value) in enumerate(dictionary.items()):\n",
    "    print(f\"Index: {i}, Key: {key}, Value: {value}\")"
   ]
  },
  {
   "cell_type": "markdown",
   "metadata": {},
   "source": [
    "**Example 5: Using `enumerate` with a list of tuples**"
   ]
  },
  {
   "cell_type": "code",
   "execution_count": 25,
   "metadata": {},
   "outputs": [
    {
     "name": "stdout",
     "output_type": "stream",
     "text": [
      "Index: 0, First: 1, Second: 2\n",
      "Index: 1, First: 3, Second: 4\n",
      "Index: 2, First: 5, Second: 6\n"
     ]
    }
   ],
   "source": [
    "list_of_tuples = [(1, 2), (3, 4), (5, 6)]\n",
    "for i, (first, second) in enumerate(list_of_tuples):\n",
    "    print(f\"Index: {i}, First: {first}, Second: {second}\")"
   ]
  },
  {
   "cell_type": "markdown",
   "metadata": {},
   "source": [
    "## **Section 6: The `range()` function**\n",
    "\n",
    "The `range()` function in Python is used to generate a sequence of numbers over time. At its simplest, it accepts an integer and returns a range object (a type of iterable). The `range()` function can take from one to three parameters: the start value, the stop value, and the step size. If only one parameter is given, `range()` generates a sequence of numbers from 0 up to, but not including, the stop value.\n",
    "\n",
    "Here are some examples of using `range()` in a `for` loop:\n",
    "\n",
    "**Example 1: Basic use of `range`**"
   ]
  },
  {
   "cell_type": "code",
   "execution_count": 26,
   "metadata": {},
   "outputs": [
    {
     "name": "stdout",
     "output_type": "stream",
     "text": [
      "0\n",
      "1\n",
      "2\n",
      "3\n",
      "4\n"
     ]
    }
   ],
   "source": [
    "for i in range(5):\n",
    "    print(i)\n",
    "# Output:\n",
    "# 0\n",
    "# 1\n",
    "# 2\n",
    "# 3\n",
    "# 4"
   ]
  },
  {
   "cell_type": "markdown",
   "metadata": {},
   "source": [
    "In this example, `range(5)` generates a sequence of numbers from 0 to 4.\n",
    "\n",
    "**Example 2: `range` with start and stop parameters**"
   ]
  },
  {
   "cell_type": "code",
   "execution_count": 27,
   "metadata": {},
   "outputs": [
    {
     "name": "stdout",
     "output_type": "stream",
     "text": [
      "1\n",
      "2\n",
      "3\n",
      "4\n",
      "5\n"
     ]
    }
   ],
   "source": [
    "for i in range(1, 6):\n",
    "    print(i)\n",
    "# Output:\n",
    "# 1\n",
    "# 2\n",
    "# 3\n",
    "# 4\n",
    "# 5"
   ]
  },
  {
   "cell_type": "markdown",
   "metadata": {},
   "source": [
    "In this example, `range(1, 6)` generates a sequence of numbers from 1 to 5.\n",
    "\n",
    "**Example 3: `range` with start, stop, and step parameters**"
   ]
  },
  {
   "cell_type": "code",
   "execution_count": 28,
   "metadata": {},
   "outputs": [
    {
     "name": "stdout",
     "output_type": "stream",
     "text": [
      "0\n",
      "2\n",
      "4\n",
      "6\n",
      "8\n"
     ]
    }
   ],
   "source": [
    "for i in range(0, 10, 2):\n",
    "    print(i)\n",
    "# Output:\n",
    "# 0\n",
    "# 2\n",
    "# 4\n",
    "# 6\n",
    "# 8"
   ]
  },
  {
   "cell_type": "markdown",
   "metadata": {},
   "source": [
    "In this example, `range(0, 10, 2)` generates a sequence of even numbers from 0 to 8.\n",
    "\n",
    "**Example 4: `range` in reverse order**"
   ]
  },
  {
   "cell_type": "code",
   "execution_count": 29,
   "metadata": {},
   "outputs": [
    {
     "name": "stdout",
     "output_type": "stream",
     "text": [
      "5\n",
      "4\n",
      "3\n",
      "2\n",
      "1\n"
     ]
    }
   ],
   "source": [
    "for i in range(5, 0, -1):\n",
    "    print(i)\n",
    "# Output:\n",
    "# 5\n",
    "# 4\n",
    "# 3\n",
    "# 2\n",
    "# 1"
   ]
  },
  {
   "cell_type": "markdown",
   "metadata": {},
   "source": [
    "In this example, `range(5, 0, -1)` generates a sequence of numbers from 5 to 1 in reverse order.\n",
    "\n",
    "**Example 5: `range` with conditional statement**"
   ]
  },
  {
   "cell_type": "code",
   "execution_count": 30,
   "metadata": {},
   "outputs": [
    {
     "name": "stdout",
     "output_type": "stream",
     "text": [
      "0\n",
      "2\n",
      "4\n",
      "6\n",
      "8\n"
     ]
    }
   ],
   "source": [
    "for i in range(10):\n",
    "    if i % 2 == 0:\n",
    "        print(i)\n",
    "# Output:\n",
    "# 0\n",
    "# 2\n",
    "# 4\n",
    "# 6\n",
    "# 8"
   ]
  },
  {
   "cell_type": "markdown",
   "metadata": {},
   "source": [
    "In this example, the `range(10)` generates a sequence of numbers from 0 to 9. The `if` statement inside the loop checks if the number is even before printing it.\n",
    "\n",
    "## **Section 7: The `zip()` function**\n",
    "\n",
    "The `zip()` function in Python is used to combine two or more iterable objects (like lists, strings, or dictionaries) into a single iterable. This can be useful when you want to iterate over multiple iterables at once. The `zip()` function pairs the first element of each iterable with the first element of the other iterables, the second element with the second elements, and so on. If the iterables are of different lengths, `zip()` stops creating pairs when the shortest iterable is exhausted.\n",
    "\n",
    "Here are some examples of using `zip()` in a `for` loop:\n",
    "\n",
    "**Example 1: Basic use of `zip`**"
   ]
  },
  {
   "cell_type": "code",
   "execution_count": 31,
   "metadata": {},
   "outputs": [
    {
     "name": "stdout",
     "output_type": "stream",
     "text": [
      "1 a\n",
      "2 b\n",
      "3 c\n"
     ]
    }
   ],
   "source": [
    "list1 = [1, 2, 3]\n",
    "list2 = ['a', 'b', 'c']\n",
    "\n",
    "for i, j in zip(list1, list2):\n",
    "    print(i, j)\n",
    "\n",
    "# Output:\n",
    "# 1 a\n",
    "# 2 b\n",
    "# 3 c"
   ]
  },
  {
   "cell_type": "markdown",
   "metadata": {},
   "source": [
    "In this example, `zip(list1, list2)` combines the two lists into pairs of elements. The `for` loop then iterates over these pairs.\n",
    "\n",
    "**Example 2: `zip` with three lists**"
   ]
  },
  {
   "cell_type": "code",
   "execution_count": 32,
   "metadata": {},
   "outputs": [
    {
     "name": "stdout",
     "output_type": "stream",
     "text": [
      "1 a 100\n",
      "2 b 200\n",
      "3 c 300\n"
     ]
    }
   ],
   "source": [
    "list1 = [1, 2, 3]\n",
    "list2 = ['a', 'b', 'c']\n",
    "list3 = [100, 200, 300]\n",
    "\n",
    "for i, j, k in zip(list1, list2, list3):\n",
    "    print(i, j, k)\n",
    "\n",
    "# Output:\n",
    "# 1 a 100\n",
    "# 2 b 200\n",
    "# 3 c 300"
   ]
  },
  {
   "cell_type": "markdown",
   "metadata": {},
   "source": [
    "In this example, `zip(list1, list2, list3)` combines the three lists into tuples of three elements.\n",
    "\n",
    "**Example 3: `zip` with lists of different lengths**"
   ]
  },
  {
   "cell_type": "code",
   "execution_count": 33,
   "metadata": {},
   "outputs": [
    {
     "name": "stdout",
     "output_type": "stream",
     "text": [
      "1 a\n",
      "2 b\n",
      "3 c\n"
     ]
    }
   ],
   "source": [
    "list1 = [1, 2, 3, 4, 5]\n",
    "list2 = ['a', 'b', 'c']\n",
    "\n",
    "for i, j in zip(list1, list2):\n",
    "    print(i, j)\n",
    "\n",
    "# Output:\n",
    "# 1 a\n",
    "# 2 b\n",
    "# 3 c"
   ]
  },
  {
   "cell_type": "markdown",
   "metadata": {},
   "source": [
    "In this example, `zip(list1, list2)` combines the two lists into pairs of elements. However, since list1 is longer than list2, the last two elements of list1 are not included in the output.\n",
    "\n",
    "**Example 4: Using `zip` to create a dictionary**"
   ]
  },
  {
   "cell_type": "code",
   "execution_count": 34,
   "metadata": {},
   "outputs": [
    {
     "name": "stdout",
     "output_type": "stream",
     "text": [
      "{'a': 1, 'b': 2, 'c': 3}\n"
     ]
    }
   ],
   "source": [
    "keys = ['a', 'b', 'c']\n",
    "values = [1, 2, 3]\n",
    "\n",
    "dictionary = dict(zip(keys, values))\n",
    "print(dictionary)\n",
    "\n",
    "# Output:\n",
    "# {'a': 1, 'b': 2, 'c': 3}"
   ]
  },
  {
   "cell_type": "markdown",
   "metadata": {},
   "source": [
    "In this example, `zip(keys, values)` combines the two lists into pairs of elements. The `dict()` function then converts these pairs into key-value pairs in a dictionary.\n",
    "\n",
    "**Example 5: Using `zip` with string and list**"
   ]
  },
  {
   "cell_type": "code",
   "execution_count": 35,
   "metadata": {},
   "outputs": [
    {
     "name": "stdout",
     "output_type": "stream",
     "text": [
      "A 1\n",
      "B 2\n",
      "C 3\n"
     ]
    }
   ],
   "source": [
    "str = \"ABC\"\n",
    "list = [1, 2, 3]\n",
    "\n",
    "for i, j in zip(str, list):\n",
    "    print(i, j)\n",
    "\n",
    "# Output:\n",
    "# A 1\n",
    "# B 2\n",
    "# C 3"
   ]
  },
  {
   "cell_type": "markdown",
   "metadata": {},
   "source": [
    "In this example, `zip(str, list)` combines the string and the list into pairs of elements. The `for` loop then iterates over these pairs.\n",
    "\n",
    "## Challenge\n",
    "\n",
    "Given an integer, n, print its first 10 multiples. Each multiple n x i (where 1 <= i <= 10) should be printed on a new line in the form: n x i = result.\n",
    "\n",
    "**Example:**\n",
    "\n",
    "For n = 3, the printout should look like this:\n",
    "\n",
    "```\n",
    "3 x 1 = 3\n",
    "3 x 2 = 6\n",
    "3 x 3 = 9\n",
    "3 x 4 = 12\n",
    "3 x 5 = 15\n",
    "3 x 6 = 18\n",
    "3 x 7 = 21\n",
    "3 x 8 = 24\n",
    "3 x 9 = 27\n",
    "3 x 10 = 30\n",
    "\n",
    "```\n",
    "\n",
    "Try coding this challenge using both `for` and `while` loops in Python."
   ]
  },
  {
   "cell_type": "code",
   "execution_count": null,
   "metadata": {},
   "outputs": [],
   "source": [
    "### WRITE YOUR CODE BELOW THIS LINE ###\n",
    "\n",
    "\n",
    "### WRITE YOUR CODE ABOVE THIS LINE ###"
   ]
  }
 ],
 "metadata": {
  "kernelspec": {
   "display_name": "aia",
   "language": "python",
   "name": "python3"
  },
  "language_info": {
   "codemirror_mode": {
    "name": "ipython",
    "version": 3
   },
   "file_extension": ".py",
   "mimetype": "text/x-python",
   "name": "python",
   "nbconvert_exporter": "python",
   "pygments_lexer": "ipython3",
   "version": "3.10.13"
  }
 },
 "nbformat": 4,
 "nbformat_minor": 2
}
