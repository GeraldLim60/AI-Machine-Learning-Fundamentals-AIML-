{
 "cells": [
  {
   "cell_type": "markdown",
   "metadata": {},
   "source": [
    "# 01.07 - Tensors"
   ]
  },
  {
   "cell_type": "markdown",
   "metadata": {},
   "source": [
    "## Introduction: Understanding Tensors in PyTorch\n",
    "\n",
    "In this Jupyter Notebook, we aim to understand the concept of tensors in PyTorch. PyTorch is a popular library for deep learning. At its core, PyTorch provides a few key features:\n",
    "\n",
    "1. **Working with `torch.empty()`** - This function is used to create an uninitialized tensor. We will explore its usage and properties.\n",
    "2. **Utilizing `torch.rand()`** - This function generates a tensor with random numbers. We will take a look at how it can be used within our programs.\n",
    "3. **Exploring `torch.zeros()`** - This function is used to create a tensor filled with zeros. We will investigate its purposes and applications.\n",
    "4. **Understanding `torch.ones()`** - This function is used to create a tensor filled with ones. We will delve into its uses and benefits.\n",
    "5. **The `torch.tensor()` Function** - We will study this function which is used to create a tensor from data.\n",
    "6. **An In-depth Look at Torch Data Types** - We will delve into different data types available in PyTorch and how to use them.\n",
    "7. **Mathematical Operations in PyTorch** - We will explore various mathematical operations that can be performed on tensors such as addition, subtraction, multiplication, and division.\n",
    "8. **The `.item()` Function** - We will learn about this function which is used to get a Python number from a tensor.\n",
    "9. **Using the `.view` Function** - We will understand this function which is used to reshape a tensor.\n",
    "10. **Understanding the `.size` Function** - This function returns the size of the tensor. We will explore its usage.\n",
    "11. **The `.from_numpy()` Function** - We will learn how to create a tensor from a numpy array using this function.\n",
    "12. **Working with `torch.device()`** - We will study this function which is used to move tensors to and from GPU.\n",
    "13. **The `.to()` Function** - This function is used to move a tensor to a different device.\n",
    "\n",
    "By understanding these functions and operations, you will be able to work with tensors effectively in PyTorch.\n",
    "\n",
    "## Section 1: Working with `torch.empty()`\n",
    "\n",
    "The `torch.empty()` function in PyTorch is used to create an uninitialized tensor. This means that the function will return a tensor that contains whatever values were in the allocated memory at the time of creation.\n",
    "\n",
    "Here are some examples of working with `torch.empty()` in PyTorch:\n",
    "\n",
    "**Example 1: Defining an empty tensor**"
   ]
  },
  {
   "cell_type": "code",
   "execution_count": 1,
   "metadata": {},
   "outputs": [
    {
     "name": "stdout",
     "output_type": "stream",
     "text": [
      "tensor([0.])\n"
     ]
    }
   ],
   "source": [
    "import torch\n",
    "\n",
    "x = torch.empty(1)\n",
    "print(x)"
   ]
  },
  {
   "cell_type": "markdown",
   "metadata": {},
   "source": [
    "**Example 2: Defining a 2-dimensional empty tensor**"
   ]
  },
  {
   "cell_type": "code",
   "execution_count": 2,
   "metadata": {},
   "outputs": [
    {
     "name": "stdout",
     "output_type": "stream",
     "text": [
      "tensor([[0., 0., 0.],\n",
      "        [0., 0., 0.]])\n"
     ]
    }
   ],
   "source": [
    "import torch\n",
    "\n",
    "x = torch.empty(2, 3)\n",
    "print(x)"
   ]
  },
  {
   "cell_type": "markdown",
   "metadata": {},
   "source": [
    "**Example 3: Defining a 3-dimensional empty tensor**"
   ]
  },
  {
   "cell_type": "code",
   "execution_count": 3,
   "metadata": {},
   "outputs": [
    {
     "name": "stdout",
     "output_type": "stream",
     "text": [
      "tensor([[[0., 0.],\n",
      "         [0., 0.]],\n",
      "\n",
      "        [[0., 0.],\n",
      "         [0., 0.]]])\n"
     ]
    }
   ],
   "source": [
    "import torch\n",
    "\n",
    "x = torch.empty(2, 2, 2)\n",
    "print(x)"
   ]
  },
  {
   "cell_type": "markdown",
   "metadata": {},
   "source": [
    "**Example 4: Defining a 4-dimensional empty tensor**"
   ]
  },
  {
   "cell_type": "code",
   "execution_count": 4,
   "metadata": {},
   "outputs": [
    {
     "name": "stdout",
     "output_type": "stream",
     "text": [
      "tensor([[[[0., 0.],\n",
      "          [0., 0.]],\n",
      "\n",
      "         [[0., 0.],\n",
      "          [0., 0.]]],\n",
      "\n",
      "\n",
      "        [[[0., 0.],\n",
      "          [0., 0.]],\n",
      "\n",
      "         [[0., 0.],\n",
      "          [0., 0.]]]])\n"
     ]
    }
   ],
   "source": [
    "import torch\n",
    "\n",
    "x = torch.empty(2, 2, 2, 2)\n",
    "print(x)"
   ]
  },
  {
   "cell_type": "markdown",
   "metadata": {},
   "source": [
    "**Example 5: Defining a 5-dimensional empty tensor**"
   ]
  },
  {
   "cell_type": "code",
   "execution_count": 5,
   "metadata": {},
   "outputs": [
    {
     "name": "stdout",
     "output_type": "stream",
     "text": [
      "tensor([[[[[0., 0.],\n",
      "           [0., 0.]],\n",
      "\n",
      "          [[0., 0.],\n",
      "           [0., 0.]]],\n",
      "\n",
      "\n",
      "         [[[0., 0.],\n",
      "           [0., 0.]],\n",
      "\n",
      "          [[0., 0.],\n",
      "           [0., 0.]]]],\n",
      "\n",
      "\n",
      "\n",
      "        [[[[0., 0.],\n",
      "           [0., 0.]],\n",
      "\n",
      "          [[0., 0.],\n",
      "           [0., 0.]]],\n",
      "\n",
      "\n",
      "         [[[0., 0.],\n",
      "           [0., 0.]],\n",
      "\n",
      "          [[0., 0.],\n",
      "           [0., 0.]]]]])\n"
     ]
    }
   ],
   "source": [
    "import torch\n",
    "\n",
    "x = torch.empty(2, 2, 2, 2, 2)\n",
    "print(x)"
   ]
  },
  {
   "cell_type": "markdown",
   "metadata": {},
   "source": [
    "## Section 2: Utilizing `torch.rand()`\n",
    "\n",
    "The `torch.rand()` function in PyTorch generates a tensor filled with random numbers from a uniform distribution on the interval [0, 1).\n",
    "\n",
    "Here are some examples of working with `torch.rand()` in PyTorch:\n",
    "\n",
    "**Example 1: Defining a random tensor**"
   ]
  },
  {
   "cell_type": "code",
   "execution_count": 6,
   "metadata": {},
   "outputs": [
    {
     "name": "stdout",
     "output_type": "stream",
     "text": [
      "tensor([0.4949])\n"
     ]
    }
   ],
   "source": [
    "import torch\n",
    "\n",
    "x = torch.rand(1)\n",
    "print(x)"
   ]
  },
  {
   "cell_type": "markdown",
   "metadata": {},
   "source": [
    "**Example 2: Defining a 2-dimensional random tensor**"
   ]
  },
  {
   "cell_type": "code",
   "execution_count": 7,
   "metadata": {},
   "outputs": [
    {
     "name": "stdout",
     "output_type": "stream",
     "text": [
      "tensor([[0.6795, 0.1752, 0.0473],\n",
      "        [0.2234, 0.8689, 0.5123]])\n"
     ]
    }
   ],
   "source": [
    "import torch\n",
    "\n",
    "x = torch.rand(2, 3)\n",
    "print(x)"
   ]
  },
  {
   "cell_type": "markdown",
   "metadata": {},
   "source": [
    "**Example 3: Defining a 3-dimensional random tensor**"
   ]
  },
  {
   "cell_type": "code",
   "execution_count": 8,
   "metadata": {},
   "outputs": [
    {
     "name": "stdout",
     "output_type": "stream",
     "text": [
      "tensor([[[0.9409, 0.7853],\n",
      "         [0.4033, 0.2585]],\n",
      "\n",
      "        [[0.2676, 0.5262],\n",
      "         [0.1371, 0.0165]]])\n"
     ]
    }
   ],
   "source": [
    "import torch\n",
    "\n",
    "x = torch.rand(2, 2, 2)\n",
    "print(x)"
   ]
  },
  {
   "cell_type": "markdown",
   "metadata": {},
   "source": [
    "**Example 4: Defining a 4-dimensional random tensor**"
   ]
  },
  {
   "cell_type": "code",
   "execution_count": 9,
   "metadata": {},
   "outputs": [
    {
     "name": "stdout",
     "output_type": "stream",
     "text": [
      "tensor([[[[0.7902, 0.1909],\n",
      "          [0.4772, 0.4181]],\n",
      "\n",
      "         [[0.6422, 0.5291],\n",
      "          [0.0849, 0.7319]]],\n",
      "\n",
      "\n",
      "        [[[0.8159, 0.5202],\n",
      "          [0.6783, 0.8464]],\n",
      "\n",
      "         [[0.5229, 0.0664],\n",
      "          [0.2413, 0.2126]]]])\n"
     ]
    }
   ],
   "source": [
    "import torch\n",
    "\n",
    "x = torch.rand(2, 2, 2, 2)\n",
    "print(x)"
   ]
  },
  {
   "cell_type": "markdown",
   "metadata": {},
   "source": [
    "**Example 5: Defining a 5-dimensional random tensor**"
   ]
  },
  {
   "cell_type": "code",
   "execution_count": 10,
   "metadata": {},
   "outputs": [
    {
     "name": "stdout",
     "output_type": "stream",
     "text": [
      "tensor([[[[[0.5577, 0.5397],\n",
      "           [0.2806, 0.8878]],\n",
      "\n",
      "          [[0.8044, 0.7802],\n",
      "           [0.9322, 0.8498]]],\n",
      "\n",
      "\n",
      "         [[[0.1611, 0.0366],\n",
      "           [0.3208, 0.8097]],\n",
      "\n",
      "          [[0.7798, 0.0721],\n",
      "           [0.9953, 0.1466]]]],\n",
      "\n",
      "\n",
      "\n",
      "        [[[[0.8007, 0.7848],\n",
      "           [0.2358, 0.9521]],\n",
      "\n",
      "          [[0.8366, 0.8782],\n",
      "           [0.5403, 0.6339]]],\n",
      "\n",
      "\n",
      "         [[[0.4441, 0.3820],\n",
      "           [0.6369, 0.2910]],\n",
      "\n",
      "          [[0.5550, 0.1248],\n",
      "           [0.0537, 0.1633]]]]])\n"
     ]
    }
   ],
   "source": [
    "import torch\n",
    "\n",
    "x = torch.rand(2, 2, 2, 2, 2)\n",
    "print(x)"
   ]
  },
  {
   "cell_type": "markdown",
   "metadata": {},
   "source": [
    "**Note:** The `torch.rand()` function generates random numbers from a uniform distribution, meaning each number in the specified range has an equal chance of being selected.\n",
    "\n",
    "## Section 3: Exploring `torch.zeros()`\n",
    "\n",
    "The `torch.zeros()` function in PyTorch is used to create a tensor filled with the scalar value 0, with the shape defined by the variable argument size.\n",
    "\n",
    "Here are some examples of working with `torch.zeros()` in PyTorch:\n",
    "\n",
    "**Example 1: Defining a zero tensor**"
   ]
  },
  {
   "cell_type": "code",
   "execution_count": 11,
   "metadata": {},
   "outputs": [
    {
     "name": "stdout",
     "output_type": "stream",
     "text": [
      "tensor([0.])\n"
     ]
    }
   ],
   "source": [
    "import torch\n",
    "\n",
    "x = torch.zeros(1)\n",
    "print(x)"
   ]
  },
  {
   "cell_type": "markdown",
   "metadata": {},
   "source": [
    "**Example 2: Defining a 2-dimensional zero tensor**"
   ]
  },
  {
   "cell_type": "code",
   "execution_count": 12,
   "metadata": {},
   "outputs": [
    {
     "name": "stdout",
     "output_type": "stream",
     "text": [
      "tensor([[0., 0., 0.],\n",
      "        [0., 0., 0.]])\n"
     ]
    }
   ],
   "source": [
    "import torch\n",
    "\n",
    "x = torch.zeros(2, 3)\n",
    "print(x)"
   ]
  },
  {
   "cell_type": "markdown",
   "metadata": {},
   "source": [
    "**Example 3: Defining a 3-dimensional zero tensor**"
   ]
  },
  {
   "cell_type": "code",
   "execution_count": 13,
   "metadata": {},
   "outputs": [
    {
     "name": "stdout",
     "output_type": "stream",
     "text": [
      "tensor([[[0., 0.],\n",
      "         [0., 0.]],\n",
      "\n",
      "        [[0., 0.],\n",
      "         [0., 0.]]])\n"
     ]
    }
   ],
   "source": [
    "import torch\n",
    "\n",
    "x = torch.zeros(2, 2, 2)\n",
    "print(x)"
   ]
  },
  {
   "cell_type": "markdown",
   "metadata": {},
   "source": [
    "**Example 4: Defining a 4-dimensional zero tensor**"
   ]
  },
  {
   "cell_type": "code",
   "execution_count": 14,
   "metadata": {},
   "outputs": [
    {
     "name": "stdout",
     "output_type": "stream",
     "text": [
      "tensor([[[[0., 0.],\n",
      "          [0., 0.]],\n",
      "\n",
      "         [[0., 0.],\n",
      "          [0., 0.]]],\n",
      "\n",
      "\n",
      "        [[[0., 0.],\n",
      "          [0., 0.]],\n",
      "\n",
      "         [[0., 0.],\n",
      "          [0., 0.]]]])\n"
     ]
    }
   ],
   "source": [
    "import torch\n",
    "\n",
    "x = torch.zeros(2, 2, 2, 2)\n",
    "print(x)"
   ]
  },
  {
   "cell_type": "markdown",
   "metadata": {},
   "source": [
    "**Example 5: Defining a 5-dimensional zero tensor**"
   ]
  },
  {
   "cell_type": "code",
   "execution_count": 15,
   "metadata": {},
   "outputs": [
    {
     "name": "stdout",
     "output_type": "stream",
     "text": [
      "tensor([[[[[0., 0.],\n",
      "           [0., 0.]],\n",
      "\n",
      "          [[0., 0.],\n",
      "           [0., 0.]]],\n",
      "\n",
      "\n",
      "         [[[0., 0.],\n",
      "           [0., 0.]],\n",
      "\n",
      "          [[0., 0.],\n",
      "           [0., 0.]]]],\n",
      "\n",
      "\n",
      "\n",
      "        [[[[0., 0.],\n",
      "           [0., 0.]],\n",
      "\n",
      "          [[0., 0.],\n",
      "           [0., 0.]]],\n",
      "\n",
      "\n",
      "         [[[0., 0.],\n",
      "           [0., 0.]],\n",
      "\n",
      "          [[0., 0.],\n",
      "           [0., 0.]]]]])\n"
     ]
    }
   ],
   "source": [
    "import torch\n",
    "\n",
    "x = torch.zeros(2, 2, 2, 2, 2)\n",
    "print(x)"
   ]
  },
  {
   "cell_type": "markdown",
   "metadata": {},
   "source": [
    "**Note:** The `torch.zeros()` function generates a tensor filled with zeros. This can be particularly useful when you need to initialize a tensor with zeros before using it in computations.\n",
    "\n",
    "## Section 4: Understanding `torch.ones()`\n",
    "\n",
    "The `torch.ones()` function in PyTorch is used to create a tensor filled with the scalar value 1, with the shape defined by the variable argument size.\n",
    "\n",
    "Here are some examples of working with `torch.ones()` in PyTorch:\n",
    "\n",
    "**Example 1: Defining a ones tensor**"
   ]
  },
  {
   "cell_type": "code",
   "execution_count": 16,
   "metadata": {},
   "outputs": [
    {
     "name": "stdout",
     "output_type": "stream",
     "text": [
      "tensor([1.])\n"
     ]
    }
   ],
   "source": [
    "import torch\n",
    "\n",
    "x = torch.ones(1)\n",
    "print(x)"
   ]
  },
  {
   "cell_type": "markdown",
   "metadata": {},
   "source": [
    "**Example 2: Defining a 2-dimensional ones tensor**"
   ]
  },
  {
   "cell_type": "code",
   "execution_count": 17,
   "metadata": {},
   "outputs": [
    {
     "name": "stdout",
     "output_type": "stream",
     "text": [
      "tensor([[1., 1., 1.],\n",
      "        [1., 1., 1.]])\n"
     ]
    }
   ],
   "source": [
    "import torch\n",
    "\n",
    "x = torch.ones(2, 3)\n",
    "print(x)"
   ]
  },
  {
   "cell_type": "markdown",
   "metadata": {},
   "source": [
    "**Example 3: Defining a 3-dimensional ones tensor**"
   ]
  },
  {
   "cell_type": "code",
   "execution_count": 18,
   "metadata": {},
   "outputs": [
    {
     "name": "stdout",
     "output_type": "stream",
     "text": [
      "tensor([[[1., 1.],\n",
      "         [1., 1.]],\n",
      "\n",
      "        [[1., 1.],\n",
      "         [1., 1.]]])\n"
     ]
    }
   ],
   "source": [
    "import torch\n",
    "\n",
    "x = torch.ones(2, 2, 2)\n",
    "print(x)"
   ]
  },
  {
   "cell_type": "markdown",
   "metadata": {},
   "source": [
    "**Example 4: Defining a 4-dimensional ones tensor**"
   ]
  },
  {
   "cell_type": "code",
   "execution_count": 19,
   "metadata": {},
   "outputs": [
    {
     "name": "stdout",
     "output_type": "stream",
     "text": [
      "tensor([[[[1., 1.],\n",
      "          [1., 1.]],\n",
      "\n",
      "         [[1., 1.],\n",
      "          [1., 1.]]],\n",
      "\n",
      "\n",
      "        [[[1., 1.],\n",
      "          [1., 1.]],\n",
      "\n",
      "         [[1., 1.],\n",
      "          [1., 1.]]]])\n"
     ]
    }
   ],
   "source": [
    "import torch\n",
    "\n",
    "x = torch.ones(2, 2, 2, 2)\n",
    "print(x)"
   ]
  },
  {
   "cell_type": "markdown",
   "metadata": {},
   "source": [
    "**Example 5: Defining a 5-dimensional ones tensor**"
   ]
  },
  {
   "cell_type": "code",
   "execution_count": 20,
   "metadata": {},
   "outputs": [
    {
     "name": "stdout",
     "output_type": "stream",
     "text": [
      "tensor([[[[[1., 1.],\n",
      "           [1., 1.]],\n",
      "\n",
      "          [[1., 1.],\n",
      "           [1., 1.]]],\n",
      "\n",
      "\n",
      "         [[[1., 1.],\n",
      "           [1., 1.]],\n",
      "\n",
      "          [[1., 1.],\n",
      "           [1., 1.]]]],\n",
      "\n",
      "\n",
      "\n",
      "        [[[[1., 1.],\n",
      "           [1., 1.]],\n",
      "\n",
      "          [[1., 1.],\n",
      "           [1., 1.]]],\n",
      "\n",
      "\n",
      "         [[[1., 1.],\n",
      "           [1., 1.]],\n",
      "\n",
      "          [[1., 1.],\n",
      "           [1., 1.]]]]])\n"
     ]
    }
   ],
   "source": [
    "import torch\n",
    "\n",
    "x = torch.ones(2, 2, 2, 2, 2)\n",
    "print(x)"
   ]
  },
  {
   "cell_type": "markdown",
   "metadata": {},
   "source": [
    "**Note:** The `torch.ones()` function generates a tensor filled with ones. This can be particularly useful when you need to initialize a tensor with ones before using it in computations.\n",
    "\n",
    "## Section 5: The `torch.tensor()` Function\n",
    "\n",
    "The `torch.tensor()` function in PyTorch is used to create a tensor from data. The data can be a list or an array of numbers.\n",
    "\n",
    "Here are some examples of working with `torch.tensor()` in PyTorch:\n",
    "\n",
    "**Example 1: Defining a tensor from a list**"
   ]
  },
  {
   "cell_type": "code",
   "execution_count": 21,
   "metadata": {},
   "outputs": [
    {
     "name": "stdout",
     "output_type": "stream",
     "text": [
      "tensor([1, 2, 3, 4, 5])\n"
     ]
    }
   ],
   "source": [
    "import torch\n",
    "\n",
    "x = torch.tensor([1, 2, 3, 4, 5])\n",
    "print(x)"
   ]
  },
  {
   "cell_type": "markdown",
   "metadata": {},
   "source": [
    "**Example 2: Defining a tensor from a 2-dimensional list**"
   ]
  },
  {
   "cell_type": "code",
   "execution_count": 22,
   "metadata": {},
   "outputs": [
    {
     "name": "stdout",
     "output_type": "stream",
     "text": [
      "tensor([[1, 2, 3],\n",
      "        [4, 5, 6]])\n"
     ]
    }
   ],
   "source": [
    "import torch\n",
    "\n",
    "x = torch.tensor([[1, 2, 3], [4, 5, 6]])\n",
    "print(x)"
   ]
  },
  {
   "cell_type": "markdown",
   "metadata": {},
   "source": [
    "**Example 3: Defining a tensor from a NumPy array**"
   ]
  },
  {
   "cell_type": "code",
   "execution_count": 23,
   "metadata": {},
   "outputs": [
    {
     "name": "stdout",
     "output_type": "stream",
     "text": [
      "tensor([1, 2, 3, 4, 5])\n"
     ]
    }
   ],
   "source": [
    "import torch\n",
    "import numpy as np\n",
    "\n",
    "arr = np.array([1, 2, 3, 4, 5])\n",
    "x = torch.tensor(arr)\n",
    "print(x)"
   ]
  },
  {
   "cell_type": "markdown",
   "metadata": {},
   "source": [
    "**Example 4: Defining a tensor with specified data types**"
   ]
  },
  {
   "cell_type": "code",
   "execution_count": 24,
   "metadata": {},
   "outputs": [
    {
     "name": "stdout",
     "output_type": "stream",
     "text": [
      "tensor([1., 2., 3., 4., 5.])\n"
     ]
    }
   ],
   "source": [
    "import torch\n",
    "\n",
    "x = torch.tensor([1, 2, 3, 4, 5], dtype=torch.float32)\n",
    "print(x)"
   ]
  },
  {
   "cell_type": "markdown",
   "metadata": {},
   "source": [
    "**Example 5: Defining a tensor with specified device**\n",
    "\n",
    "```python\n",
    "import torch\n",
    "\n",
    "x = torch.tensor([1, 2, 3, 4, 5], device='cuda')\n",
    "print(x)\n",
    "\n",
    "```\n",
    "\n",
    "**Note:** The `torch.tensor()` function infers the data type from the data. You can explicitly specify the data type using the `dtype` attribute. You can also specify the device (CPU or GPU) on which the tensor is to be stored using the `device` attribute.\n",
    "\n",
    "## Section 6: Scalars, Vectors, Matrices, and Tensors\n",
    "\n",
    "In PyTorch, we can work with numbers in the form of scalars, vectors, matrices, and tensors. Here are some examples:\n",
    "\n",
    "**Example 1: Defining a Scalar**\n",
    "\n",
    "A scalar is a single number."
   ]
  },
  {
   "cell_type": "code",
   "execution_count": 26,
   "metadata": {},
   "outputs": [
    {
     "name": "stdout",
     "output_type": "stream",
     "text": [
      "tensor(5)\n"
     ]
    }
   ],
   "source": [
    "import torch\n",
    "\n",
    "x = torch.tensor(5)\n",
    "print(x)"
   ]
  },
  {
   "cell_type": "markdown",
   "metadata": {},
   "source": [
    "**Example 2: Defining a Vector**\n",
    "\n",
    "A vector is an array of numbers."
   ]
  },
  {
   "cell_type": "code",
   "execution_count": 27,
   "metadata": {},
   "outputs": [
    {
     "name": "stdout",
     "output_type": "stream",
     "text": [
      "tensor([1, 2, 3, 4, 5])\n"
     ]
    }
   ],
   "source": [
    "import torch\n",
    "\n",
    "x = torch.tensor([1, 2, 3, 4, 5])\n",
    "print(x)"
   ]
  },
  {
   "cell_type": "markdown",
   "metadata": {},
   "source": [
    "**Example 3: Defining a Matrix**\n",
    "\n",
    "A matrix is a 2-dimensional array of numbers."
   ]
  },
  {
   "cell_type": "code",
   "execution_count": 28,
   "metadata": {},
   "outputs": [
    {
     "name": "stdout",
     "output_type": "stream",
     "text": [
      "tensor([[1, 2, 3],\n",
      "        [4, 5, 6],\n",
      "        [7, 8, 9]])\n"
     ]
    }
   ],
   "source": [
    "import torch\n",
    "\n",
    "x = torch.tensor([[1, 2, 3], [4, 5, 6], [7, 8, 9]])\n",
    "print(x)"
   ]
  },
  {
   "cell_type": "markdown",
   "metadata": {},
   "source": [
    "In PyTorch, a tensor is a general term used for scalars, vectors, and matrices. It can be a 1-dimensional (scalar), 2-dimensional (vector), 3-dimensional (matrix), or higher-dimensional entity.\n",
    "\n",
    "**Example 4: Defining a 3-dimensional Tensor**"
   ]
  },
  {
   "cell_type": "code",
   "execution_count": 29,
   "metadata": {},
   "outputs": [
    {
     "name": "stdout",
     "output_type": "stream",
     "text": [
      "tensor([[[ 1,  2,  3],\n",
      "         [ 4,  5,  6]],\n",
      "\n",
      "        [[ 7,  8,  9],\n",
      "         [10, 11, 12]]])\n"
     ]
    }
   ],
   "source": [
    "import torch\n",
    "\n",
    "x = torch.tensor([[[1, 2, 3], [4, 5, 6]], [[7, 8, 9], [10, 11, 12]]])\n",
    "print(x)"
   ]
  },
  {
   "cell_type": "markdown",
   "metadata": {},
   "source": [
    "**Example 5: Defining a 4-dimensional Tensor**"
   ]
  },
  {
   "cell_type": "code",
   "execution_count": 30,
   "metadata": {},
   "outputs": [
    {
     "name": "stdout",
     "output_type": "stream",
     "text": [
      "tensor([[[[ 1,  2,  3],\n",
      "          [ 4,  5,  6]],\n",
      "\n",
      "         [[ 7,  8,  9],\n",
      "          [10, 11, 12]]],\n",
      "\n",
      "\n",
      "        [[[13, 14, 15],\n",
      "          [16, 17, 18]],\n",
      "\n",
      "         [[19, 20, 21],\n",
      "          [22, 23, 24]]]])\n"
     ]
    }
   ],
   "source": [
    "import torch\n",
    "\n",
    "x = torch.tensor([[[[1, 2, 3], [4, 5, 6]], [[7, 8, 9], [10, 11, 12]]], [[[13, 14, 15], [16, 17, 18]], [[19, 20, 21], [22, 23, 24]]]])\n",
    "print(x)"
   ]
  },
  {
   "cell_type": "markdown",
   "metadata": {},
   "source": [
    "## Section 7: An In-depth Look at Torch Data Types\n",
    "\n",
    "In PyTorch, we can specify the data type of the tensor by using the `dtype` attribute. PyTorch supports multiple types of data, including:\n",
    "\n",
    "- Float types: `torch.float32` (or `torch.float`), `torch.float64` (or `torch.double`), and `torch.float16` (or `torch.half`)\n",
    "- Integer types: `torch.int8`, `torch.int16` (or `torch.short`), `torch.int32` (or `torch.int`), and `torch.int64` (or `torch.long`)\n",
    "- Boolean type: `torch.bool`\n",
    "\n",
    "Here are some examples of defining tensors with specific data types:\n",
    "\n",
    "**Example 1: Defining a float tensor**"
   ]
  },
  {
   "cell_type": "code",
   "execution_count": 31,
   "metadata": {},
   "outputs": [
    {
     "name": "stdout",
     "output_type": "stream",
     "text": [
      "tensor([1., 2., 3.])\n",
      "torch.float32\n"
     ]
    }
   ],
   "source": [
    "import torch\n",
    "\n",
    "x = torch.tensor([1.0, 2.0, 3.0], dtype=torch.float32)\n",
    "print(x)\n",
    "print(x.dtype)  # Output: torch.float32"
   ]
  },
  {
   "cell_type": "markdown",
   "metadata": {},
   "source": [
    "**Example 2: Defining an integer tensor**"
   ]
  },
  {
   "cell_type": "code",
   "execution_count": 32,
   "metadata": {},
   "outputs": [
    {
     "name": "stdout",
     "output_type": "stream",
     "text": [
      "tensor([1, 2, 3], dtype=torch.int32)\n",
      "torch.int32\n"
     ]
    }
   ],
   "source": [
    "import torch\n",
    "\n",
    "x = torch.tensor([1, 2, 3], dtype=torch.int)\n",
    "print(x)\n",
    "print(x.dtype)  # Output: torch.int32"
   ]
  },
  {
   "cell_type": "markdown",
   "metadata": {},
   "source": [
    "**Example 3: Defining a boolean tensor**"
   ]
  },
  {
   "cell_type": "code",
   "execution_count": 33,
   "metadata": {},
   "outputs": [
    {
     "name": "stdout",
     "output_type": "stream",
     "text": [
      "tensor([ True, False,  True])\n",
      "torch.bool\n"
     ]
    }
   ],
   "source": [
    "import torch\n",
    "\n",
    "x = torch.tensor([True, False, True], dtype=torch.bool)\n",
    "print(x)\n",
    "print(x.dtype)  # Output: torch.bool"
   ]
  },
  {
   "cell_type": "markdown",
   "metadata": {},
   "source": [
    "**Example 4: Changing the data type of a tensor**\n",
    "\n",
    "We can change the data type of a tensor using the `.to()` function."
   ]
  },
  {
   "cell_type": "code",
   "execution_count": 34,
   "metadata": {},
   "outputs": [
    {
     "name": "stdout",
     "output_type": "stream",
     "text": [
      "torch.int64\n",
      "torch.float32\n"
     ]
    }
   ],
   "source": [
    "import torch\n",
    "\n",
    "x = torch.tensor([1, 2, 3])\n",
    "print(x.dtype)  # Output: torch.int64\n",
    "\n",
    "x = x.to(torch.float32)\n",
    "print(x.dtype)  # Output: torch.float32"
   ]
  },
  {
   "cell_type": "markdown",
   "metadata": {},
   "source": [
    "**Example 5: Complex tensor**\n",
    "\n",
    "PyTorch also supports complex tensors. However, many operations are not supported for complex tensors."
   ]
  },
  {
   "cell_type": "code",
   "execution_count": 35,
   "metadata": {},
   "outputs": [
    {
     "name": "stdout",
     "output_type": "stream",
     "text": [
      "tensor([1.+2.j, 2.+3.j, 3.+4.j])\n",
      "torch.complex64\n"
     ]
    }
   ],
   "source": [
    "import torch\n",
    "\n",
    "x = torch.tensor([1+2j, 2+3j, 3+4j], dtype=torch.complex64)\n",
    "print(x)\n",
    "print(x.dtype)  # Output: torch.complex64"
   ]
  },
  {
   "cell_type": "markdown",
   "metadata": {},
   "source": [
    "**Note:** It is important to choose the correct data type for your tensor, as this can affect the precision and memory usage of your PyTorch program. For example, a `torch.float32` tensor takes up less memory and is faster to process than a `torch.float64` tensor, but it also has less precision. So you might want to use `torch.float32` for neural network weights, but `torch.float64` for scientific computations.\n",
    "\n",
    "## Section 8: Mathematical Operations in PyTorch\n",
    "\n",
    "### 8.1 - Addition Operations\n",
    "\n",
    "Addition operations in PyTorch can be performed using the `+` operator or the `.add()` function.\n",
    "\n",
    "Here are some examples of addition operations in PyTorch:\n",
    "\n",
    "**Example 1: Adding two tensors**"
   ]
  },
  {
   "cell_type": "code",
   "execution_count": 36,
   "metadata": {},
   "outputs": [
    {
     "name": "stdout",
     "output_type": "stream",
     "text": [
      "tensor([5, 7, 9])\n"
     ]
    }
   ],
   "source": [
    "import torch\n",
    "\n",
    "x = torch.tensor([1, 2, 3])\n",
    "y = torch.tensor([4, 5, 6])\n",
    "\n",
    "z = x + y\n",
    "print(z)  # Output: tensor([5, 7, 9])"
   ]
  },
  {
   "cell_type": "markdown",
   "metadata": {},
   "source": [
    "**Example 2: Adding a scalar to a tensor**"
   ]
  },
  {
   "cell_type": "code",
   "execution_count": 37,
   "metadata": {},
   "outputs": [
    {
     "name": "stdout",
     "output_type": "stream",
     "text": [
      "tensor([3, 4, 5])\n"
     ]
    }
   ],
   "source": [
    "import torch\n",
    "\n",
    "x = torch.tensor([1, 2, 3])\n",
    "\n",
    "z = x + 2\n",
    "print(z)  # Output: tensor([3, 4, 5])"
   ]
  },
  {
   "cell_type": "markdown",
   "metadata": {},
   "source": [
    "**Example 3: Adding two tensors using the .add() function**"
   ]
  },
  {
   "cell_type": "code",
   "execution_count": 38,
   "metadata": {},
   "outputs": [
    {
     "name": "stdout",
     "output_type": "stream",
     "text": [
      "tensor([5, 7, 9])\n"
     ]
    }
   ],
   "source": [
    "import torch\n",
    "\n",
    "x = torch.tensor([1, 2, 3])\n",
    "y = torch.tensor([4, 5, 6])\n",
    "\n",
    "z = torch.add(x, y)\n",
    "print(z)  # Output: tensor([5, 7, 9])"
   ]
  },
  {
   "cell_type": "markdown",
   "metadata": {},
   "source": [
    "**Example 4: Adding two tensors of different shapes (broadcasting)**"
   ]
  },
  {
   "cell_type": "code",
   "execution_count": 39,
   "metadata": {},
   "outputs": [
    {
     "name": "stdout",
     "output_type": "stream",
     "text": [
      "tensor([[2, 3, 4],\n",
      "        [3, 4, 5],\n",
      "        [4, 5, 6]])\n"
     ]
    }
   ],
   "source": [
    "import torch\n",
    "\n",
    "x = torch.tensor([1, 2, 3])\n",
    "y = torch.tensor([[1], [2], [3]])\n",
    "\n",
    "z = x + y\n",
    "print(z)\n",
    "# Output: tensor([[2, 3, 4],\n",
    "#                  [3, 4, 5],\n",
    "#                  [4, 5, 6]])"
   ]
  },
  {
   "cell_type": "markdown",
   "metadata": {},
   "source": [
    "**Example 5: Adding a scalar to a tensor using the .add() function and in-place addition**"
   ]
  },
  {
   "cell_type": "code",
   "execution_count": 40,
   "metadata": {},
   "outputs": [
    {
     "name": "stdout",
     "output_type": "stream",
     "text": [
      "tensor([3, 4, 5])\n"
     ]
    }
   ],
   "source": [
    "import torch\n",
    "\n",
    "x = torch.tensor([1, 2, 3])\n",
    "\n",
    "x.add_(2)\n",
    "print(x)  # Output: tensor([3, 4, 5])"
   ]
  },
  {
   "cell_type": "markdown",
   "metadata": {},
   "source": [
    "**Note:** The `_` at the end of the function denotes that the operation is performed in-place, modifying the calling tensor directly.\n",
    "\n",
    "### 8.2 - Subtraction Operations\n",
    "\n",
    "Subtraction operations in PyTorch can be performed using the `-` operator or the `.sub()` function.\n",
    "\n",
    "Here are some examples of subtraction operations in PyTorch:\n",
    "\n",
    "**Example 1: Subtracting two tensors**"
   ]
  },
  {
   "cell_type": "code",
   "execution_count": 41,
   "metadata": {},
   "outputs": [
    {
     "name": "stdout",
     "output_type": "stream",
     "text": [
      "tensor([2, 4, 6])\n"
     ]
    }
   ],
   "source": [
    "import torch\n",
    "\n",
    "x = torch.tensor([5, 6, 7])\n",
    "y = torch.tensor([3, 2, 1])\n",
    "\n",
    "z = x - y\n",
    "print(z)  # Output: tensor([2, 4, 6])"
   ]
  },
  {
   "cell_type": "markdown",
   "metadata": {},
   "source": [
    "**Example 2: Subtracting a scalar from a tensor**"
   ]
  },
  {
   "cell_type": "code",
   "execution_count": 42,
   "metadata": {},
   "outputs": [
    {
     "name": "stdout",
     "output_type": "stream",
     "text": [
      "tensor([1, 2, 3])\n"
     ]
    }
   ],
   "source": [
    "import torch\n",
    "\n",
    "x = torch.tensor([3, 4, 5])\n",
    "\n",
    "z = x - 2\n",
    "print(z)  # Output: tensor([1, 2, 3])"
   ]
  },
  {
   "cell_type": "markdown",
   "metadata": {},
   "source": [
    "**Example 3: Subtracting two tensors using the .sub() function**"
   ]
  },
  {
   "cell_type": "code",
   "execution_count": 43,
   "metadata": {},
   "outputs": [
    {
     "name": "stdout",
     "output_type": "stream",
     "text": [
      "tensor([2, 4, 6])\n"
     ]
    }
   ],
   "source": [
    "import torch\n",
    "\n",
    "x = torch.tensor([5, 6, 7])\n",
    "y = torch.tensor([3, 2, 1])\n",
    "\n",
    "z = torch.sub(x, y)\n",
    "print(z)  # Output: tensor([2, 4, 6])"
   ]
  },
  {
   "cell_type": "markdown",
   "metadata": {},
   "source": [
    "**Example 4: Subtracting two tensors of different shapes (broadcasting)**"
   ]
  },
  {
   "cell_type": "code",
   "execution_count": 44,
   "metadata": {},
   "outputs": [
    {
     "name": "stdout",
     "output_type": "stream",
     "text": [
      "tensor([[3, 4, 5],\n",
      "        [4, 5, 6],\n",
      "        [5, 6, 7]])\n"
     ]
    }
   ],
   "source": [
    "import torch\n",
    "\n",
    "x = torch.tensor([5, 6, 7])\n",
    "y = torch.tensor([[2], [1], [0]])\n",
    "\n",
    "z = x - y\n",
    "print(z)\n",
    "# Output: tensor([[3, 4, 5],\n",
    "#                  [4, 5, 6],\n",
    "#                  [5, 6, 7]])"
   ]
  },
  {
   "cell_type": "markdown",
   "metadata": {},
   "source": [
    "**Example 5: Subtracting a scalar from a tensor using the .sub() function and in-place subtraction**"
   ]
  },
  {
   "cell_type": "code",
   "execution_count": 45,
   "metadata": {},
   "outputs": [
    {
     "name": "stdout",
     "output_type": "stream",
     "text": [
      "tensor([2, 3, 4])\n"
     ]
    }
   ],
   "source": [
    "import torch\n",
    "\n",
    "x = torch.tensor([4, 5, 6])\n",
    "\n",
    "x.sub_(2)\n",
    "print(x)  # Output: tensor([2, 3, 4])"
   ]
  },
  {
   "cell_type": "markdown",
   "metadata": {},
   "source": [
    "**Note:** The `_` at the end of the function denotes that the operation is performed in-place, modifying the calling tensor directly.\n",
    "\n",
    "### 8.3 - Multiplication Operations\n",
    "\n",
    "Multiplication operations in PyTorch can be performed using the `*` operator or the `.mul()` function.\n",
    "\n",
    "Here are some examples of multiplication operations in PyTorch:\n",
    "\n",
    "**Example 1: Multiplying two tensors**"
   ]
  },
  {
   "cell_type": "code",
   "execution_count": 46,
   "metadata": {},
   "outputs": [
    {
     "name": "stdout",
     "output_type": "stream",
     "text": [
      "tensor([ 4, 10, 18])\n"
     ]
    }
   ],
   "source": [
    "import torch\n",
    "\n",
    "x = torch.tensor([1, 2, 3])\n",
    "y = torch.tensor([4, 5, 6])\n",
    "\n",
    "z = x * y\n",
    "print(z)  # Output: tensor([4, 10, 18])"
   ]
  },
  {
   "cell_type": "markdown",
   "metadata": {},
   "source": [
    "**Example 2: Multiplying a tensor by a scalar**"
   ]
  },
  {
   "cell_type": "code",
   "execution_count": 47,
   "metadata": {},
   "outputs": [
    {
     "name": "stdout",
     "output_type": "stream",
     "text": [
      "tensor([2, 4, 6])\n"
     ]
    }
   ],
   "source": [
    "import torch\n",
    "\n",
    "x = torch.tensor([1, 2, 3])\n",
    "\n",
    "z = x * 2\n",
    "print(z)  # Output: tensor([2, 4, 6])"
   ]
  },
  {
   "cell_type": "markdown",
   "metadata": {},
   "source": [
    "**Example 3: Multiplying two tensors using the .mul() function**"
   ]
  },
  {
   "cell_type": "code",
   "execution_count": 48,
   "metadata": {},
   "outputs": [
    {
     "name": "stdout",
     "output_type": "stream",
     "text": [
      "tensor([ 4, 10, 18])\n"
     ]
    }
   ],
   "source": [
    "import torch\n",
    "\n",
    "x = torch.tensor([1, 2, 3])\n",
    "y = torch.tensor([4, 5, 6])\n",
    "\n",
    "z = torch.mul(x, y)\n",
    "print(z)  # Output: tensor([4, 10, 18])"
   ]
  },
  {
   "cell_type": "markdown",
   "metadata": {},
   "source": [
    "**Example 4: Multiplying two tensors of different shapes (broadcasting)**"
   ]
  },
  {
   "cell_type": "code",
   "execution_count": 49,
   "metadata": {},
   "outputs": [
    {
     "name": "stdout",
     "output_type": "stream",
     "text": [
      "tensor([[1, 2, 3],\n",
      "        [2, 4, 6],\n",
      "        [3, 6, 9]])\n"
     ]
    }
   ],
   "source": [
    "import torch\n",
    "\n",
    "x = torch.tensor([1, 2, 3])\n",
    "y = torch.tensor([[1], [2], [3]])\n",
    "\n",
    "z = x * y\n",
    "print(z)\n",
    "# Output: tensor([[1, 2, 3],\n",
    "#                  [2, 4, 6],\n",
    "#                  [3, 6, 9]])"
   ]
  },
  {
   "cell_type": "markdown",
   "metadata": {},
   "source": [
    "**Example 5: Multiplying a tensor by a scalar using the .mul() function and in-place multiplication**"
   ]
  },
  {
   "cell_type": "code",
   "execution_count": 50,
   "metadata": {},
   "outputs": [
    {
     "name": "stdout",
     "output_type": "stream",
     "text": [
      "tensor([2, 4, 6])\n"
     ]
    }
   ],
   "source": [
    "import torch\n",
    "\n",
    "x = torch.tensor([1, 2, 3])\n",
    "\n",
    "x.mul_(2)\n",
    "print(x)  # Output: tensor([2, 4, 6])"
   ]
  },
  {
   "cell_type": "markdown",
   "metadata": {},
   "source": [
    "**Note:** The `_` at the end of the function denotes that the operation is performed in-place, modifying the calling tensor directly.\n",
    "\n",
    "### 8.4 - Division Operations\n",
    "\n",
    "Division operations in PyTorch can be performed using the `/` operator or the `.div()` function.\n",
    "\n",
    "Here are some examples of division operations in PyTorch:\n",
    "\n",
    "**Example 1: Dividing two tensors**"
   ]
  },
  {
   "cell_type": "code",
   "execution_count": 51,
   "metadata": {},
   "outputs": [
    {
     "name": "stdout",
     "output_type": "stream",
     "text": [
      "tensor([2., 3., 4.])\n"
     ]
    }
   ],
   "source": [
    "import torch\n",
    "\n",
    "x = torch.tensor([4, 9, 16])\n",
    "y = torch.tensor([2, 3, 4])\n",
    "\n",
    "z = x / y\n",
    "print(z)  # Output: tensor([2., 3., 4.])"
   ]
  },
  {
   "cell_type": "markdown",
   "metadata": {},
   "source": [
    "**Example 2: Dividing a tensor by a scalar**"
   ]
  },
  {
   "cell_type": "code",
   "execution_count": 52,
   "metadata": {},
   "outputs": [
    {
     "name": "stdout",
     "output_type": "stream",
     "text": [
      "tensor([1., 2., 3.])\n"
     ]
    }
   ],
   "source": [
    "import torch\n",
    "\n",
    "x = torch.tensor([2, 4, 6])\n",
    "\n",
    "z = x / 2\n",
    "print(z)  # Output: tensor([1., 2., 3.])"
   ]
  },
  {
   "cell_type": "markdown",
   "metadata": {},
   "source": [
    "**Example 3: Dividing two tensors using the .div() function**"
   ]
  },
  {
   "cell_type": "code",
   "execution_count": 53,
   "metadata": {},
   "outputs": [
    {
     "name": "stdout",
     "output_type": "stream",
     "text": [
      "tensor([2., 3., 4.])\n"
     ]
    }
   ],
   "source": [
    "import torch\n",
    "\n",
    "x = torch.tensor([4, 9, 16])\n",
    "y = torch.tensor([2, 3, 4])\n",
    "\n",
    "z = torch.div(x, y)\n",
    "print(z)  # Output: tensor([2., 3., 4.])"
   ]
  },
  {
   "cell_type": "markdown",
   "metadata": {},
   "source": [
    "**Example 4: Dividing two tensors of different shapes (broadcasting)**"
   ]
  },
  {
   "cell_type": "code",
   "execution_count": 54,
   "metadata": {},
   "outputs": [
    {
     "name": "stdout",
     "output_type": "stream",
     "text": [
      "tensor([[ 1.,  2.,  3.],\n",
      "        [ 2.,  4.,  6.],\n",
      "        [ 4.,  8., 12.]])\n"
     ]
    }
   ],
   "source": [
    "import torch\n",
    "\n",
    "x = torch.tensor([2, 4, 6])\n",
    "y = torch.tensor([[2], [1], [0.5]])\n",
    "\n",
    "z = x / y\n",
    "print(z)\n",
    "# Output: tensor([[1., 2., 3.],\n",
    "#                  [2., 4., 6.],\n",
    "#                  [4., 8., 12.]])"
   ]
  },
  {
   "cell_type": "markdown",
   "metadata": {},
   "source": [
    "**Example 5: Dividing a tensor by a scalar using the .div() function and in-place division**"
   ]
  },
  {
   "cell_type": "code",
   "execution_count": 64,
   "metadata": {},
   "outputs": [
    {
     "name": "stdout",
     "output_type": "stream",
     "text": [
      "tensor([1., 2., 3.])\n"
     ]
    }
   ],
   "source": [
    "import torch\n",
    "\n",
    "x = torch.tensor([2., 4., 6.])\n",
    "\n",
    "x.div_(2)\n",
    "print(x)  # Output: tensor([1., 2., 3.])"
   ]
  },
  {
   "cell_type": "markdown",
   "metadata": {},
   "source": [
    "**Note:** The `_` at the end of the function denotes that the operation is performed in-place, modifying the calling tensor directly.\n",
    "\n",
    "## Section 9: The `.item()` Function\n",
    "\n",
    "The `.item()` function in PyTorch is used to obtain a Python number from a tensor containing a single value. It returns the value of this tensor as a standard Python number.\n",
    "\n",
    "Here are some examples of using the `.item()` function in PyTorch:\n",
    "\n",
    "**Example 1: Extracting a number from a tensor**"
   ]
  },
  {
   "cell_type": "code",
   "execution_count": 65,
   "metadata": {},
   "outputs": [
    {
     "name": "stdout",
     "output_type": "stream",
     "text": [
      "1\n"
     ]
    }
   ],
   "source": [
    "import torch\n",
    "\n",
    "x = torch.tensor([1])\n",
    "print(x.item())  # Output: 1"
   ]
  },
  {
   "cell_type": "markdown",
   "metadata": {},
   "source": [
    "**Example 2: Extracting a number from a more complex tensor**"
   ]
  },
  {
   "cell_type": "code",
   "execution_count": 66,
   "metadata": {},
   "outputs": [
    {
     "name": "stdout",
     "output_type": "stream",
     "text": [
      "2\n"
     ]
    }
   ],
   "source": [
    "import torch\n",
    "\n",
    "x = torch.tensor([[2]])\n",
    "print(x.item())  # Output: 2"
   ]
  },
  {
   "cell_type": "markdown",
   "metadata": {},
   "source": [
    "**Example 3: Extracting a number from a tensor with multiple items**\n",
    "\n",
    "In this case, trying to extract a number using `.item()` will fail because it only works for tensors with one element."
   ]
  },
  {
   "cell_type": "code",
   "execution_count": 68,
   "metadata": {},
   "outputs": [
    {
     "ename": "RuntimeError",
     "evalue": "a Tensor with 3 elements cannot be converted to Scalar",
     "output_type": "error",
     "traceback": [
      "\u001b[0;31m---------------------------------------------------------------------------\u001b[0m",
      "\u001b[0;31mRuntimeError\u001b[0m                              Traceback (most recent call last)",
      "Cell \u001b[0;32mIn[68], line 6\u001b[0m\n\u001b[1;32m      3\u001b[0m x \u001b[38;5;241m=\u001b[39m torch\u001b[38;5;241m.\u001b[39mtensor([\u001b[38;5;241m1\u001b[39m, \u001b[38;5;241m2\u001b[39m, \u001b[38;5;241m3\u001b[39m])\n\u001b[1;32m      5\u001b[0m \u001b[38;5;66;03m# This will throw a RuntimeError: a Tensor with 3 elements cannot be converted to Scalar\u001b[39;00m\n\u001b[0;32m----> 6\u001b[0m \u001b[38;5;28mprint\u001b[39m(\u001b[43mx\u001b[49m\u001b[38;5;241;43m.\u001b[39;49m\u001b[43mitem\u001b[49m\u001b[43m(\u001b[49m\u001b[43m)\u001b[49m)\n",
      "\u001b[0;31mRuntimeError\u001b[0m: a Tensor with 3 elements cannot be converted to Scalar"
     ]
    }
   ],
   "source": [
    "import torch\n",
    "\n",
    "x = torch.tensor([1, 2, 3])\n",
    "\n",
    "# This will throw a RuntimeError: a Tensor with 3 elements cannot be converted to Scalar\n",
    "print(x.item())"
   ]
  },
  {
   "cell_type": "markdown",
   "metadata": {},
   "source": [
    "**Example 4: Extracting a number from a tensor with no items**\n",
    "\n",
    "Similarly, trying to extract a number from a tensor with no elements will also fail."
   ]
  },
  {
   "cell_type": "code",
   "execution_count": 70,
   "metadata": {},
   "outputs": [
    {
     "ename": "RuntimeError",
     "evalue": "a Tensor with 0 elements cannot be converted to Scalar",
     "output_type": "error",
     "traceback": [
      "\u001b[0;31m---------------------------------------------------------------------------\u001b[0m",
      "\u001b[0;31mRuntimeError\u001b[0m                              Traceback (most recent call last)",
      "Cell \u001b[0;32mIn[70], line 6\u001b[0m\n\u001b[1;32m      3\u001b[0m x \u001b[38;5;241m=\u001b[39m torch\u001b[38;5;241m.\u001b[39mtensor([])\n\u001b[1;32m      5\u001b[0m \u001b[38;5;66;03m# This will throw a RuntimeError: a Tensor with 0 elements cannot be converted to Scalar\u001b[39;00m\n\u001b[0;32m----> 6\u001b[0m \u001b[38;5;28mprint\u001b[39m(\u001b[43mx\u001b[49m\u001b[38;5;241;43m.\u001b[39;49m\u001b[43mitem\u001b[49m\u001b[43m(\u001b[49m\u001b[43m)\u001b[49m)\n",
      "\u001b[0;31mRuntimeError\u001b[0m: a Tensor with 0 elements cannot be converted to Scalar"
     ]
    }
   ],
   "source": [
    "import torch\n",
    "\n",
    "x = torch.tensor([])\n",
    "\n",
    "# This will throw a RuntimeError: a Tensor with 0 elements cannot be converted to Scalar\n",
    "print(x.item())"
   ]
  },
  {
   "cell_type": "markdown",
   "metadata": {},
   "source": [
    "**Example 5: Extracting a number after a calculation**\n",
    "\n",
    "The `.item()` function can be particularly useful to extract a number after a calculation."
   ]
  },
  {
   "cell_type": "code",
   "execution_count": 71,
   "metadata": {},
   "outputs": [
    {
     "name": "stdout",
     "output_type": "stream",
     "text": [
      "2.5\n"
     ]
    }
   ],
   "source": [
    "import torch\n",
    "\n",
    "x = torch.tensor([5])\n",
    "y = torch.tensor([2])\n",
    "\n",
    "z = (x / y).item()\n",
    "print(z)  # Output: 2.5"
   ]
  },
  {
   "cell_type": "markdown",
   "metadata": {},
   "source": [
    "**Note:** The `.item()` function is used to convert a zero-dimensional tensor to a Python number. If the tensor has more than one element, you will need to use methods such as `.tolist()` to convert the tensor to a Python list.\n",
    "\n",
    "## Section 10: Using the `.view()` Function\n",
    "\n",
    "The `.view()` function in PyTorch allows you to reshape a tensor without changing its data.\n",
    "\n",
    "Here are some examples of using the `.view()` function in PyTorch:\n",
    "\n",
    "**Example 1: Reshape a 1D tensor to a 2D tensor**"
   ]
  },
  {
   "cell_type": "code",
   "execution_count": 72,
   "metadata": {},
   "outputs": [
    {
     "name": "stdout",
     "output_type": "stream",
     "text": [
      "tensor([[1, 2, 3],\n",
      "        [4, 5, 6]])\n"
     ]
    }
   ],
   "source": [
    "import torch\n",
    "\n",
    "x = torch.tensor([1, 2, 3, 4, 5, 6])\n",
    "y = x.view(2, 3)\n",
    "\n",
    "print(y)\n",
    "# Output: tensor([[1, 2, 3],\n",
    "#                  [4, 5, 6]])"
   ]
  },
  {
   "cell_type": "markdown",
   "metadata": {},
   "source": [
    "**Example 2: Reshape a 2D tensor to a 3D tensor**"
   ]
  },
  {
   "cell_type": "code",
   "execution_count": 73,
   "metadata": {},
   "outputs": [
    {
     "name": "stdout",
     "output_type": "stream",
     "text": [
      "tensor([[[1, 2, 3]],\n",
      "\n",
      "        [[4, 5, 6]]])\n"
     ]
    }
   ],
   "source": [
    "import torch\n",
    "\n",
    "x = torch.tensor([[1, 2, 3], [4, 5, 6]])\n",
    "y = x.view(2, 1, 3)\n",
    "\n",
    "print(y)\n",
    "# Output: tensor([[[1, 2, 3]],\n",
    "#                  [[4, 5, 6]]])"
   ]
  },
  {
   "cell_type": "markdown",
   "metadata": {},
   "source": [
    "**Example 3: Reshape a 3D tensor to a 2D tensor**"
   ]
  },
  {
   "cell_type": "code",
   "execution_count": 74,
   "metadata": {},
   "outputs": [
    {
     "name": "stdout",
     "output_type": "stream",
     "text": [
      "tensor([[1, 2],\n",
      "        [3, 4],\n",
      "        [5, 6],\n",
      "        [7, 8]])\n"
     ]
    }
   ],
   "source": [
    "import torch\n",
    "\n",
    "x = torch.tensor([[[1, 2], [3, 4]], [[5, 6], [7, 8]]])\n",
    "y = x.view(4, 2)\n",
    "\n",
    "print(y)\n",
    "# Output: tensor([[1, 2],\n",
    "#                  [3, 4],\n",
    "#                  [5, 6],\n",
    "#                  [7, 8]])"
   ]
  },
  {
   "cell_type": "markdown",
   "metadata": {},
   "source": [
    "**Example 4: Use `-1` to infer the size**\n",
    "\n",
    "You can use `-1` as one of the dimensions in the `.view()` function. PyTorch will automatically infer the correct size for the dimension with `-1`, based on the original tensor's size."
   ]
  },
  {
   "cell_type": "code",
   "execution_count": 75,
   "metadata": {},
   "outputs": [
    {
     "name": "stdout",
     "output_type": "stream",
     "text": [
      "tensor([[1, 2],\n",
      "        [3, 4],\n",
      "        [5, 6]])\n"
     ]
    }
   ],
   "source": [
    "import torch\n",
    "\n",
    "x = torch.tensor([1, 2, 3, 4, 5, 6])\n",
    "y = x.view(-1, 2)\n",
    "\n",
    "print(y)\n",
    "# Output: tensor([[1, 2],\n",
    "#                  [3, 4],\n",
    "#                  [5, 6]])"
   ]
  },
  {
   "cell_type": "markdown",
   "metadata": {},
   "source": [
    "**Example 5: Changes in the original tensor reflect in the reshaped tensor**\n",
    "\n",
    "When you reshape a tensor using `.view()`, the reshaped tensor and the original tensor share the same underlying data. So, changing the original tensor will also change the reshaped tensor."
   ]
  },
  {
   "cell_type": "code",
   "execution_count": 76,
   "metadata": {},
   "outputs": [
    {
     "name": "stdout",
     "output_type": "stream",
     "text": [
      "tensor([[10,  2,  3],\n",
      "        [ 4,  5,  6]])\n"
     ]
    }
   ],
   "source": [
    "import torch\n",
    "\n",
    "x = torch.tensor([1, 2, 3, 4, 5, 6])\n",
    "y = x.view(2, 3)\n",
    "\n",
    "x[0] = 10\n",
    "\n",
    "print(y)\n",
    "# Output: tensor([[10,  2,  3],\n",
    "#                  [ 4,  5,  6]])"
   ]
  },
  {
   "cell_type": "markdown",
   "metadata": {},
   "source": [
    "**Note:** If you want to create a reshaped tensor that does not share data with the original tensor, you can use the `.clone()` function before calling `.view()`.\n",
    "\n",
    "## Section 11: Understanding the `.size()` Function\n",
    "\n",
    "The `.size()` function in PyTorch returns the size of a tensor. It is a property of the tensor object and returns a torch.Size object, which is a tuple.\n",
    "\n",
    "Here are some examples of using the `.size()` function in PyTorch:\n",
    "\n",
    "**Example 1: Getting the Size of a Tensor**"
   ]
  },
  {
   "cell_type": "code",
   "execution_count": 77,
   "metadata": {},
   "outputs": [
    {
     "name": "stdout",
     "output_type": "stream",
     "text": [
      "torch.Size([3])\n"
     ]
    }
   ],
   "source": [
    "import torch\n",
    "\n",
    "x = torch.tensor([1, 2, 3])\n",
    "print(x.size())  # Output: torch.Size([3])"
   ]
  },
  {
   "cell_type": "markdown",
   "metadata": {},
   "source": [
    "**Example 2: Getting the Size of a 2D Tensor**"
   ]
  },
  {
   "cell_type": "code",
   "execution_count": 78,
   "metadata": {},
   "outputs": [
    {
     "name": "stdout",
     "output_type": "stream",
     "text": [
      "torch.Size([2, 3])\n"
     ]
    }
   ],
   "source": [
    "import torch\n",
    "\n",
    "x = torch.tensor([[1, 2, 3], [4, 5, 6]])\n",
    "print(x.size())  # Output: torch.Size([2, 3])"
   ]
  },
  {
   "cell_type": "markdown",
   "metadata": {},
   "source": [
    "**Example 3: Getting the Size of a 3D Tensor**"
   ]
  },
  {
   "cell_type": "code",
   "execution_count": 79,
   "metadata": {},
   "outputs": [
    {
     "name": "stdout",
     "output_type": "stream",
     "text": [
      "torch.Size([2, 2, 3])\n"
     ]
    }
   ],
   "source": [
    "import torch\n",
    "\n",
    "x = torch.tensor([[[1, 2, 3], [4, 5, 6]], [[7, 8, 9], [10, 11, 12]]])\n",
    "print(x.size())  # Output: torch.Size([2, 2, 3])"
   ]
  },
  {
   "cell_type": "markdown",
   "metadata": {},
   "source": [
    "**Example 4: Getting the Size of a Specific Dimension**\n",
    "\n",
    "You can pass an integer to the `.size()` function to get the size of a specific dimension."
   ]
  },
  {
   "cell_type": "code",
   "execution_count": 80,
   "metadata": {},
   "outputs": [
    {
     "name": "stdout",
     "output_type": "stream",
     "text": [
      "2\n",
      "2\n",
      "3\n"
     ]
    }
   ],
   "source": [
    "import torch\n",
    "\n",
    "x = torch.tensor([[[1, 2, 3], [4, 5, 6]], [[7, 8, 9], [10, 11, 12]]])\n",
    "print(x.size(0))  # Output: 2\n",
    "print(x.size(1))  # Output: 2\n",
    "print(x.size(2))  # Output: 3"
   ]
  },
  {
   "cell_type": "markdown",
   "metadata": {},
   "source": [
    "**Example 5: Using the Size of a Tensor in Computations**\n",
    "\n",
    "The size of a tensor often comes in handy when writing code that needs to be generalizable to tensors of different sizes."
   ]
  },
  {
   "cell_type": "code",
   "execution_count": 81,
   "metadata": {},
   "outputs": [
    {
     "name": "stdout",
     "output_type": "stream",
     "text": [
      "tensor([0.9391, 0.9421, 0.2577])\n"
     ]
    }
   ],
   "source": [
    "import torch\n",
    "\n",
    "x = torch.tensor([1, 2, 3])\n",
    "y = torch.rand(x.size())\n",
    "\n",
    "print(y)  # Output: tensor with the same size as x, with random values"
   ]
  },
  {
   "cell_type": "markdown",
   "metadata": {},
   "source": [
    "**Note:** The `.size()` function returns a tuple, so it can be used wherever a tuple is expected.\n",
    "\n",
    "## Section 12: The `.from_numpy()` Function\n",
    "\n",
    "The `.from_numpy()` function in PyTorch is used to create a tensor from a numpy array. The returned tensor and the numpy array share the same underlying memory. Changes to the numpy array will be reflected in the tensor as well, and vice-versa.\n",
    "\n",
    "Here are some examples of using the `.from_numpy()` function in PyTorch:\n",
    "\n",
    "**Example 1: Creating a Tensor from a Numpy Array**"
   ]
  },
  {
   "cell_type": "code",
   "execution_count": 82,
   "metadata": {},
   "outputs": [
    {
     "name": "stdout",
     "output_type": "stream",
     "text": [
      "tensor([1, 2, 3])\n"
     ]
    }
   ],
   "source": [
    "import numpy as np\n",
    "import torch\n",
    "\n",
    "a = np.array([1, 2, 3])\n",
    "x = torch.from_numpy(a)\n",
    "\n",
    "print(x)  # Output: tensor([1, 2, 3])"
   ]
  },
  {
   "cell_type": "markdown",
   "metadata": {},
   "source": [
    "**Example 2: Changes in the Numpy Array Reflect in the Tensor**"
   ]
  },
  {
   "cell_type": "code",
   "execution_count": 83,
   "metadata": {},
   "outputs": [
    {
     "name": "stdout",
     "output_type": "stream",
     "text": [
      "tensor([10,  2,  3])\n"
     ]
    }
   ],
   "source": [
    "import numpy as np\n",
    "import torch\n",
    "\n",
    "a = np.array([1, 2, 3])\n",
    "x = torch.from_numpy(a)\n",
    "\n",
    "a[0] = 10\n",
    "\n",
    "print(x)  # Output: tensor([10, 2, 3])"
   ]
  },
  {
   "cell_type": "markdown",
   "metadata": {},
   "source": [
    "**Example 3: Changes in the Tensor Reflect in the Numpy Array**"
   ]
  },
  {
   "cell_type": "code",
   "execution_count": 84,
   "metadata": {},
   "outputs": [
    {
     "name": "stdout",
     "output_type": "stream",
     "text": [
      "[10  2  3]\n"
     ]
    }
   ],
   "source": [
    "import numpy as np\n",
    "import torch\n",
    "\n",
    "a = np.array([1, 2, 3])\n",
    "x = torch.from_numpy(a)\n",
    "\n",
    "x[0] = 10\n",
    "\n",
    "print(a)  # Output: array([10, 2, 3])"
   ]
  },
  {
   "cell_type": "markdown",
   "metadata": {},
   "source": [
    "**Example 4: Creating a Tensor from a Multidimensional Numpy Array**"
   ]
  },
  {
   "cell_type": "code",
   "execution_count": 85,
   "metadata": {},
   "outputs": [
    {
     "name": "stdout",
     "output_type": "stream",
     "text": [
      "tensor([[1, 2, 3],\n",
      "        [4, 5, 6]])\n"
     ]
    }
   ],
   "source": [
    "import numpy as np\n",
    "import torch\n",
    "\n",
    "a = np.array([[1, 2, 3], [4, 5, 6]])\n",
    "x = torch.from_numpy(a)\n",
    "\n",
    "print(x)\n",
    "# Output: tensor([[1, 2, 3],\n",
    "#                  [4, 5, 6]])"
   ]
  },
  {
   "cell_type": "markdown",
   "metadata": {},
   "source": [
    "**Example 5: Changes in a Reshaped Tensor Reflect in the Numpy Array**"
   ]
  },
  {
   "cell_type": "code",
   "execution_count": 86,
   "metadata": {},
   "outputs": [
    {
     "name": "stdout",
     "output_type": "stream",
     "text": [
      "[10  2  3  4  5  6]\n"
     ]
    }
   ],
   "source": [
    "import numpy as np\n",
    "import torch\n",
    "\n",
    "a = np.array([1, 2, 3, 4, 5, 6])\n",
    "x = torch.from_numpy(a)\n",
    "\n",
    "y = x.view(2, 3)\n",
    "y[0, 0] = 10\n",
    "\n",
    "print(a)  # Output: array([10, 2, 3, 4, 5, 6])"
   ]
  },
  {
   "cell_type": "markdown",
   "metadata": {},
   "source": [
    "**Note:** The `.from_numpy()` function is a useful tool for converting numpy arrays to tensors, especially when we want to perform operations that are easier in PyTorch. However, be aware that the tensor and the numpy array share memory, so changes in one will affect the other.\n",
    "\n",
    "## Section 13: Working with `torch.device()`\n",
    "\n",
    "The `torch.device` in PyTorch is a class used to specify the device where a tensor is or will be allocated. This device can be a CPU device or a CUDA device. CUDA is a parallel computing platform and application programming interface model created by Nvidia. It allows software developers to use a CUDA-enabled graphics processing unit for general purpose processing, which can significantly speed up the computation time for large tensors.\n",
    "\n",
    "You can specify the device at the time of creation of a tensor.\n",
    "\n",
    "**Example 1: Creating a Tensor on CPU**"
   ]
  },
  {
   "cell_type": "code",
   "execution_count": 87,
   "metadata": {},
   "outputs": [
    {
     "name": "stdout",
     "output_type": "stream",
     "text": [
      "cpu\n"
     ]
    }
   ],
   "source": [
    "import torch\n",
    "\n",
    "device = torch.device(\"cpu\")\n",
    "x = torch.tensor([1, 2, 3], device=device)\n",
    "print(x.device)  # Output: cpu"
   ]
  },
  {
   "cell_type": "markdown",
   "metadata": {},
   "source": [
    "**Example 2: Creating a Tensor on GPU (CUDA for Windows/Linux)**\n",
    "\n",
    "If you have CUDA available, you can create the tensor directly on the GPU.\n",
    "\n",
    "```python\n",
    "import torch\n",
    "\n",
    "device = torch.device(\"cuda\")\n",
    "x = torch.tensor([1, 2, 3], device=device)\n",
    "print(x.device)  # Output: cuda:0\n",
    "\n",
    "```\n",
    "\n",
    "**Example 3: Moving a Tensor to GPU (CUDA for Windows/Linux)**\n",
    "\n",
    "You can move an existing tensor from one device to another by using the `.to()` function.\n",
    "\n",
    "```python\n",
    "import torch\n",
    "\n",
    "x = torch.tensor([1, 2, 3])\n",
    "device = torch.device(\"cuda\")\n",
    "x = x.to(device)\n",
    "print(x.device)  # Output: cuda:0\n",
    "\n",
    "```\n",
    "\n",
    "**Example 4: Moving a Tensor to CPU**\n",
    "\n",
    "```python\n",
    "import torch\n",
    "\n",
    "device = torch.device(\"cuda\")\n",
    "x = torch.tensor([1, 2, 3], device=device)\n",
    "x = x.to(\"cpu\")\n",
    "print(x.device)  # Output: cpu\n",
    "\n",
    "```\n",
    "\n",
    "**Example 5: Setting Device Based on CUDA Availability**\n",
    "\n",
    "Sometimes, you might write code that is supposed to run on different machines, not all of which have a CUDA device. In such cases, it is useful to check if CUDA is available and then set your device accordingly."
   ]
  },
  {
   "cell_type": "code",
   "execution_count": 88,
   "metadata": {},
   "outputs": [
    {
     "name": "stdout",
     "output_type": "stream",
     "text": [
      "cpu\n"
     ]
    }
   ],
   "source": [
    "import torch\n",
    "\n",
    "device = torch.device(\"cuda\" if torch.cuda.is_available() else \"cpu\")\n",
    "x = torch.tensor([1, 2, 3], device=device)\n",
    "print(x.device)  # Output: cuda:0 if CUDA is available, otherwise cpu"
   ]
  },
  {
   "cell_type": "markdown",
   "metadata": {},
   "source": [
    "**Example 6: Creating a Tensor on MPS (MacOS)**\n",
    "\n",
    "For MacOS users, CUDA is not available. However, Apple provides Metal Performance Shaders (MPS) that serve a similar purpose. MPS provides a set of high-performance graphics and data-parallel primitives that can significantly enhance an application's performance."
   ]
  },
  {
   "cell_type": "code",
   "execution_count": 89,
   "metadata": {},
   "outputs": [
    {
     "name": "stdout",
     "output_type": "stream",
     "text": [
      "mps:0\n"
     ]
    }
   ],
   "source": [
    "import torch\n",
    "\n",
    "device = torch.device(\"mps\" if torch.backends.mps.is_available() else \"cpu\")\n",
    "x = torch.tensor([1, 2, 3], device=device)\n",
    "print(x.device)  # Output: mps"
   ]
  },
  {
   "cell_type": "markdown",
   "metadata": {},
   "source": [
    "**Example 7: Creating a Tensor on GPU regardless of OS**"
   ]
  },
  {
   "cell_type": "code",
   "execution_count": 90,
   "metadata": {},
   "outputs": [
    {
     "name": "stdout",
     "output_type": "stream",
     "text": [
      "mps:0\n"
     ]
    }
   ],
   "source": [
    "import torch\n",
    "\n",
    "device = torch.device(\"cuda\" if torch.cuda.is_available() else \\\n",
    "                      \"mps\" if torch.backends.mps.is_available() else \\\n",
    "                      \"cpu\")\n",
    "x = torch.tensor([1, 2, 3], device=device)\n",
    "print(x.device)  # Output: cuda:0 if CUDA is available, otherwise mps:0 if MPS is available, otherwise cpu"
   ]
  },
  {
   "cell_type": "markdown",
   "metadata": {},
   "source": [
    "**Note:** When working with GPUs, it's important to note that the tensor computations are performed where the tensor is located (CPU or GPU). Therefore, if you're performing an operation involving two tensors, they need to be on the same device. Otherwise, you'll have to move one tensor to the device where the other tensor resides.\n",
    "\n",
    "## Section 14: The `.to()` Function\n",
    "\n",
    "The `.to()` function in PyTorch is used to move a tensor to a different device or convert its datatype. If no argument is provided, the function returns a tensor with the same dtype and the same device as the input tensor.\n",
    "\n",
    "Here are some examples of using the `.to()` function in PyTorch:\n",
    "\n",
    "**Example 1: Moving a Tensor to a Different Device**"
   ]
  },
  {
   "cell_type": "code",
   "execution_count": 91,
   "metadata": {},
   "outputs": [
    {
     "name": "stdout",
     "output_type": "stream",
     "text": [
      "mps:0\n"
     ]
    }
   ],
   "source": [
    "import torch\n",
    "\n",
    "x = torch.tensor([1, 2, 3])\n",
    "device = torch.device(\"cuda\" if torch.cuda.is_available() else \\\n",
    "                      \"mps\" if torch.backends.mps.is_available() else \\\n",
    "                      \"cpu\")\n",
    "x = x.to(device)\n",
    "print(x.device)"
   ]
  },
  {
   "cell_type": "markdown",
   "metadata": {},
   "source": [
    "**Example 2: Converting a Tensor's Datatype**"
   ]
  },
  {
   "cell_type": "code",
   "execution_count": 92,
   "metadata": {},
   "outputs": [
    {
     "name": "stdout",
     "output_type": "stream",
     "text": [
      "torch.float32\n"
     ]
    }
   ],
   "source": [
    "import torch\n",
    "\n",
    "x = torch.tensor([1, 2, 3], dtype=torch.int32)\n",
    "x = x.to(dtype=torch.float32)\n",
    "print(x.dtype)  # Output: torch.float32"
   ]
  },
  {
   "cell_type": "markdown",
   "metadata": {},
   "source": [
    "**Example 3: Moving a Tensor to a Different Device and Changing its Datatype**"
   ]
  },
  {
   "cell_type": "code",
   "execution_count": 93,
   "metadata": {},
   "outputs": [
    {
     "name": "stdout",
     "output_type": "stream",
     "text": [
      "mps:0\n",
      "torch.float32\n"
     ]
    }
   ],
   "source": [
    "import torch\n",
    "\n",
    "x = torch.tensor([1, 2, 3], dtype=torch.int32)\n",
    "device = torch.device(\"cuda\" if torch.cuda.is_available() else \\\n",
    "                      \"mps\" if torch.backends.mps.is_available() else \\\n",
    "                      \"cpu\")\n",
    "x = x.to(device, dtype=torch.float32)\n",
    "print(x.device)  # Output: cuda:0 / mps:0 / cpu\n",
    "print(x.dtype)  # Output: torch.float32\n"
   ]
  },
  {
   "cell_type": "markdown",
   "metadata": {},
   "source": [
    "**Example 4: Using `.to()` with Model Parameters**\n",
    "\n",
    "When dealing with PyTorch models, you can use the `.to()` function to move all model parameters and buffers to a CUDA device at once."
   ]
  },
  {
   "cell_type": "code",
   "execution_count": 94,
   "metadata": {},
   "outputs": [],
   "source": [
    "import torch\n",
    "import torchvision.models as models\n",
    "\n",
    "model = models.resnet50()\n",
    "device = torch.device(\"cuda\" if torch.cuda.is_available() else \\\n",
    "                      \"mps\" if torch.backends.mps.is_available() else \\\n",
    "                      \"cpu\")\n",
    "model = model.to(device)"
   ]
  },
  {
   "cell_type": "markdown",
   "metadata": {},
   "source": [
    "**Example 5: Handling Tensors with Multiple Devices**\n",
    "\n",
    "In case of multiple CUDA devices, `.to()` function can also change the device of the tensor to a different GPU.\n",
    "\n",
    "```python\n",
    "import torch\n",
    "\n",
    "x = torch.tensor([1, 2, 3], device=\"cuda:0\")\n",
    "x = x.to(\"cuda:1\")\n",
    "print(x.device)  # Output: cuda:1\n",
    "\n",
    "```\n",
    "\n",
    "**Note:** When moving tensors between devices or changing their datatypes, it's important to ensure that all tensors involved in a computation are on the same device and have the same datatype. Otherwise, PyTorch will raise an error.\n",
    "\n",
    "## Challenge\n",
    "\n",
    "Your challenge is to create a `TensorOperations` class in PyTorch that performs basic tensor operations including addition, subtraction, multiplication and division. It should also have methods for moving tensors between CPU and GPU devices.\n",
    "\n",
    "### Inputs:\n",
    "\n",
    "- A constructor that takes a tensor and a device type (either \"cpu\" or \"cuda\") as inputs.\n",
    "\n",
    "### Methods:\n",
    "\n",
    "- An `add` method that takes a scalar value as input and returns a new tensor that is the result of adding the scalar value to the original tensor.\n",
    "- A `subtract` method that takes a scalar value as input and returns a new tensor that is the result of subtracting the scalar value from the original tensor.\n",
    "- A `multiply` method that takes a scalar value as input and returns a new tensor that is the result of multiplying the original tensor by the scalar value.\n",
    "- A `divide` method that takes a scalar value as input and returns a new tensor that is the result of dividing the original tensor by the scalar value.\n",
    "- A `move` method that takes a device type as input and moves the tensor to the specified device.\n",
    "\n",
    "### Output Format\n",
    "\n",
    "- All methods must return a tensor.\n",
    "\n",
    "### Explanation\n",
    "\n",
    "Consider the following code:\n",
    "\n",
    "```python\n",
    "import torch\n",
    "\n",
    "# Create a tensor with elements 1, 2, and 3 on the CPU\n",
    "tensor_op = TensorOperations(torch.tensor([1, 2, 3]), 'cpu')\n",
    "\n",
    "# Add 2 to the tensor\n",
    "print(tensor_op.add(2))  # Output: tensor([3, 4, 5])\n",
    "\n",
    "# Subtract 1 from the tensor\n",
    "print(tensor_op.subtract(1))  # Output: tensor([0, 1, 2])\n",
    "\n",
    "# Multiply the tensor by 3\n",
    "print(tensor_op.multiply(3))  # Output: tensor([3, 6, 9])\n",
    "\n",
    "# Divide the tensor by 2\n",
    "print(tensor_op.divide(2))  # Output: tensor([0.5, 1.0, 1.5])\n",
    "\n",
    "# Move the tensor to GPU if available\n",
    "print(tensor_op.move('cuda' if torch.cuda.is_available() else 'cpu'))  # Output: tensor([1, 2, 3], device='cuda:0') if CUDA is available, otherwise tensor([1, 2, 3])\n",
    "\n",
    "```\n",
    "\n",
    "When the `TensorOperations` class is implemented correctly, this code should output the expected results as shown in the comments."
   ]
  },
  {
   "cell_type": "code",
   "execution_count": null,
   "metadata": {},
   "outputs": [],
   "source": [
    "### WRITE YOUR CODE BELOW THIS LINE ###\n",
    "\n",
    "\n",
    "### WRITE YOUR CODE ABOVE THIS LINE ###"
   ]
  }
 ],
 "metadata": {
  "kernelspec": {
   "display_name": "aia",
   "language": "python",
   "name": "python3"
  },
  "language_info": {
   "codemirror_mode": {
    "name": "ipython",
    "version": 3
   },
   "file_extension": ".py",
   "mimetype": "text/x-python",
   "name": "python",
   "nbconvert_exporter": "python",
   "pygments_lexer": "ipython3",
   "version": "3.10.13"
  }
 },
 "nbformat": 4,
 "nbformat_minor": 2
}
