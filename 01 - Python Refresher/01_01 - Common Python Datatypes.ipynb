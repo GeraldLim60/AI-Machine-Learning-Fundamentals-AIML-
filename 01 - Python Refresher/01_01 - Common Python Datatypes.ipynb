{
 "cells": [
  {
   "cell_type": "markdown",
   "metadata": {},
   "source": [
    "## 01.01 - Common Python Datatypes"
   ]
  },
  {
   "cell_type": "markdown",
   "metadata": {},
   "source": [
    "## Introduction\n",
    "\n",
    "Python is a high-level programming language that supports several types of data. These data types form the fundamental building blocks when working with data in Python. The most common data types in Python are:\n",
    "\n",
    "1. **Numbers** - This includes integers (whole numbers), floating point numbers (decimals), and complex numbers.\n",
    "2. **Strings** - These are sequences of character data. Strings are created by enclosing characters in quotes.\n",
    "3. **Lists** - Lists are ordered sequences of items, which can be of different types. They are very similar to arrays in other programming languages.\n",
    "4. **Dictionaries** - Dictionaries are unordered collections of key-value pairs. Each key is unique, and the values can be of any type.\n",
    "5. **Tuples** - Tuples are ordered, immutable sequences of items. They are similar to lists, but unlike lists, they cannot be changed.\n",
    "6. **Sets** - Sets are unordered collections of unique items. They are used when the existence of an item is more important than its order or frequency.\n",
    "7. **Booleans** - This type includes two values, True and False, which are often used to check conditions and control the program's flow.\n",
    "\n",
    "Understanding these data types and how to use them is key to programming effectively in Python.\n",
    "\n",
    "## Section 1: Numbers\n",
    "\n",
    "Numbers in Python can be integers, floating point numbers, or complex numbers. They are defined as `int`, `float`, and `complex` class in Python.\n",
    "\n",
    "### 1.1 - Integers\n",
    "\n",
    "Integers are whole numbers, without a fraction or decimal, and they can be positive, negative, or zero. In Python, integers are an instance of the `int` class.\n",
    "\n",
    "Here are some examples of working with integers in Python:\n",
    "\n",
    "**Example 1: Defining an Integer**"
   ]
  },
  {
   "cell_type": "code",
   "execution_count": 1,
   "metadata": {},
   "outputs": [
    {
     "name": "stdout",
     "output_type": "stream",
     "text": [
      "<class 'int'>\n"
     ]
    }
   ],
   "source": [
    "a = 5\n",
    "print(type(a))  # Output: <class 'int'>"
   ]
  },
  {
   "cell_type": "markdown",
   "metadata": {},
   "source": [
    "**Example 2: Basic Arithmetic Operations with Integers**"
   ]
  },
  {
   "cell_type": "code",
   "execution_count": 2,
   "metadata": {},
   "outputs": [
    {
     "name": "stdout",
     "output_type": "stream",
     "text": [
      "7\n",
      "3\n",
      "10\n",
      "2.5\n"
     ]
    }
   ],
   "source": [
    "a = 5\n",
    "b = 2\n",
    "\n",
    "print(a + b)  # Output: 7\n",
    "print(a - b)  # Output: 3\n",
    "print(a * b)  # Output: 10\n",
    "print(a / b)  # Output: 2.5"
   ]
  },
  {
   "cell_type": "markdown",
   "metadata": {},
   "source": [
    "**Note:** In Python, the division operator `/` always returns a `float` result. Even if the two numbers being divided are both integers, the result will be a `float`. This type of number, along with its properties and uses, will be explained further in the next section.\n",
    "\n",
    "**Example 3: Power Operation with Integers**"
   ]
  },
  {
   "cell_type": "code",
   "execution_count": 3,
   "metadata": {},
   "outputs": [
    {
     "name": "stdout",
     "output_type": "stream",
     "text": [
      "25\n"
     ]
    }
   ],
   "source": [
    "a = 5\n",
    "b = 2\n",
    "\n",
    "print(a ** b)  # Output: 25"
   ]
  },
  {
   "cell_type": "markdown",
   "metadata": {},
   "source": [
    "**Example 4: Integer Division (Floor Division)**"
   ]
  },
  {
   "cell_type": "code",
   "execution_count": 4,
   "metadata": {},
   "outputs": [
    {
     "name": "stdout",
     "output_type": "stream",
     "text": [
      "2\n"
     ]
    }
   ],
   "source": [
    "a = 5\n",
    "b = 2\n",
    "\n",
    "print(a // b)  # Output: 2"
   ]
  },
  {
   "cell_type": "markdown",
   "metadata": {},
   "source": [
    "**Example 5: Modulus Operation with Integers**\n",
    "\n",
    "The modulus operator (`%`) returns the remainder of the division of the number on the left by the number on the right."
   ]
  },
  {
   "cell_type": "code",
   "execution_count": 5,
   "metadata": {},
   "outputs": [
    {
     "name": "stdout",
     "output_type": "stream",
     "text": [
      "1\n"
     ]
    }
   ],
   "source": [
    "a = 5\n",
    "b = 2\n",
    "\n",
    "print(a % b)  # Output: 1"
   ]
  },
  {
   "cell_type": "markdown",
   "metadata": {},
   "source": [
    "### 1.2 - Floats\n",
    "\n",
    "Floating point numbers, or floats, represent real numbers and are written with a decimal point dividing the integer and decimal parts. Floats may also be in scientific notation, with E or e indicating the power of 10 (2.5e2 = 2.5 x 102 = 250)."
   ]
  },
  {
   "cell_type": "code",
   "execution_count": 6,
   "metadata": {},
   "outputs": [
    {
     "name": "stdout",
     "output_type": "stream",
     "text": [
      "<class 'float'>\n"
     ]
    }
   ],
   "source": [
    "x = 3.456\n",
    "print(type(x))  # Output: <class 'float'>"
   ]
  },
  {
   "cell_type": "markdown",
   "metadata": {},
   "source": [
    "**Example 1: Defining a Float**"
   ]
  },
  {
   "cell_type": "code",
   "execution_count": 7,
   "metadata": {},
   "outputs": [
    {
     "name": "stdout",
     "output_type": "stream",
     "text": [
      "<class 'float'>\n"
     ]
    }
   ],
   "source": [
    "b = 3.14\n",
    "print(type(b))  # Output: <class 'float'>"
   ]
  },
  {
   "cell_type": "markdown",
   "metadata": {},
   "source": [
    "**Example 2: Basic Arithmetic Operations with Floats**"
   ]
  },
  {
   "cell_type": "code",
   "execution_count": 8,
   "metadata": {},
   "outputs": [
    {
     "name": "stdout",
     "output_type": "stream",
     "text": [
      "8.0\n",
      "3.0\n",
      "13.75\n",
      "2.2\n"
     ]
    }
   ],
   "source": [
    "a = 5.5\n",
    "b = 2.5\n",
    "\n",
    "print(a + b)  # Output: 8.0\n",
    "print(a - b)  # Output: 3.0\n",
    "print(a * b)  # Output: 13.75\n",
    "print(a / b)  # Output: 2.2"
   ]
  },
  {
   "cell_type": "markdown",
   "metadata": {},
   "source": [
    "**Example 3: Power Operation with Floats**"
   ]
  },
  {
   "cell_type": "code",
   "execution_count": 9,
   "metadata": {},
   "outputs": [
    {
     "name": "stdout",
     "output_type": "stream",
     "text": [
      "70.94253836732938\n"
     ]
    }
   ],
   "source": [
    "a = 5.5\n",
    "b = 2.5\n",
    "\n",
    "print(a ** b)  # Output: 70.94253836732938\n"
   ]
  },
  {
   "cell_type": "markdown",
   "metadata": {},
   "source": [
    "**Example 4: Float Division (Floor Division)**"
   ]
  },
  {
   "cell_type": "code",
   "execution_count": 10,
   "metadata": {},
   "outputs": [
    {
     "name": "stdout",
     "output_type": "stream",
     "text": [
      "2.0\n"
     ]
    }
   ],
   "source": [
    "a = 5.5\n",
    "b = 2.5\n",
    "\n",
    "print(a // b)  # Output: 2.0"
   ]
  },
  {
   "cell_type": "markdown",
   "metadata": {},
   "source": [
    "**Example 5: Modulus Operation with Floats**"
   ]
  },
  {
   "cell_type": "code",
   "execution_count": 11,
   "metadata": {},
   "outputs": [
    {
     "name": "stdout",
     "output_type": "stream",
     "text": [
      "0.5\n"
     ]
    }
   ],
   "source": [
    "a = 5.5\n",
    "b = 2.5\n",
    "\n",
    "print(a % b)  # Output: 0.5"
   ]
  },
  {
   "cell_type": "markdown",
   "metadata": {},
   "source": [
    "### Complex Numbers\n",
    "\n",
    "Complex numbers are an extension of the familiar real number system in which all numbers are expressed as a sum of a real part and an imaginary part. Python has built-in support for complex numbers, which are written with this latter part followed by 'j'. For example, `3 + 5j`."
   ]
  },
  {
   "cell_type": "code",
   "execution_count": 12,
   "metadata": {},
   "outputs": [
    {
     "name": "stdout",
     "output_type": "stream",
     "text": [
      "<class 'complex'>\n"
     ]
    }
   ],
   "source": [
    "z = 3 + 5j\n",
    "print(type(z))  # Output: <class 'complex'>"
   ]
  },
  {
   "cell_type": "markdown",
   "metadata": {},
   "source": [
    "**Example 1: Defining a Complex Number**"
   ]
  },
  {
   "cell_type": "code",
   "execution_count": 13,
   "metadata": {},
   "outputs": [
    {
     "name": "stdout",
     "output_type": "stream",
     "text": [
      "<class 'complex'>\n"
     ]
    }
   ],
   "source": [
    "c = 4 + 2j\n",
    "print(type(c))  # Output: <class 'complex'>"
   ]
  },
  {
   "cell_type": "markdown",
   "metadata": {},
   "source": [
    "**Example 2: Basic Arithmetic Operations with Complex Numbers**"
   ]
  },
  {
   "cell_type": "code",
   "execution_count": 14,
   "metadata": {},
   "outputs": [
    {
     "name": "stdout",
     "output_type": "stream",
     "text": [
      "(3+4j)\n",
      "(1+2j)\n",
      "(-1+5j)\n",
      "(2.5+0.5j)\n"
     ]
    }
   ],
   "source": [
    "a = 2 + 3j\n",
    "b = 1 + 1j\n",
    "\n",
    "print(a + b)  # Output: (3+4j)\n",
    "print(a - b)  # Output: (1+2j)\n",
    "print(a * b)  # Output: (-1+5j)\n",
    "print(a / b)  # Output: (2.5+0.5j)"
   ]
  },
  {
   "cell_type": "markdown",
   "metadata": {},
   "source": [
    "**Example 3: Absolute Value of a Complex Number**\n",
    "\n",
    "The absolute value of a complex number is the square root of the sum of the squares of its real and imaginary parts. It's also known as the magnitude of the complex number."
   ]
  },
  {
   "cell_type": "code",
   "execution_count": 15,
   "metadata": {},
   "outputs": [
    {
     "name": "stdout",
     "output_type": "stream",
     "text": [
      "5.0\n"
     ]
    }
   ],
   "source": [
    "a = 3 + 4j\n",
    "\n",
    "print(abs(a))  # Output: 5.0"
   ]
  },
  {
   "cell_type": "markdown",
   "metadata": {},
   "source": [
    "**Example 4: Complex Conjugate**\n",
    "\n",
    "The conjugate of a complex number is obtained by changing the sign of its imaginary part. It's denoted as `a.conjugate()`."
   ]
  },
  {
   "cell_type": "code",
   "execution_count": 16,
   "metadata": {},
   "outputs": [
    {
     "name": "stdout",
     "output_type": "stream",
     "text": [
      "(3-4j)\n"
     ]
    }
   ],
   "source": [
    "a = 3 + 4j\n",
    "\n",
    "print(a.conjugate())  # Output: (3-4j)"
   ]
  },
  {
   "cell_type": "markdown",
   "metadata": {},
   "source": [
    "**Example 5: Real and Imaginary Parts**\n",
    "\n",
    "You can access the real and imaginary parts of complex numbers using `.real` and `.imag`."
   ]
  },
  {
   "cell_type": "code",
   "execution_count": 17,
   "metadata": {},
   "outputs": [
    {
     "name": "stdout",
     "output_type": "stream",
     "text": [
      "3.0\n",
      "4.0\n"
     ]
    }
   ],
   "source": [
    "a = 3 + 4j\n",
    "\n",
    "print(a.real)  # Output: 3.0\n",
    "print(a.imag)  # Output: 4.0"
   ]
  },
  {
   "cell_type": "markdown",
   "metadata": {},
   "source": [
    "## Section 2: Strings\n",
    "\n",
    "### 2.1 - Introduction to Strings\n",
    "\n",
    "Strings in Python are sequences of characters. They are created by enclosing characters in quotes. Python treats single quotes the same as double quotes."
   ]
  },
  {
   "cell_type": "code",
   "execution_count": 18,
   "metadata": {},
   "outputs": [
    {
     "name": "stdout",
     "output_type": "stream",
     "text": [
      "<class 'str'>\n"
     ]
    }
   ],
   "source": [
    "s = 'Hello, World!'\n",
    "print(type(s))  # Output: <class 'str'>"
   ]
  },
  {
   "cell_type": "markdown",
   "metadata": {},
   "source": [
    "### String Manipulation Methods\n",
    "\n",
    "Python has numerous methods for manipulating strings. Here are some examples:\n",
    "\n",
    "**Example 1: Converting to Upper and Lower Case**"
   ]
  },
  {
   "cell_type": "code",
   "execution_count": 19,
   "metadata": {},
   "outputs": [
    {
     "name": "stdout",
     "output_type": "stream",
     "text": [
      "HELLO, WORLD!\n",
      "hello, world!\n"
     ]
    }
   ],
   "source": [
    "s = 'Hello, World!'\n",
    "print(s.upper())  # Output: 'HELLO, WORLD!'\n",
    "print(s.lower())  # Output: 'hello, world!'"
   ]
  },
  {
   "cell_type": "markdown",
   "metadata": {},
   "source": [
    "**Example 2: Stripping Whitespace**"
   ]
  },
  {
   "cell_type": "code",
   "execution_count": 20,
   "metadata": {},
   "outputs": [
    {
     "name": "stdout",
     "output_type": "stream",
     "text": [
      "Hello, World!\n"
     ]
    }
   ],
   "source": [
    "s = '   Hello, World!   '\n",
    "print(s.strip())  # Output: 'Hello, World!'"
   ]
  },
  {
   "cell_type": "markdown",
   "metadata": {},
   "source": [
    "**Example 3: Replacing Substrings**"
   ]
  },
  {
   "cell_type": "code",
   "execution_count": 21,
   "metadata": {},
   "outputs": [
    {
     "name": "stdout",
     "output_type": "stream",
     "text": [
      "Hello, Python!\n"
     ]
    }
   ],
   "source": [
    "s = 'Hello, World!'\n",
    "print(s.replace('World', 'Python'))  # Output: 'Hello, Python!'"
   ]
  },
  {
   "cell_type": "markdown",
   "metadata": {},
   "source": [
    "**Example 4: Splitting a String into a List of Substrings**"
   ]
  },
  {
   "cell_type": "code",
   "execution_count": 22,
   "metadata": {},
   "outputs": [
    {
     "name": "stdout",
     "output_type": "stream",
     "text": [
      "['apple', 'banana', 'cherry']\n"
     ]
    }
   ],
   "source": [
    "s = 'apple,banana,cherry'\n",
    "print(s.split(','))  # Output: ['apple', 'banana', 'cherry']"
   ]
  },
  {
   "cell_type": "markdown",
   "metadata": {},
   "source": [
    "**Example 5: Checking if a String Starts or Ends with a Substring**"
   ]
  },
  {
   "cell_type": "code",
   "execution_count": 23,
   "metadata": {},
   "outputs": [
    {
     "name": "stdout",
     "output_type": "stream",
     "text": [
      "True\n",
      "False\n"
     ]
    }
   ],
   "source": [
    "s = 'Hello, World!'\n",
    "print(s.startswith('Hello'))  # Output: True\n",
    "print(s.endswith('Python'))  # Output: False"
   ]
  },
  {
   "cell_type": "markdown",
   "metadata": {},
   "source": [
    "### 2.2 - Formatting Strings\n",
    "\n",
    "Python provides several ways to format strings, injecting variables and expressions into string literals. Here are some examples:\n",
    "\n",
    "**Example 1: Using the `%` Operator**"
   ]
  },
  {
   "cell_type": "code",
   "execution_count": 24,
   "metadata": {},
   "outputs": [
    {
     "name": "stdout",
     "output_type": "stream",
     "text": [
      "I have 10 apples.\n"
     ]
    }
   ],
   "source": [
    "x = 10\n",
    "s = 'I have %d apples.' % x\n",
    "print(s)  # Output: 'I have 10 apples.'"
   ]
  },
  {
   "cell_type": "markdown",
   "metadata": {},
   "source": [
    "**Example 2: Using the `format` Method**"
   ]
  },
  {
   "cell_type": "code",
   "execution_count": 25,
   "metadata": {},
   "outputs": [
    {
     "name": "stdout",
     "output_type": "stream",
     "text": [
      "I have 10 apples.\n"
     ]
    }
   ],
   "source": [
    "x = 10\n",
    "s = 'I have {} apples.'.format(x)\n",
    "print(s)  # Output: 'I have 10 apples.'"
   ]
  },
  {
   "cell_type": "markdown",
   "metadata": {},
   "source": [
    "**Example 3: Using f-strings (Python 3.6 and above)**"
   ]
  },
  {
   "cell_type": "code",
   "execution_count": 26,
   "metadata": {},
   "outputs": [
    {
     "name": "stdout",
     "output_type": "stream",
     "text": [
      "I have 10 apples.\n"
     ]
    }
   ],
   "source": [
    "x = 10\n",
    "s = f'I have {x} apples.'\n",
    "print(s)  # Output: 'I have 10 apples.'"
   ]
  },
  {
   "cell_type": "markdown",
   "metadata": {},
   "source": [
    "**Example 4: Including Expressions in f-strings**"
   ]
  },
  {
   "cell_type": "code",
   "execution_count": 27,
   "metadata": {},
   "outputs": [
    {
     "name": "stdout",
     "output_type": "stream",
     "text": [
      "The sum of 10 and 20 is 30.\n"
     ]
    }
   ],
   "source": [
    "x = 10\n",
    "y = 20\n",
    "s = f'The sum of {x} and {y} is {x + y}.'\n",
    "print(s)  # Output: 'The sum of 10 and 20 is 30.'"
   ]
  },
  {
   "cell_type": "markdown",
   "metadata": {},
   "source": [
    "**Example 5: Formatting Numbers in f-strings**"
   ]
  },
  {
   "cell_type": "code",
   "execution_count": 28,
   "metadata": {},
   "outputs": [
    {
     "name": "stdout",
     "output_type": "stream",
     "text": [
      "The number 123.46 rounded to two decimal places.\n"
     ]
    }
   ],
   "source": [
    "x = 123.45678\n",
    "s = f'The number {x:.2f} rounded to two decimal places.'\n",
    "print(s)  # Output: 'The number 123.46 rounded to two decimal places.'"
   ]
  },
  {
   "cell_type": "markdown",
   "metadata": {},
   "source": [
    "### 2.3 - String manipulation methods\n",
    "\n",
    "Python provides a variety of methods for manipulating strings. Here are five examples:\n",
    "\n",
    "**Example 1: The `capitalize` Method**\n",
    "\n",
    "This method returns a copy of the original string and converts the first character of the string to a capital (uppercase) letter, while making all other characters in the string lowercase letters."
   ]
  },
  {
   "cell_type": "code",
   "execution_count": 29,
   "metadata": {},
   "outputs": [
    {
     "name": "stdout",
     "output_type": "stream",
     "text": [
      "Hello world\n"
     ]
    }
   ],
   "source": [
    "s = 'hello WORLD'\n",
    "print(s.capitalize())  # Output: 'Hello world'"
   ]
  },
  {
   "cell_type": "markdown",
   "metadata": {},
   "source": [
    "**Example 2: The `count` Method**\n",
    "\n",
    "This method counts the number of occurrences of a substring in the given string."
   ]
  },
  {
   "cell_type": "code",
   "execution_count": 30,
   "metadata": {},
   "outputs": [
    {
     "name": "stdout",
     "output_type": "stream",
     "text": [
      "2\n"
     ]
    }
   ],
   "source": [
    "s = 'hello world'\n",
    "print(s.count('o'))  # Output: 2"
   ]
  },
  {
   "cell_type": "markdown",
   "metadata": {},
   "source": [
    "**Example 3: The `find` Method**\n",
    "\n",
    "This method returns the index of the first occurrence of the specified substring in the given string. If the substring is not found, it returns -1."
   ]
  },
  {
   "cell_type": "code",
   "execution_count": 31,
   "metadata": {},
   "outputs": [
    {
     "name": "stdout",
     "output_type": "stream",
     "text": [
      "6\n",
      "-1\n"
     ]
    }
   ],
   "source": [
    "s = 'hello world'\n",
    "print(s.find('world'))  # Output: 6\n",
    "print(s.find('python'))  # Output: -1"
   ]
  },
  {
   "cell_type": "markdown",
   "metadata": {},
   "source": [
    "**Example 4: The `isnumeric` Method**\n",
    "\n",
    "This method returns `True` if all characters in the string are numeric characters (0-9), and `False` otherwise."
   ]
  },
  {
   "cell_type": "code",
   "execution_count": 32,
   "metadata": {},
   "outputs": [
    {
     "name": "stdout",
     "output_type": "stream",
     "text": [
      "True\n",
      "False\n"
     ]
    }
   ],
   "source": [
    "s1 = '12345'\n",
    "s2 = '123abc'\n",
    "print(s1.isnumeric())  # Output: True\n",
    "print(s2.isnumeric())  # Output: False"
   ]
  },
  {
   "cell_type": "markdown",
   "metadata": {},
   "source": [
    "**Example 5: The `join` Method**\n",
    "\n",
    "This method concatenates a list of strings into a single string with a specified delimiter."
   ]
  },
  {
   "cell_type": "code",
   "execution_count": 33,
   "metadata": {},
   "outputs": [
    {
     "name": "stdout",
     "output_type": "stream",
     "text": [
      "Hello-world-Python-is-great\n"
     ]
    }
   ],
   "source": [
    "delimiter = '-'\n",
    "list_of_strings = ['Hello', 'world', 'Python', 'is', 'great']\n",
    "print(delimiter.join(list_of_strings))  # Output: 'Hello-world-Python-is-great'"
   ]
  },
  {
   "cell_type": "markdown",
   "metadata": {},
   "source": [
    "## Section 3: Lists\n",
    "\n",
    "### 3.1 - Introduction to Lists\n",
    "\n",
    "Lists are ordered sequences of items, which can be of different types. They are very versatile and are used frequently in Python programs."
   ]
  },
  {
   "cell_type": "code",
   "execution_count": 34,
   "metadata": {},
   "outputs": [
    {
     "name": "stdout",
     "output_type": "stream",
     "text": [
      "<class 'list'>\n"
     ]
    }
   ],
   "source": [
    "fruits = ['apple', 'banana', 'cherry']\n",
    "print(type(fruits))  # Output: <class 'list'>"
   ]
  },
  {
   "cell_type": "markdown",
   "metadata": {},
   "source": [
    "### List Manipulation Examples\n",
    "\n",
    "Here are some examples of working with lists:\n",
    "\n",
    "**Example 1: Accessing List Items**\n",
    "\n",
    "List items are accessed by their index, which starts at 0 for the first item."
   ]
  },
  {
   "cell_type": "code",
   "execution_count": 35,
   "metadata": {},
   "outputs": [
    {
     "name": "stdout",
     "output_type": "stream",
     "text": [
      "apple\n",
      "cherry\n"
     ]
    }
   ],
   "source": [
    "fruits = ['apple', 'banana', 'cherry']\n",
    "print(fruits[0])  # Output: 'apple'\n",
    "print(fruits[2])  # Output: 'cherry'"
   ]
  },
  {
   "cell_type": "markdown",
   "metadata": {},
   "source": [
    "**Example 2: Changing List Items**\n",
    "\n",
    "List items are mutable, which means they can be changed."
   ]
  },
  {
   "cell_type": "code",
   "execution_count": 36,
   "metadata": {},
   "outputs": [
    {
     "name": "stdout",
     "output_type": "stream",
     "text": [
      "['avocado', 'banana', 'cherry']\n"
     ]
    }
   ],
   "source": [
    "fruits = ['apple', 'banana', 'cherry']\n",
    "fruits[0] = 'avocado'\n",
    "print(fruits)  # Output: ['avocado', 'banana', 'cherry']"
   ]
  },
  {
   "cell_type": "markdown",
   "metadata": {},
   "source": [
    "**Example 3: Adding List Items**\n",
    "\n",
    "Items can be added to a list using the `append` method."
   ]
  },
  {
   "cell_type": "code",
   "execution_count": 37,
   "metadata": {},
   "outputs": [
    {
     "name": "stdout",
     "output_type": "stream",
     "text": [
      "['apple', 'banana', 'cherry', 'date']\n"
     ]
    }
   ],
   "source": [
    "fruits = ['apple', 'banana', 'cherry']\n",
    "fruits.append('date')\n",
    "print(fruits)  # Output: ['apple', 'banana', 'cherry', 'date']"
   ]
  },
  {
   "cell_type": "markdown",
   "metadata": {},
   "source": [
    "**Example 4: Removing List Items**\n",
    "\n",
    "Items can be removed from a list using the `remove` method."
   ]
  },
  {
   "cell_type": "code",
   "execution_count": 38,
   "metadata": {},
   "outputs": [
    {
     "name": "stdout",
     "output_type": "stream",
     "text": [
      "['apple', 'cherry']\n"
     ]
    }
   ],
   "source": [
    "fruits = ['apple', 'banana', 'cherry']\n",
    "fruits.remove('banana')\n",
    "print(fruits)  # Output: ['apple', 'cherry']"
   ]
  },
  {
   "cell_type": "markdown",
   "metadata": {},
   "source": [
    "**Example 5: Sorting Lists**\n",
    "\n",
    "Lists can be sorted using the `sort` method."
   ]
  },
  {
   "cell_type": "code",
   "execution_count": 39,
   "metadata": {},
   "outputs": [
    {
     "name": "stdout",
     "output_type": "stream",
     "text": [
      "['apple', 'banana', 'cherry']\n"
     ]
    }
   ],
   "source": [
    "fruits = ['cherry', 'banana', 'apple']\n",
    "fruits.sort()\n",
    "print(fruits)  # Output: ['apple', 'banana', 'cherry']"
   ]
  },
  {
   "cell_type": "markdown",
   "metadata": {},
   "source": [
    "### 3.2 - List methods and operations\n",
    "\n",
    "Python provides a variety of methods and operations for lists. Here are five examples:\n",
    "\n",
    "**Example 1: The `len` Function**\n",
    "\n",
    "The `len` function returns the number of items in a list."
   ]
  },
  {
   "cell_type": "code",
   "execution_count": 40,
   "metadata": {},
   "outputs": [
    {
     "name": "stdout",
     "output_type": "stream",
     "text": [
      "5\n"
     ]
    }
   ],
   "source": [
    "nums = [1, 2, 3, 4, 5]\n",
    "print(len(nums))  # Output: 5"
   ]
  },
  {
   "cell_type": "markdown",
   "metadata": {},
   "source": [
    "**Example 2: The `insert` Method**\n",
    "\n",
    "The `insert` method inserts an item at a certain position in the list. It takes two arguments: the index where the item should be inserted (with the first item at index 0), and the item itself."
   ]
  },
  {
   "cell_type": "code",
   "execution_count": 41,
   "metadata": {},
   "outputs": [
    {
     "name": "stdout",
     "output_type": "stream",
     "text": [
      "['apple', 'avocado', 'banana', 'cherry']\n"
     ]
    }
   ],
   "source": [
    "fruits = ['apple', 'banana', 'cherry']\n",
    "fruits.insert(1, 'avocado')\n",
    "print(fruits)  # Output: ['apple', 'avocado', 'banana', 'cherry']"
   ]
  },
  {
   "cell_type": "markdown",
   "metadata": {},
   "source": [
    "**Example 3: The `index` Method**\n",
    "\n",
    "The `index` method returns the first index at which a specified item appears in a list. If the item is not in the list, Python raises a `ValueError`."
   ]
  },
  {
   "cell_type": "code",
   "execution_count": 42,
   "metadata": {},
   "outputs": [
    {
     "name": "stdout",
     "output_type": "stream",
     "text": [
      "1\n"
     ]
    }
   ],
   "source": [
    "fruits = ['apple', 'banana', 'cherry']\n",
    "print(fruits.index('banana'))  # Output: 1"
   ]
  },
  {
   "cell_type": "markdown",
   "metadata": {},
   "source": [
    "**Example 4: The `count` Method**\n",
    "\n",
    "The `count` method returns the number of times a specified item appears in a list."
   ]
  },
  {
   "cell_type": "code",
   "execution_count": 43,
   "metadata": {},
   "outputs": [
    {
     "name": "stdout",
     "output_type": "stream",
     "text": [
      "2\n",
      "4\n"
     ]
    }
   ],
   "source": [
    "nums = [1, 2, 2, 3, 3, 3, 4, 4, 4, 4]\n",
    "print(nums.count(2))  # Output: 2\n",
    "print(nums.count(4))  # Output: 4"
   ]
  },
  {
   "cell_type": "markdown",
   "metadata": {},
   "source": [
    "**Example 5: List Comprehension**\n",
    "\n",
    "List comprehension is a compact way of creating a new list by performing an operation on each item in an existing list. For example, the following code creates a new list containing the squares of all numbers in the original list."
   ]
  },
  {
   "cell_type": "code",
   "execution_count": 44,
   "metadata": {},
   "outputs": [
    {
     "name": "stdout",
     "output_type": "stream",
     "text": [
      "[1, 4, 9, 16, 25]\n"
     ]
    }
   ],
   "source": [
    "nums = [1, 2, 3, 4, 5]\n",
    "squares = [num ** 2 for num in nums]\n",
    "print(squares)  # Output: [1, 4, 9, 16, 25]"
   ]
  },
  {
   "cell_type": "markdown",
   "metadata": {},
   "source": [
    "List comprehension can also include a condition. The following code creates a new list containing only the numbers from the original list that are greater than 2."
   ]
  },
  {
   "cell_type": "code",
   "execution_count": 45,
   "metadata": {},
   "outputs": [
    {
     "name": "stdout",
     "output_type": "stream",
     "text": [
      "[3, 4, 5]\n"
     ]
    }
   ],
   "source": [
    "nums = [1, 2, 3, 4, 5]\n",
    "big_nums = [num for num in nums if num > 2]\n",
    "print(big_nums)  # Output: [3, 4, 5]"
   ]
  },
  {
   "cell_type": "markdown",
   "metadata": {},
   "source": [
    "## Section 4: Dictionaries\n",
    "\n",
    "### 4.1 - Introduction to Dictionaries\n",
    "\n",
    "Dictionaries are unordered collections of key-value pairs, where each key is unique. They are very useful for storing data that can be looked up by a unique identifier, like a product code, username, or database ID."
   ]
  },
  {
   "cell_type": "code",
   "execution_count": 46,
   "metadata": {},
   "outputs": [
    {
     "name": "stdout",
     "output_type": "stream",
     "text": [
      "<class 'dict'>\n"
     ]
    }
   ],
   "source": [
    "student = {'name': 'John Doe', 'age': 20, 'course': 'Computer Science'}\n",
    "print(type(student))  # Output: <class 'dict'>"
   ]
  },
  {
   "cell_type": "markdown",
   "metadata": {},
   "source": [
    "**Example 1: Accessing Dictionary Items**\n",
    "\n",
    "Dictionary items are accessed by their key."
   ]
  },
  {
   "cell_type": "code",
   "execution_count": 47,
   "metadata": {},
   "outputs": [
    {
     "name": "stdout",
     "output_type": "stream",
     "text": [
      "John Doe\n",
      "Computer Science\n"
     ]
    }
   ],
   "source": [
    "student = {'name': 'John Doe', 'age': 20, 'course': 'Computer Science'}\n",
    "print(student['name'])  # Output: 'John Doe'\n",
    "print(student['course'])  # Output: 'Computer Science'"
   ]
  },
  {
   "cell_type": "markdown",
   "metadata": {},
   "source": [
    "**Example 2: Changing Dictionary Items**\n",
    "\n",
    "Dictionary items are mutable, which means they can be changed."
   ]
  },
  {
   "cell_type": "code",
   "execution_count": 48,
   "metadata": {},
   "outputs": [
    {
     "name": "stdout",
     "output_type": "stream",
     "text": [
      "{'name': 'John Doe', 'age': 22, 'course': 'Computer Science'}\n"
     ]
    }
   ],
   "source": [
    "student = {'name': 'John Doe', 'age': 20, 'course': 'Computer Science'}\n",
    "student['age'] = 22\n",
    "print(student)  # Output: {'name': 'John Doe', 'age': 22, 'course': 'Computer Science'}"
   ]
  },
  {
   "cell_type": "markdown",
   "metadata": {},
   "source": [
    "**Example 3: Adding Dictionary Items**\n",
    "\n",
    "Items can be added to a dictionary by assigning a value to a new key."
   ]
  },
  {
   "cell_type": "code",
   "execution_count": 49,
   "metadata": {},
   "outputs": [
    {
     "name": "stdout",
     "output_type": "stream",
     "text": [
      "{'name': 'John Doe', 'age': 20, 'course': 'Computer Science', 'grade': 'A'}\n"
     ]
    }
   ],
   "source": [
    "student = {'name': 'John Doe', 'age': 20, 'course': 'Computer Science'}\n",
    "student['grade'] = 'A'\n",
    "print(student)  # Output: {'name': 'John Doe', 'age': 20, 'course': 'Computer Science', 'grade': 'A'}"
   ]
  },
  {
   "cell_type": "markdown",
   "metadata": {},
   "source": [
    "**Example 4: Removing Dictionary Items**\n",
    "\n",
    "Items can be removed from a dictionary using the `del` keyword."
   ]
  },
  {
   "cell_type": "code",
   "execution_count": 50,
   "metadata": {},
   "outputs": [
    {
     "name": "stdout",
     "output_type": "stream",
     "text": [
      "{'name': 'John Doe', 'course': 'Computer Science'}\n"
     ]
    }
   ],
   "source": [
    "student = {'name': 'John Doe', 'age': 20, 'course': 'Computer Science'}\n",
    "del student['age']\n",
    "print(student)  # Output: {'name': 'John Doe', 'course': 'Computer Science'}"
   ]
  },
  {
   "cell_type": "markdown",
   "metadata": {},
   "source": [
    "**Example 5: Working with Nested Dictionaries**\n",
    "\n",
    "Dictionaries can contain other dictionaries, allowing for complex data structures."
   ]
  },
  {
   "cell_type": "code",
   "execution_count": 51,
   "metadata": {},
   "outputs": [
    {
     "name": "stdout",
     "output_type": "stream",
     "text": [
      "John Doe\n",
      "Mathematics\n"
     ]
    }
   ],
   "source": [
    "students = {\n",
    "    'student1': {'name': 'John Doe', 'age': 20, 'course': 'Computer Science'},\n",
    "    'student2': {'name': 'Jane Doe', 'age': 22, 'course': 'Mathematics'}\n",
    "}\n",
    "\n",
    "print(students['student1']['name'])  # Output: 'John Doe'\n",
    "print(students['student2']['course'])  # Output: 'Mathematics'"
   ]
  },
  {
   "cell_type": "markdown",
   "metadata": {},
   "source": [
    "### 4.2 - Dictionary methods and operations\n",
    "\n",
    "Python provides a variety of methods and operations for dictionaries. Here are five examples:\n",
    "\n",
    "**Example 1: The `get` Method**\n",
    "\n",
    "The `get` method returns the value for a given key if it exists in the dictionary. If the key is not found, it returns a default value."
   ]
  },
  {
   "cell_type": "code",
   "execution_count": 52,
   "metadata": {},
   "outputs": [
    {
     "name": "stdout",
     "output_type": "stream",
     "text": [
      "John Doe\n",
      "N/A\n"
     ]
    }
   ],
   "source": [
    "student = {'name': 'John Doe', 'age': 20, 'course': 'Computer Science'}\n",
    "print(student.get('name'))  # Output: 'John Doe'\n",
    "print(student.get('grade', 'N/A'))  # Output: 'N/A'"
   ]
  },
  {
   "cell_type": "markdown",
   "metadata": {},
   "source": [
    "**Example 2: The `keys` Method**\n",
    "\n",
    "The `keys` method returns a new object that displays a list of all the keys in the dictionary."
   ]
  },
  {
   "cell_type": "code",
   "execution_count": 53,
   "metadata": {},
   "outputs": [
    {
     "name": "stdout",
     "output_type": "stream",
     "text": [
      "dict_keys(['name', 'age', 'course'])\n"
     ]
    }
   ],
   "source": [
    "student = {'name': 'John Doe', 'age': 20, 'course': 'Computer Science'}\n",
    "print(student.keys())  # Output: dict_keys(['name', 'age', 'course'])"
   ]
  },
  {
   "cell_type": "markdown",
   "metadata": {},
   "source": [
    "**Example 3: The `values` Method**\n",
    "\n",
    "The `values` method returns a new object that displays a list of all the values in the dictionary."
   ]
  },
  {
   "cell_type": "code",
   "execution_count": 54,
   "metadata": {},
   "outputs": [
    {
     "name": "stdout",
     "output_type": "stream",
     "text": [
      "dict_values(['John Doe', 20, 'Computer Science'])\n"
     ]
    }
   ],
   "source": [
    "student = {'name': 'John Doe', 'age': 20, 'course': 'Computer Science'}\n",
    "print(student.values())  # Output: dict_values(['John Doe', 20, 'Computer Science'])"
   ]
  },
  {
   "cell_type": "markdown",
   "metadata": {},
   "source": [
    "**Example 4: The `items` Method**\n",
    "\n",
    "The `items` method returns a new object that displays a list of the dictionary's key-value tuple pairs."
   ]
  },
  {
   "cell_type": "code",
   "execution_count": 55,
   "metadata": {},
   "outputs": [
    {
     "name": "stdout",
     "output_type": "stream",
     "text": [
      "dict_items([('name', 'John Doe'), ('age', 20), ('course', 'Computer Science')])\n"
     ]
    }
   ],
   "source": [
    "student = {'name': 'John Doe', 'age': 20, 'course': 'Computer Science'}\n",
    "print(student.items())  # Output: dict_items([('name', 'John Doe'), ('age', 20), ('course', 'Computer Science')])"
   ]
  },
  {
   "cell_type": "markdown",
   "metadata": {},
   "source": [
    "**Example 5: The `update` Method**\n",
    "\n",
    "The `update` method updates the dictionary with the key-value pairs from the second dictionary. If the key is not present, this pair gets added to the dictionary. If the key is in the dictionary, it updates the key with the new value."
   ]
  },
  {
   "cell_type": "code",
   "execution_count": 56,
   "metadata": {},
   "outputs": [
    {
     "name": "stdout",
     "output_type": "stream",
     "text": [
      "{'name': 'John Doe', 'age': 22, 'course': 'Computer Science', 'grade': 'A'}\n"
     ]
    }
   ],
   "source": [
    "student = {'name': 'John Doe', 'age': 20, 'course': 'Computer Science'}\n",
    "student.update({'age': 22, 'grade': 'A'})\n",
    "print(student)  # Output: {'name': 'John Doe', 'age': 22, 'course': 'Computer Science', 'grade': 'A'}"
   ]
  },
  {
   "cell_type": "markdown",
   "metadata": {},
   "source": [
    "## Section 5: Tuples\n",
    "\n",
    "### 5.1 - Introduction to Tuples\n",
    "\n",
    "Tuples are ordered, immutable sequences of items. They are similar to lists, but unlike lists, they cannot be changed."
   ]
  },
  {
   "cell_type": "code",
   "execution_count": 57,
   "metadata": {},
   "outputs": [
    {
     "name": "stdout",
     "output_type": "stream",
     "text": [
      "<class 'tuple'>\n"
     ]
    }
   ],
   "source": [
    "fruits = ('apple', 'banana', 'cherry')\n",
    "print(type(fruits))  # Output: <class 'tuple'>"
   ]
  },
  {
   "cell_type": "markdown",
   "metadata": {},
   "source": [
    "**Example 1: Accessing Tuple Items**\n",
    "\n",
    "Tuple items are accessed by their index, which starts at 0 for the first item."
   ]
  },
  {
   "cell_type": "code",
   "execution_count": 58,
   "metadata": {},
   "outputs": [
    {
     "name": "stdout",
     "output_type": "stream",
     "text": [
      "apple\n",
      "cherry\n"
     ]
    }
   ],
   "source": [
    "fruits = ('apple', 'banana', 'cherry')\n",
    "print(fruits[0])  # Output: 'apple'\n",
    "print(fruits[2])  # Output: 'cherry'"
   ]
  },
  {
   "cell_type": "markdown",
   "metadata": {},
   "source": [
    "**Example 2: Tuple Immutability**\n",
    "\n",
    "Tuples are immutable, which means they cannot be changed. Trying to change a tuple will result in an error."
   ]
  },
  {
   "cell_type": "code",
   "execution_count": 59,
   "metadata": {},
   "outputs": [
    {
     "ename": "TypeError",
     "evalue": "'tuple' object does not support item assignment",
     "output_type": "error",
     "traceback": [
      "\u001b[0;31m---------------------------------------------------------------------------\u001b[0m",
      "\u001b[0;31mTypeError\u001b[0m                                 Traceback (most recent call last)",
      "Cell \u001b[0;32mIn[59], line 2\u001b[0m\n\u001b[1;32m      1\u001b[0m fruits \u001b[38;5;241m=\u001b[39m (\u001b[38;5;124m'\u001b[39m\u001b[38;5;124mapple\u001b[39m\u001b[38;5;124m'\u001b[39m, \u001b[38;5;124m'\u001b[39m\u001b[38;5;124mbanana\u001b[39m\u001b[38;5;124m'\u001b[39m, \u001b[38;5;124m'\u001b[39m\u001b[38;5;124mcherry\u001b[39m\u001b[38;5;124m'\u001b[39m)\n\u001b[0;32m----> 2\u001b[0m \u001b[43mfruits\u001b[49m\u001b[43m[\u001b[49m\u001b[38;5;241;43m0\u001b[39;49m\u001b[43m]\u001b[49m \u001b[38;5;241m=\u001b[39m \u001b[38;5;124m'\u001b[39m\u001b[38;5;124mavocado\u001b[39m\u001b[38;5;124m'\u001b[39m  \u001b[38;5;66;03m# Output: TypeError: 'tuple' object does not support item assignment\u001b[39;00m\n",
      "\u001b[0;31mTypeError\u001b[0m: 'tuple' object does not support item assignment"
     ]
    }
   ],
   "source": [
    "fruits = ('apple', 'banana', 'cherry')\n",
    "fruits[0] = 'avocado'  # Output: TypeError: 'tuple' object does not support item assignment"
   ]
  },
  {
   "cell_type": "markdown",
   "metadata": {},
   "source": [
    "**Example 3: Concatenating Tuples**\n",
    "\n",
    "You can concatenate tuples to create a new tuple."
   ]
  },
  {
   "cell_type": "code",
   "execution_count": 61,
   "metadata": {},
   "outputs": [
    {
     "name": "stdout",
     "output_type": "stream",
     "text": [
      "('apple', 'banana', 'cherry', 'date', 'elderberry')\n"
     ]
    }
   ],
   "source": [
    "fruits = ('apple', 'banana', 'cherry')\n",
    "more_fruits = ('date', 'elderberry')\n",
    "all_fruits = fruits + more_fruits\n",
    "print(all_fruits)  # Output: ('apple', 'banana', 'cherry', 'date', 'elderberry')"
   ]
  },
  {
   "cell_type": "markdown",
   "metadata": {},
   "source": [
    "**Example 4: Tuple Packing and Unpacking**\n",
    "\n",
    "Tuple packing is the term for packing a sequence of values into a tuple without using parentheses."
   ]
  },
  {
   "cell_type": "code",
   "execution_count": 62,
   "metadata": {},
   "outputs": [
    {
     "name": "stdout",
     "output_type": "stream",
     "text": [
      "<class 'tuple'>\n"
     ]
    }
   ],
   "source": [
    "fruits = 'apple', 'banana', 'cherry'\n",
    "print(type(fruits))  # Output: <class 'tuple'>"
   ]
  },
  {
   "cell_type": "markdown",
   "metadata": {},
   "source": [
    "Tuple unpacking is the term for assigning the items from a tuple into a sequence of variables."
   ]
  },
  {
   "cell_type": "code",
   "execution_count": 63,
   "metadata": {},
   "outputs": [
    {
     "name": "stdout",
     "output_type": "stream",
     "text": [
      "apple\n",
      "banana\n",
      "cherry\n"
     ]
    }
   ],
   "source": [
    "fruits = ('apple', 'banana', 'cherry')\n",
    "a, b, c = fruits\n",
    "print(a)  # Output: 'apple'\n",
    "print(b)  # Output: 'banana'\n",
    "print(c)  # Output: 'cherry'"
   ]
  },
  {
   "cell_type": "markdown",
   "metadata": {},
   "source": [
    "**Example 5: Single-Element Tuples**\n",
    "\n",
    "A tuple with a single item is called a singleton tuple. It requires a trailing comma to distinguish it from a parenthesized expression."
   ]
  },
  {
   "cell_type": "code",
   "execution_count": 64,
   "metadata": {},
   "outputs": [
    {
     "name": "stdout",
     "output_type": "stream",
     "text": [
      "<class 'tuple'>\n"
     ]
    }
   ],
   "source": [
    "singleton = ('apple',)\n",
    "print(type(singleton))  # Output: <class 'tuple'>"
   ]
  },
  {
   "cell_type": "markdown",
   "metadata": {},
   "source": [
    "### 5.2 - Comparison with Lists\n",
    "\n",
    "Tuples and lists share a few similar characteristics, but also have some distinct differences. Here are some examples that illustrate these differences:\n",
    "\n",
    "**Example 1: Mutability**\n",
    "\n",
    "One of the main differences between tuples and lists is that lists are mutable, meaning you can change their content, whereas tuples are immutable."
   ]
  },
  {
   "cell_type": "code",
   "execution_count": 65,
   "metadata": {},
   "outputs": [
    {
     "name": "stdout",
     "output_type": "stream",
     "text": [
      "['avocado', 'banana', 'cherry']\n"
     ]
    },
    {
     "ename": "TypeError",
     "evalue": "'tuple' object does not support item assignment",
     "output_type": "error",
     "traceback": [
      "\u001b[0;31m---------------------------------------------------------------------------\u001b[0m",
      "\u001b[0;31mTypeError\u001b[0m                                 Traceback (most recent call last)",
      "Cell \u001b[0;32mIn[65], line 8\u001b[0m\n\u001b[1;32m      6\u001b[0m \u001b[38;5;66;03m# Tuple\u001b[39;00m\n\u001b[1;32m      7\u001b[0m fruits_tuple \u001b[38;5;241m=\u001b[39m (\u001b[38;5;124m'\u001b[39m\u001b[38;5;124mapple\u001b[39m\u001b[38;5;124m'\u001b[39m, \u001b[38;5;124m'\u001b[39m\u001b[38;5;124mbanana\u001b[39m\u001b[38;5;124m'\u001b[39m, \u001b[38;5;124m'\u001b[39m\u001b[38;5;124mcherry\u001b[39m\u001b[38;5;124m'\u001b[39m)\n\u001b[0;32m----> 8\u001b[0m \u001b[43mfruits_tuple\u001b[49m\u001b[43m[\u001b[49m\u001b[38;5;241;43m0\u001b[39;49m\u001b[43m]\u001b[49m \u001b[38;5;241m=\u001b[39m \u001b[38;5;124m'\u001b[39m\u001b[38;5;124mavocado\u001b[39m\u001b[38;5;124m'\u001b[39m  \u001b[38;5;66;03m# Output: TypeError: 'tuple' object does not support item assignment\u001b[39;00m\n",
      "\u001b[0;31mTypeError\u001b[0m: 'tuple' object does not support item assignment"
     ]
    }
   ],
   "source": [
    "# List\n",
    "fruits_list = ['apple', 'banana', 'cherry']\n",
    "fruits_list[0] = 'avocado'\n",
    "print(fruits_list)  # Output: ['avocado', 'banana', 'cherry']\n",
    "\n",
    "# Tuple\n",
    "fruits_tuple = ('apple', 'banana', 'cherry')\n",
    "fruits_tuple[0] = 'avocado'  # Output: TypeError: 'tuple' object does not support item assignment"
   ]
  },
  {
   "cell_type": "markdown",
   "metadata": {},
   "source": [
    "**Example 2: Memory Usage**\n",
    "\n",
    "Tuples are generally more memory-efficient than lists. This can be useful when working with large amounts of data."
   ]
  },
  {
   "cell_type": "code",
   "execution_count": 66,
   "metadata": {},
   "outputs": [
    {
     "name": "stdout",
     "output_type": "stream",
     "text": [
      "88\n",
      "64\n"
     ]
    }
   ],
   "source": [
    "import sys\n",
    "\n",
    "fruits_list = ['apple', 'banana', 'cherry']\n",
    "fruits_tuple = ('apple', 'banana', 'cherry')\n",
    "\n",
    "print(sys.getsizeof(fruits_list))  # Output: 88\n",
    "print(sys.getsizeof(fruits_tuple))  # Output: 64"
   ]
  },
  {
   "cell_type": "markdown",
   "metadata": {},
   "source": [
    "**Example 3: Use as Dictionary Keys**\n",
    "\n",
    "Tuples can be used as dictionary keys, while lists cannot. That's because dictionary keys need to be immutable, like strings, numbers, or tuples."
   ]
  },
  {
   "cell_type": "code",
   "execution_count": 67,
   "metadata": {},
   "outputs": [
    {
     "name": "stdout",
     "output_type": "stream",
     "text": [
      "{('apple', 'banana', 'cherry'): 'delicious'}\n"
     ]
    }
   ],
   "source": [
    "fruits_dict = {('apple', 'banana', 'cherry'): 'delicious'}\n",
    "print(fruits_dict)  # Output: {('apple', 'banana', 'cherry'): 'delicious'}"
   ]
  },
  {
   "cell_type": "markdown",
   "metadata": {},
   "source": [
    "**Example 4: Unpackaging**\n",
    "\n",
    "Both lists and tuples can be unpacked."
   ]
  },
  {
   "cell_type": "code",
   "execution_count": 68,
   "metadata": {},
   "outputs": [
    {
     "name": "stdout",
     "output_type": "stream",
     "text": [
      "apple banana cherry\n",
      "apple banana cherry\n"
     ]
    }
   ],
   "source": [
    "# List\n",
    "fruits_list = ['apple', 'banana', 'cherry']\n",
    "a, b, c = fruits_list\n",
    "print(a, b, c)  # Output: apple banana cherry\n",
    "\n",
    "# Tuple\n",
    "fruits_tuple = ('apple', 'banana', 'cherry')\n",
    "x, y, z = fruits_tuple\n",
    "print(x, y, z)  # Output: apple banana cherry"
   ]
  },
  {
   "cell_type": "markdown",
   "metadata": {},
   "source": [
    "**Example 5: Use in Function Arguments**\n",
    "\n",
    "Tuples are often used for a specific number of function arguments, while lists are used for an arbitrary number of arguments."
   ]
  },
  {
   "cell_type": "code",
   "execution_count": 69,
   "metadata": {},
   "outputs": [
    {
     "name": "stdout",
     "output_type": "stream",
     "text": [
      "Coordinates: 10, 20\n",
      "apple\n",
      "banana\n",
      "cherry\n"
     ]
    }
   ],
   "source": [
    "# Tuple\n",
    "def print_coordinates(x, y):\n",
    "    print(f'Coordinates: {x}, {y}')\n",
    "\n",
    "coordinates_tuple = (10, 20)\n",
    "print_coordinates(*coordinates_tuple)  # Output: Coordinates: 10, 20\n",
    "\n",
    "# List\n",
    "def print_all_fruits(*fruits):\n",
    "    for fruit in fruits:\n",
    "        print(fruit)\n",
    "\n",
    "fruits_list = ['apple', 'banana', 'cherry']\n",
    "print_all_fruits(*fruits_list)  # Output: apple, banana, cherry"
   ]
  },
  {
   "cell_type": "markdown",
   "metadata": {},
   "source": [
    "## Section 6: Sets\n",
    "\n",
    "### 6.1 - Introduction to sets\n",
    "\n",
    "Sets are unordered collections of unique elements. They are mutable, but the elements contained in the set must be of an immutable type."
   ]
  },
  {
   "cell_type": "code",
   "execution_count": 70,
   "metadata": {},
   "outputs": [
    {
     "name": "stdout",
     "output_type": "stream",
     "text": [
      "<class 'set'>\n"
     ]
    }
   ],
   "source": [
    "fruits = {'apple', 'banana', 'cherry'}\n",
    "print(type(fruits))  # Output: <class 'set'>"
   ]
  },
  {
   "cell_type": "markdown",
   "metadata": {},
   "source": [
    "**Example 1: Adding and Removing Elements**\n",
    "\n",
    "You can add an element to a set using the `add` method, and remove an element using the `remove` method."
   ]
  },
  {
   "cell_type": "code",
   "execution_count": 71,
   "metadata": {},
   "outputs": [
    {
     "name": "stdout",
     "output_type": "stream",
     "text": [
      "{'date', 'apple', 'cherry', 'banana'}\n",
      "{'date', 'cherry', 'banana'}\n"
     ]
    }
   ],
   "source": [
    "fruits = {'apple', 'banana', 'cherry'}\n",
    "fruits.add('date')\n",
    "print(fruits)  # Output: {'date', 'cherry', 'banana', 'apple'}\n",
    "fruits.remove('apple')\n",
    "print(fruits)  # Output: {'date', 'cherry', 'banana'}"
   ]
  },
  {
   "cell_type": "markdown",
   "metadata": {},
   "source": [
    "**Example 2: Checking Membership**\n",
    "\n",
    "You can check whether an item is in a set using the `in` keyword."
   ]
  },
  {
   "cell_type": "code",
   "execution_count": 72,
   "metadata": {},
   "outputs": [
    {
     "name": "stdout",
     "output_type": "stream",
     "text": [
      "True\n",
      "False\n"
     ]
    }
   ],
   "source": [
    "fruits = {'apple', 'banana', 'cherry'}\n",
    "print('apple' in fruits)  # Output: True\n",
    "print('kiwi' in fruits)  # Output: False"
   ]
  },
  {
   "cell_type": "markdown",
   "metadata": {},
   "source": [
    "**Example 3: Set Operations**\n",
    "\n",
    "Sets support mathematical operations like union, intersection, difference, and symmetric difference."
   ]
  },
  {
   "cell_type": "code",
   "execution_count": 73,
   "metadata": {},
   "outputs": [
    {
     "name": "stdout",
     "output_type": "stream",
     "text": [
      "{'orange', 'apple', 'banana', 'grapefruit', 'lemon', 'cherry', 'lime'}\n",
      "set()\n",
      "{'apple', 'cherry', 'banana'}\n",
      "{'orange', 'banana', 'lemon', 'cherry', 'apple', 'grapefruit', 'lime'}\n"
     ]
    }
   ],
   "source": [
    "fruits = {'apple', 'banana', 'cherry'}\n",
    "citrus = {'orange', 'lemon', 'grapefruit', 'lime'}\n",
    "\n",
    "# Union\n",
    "print(fruits.union(citrus))  # Output: {'cherry', 'lime', 'grapefruit', 'banana', 'lemon', 'orange', 'apple'}\n",
    "\n",
    "# Intersection\n",
    "print(fruits.intersection(citrus))  # Output: set()\n",
    "\n",
    "# Difference\n",
    "print(fruits.difference(citrus))  # Output: {'cherry', 'banana', 'apple'}\n",
    "\n",
    "# Symmetric Difference\n",
    "print(fruits.symmetric_difference(citrus))  # Output: {'cherry', 'lime', 'grapefruit', 'banana', 'lemon', 'orange', 'apple'}"
   ]
  },
  {
   "cell_type": "markdown",
   "metadata": {},
   "source": [
    "**Example 4: Subset, Superset, and Disjoint**\n",
    "\n",
    "You can check whether a set is a subset, superset, or disjoint with another set."
   ]
  },
  {
   "cell_type": "code",
   "execution_count": 74,
   "metadata": {},
   "outputs": [
    {
     "name": "stdout",
     "output_type": "stream",
     "text": [
      "True\n",
      "True\n",
      "True\n"
     ]
    }
   ],
   "source": [
    "fruits = {'apple', 'banana', 'cherry'}\n",
    "citrus = {'orange', 'lemon', 'grapefruit', 'lime'}\n",
    "all_fruits = {'apple', 'banana', 'cherry', 'orange', 'lemon', 'grapefruit', 'lime', 'kiwi'}\n",
    "\n",
    "# Subset\n",
    "print(fruits.issubset(all_fruits))  # Output: True\n",
    "\n",
    "# Superset\n",
    "print(all_fruits.issuperset(citrus))  # Output: True\n",
    "\n",
    "# Disjoint\n",
    "print(fruits.isdisjoint(citrus))  # Output: True"
   ]
  },
  {
   "cell_type": "markdown",
   "metadata": {},
   "source": [
    "**Example 5: Converting Lists to Sets**\n",
    "\n",
    "One common use of sets is removing duplicates from a list. Since sets cannot contain duplicate elements, converting a list to a set automatically removes duplicates."
   ]
  },
  {
   "cell_type": "code",
   "execution_count": 75,
   "metadata": {},
   "outputs": [
    {
     "name": "stdout",
     "output_type": "stream",
     "text": [
      "{'apple', 'cherry', 'banana'}\n"
     ]
    }
   ],
   "source": [
    "fruits_list = ['apple', 'banana', 'cherry', 'apple', 'banana', 'cherry']\n",
    "fruits_set = set(fruits_list)\n",
    "print(fruits_set)  # Output: {'cherry', 'banana', 'apple'}"
   ]
  },
  {
   "cell_type": "markdown",
   "metadata": {},
   "source": [
    "### 6.2 - Set operations\n",
    "\n",
    "Sets in Python provide a range of in-built methods for common set operations. These operations help in performing and simplifying complex tasks in a convenient way.\n",
    "\n",
    "**Example 1: The `add` Method**\n",
    "\n",
    "The `add` method adds an element to the set. If the element already exists, the set remains unchanged."
   ]
  },
  {
   "cell_type": "code",
   "execution_count": 76,
   "metadata": {},
   "outputs": [
    {
     "name": "stdout",
     "output_type": "stream",
     "text": [
      "{'date', 'apple', 'cherry', 'banana'}\n"
     ]
    }
   ],
   "source": [
    "fruits = {'apple', 'banana', 'cherry'}\n",
    "fruits.add('date')\n",
    "print(fruits)  # Output: {'date', 'cherry', 'banana', 'apple'}"
   ]
  },
  {
   "cell_type": "markdown",
   "metadata": {},
   "source": [
    "**Example 2: The `intersection_update` Method**\n",
    "\n",
    "The `intersection_update` method updates the set with the intersection of itself and another set."
   ]
  },
  {
   "cell_type": "code",
   "execution_count": 77,
   "metadata": {},
   "outputs": [
    {
     "name": "stdout",
     "output_type": "stream",
     "text": [
      "{'banana'}\n"
     ]
    }
   ],
   "source": [
    "fruits = {'apple', 'banana', 'cherry'}\n",
    "citrus = {'banana', 'lemon'}\n",
    "fruits.intersection_update(citrus)\n",
    "print(fruits)  # Output: {'banana'}"
   ]
  },
  {
   "cell_type": "markdown",
   "metadata": {},
   "source": [
    "**Example 3: The `difference_update` Method**\n",
    "\n",
    "The `difference_update` method removes all elements of another set from this set."
   ]
  },
  {
   "cell_type": "code",
   "execution_count": 78,
   "metadata": {},
   "outputs": [
    {
     "name": "stdout",
     "output_type": "stream",
     "text": [
      "{'apple', 'cherry'}\n"
     ]
    }
   ],
   "source": [
    "fruits = {'apple', 'banana', 'cherry'}\n",
    "citrus = {'banana', 'lemon'}\n",
    "fruits.difference_update(citrus)\n",
    "print(fruits)  # Output: {'apple', 'cherry'}"
   ]
  },
  {
   "cell_type": "markdown",
   "metadata": {},
   "source": [
    "**Example 4: The `symmetric_difference` Method**\n",
    "\n",
    "The `symmetric_difference` method returns a new set which is the symmetric difference of two sets. The symmetric difference of two sets is the set of elements which are in either of the sets but not in their intersection."
   ]
  },
  {
   "cell_type": "code",
   "execution_count": 79,
   "metadata": {},
   "outputs": [
    {
     "name": "stdout",
     "output_type": "stream",
     "text": [
      "{'apple', 'lemon', 'cherry'}\n"
     ]
    }
   ],
   "source": [
    "fruits = {'apple', 'banana', 'cherry'}\n",
    "citrus = {'banana', 'lemon'}\n",
    "print(fruits.symmetric_difference(citrus))  # Output: {'cherry', 'lemon', 'apple'}"
   ]
  },
  {
   "cell_type": "markdown",
   "metadata": {},
   "source": [
    "**Example 5: The `issubset`, `issuperset` and `isdisjoint` Methods**\n",
    "\n",
    "The `issubset` and `issuperset` methods are used to check if the set is a subset or superset of another set respectively. The `isdisjoint` method checks if two sets are disjoint."
   ]
  },
  {
   "cell_type": "code",
   "execution_count": 80,
   "metadata": {},
   "outputs": [
    {
     "name": "stdout",
     "output_type": "stream",
     "text": [
      "True\n",
      "True\n",
      "False\n"
     ]
    }
   ],
   "source": [
    "fruits = {'apple', 'banana', 'cherry'}\n",
    "citrus = {'banana'}\n",
    "all_fruits = {'apple', 'banana', 'cherry', 'lemon'}\n",
    "\n",
    "print(citrus.issubset(fruits))  # Output: True\n",
    "print(all_fruits.issuperset(fruits))  # Output: True\n",
    "print(fruits.isdisjoint(citrus))  # Output: False"
   ]
  },
  {
   "cell_type": "markdown",
   "metadata": {},
   "source": [
    "## Section 7: Booleans\n",
    "\n",
    "### 7.1 - Introduction to Booleans\n",
    "\n",
    "Booleans represent one of two values: `True` or `False`. In programming, you often need to know if an expression is `True` or `False`. You can evaluate any expression in Python, and get one of two answers, `True` or `False`.\n",
    "\n",
    "**Example 1: Basic Boolean Values**"
   ]
  },
  {
   "cell_type": "code",
   "execution_count": 81,
   "metadata": {},
   "outputs": [
    {
     "name": "stdout",
     "output_type": "stream",
     "text": [
      "True\n",
      "False\n"
     ]
    }
   ],
   "source": [
    "print(True)  # Output: True\n",
    "print(False)  # Output: False"
   ]
  },
  {
   "cell_type": "markdown",
   "metadata": {},
   "source": [
    "**Example 2: Boolean in Conditions**\n",
    "\n",
    "Booleans are often used in conditional statements where a condition is checked and based on the outcome (either `True` or `False`), the program decides whether to execute a block of code or not."
   ]
  },
  {
   "cell_type": "code",
   "execution_count": 82,
   "metadata": {},
   "outputs": [
    {
     "name": "stdout",
     "output_type": "stream",
     "text": [
      "True\n"
     ]
    }
   ],
   "source": [
    "x = 10\n",
    "y = 20\n",
    "\n",
    "if x < y:\n",
    "    print(True)  # Output: True\n",
    "else:\n",
    "    print(False)"
   ]
  },
  {
   "cell_type": "markdown",
   "metadata": {},
   "source": [
    "**Example 3: Comparison Operators**\n",
    "\n",
    "Comparison operators are used to compare values. It either returns `True` or `False` according to the condition."
   ]
  },
  {
   "cell_type": "code",
   "execution_count": 83,
   "metadata": {},
   "outputs": [
    {
     "name": "stdout",
     "output_type": "stream",
     "text": [
      "False\n",
      "True\n",
      "True\n",
      "False\n"
     ]
    }
   ],
   "source": [
    "x = 10\n",
    "y = 20\n",
    "\n",
    "print(x == y)  # Output: False (because 10 is not equal to 20)\n",
    "print(x != y)  # Output: True (because 10 is not equal to 20)\n",
    "print(x < y)  # Output: True (because 10 is less than 20)\n",
    "print(x > y)  # Output: False (because 10 is not greater than 20)"
   ]
  },
  {
   "cell_type": "markdown",
   "metadata": {},
   "source": [
    "**Example 4: Logical Operators**\n",
    "\n",
    "Logical operators are used to combine conditional statements. It either returns `True` or `False` according to the condition."
   ]
  },
  {
   "cell_type": "code",
   "execution_count": 84,
   "metadata": {},
   "outputs": [
    {
     "name": "stdout",
     "output_type": "stream",
     "text": [
      "True\n",
      "True\n",
      "False\n"
     ]
    }
   ],
   "source": [
    "x = 10\n",
    "y = 20\n",
    "\n",
    "# returns True because one of the statements is true (x is less than y)\n",
    "print(x < 15 or y > 15)  # Output: True\n",
    "\n",
    "# returns True because both statements are true\n",
    "print(x < 15 and y > 15)  # Output: True\n",
    "\n",
    "# reverse the result, returns False if the result is true\n",
    "print(not(x < 15 and y > 15))  # Output: False"
   ]
  },
  {
   "cell_type": "markdown",
   "metadata": {},
   "source": [
    "**Example 5: is and is not Operators**\n",
    "\n",
    "`is` and `is not` are the identity operators in Python. They are used to check if two values (or variables) are located on the same part of the memory."
   ]
  },
  {
   "cell_type": "code",
   "execution_count": 85,
   "metadata": {},
   "outputs": [
    {
     "name": "stdout",
     "output_type": "stream",
     "text": [
      "True\n",
      "False\n",
      "True\n"
     ]
    }
   ],
   "source": [
    "x = [\"apple\", \"banana\"]\n",
    "y = [\"apple\", \"banana\"]\n",
    "z = x\n",
    "\n",
    "# returns True because z is the same object as x\n",
    "print(z is x)  # Output: True\n",
    "\n",
    "# returns False because x is not the same object as y, even if they have the same content\n",
    "print(x is y)  # Output: False\n",
    "\n",
    "# to demonstrate the difference between is and ==: this comparison returns True because x's content is equal to y's content\n",
    "print(x == y)  # Output: True"
   ]
  },
  {
   "cell_type": "markdown",
   "metadata": {},
   "source": [
    "### 7.2 - Boolean Operations and Their Importance in Conditional Statements\n",
    "\n",
    "Boolean operations in Python include `and`, `or`, and `not`. They are used in conditional statements to test multiple conditions.\n",
    "\n",
    "**Example 1: Using `and` Operator**\n",
    "\n",
    "The `and` operator returns `True` if both the operands (i.e., conditions) are true."
   ]
  },
  {
   "cell_type": "code",
   "execution_count": 86,
   "metadata": {},
   "outputs": [
    {
     "name": "stdout",
     "output_type": "stream",
     "text": [
      "True\n"
     ]
    }
   ],
   "source": [
    "x = 10\n",
    "y = 20\n",
    "z = 30\n",
    "\n",
    "if x < y and y < z:\n",
    "    print(True)  # Output: True\n",
    "else:\n",
    "    print(False)"
   ]
  },
  {
   "cell_type": "markdown",
   "metadata": {},
   "source": [
    "**Example 2: Using `or` Operator**\n",
    "\n",
    "The `or` operator returns `True` if at least one of the operands (i.e., conditions) is true."
   ]
  },
  {
   "cell_type": "code",
   "execution_count": 87,
   "metadata": {},
   "outputs": [
    {
     "name": "stdout",
     "output_type": "stream",
     "text": [
      "True\n"
     ]
    }
   ],
   "source": [
    "x = 10\n",
    "y = 20\n",
    "z = 30\n",
    "\n",
    "if x > y or y < z:\n",
    "    print(True)  # Output: True\n",
    "else:\n",
    "    print(False)"
   ]
  },
  {
   "cell_type": "markdown",
   "metadata": {},
   "source": [
    "**Example 3: Using `not` Operator**\n",
    "\n",
    "The `not` operator returns `True` if the operand (i.e., condition) is false."
   ]
  },
  {
   "cell_type": "code",
   "execution_count": 88,
   "metadata": {},
   "outputs": [
    {
     "name": "stdout",
     "output_type": "stream",
     "text": [
      "True\n"
     ]
    }
   ],
   "source": [
    "x = 10\n",
    "y = 20\n",
    "\n",
    "if not x > y:\n",
    "    print(True)  # Output: True\n",
    "else:\n",
    "    print(False)"
   ]
  },
  {
   "cell_type": "markdown",
   "metadata": {},
   "source": [
    "**Example 4: Combining Boolean Operators**\n",
    "\n",
    "You can combine boolean operators in your conditions."
   ]
  },
  {
   "cell_type": "code",
   "execution_count": 89,
   "metadata": {},
   "outputs": [
    {
     "name": "stdout",
     "output_type": "stream",
     "text": [
      "True\n"
     ]
    }
   ],
   "source": [
    "x = 10\n",
    "y = 20\n",
    "z = 30\n",
    "\n",
    "if x < y and not y > z:\n",
    "    print(True)  # Output: True\n",
    "else:\n",
    "    print(False)"
   ]
  },
  {
   "cell_type": "markdown",
   "metadata": {},
   "source": [
    "**Example 5: Complex Conditions**\n",
    "\n",
    "You can test complex conditions by combining multiple boolean operations."
   ]
  },
  {
   "cell_type": "code",
   "execution_count": 90,
   "metadata": {},
   "outputs": [
    {
     "name": "stdout",
     "output_type": "stream",
     "text": [
      "True\n"
     ]
    }
   ],
   "source": [
    "x = 10\n",
    "y = 20\n",
    "z = 30\n",
    "w = 40\n",
    "\n",
    "if (x < y and y < z) or not z > w:\n",
    "    print(True)  # Output: True\n",
    "else:\n",
    "    print(False)"
   ]
  },
  {
   "cell_type": "markdown",
   "metadata": {},
   "source": [
    "In all these examples, the code block inside the `if` statement is executed if the condition evaluates to `True`. Otherwise, the code block inside the `else` statement is executed.\n",
    "\n",
    "## Challenge: Count Unique Animals in a List\n",
    "\n",
    "Here is your challenge:\n",
    "\n",
    "You are given a list of animals as shown below:"
   ]
  },
  {
   "cell_type": "code",
   "execution_count": 91,
   "metadata": {},
   "outputs": [],
   "source": [
    "animals = [\"Dog\", \"Cat\", \"Horse\", \"Dog\", \"Cat\", \"Mouse\", \"Dog\", \"Horse\", \"Elephant\", \"Zebra\", \"Ape\", \"Bird\", \"Butterfly\", \"Ant\", \"Eagle\", \"Hawk\", \"Shark\", \"Lion\", \"Tiger\", \"Penguin\", \"Dog\", \"Cat\", \"Horse\", \"Dog\", \"Cat\", \"Mouse\", \"Dog\", \"Horse\", \"Elephant\", \"Zebra\", \"Ape\", \"Bird\", \"Butterfly\", \"Ant\", \"Eagle\", \"Hawk\", \"Shark\", \"Lion\", \"Tiger\", \"Penguin\", \"Dog\", \"Cat\", \"Horse\", \"Dog\", \"Cat\", \"Mouse\", \"Dog\", \"Horse\", \"Elephant\", \"Zebra\", \"Ape\", \"Bird\", \"Butterfly\", \"Ant\", \"Eagle\", \"Hawk\", \"Shark\", \"Lion\", \"Tiger\", \"Penguin\", \"Dog\", \"Cat\", \"Horse\", \"Dog\", \"Cat\", \"Mouse\", \"Dog\", \"Horse\", \"Elephant\", \"Zebra\", \"Ape\", \"Bird\", \"Butterfly\", \"Ant\", \"Eagle\", \"Hawk\", \"Shark\", \"Lion\", \"Tiger\", \"Penguin\", \"Dog\", \"Cat\", \"Horse\", \"Dog\", \"Cat\", \"Mouse\", \"Dog\", \"Horse\", \"Elephant\", \"Zebra\", \"Ape\", \"Bird\", \"Butterfly\", \"Ant\", \"Eagle\", \"Hawk\", \"Shark\", \"Lion\", \"Tiger\", \"Penguin\"]"
   ]
  },
  {
   "cell_type": "markdown",
   "metadata": {},
   "source": [
    "However, some animals might appear more than once in the list. Your task is to determine the number of unique animals contained in this list.\n",
    "\n",
    "Remember, there is a specific Python data type that can make this task significantly easier. Try to figure out which one. Good luck!"
   ]
  },
  {
   "cell_type": "code",
   "execution_count": null,
   "metadata": {},
   "outputs": [],
   "source": [
    "### WRITE YOUR CODE BELOW THIS LINE ###\n",
    "\n",
    "\n",
    "### WRITE YOUR CODE ABOVE THIS LINE ###"
   ]
  }
 ],
 "metadata": {
  "kernelspec": {
   "display_name": "aia",
   "language": "python",
   "name": "python3"
  },
  "language_info": {
   "codemirror_mode": {
    "name": "ipython",
    "version": 3
   },
   "file_extension": ".py",
   "mimetype": "text/x-python",
   "name": "python",
   "nbconvert_exporter": "python",
   "pygments_lexer": "ipython3",
   "version": "3.10.13"
  }
 },
 "nbformat": 4,
 "nbformat_minor": 2
}
