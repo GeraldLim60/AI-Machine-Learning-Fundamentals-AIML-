{
 "cells": [
  {
   "cell_type": "markdown",
   "metadata": {},
   "source": [
    "# 01.05 - Classes"
   ]
  },
  {
   "cell_type": "markdown",
   "metadata": {},
   "source": [
    "## Introduction\n",
    "\n",
    "Our journey into the world of Python classes begins here. A Python class is a blueprint for creating objects. These objects have member variables and have behavior associated with them. In python, a class is created by the keyword class. This notebook will cover the following topics:\n",
    "\n",
    "1. **Creating a Class in Python** - We will delve into the syntax of class and how to create a simple class in Python.\n",
    "2. **Understanding Class Attributes and Methods** - This section covers the defining attributes and how to create methods in classes.\n",
    "3. **Understanding the `__init__` Method** - We will explore the `__init__` method, its purpose and how to create an initializer.\n",
    "4. **Using Objects (Instances of a Class)** - This section will guide on creating an object, accessing object attributes and calling object methods.\n",
    "5. **Inheritance in Python Classes** - We will understand the concept of Inheritance and its syntax with an example.\n",
    "6. **Polymorphism and Encapsulation in Python** - We will discuss the concept of Polymorphism and Encapsulation.\n",
    "7. **Best Practices for Using Classes in Python** - This section will cover the best practices to be followed when using classes in Python.\n",
    "\n",
    "Understanding these concepts and how to use them is key to programming effectively with classes in Python.\n",
    "\n",
    "## Section 1: Creating a Class in Python\n",
    "\n",
    "### 1.1 - Syntax of Class\n",
    "\n",
    "In Python, a class is defined using the `class` keyword, followed by the name of the class, and a colon. The body of the class is indented, and it includes definitions of methods for the class.\n",
    "\n",
    "Here are some examples of working with classes in Python:\n",
    "\n",
    "**Example 1: Defining a Class**"
   ]
  },
  {
   "cell_type": "code",
   "execution_count": 1,
   "metadata": {},
   "outputs": [
    {
     "name": "stdout",
     "output_type": "stream",
     "text": [
      "<class '__main__.MyClass'>\n"
     ]
    }
   ],
   "source": [
    "class MyClass:\n",
    "    pass\n",
    "\n",
    "print(MyClass)  # Output: <class '__main__.MyClass'>"
   ]
  },
  {
   "cell_type": "markdown",
   "metadata": {},
   "source": [
    "**Example 2: Creating an Object of a Class**"
   ]
  },
  {
   "cell_type": "code",
   "execution_count": 2,
   "metadata": {},
   "outputs": [
    {
     "name": "stdout",
     "output_type": "stream",
     "text": [
      "<__main__.MyClass object at 0x107703700>\n"
     ]
    }
   ],
   "source": [
    "class MyClass:\n",
    "    pass\n",
    "\n",
    "my_object = MyClass()\n",
    "print(my_object)  # Output: <__main__.MyClass object at 0x107703700>"
   ]
  },
  {
   "cell_type": "markdown",
   "metadata": {},
   "source": [
    "**Example 3: Defining a Class with a Method**"
   ]
  },
  {
   "cell_type": "code",
   "execution_count": 3,
   "metadata": {},
   "outputs": [
    {
     "name": "stdout",
     "output_type": "stream",
     "text": [
      "Hello!\n"
     ]
    }
   ],
   "source": [
    "class MyClass:\n",
    "    def greet(self):\n",
    "        return \"Hello!\"\n",
    "\n",
    "my_object = MyClass()\n",
    "print(my_object.greet())  # Output: Hello!"
   ]
  },
  {
   "cell_type": "markdown",
   "metadata": {},
   "source": [
    "**Example 4: Defining a Class with an `__init__` Method**"
   ]
  },
  {
   "cell_type": "code",
   "execution_count": 4,
   "metadata": {},
   "outputs": [
    {
     "name": "stdout",
     "output_type": "stream",
     "text": [
      "Hello, Python!\n"
     ]
    }
   ],
   "source": [
    "class MyClass:\n",
    "    def __init__(self, name):\n",
    "        self.name = name\n",
    "\n",
    "    def greet(self):\n",
    "        return f\"Hello, {self.name}!\"\n",
    "\n",
    "my_object = MyClass(\"Python\")\n",
    "print(my_object.greet())  # Output: Hello, Python!"
   ]
  },
  {
   "cell_type": "markdown",
   "metadata": {},
   "source": [
    "**Example 5: Defining a Class with Multiple Methods**"
   ]
  },
  {
   "cell_type": "code",
   "execution_count": 5,
   "metadata": {},
   "outputs": [
    {
     "name": "stdout",
     "output_type": "stream",
     "text": [
      "Hello, Python!\n",
      "Python is 30 years old.\n"
     ]
    }
   ],
   "source": [
    "class MyClass:\n",
    "    def __init__(self, name, age):\n",
    "        self.name = name\n",
    "        self.age = age\n",
    "\n",
    "    def greet(self):\n",
    "        return f\"Hello, {self.name}!\"\n",
    "\n",
    "    def describe(self):\n",
    "        return f\"{self.name} is {self.age} years old.\"\n",
    "\n",
    "my_object = MyClass(\"Python\", 30)\n",
    "print(my_object.greet())  # Output: Hello, Python!\n",
    "print(my_object.describe())  # Output: Python is 30 years old."
   ]
  },
  {
   "cell_type": "markdown",
   "metadata": {},
   "source": [
    "### 1.2 - Creating a Simple Class\n",
    "\n",
    "In Python, a class is a blueprint for creating objects. A simple class can be created using the `class` keyword, followed by the name of the class, and a colon. The body of the class is then indented and can include definitions of methods for the class.\n",
    "\n",
    "Here are some examples of creating a simple class in Python:\n",
    "\n",
    "**Example 1: Creating a Class without Attributes or Methods**"
   ]
  },
  {
   "cell_type": "code",
   "execution_count": 6,
   "metadata": {},
   "outputs": [
    {
     "name": "stdout",
     "output_type": "stream",
     "text": [
      "<class '__main__.MyClass'>\n"
     ]
    }
   ],
   "source": [
    "class MyClass:\n",
    "    pass\n",
    "\n",
    "print(MyClass)  # Output: <class '__main__.MyClass'>"
   ]
  },
  {
   "cell_type": "markdown",
   "metadata": {},
   "source": [
    "**Example 2: Creating a Class with a Single Attribute**"
   ]
  },
  {
   "cell_type": "code",
   "execution_count": 7,
   "metadata": {},
   "outputs": [
    {
     "name": "stdout",
     "output_type": "stream",
     "text": [
      "This is an attribute.\n"
     ]
    }
   ],
   "source": [
    "class MyClass:\n",
    "    attribute = \"This is an attribute.\"\n",
    "\n",
    "my_object = MyClass()\n",
    "print(my_object.attribute)  # Output: This is an attribute."
   ]
  },
  {
   "cell_type": "markdown",
   "metadata": {},
   "source": [
    "**Example 3: Creating a Class with a Single Method**"
   ]
  },
  {
   "cell_type": "code",
   "execution_count": 8,
   "metadata": {},
   "outputs": [
    {
     "name": "stdout",
     "output_type": "stream",
     "text": [
      "This is a method.\n"
     ]
    }
   ],
   "source": [
    "class MyClass:\n",
    "    def method(self):\n",
    "        return \"This is a method.\"\n",
    "\n",
    "my_object = MyClass()\n",
    "print(my_object.method())  # Output: This is a method."
   ]
  },
  {
   "cell_type": "markdown",
   "metadata": {},
   "source": [
    "**Example 4: Creating a Class with an `__init__` Method**\n",
    "\n",
    "The `__init__` method in Python is a special method that is automatically called when an object of a class is created."
   ]
  },
  {
   "cell_type": "code",
   "execution_count": 9,
   "metadata": {},
   "outputs": [
    {
     "name": "stdout",
     "output_type": "stream",
     "text": [
      "This is an attribute.\n"
     ]
    }
   ],
   "source": [
    "class MyClass:\n",
    "    def __init__(self):\n",
    "        self.attribute = \"This is an attribute.\"\n",
    "\n",
    "my_object = MyClass()\n",
    "print(my_object.attribute)  # Output: This is an attribute."
   ]
  },
  {
   "cell_type": "markdown",
   "metadata": {},
   "source": [
    "**Example 5: Creating a Class with Multiple Methods**"
   ]
  },
  {
   "cell_type": "code",
   "execution_count": 10,
   "metadata": {},
   "outputs": [
    {
     "name": "stdout",
     "output_type": "stream",
     "text": [
      "This is an attribute.\n",
      "This is method 1.\n",
      "This is method 2.\n"
     ]
    }
   ],
   "source": [
    "class MyClass:\n",
    "    def __init__(self, attribute):\n",
    "        self.attribute = attribute\n",
    "\n",
    "    def method1(self):\n",
    "        return \"This is method 1.\"\n",
    "\n",
    "    def method2(self):\n",
    "        return \"This is method 2.\"\n",
    "\n",
    "my_object = MyClass(\"This is an attribute.\")\n",
    "print(my_object.attribute)  # Output: This is an attribute.\n",
    "print(my_object.method1())  # Output: This is method 1.\n",
    "print(my_object.method2())  # Output: This is method 2."
   ]
  },
  {
   "cell_type": "markdown",
   "metadata": {},
   "source": [
    "## Section 2: Understanding Class Attributes and Methods\n",
    "\n",
    "### 2.1 - Defining Attributes in a Class\n",
    "\n",
    "Attributes are variables that hold data for a class. They define the state or properties of the class and its objects.\n",
    "\n",
    "Here are some examples of defining attributes in a class:\n",
    "\n",
    "**Example 1: Defining a Class with a Single Attribute**"
   ]
  },
  {
   "cell_type": "code",
   "execution_count": 11,
   "metadata": {},
   "outputs": [
    {
     "name": "stdout",
     "output_type": "stream",
     "text": [
      "This is an attribute.\n"
     ]
    }
   ],
   "source": [
    "class MyClass:\n",
    "    attribute = \"This is an attribute.\"\n",
    "\n",
    "my_object = MyClass()\n",
    "print(my_object.attribute)  # Output: This is an attribute."
   ]
  },
  {
   "cell_type": "markdown",
   "metadata": {},
   "source": [
    "**Example 2: Defining a Class with Multiple Attributes**"
   ]
  },
  {
   "cell_type": "code",
   "execution_count": 12,
   "metadata": {},
   "outputs": [
    {
     "name": "stdout",
     "output_type": "stream",
     "text": [
      "This is attribute 1.\n",
      "This is attribute 2.\n"
     ]
    }
   ],
   "source": [
    "class MyClass:\n",
    "    attribute1 = \"This is attribute 1.\"\n",
    "    attribute2 = \"This is attribute 2.\"\n",
    "\n",
    "my_object = MyClass()\n",
    "print(my_object.attribute1)  # Output: This is attribute 1.\n",
    "print(my_object.attribute2)  # Output: This is attribute 2."
   ]
  },
  {
   "cell_type": "markdown",
   "metadata": {},
   "source": [
    "**Example 3: Defining a Class with Attributes in the `__init__` Method**"
   ]
  },
  {
   "cell_type": "code",
   "execution_count": 13,
   "metadata": {},
   "outputs": [
    {
     "name": "stdout",
     "output_type": "stream",
     "text": [
      "Python\n",
      "30\n"
     ]
    }
   ],
   "source": [
    "class MyClass:\n",
    "    def __init__(self, name, age):\n",
    "        self.name = name\n",
    "        self.age = age\n",
    "\n",
    "my_object = MyClass(\"Python\", 30)\n",
    "print(my_object.name)  # Output: Python\n",
    "print(my_object.age)  # Output: 30"
   ]
  },
  {
   "cell_type": "markdown",
   "metadata": {},
   "source": [
    "**Example 4: Modifying the Value of an Attribute**"
   ]
  },
  {
   "cell_type": "code",
   "execution_count": 14,
   "metadata": {},
   "outputs": [
    {
     "name": "stdout",
     "output_type": "stream",
     "text": [
      "31\n"
     ]
    }
   ],
   "source": [
    "class MyClass:\n",
    "    def __init__(self, name, age):\n",
    "        self.name = name\n",
    "        self.age = age\n",
    "\n",
    "my_object = MyClass(\"Python\", 30)\n",
    "my_object.age = 31\n",
    "print(my_object.age)  # Output: 31"
   ]
  },
  {
   "cell_type": "markdown",
   "metadata": {},
   "source": [
    "**Example 5: Defining a Class with Private Attributes**\n",
    "\n",
    "In Python, private attributes are created by prefixing the attribute name with double underscore `__`."
   ]
  },
  {
   "cell_type": "code",
   "execution_count": 15,
   "metadata": {},
   "outputs": [
    {
     "name": "stdout",
     "output_type": "stream",
     "text": [
      "{'_MyClass__name': 'Python', '_MyClass__age': 30}\n"
     ]
    }
   ],
   "source": [
    "class MyClass:\n",
    "    def __init__(self, name, age):\n",
    "        self.__name = name\n",
    "        self.__age = age\n",
    "\n",
    "my_object = MyClass(\"Python\", 30)\n",
    "print(my_object.__dict__)  # Output: {'_MyClass__name': 'Python', '_MyClass__age': 30}"
   ]
  },
  {
   "cell_type": "markdown",
   "metadata": {},
   "source": [
    "### 2.2 - Creating Methods in Classes\n",
    "\n",
    "Methods are functions that are defined inside a class. They are used to define the behaviors of an object.\n",
    "\n",
    "Here are some examples of creating methods in classes:\n",
    "\n",
    "**Example 1: Defining a Class with a Single Method**"
   ]
  },
  {
   "cell_type": "code",
   "execution_count": 16,
   "metadata": {},
   "outputs": [
    {
     "name": "stdout",
     "output_type": "stream",
     "text": [
      "Hello, World!\n"
     ]
    }
   ],
   "source": [
    "class MyClass:\n",
    "    def greet(self):\n",
    "        return \"Hello, World!\"\n",
    "\n",
    "my_object = MyClass()\n",
    "print(my_object.greet())  # Output: Hello, World!"
   ]
  },
  {
   "cell_type": "markdown",
   "metadata": {},
   "source": [
    "**Example 2: Defining a Class with Multiple Methods**"
   ]
  },
  {
   "cell_type": "code",
   "execution_count": 17,
   "metadata": {},
   "outputs": [
    {
     "name": "stdout",
     "output_type": "stream",
     "text": [
      "Hello, World!\n",
      "Goodbye, World!\n"
     ]
    }
   ],
   "source": [
    "class MyClass:\n",
    "    def greet(self):\n",
    "        return \"Hello, World!\"\n",
    "\n",
    "    def farewell(self):\n",
    "        return \"Goodbye, World!\"\n",
    "\n",
    "my_object = MyClass()\n",
    "print(my_object.greet())  # Output: Hello, World!\n",
    "print(my_object.farewell())  # Output: Goodbye, World!"
   ]
  },
  {
   "cell_type": "markdown",
   "metadata": {},
   "source": [
    "**Example 3: Using Parameters in Methods**"
   ]
  },
  {
   "cell_type": "code",
   "execution_count": 18,
   "metadata": {},
   "outputs": [
    {
     "name": "stdout",
     "output_type": "stream",
     "text": [
      "Hello, Python!\n"
     ]
    }
   ],
   "source": [
    "class MyClass:\n",
    "    def greet(self, name):\n",
    "        return f\"Hello, {name}!\"\n",
    "\n",
    "my_object = MyClass()\n",
    "print(my_object.greet(\"Python\"))  # Output: Hello, Python!"
   ]
  },
  {
   "cell_type": "markdown",
   "metadata": {},
   "source": [
    "**Example 4: Using Multiple Parameters in Methods**"
   ]
  },
  {
   "cell_type": "code",
   "execution_count": 19,
   "metadata": {},
   "outputs": [
    {
     "name": "stdout",
     "output_type": "stream",
     "text": [
      "Hello, John Doe!\n"
     ]
    }
   ],
   "source": [
    "class MyClass:\n",
    "    def greet(self, first_name, last_name):\n",
    "        return f\"Hello, {first_name} {last_name}!\"\n",
    "\n",
    "my_object = MyClass()\n",
    "print(my_object.greet(\"John\", \"Doe\"))  # Output: Hello, John Doe!"
   ]
  },
  {
   "cell_type": "markdown",
   "metadata": {},
   "source": [
    "**Example 5: Using the `self` Keyword in Methods**\n",
    "\n",
    "The `self` keyword is a reference to the current instance of the class and is used to access variables and methods of the class."
   ]
  },
  {
   "cell_type": "code",
   "execution_count": 20,
   "metadata": {},
   "outputs": [
    {
     "name": "stdout",
     "output_type": "stream",
     "text": [
      "Hello, Python!\n"
     ]
    }
   ],
   "source": [
    "class MyClass:\n",
    "    def __init__(self, name):\n",
    "        self.name = name\n",
    "\n",
    "    def greet(self):\n",
    "        return f\"Hello, {self.name}!\"\n",
    "\n",
    "my_object = MyClass(\"Python\")\n",
    "print(my_object.greet())  # Output: Hello, Python!"
   ]
  },
  {
   "cell_type": "markdown",
   "metadata": {},
   "source": [
    "## Section 3: Understanding the `__init__` Method\n",
    "\n",
    "### 3.1 - What is `__init__`?\n",
    "\n",
    "In Python, `__init__` is a special method which gets called when an object of a class is instantiated. This method is also known as a constructor and is used for setting up initial values of attributes.\n",
    "\n",
    "**Example 1: Defining a Class with an `__init__` Method**"
   ]
  },
  {
   "cell_type": "code",
   "execution_count": 21,
   "metadata": {},
   "outputs": [
    {
     "name": "stdout",
     "output_type": "stream",
     "text": [
      "This is an attribute.\n"
     ]
    }
   ],
   "source": [
    "class MyClass:\n",
    "    def __init__(self):\n",
    "        self.attribute = \"This is an attribute.\"\n",
    "\n",
    "my_object = MyClass()\n",
    "print(my_object.attribute)  # Output: This is an attribute."
   ]
  },
  {
   "cell_type": "markdown",
   "metadata": {},
   "source": [
    "**Example 2: Using Parameters in the `__init__` Method**"
   ]
  },
  {
   "cell_type": "code",
   "execution_count": 22,
   "metadata": {},
   "outputs": [
    {
     "name": "stdout",
     "output_type": "stream",
     "text": [
      "This is an attribute.\n"
     ]
    }
   ],
   "source": [
    "class MyClass:\n",
    "    def __init__(self, attribute):\n",
    "        self.attribute = attribute\n",
    "\n",
    "my_object = MyClass(\"This is an attribute.\")\n",
    "print(my_object.attribute)  # Output: This is an attribute."
   ]
  },
  {
   "cell_type": "markdown",
   "metadata": {},
   "source": [
    "**Example 3: Using Multiple Parameters in the `__init__` Method**"
   ]
  },
  {
   "cell_type": "code",
   "execution_count": 23,
   "metadata": {},
   "outputs": [
    {
     "name": "stdout",
     "output_type": "stream",
     "text": [
      "Python\n",
      "30\n"
     ]
    }
   ],
   "source": [
    "class MyClass:\n",
    "    def __init__(self, name, age):\n",
    "        self.name = name\n",
    "        self.age = age\n",
    "\n",
    "my_object = MyClass(\"Python\", 30)\n",
    "print(my_object.name)  # Output: Python\n",
    "print(my_object.age)  # Output: 30"
   ]
  },
  {
   "cell_type": "markdown",
   "metadata": {},
   "source": [
    "**Example 4: Modifying the Value of an Attribute in the `__init__` Method**"
   ]
  },
  {
   "cell_type": "code",
   "execution_count": 24,
   "metadata": {},
   "outputs": [
    {
     "name": "stdout",
     "output_type": "stream",
     "text": [
      "31\n"
     ]
    }
   ],
   "source": [
    "class MyClass:\n",
    "    def __init__(self, name, age):\n",
    "        self.name = name\n",
    "        self.age = age\n",
    "\n",
    "my_object = MyClass(\"Python\", 30)\n",
    "my_object.age = 31\n",
    "print(my_object.age)  # Output: 31"
   ]
  },
  {
   "cell_type": "markdown",
   "metadata": {},
   "source": [
    "**Example 5: Defining a Class with Private Attributes in the `__init__` Method**\n",
    "\n",
    "In Python, private attributes are created by prefixing the attribute name with double underscore `__`."
   ]
  },
  {
   "cell_type": "code",
   "execution_count": 25,
   "metadata": {},
   "outputs": [
    {
     "name": "stdout",
     "output_type": "stream",
     "text": [
      "{'_MyClass__name': 'Python', '_MyClass__age': 30}\n"
     ]
    }
   ],
   "source": [
    "class MyClass:\n",
    "    def __init__(self, name, age):\n",
    "        self.__name = name\n",
    "        self.__age = age\n",
    "\n",
    "my_object = MyClass(\"Python\", 30)\n",
    "print(my_object.__dict__)  # Output: {'_MyClass__name': 'Python', '_MyClass__age': 30}"
   ]
  },
  {
   "cell_type": "markdown",
   "metadata": {},
   "source": [
    "### 3.2 - Creating an Initializer\n",
    "\n",
    "An initializer in Python is a special method (`__init__`) which gets called when an object of a class is instantiated. This method is also known as a constructor and is used for setting up initial values of attributes.\n",
    "\n",
    "Here are some examples of creating an initializer in Python:\n",
    "\n",
    "**Example 1: Using Multiple Parameters in the Initializer**"
   ]
  },
  {
   "cell_type": "code",
   "execution_count": 26,
   "metadata": {},
   "outputs": [
    {
     "name": "stdout",
     "output_type": "stream",
     "text": [
      "Python\n",
      "30\n"
     ]
    }
   ],
   "source": [
    "class MyClass:\n",
    "    def __init__(self, name, age):\n",
    "        self.name = name\n",
    "        self.age = age\n",
    "\n",
    "my_object = MyClass(\"Python\", 30)\n",
    "print(my_object.name)  # Output: Python\n",
    "print(my_object.age)  # Output: 30"
   ]
  },
  {
   "cell_type": "markdown",
   "metadata": {},
   "source": [
    "**Example 2: Modifying the Value of an Attribute in the Initializer**"
   ]
  },
  {
   "cell_type": "code",
   "execution_count": 27,
   "metadata": {},
   "outputs": [
    {
     "name": "stdout",
     "output_type": "stream",
     "text": [
      "31\n"
     ]
    }
   ],
   "source": [
    "class MyClass:\n",
    "    def __init__(self, name, age):\n",
    "        self.name = name\n",
    "        self.age = age\n",
    "\n",
    "my_object = MyClass(\"Python\", 30)\n",
    "my_object.age = 31\n",
    "print(my_object.age)  # Output: 31"
   ]
  },
  {
   "cell_type": "markdown",
   "metadata": {},
   "source": [
    "**Example 3: Using the Initializer to Create a Class for Mathematical Operations**"
   ]
  },
  {
   "cell_type": "code",
   "execution_count": 28,
   "metadata": {},
   "outputs": [
    {
     "name": "stdout",
     "output_type": "stream",
     "text": [
      "15\n",
      "5\n",
      "50\n",
      "2.0\n"
     ]
    }
   ],
   "source": [
    "class MathOperations:\n",
    "    def __init__(self, a, b):\n",
    "        self.a = a\n",
    "        self.b = b\n",
    "\n",
    "    def add(self):\n",
    "        return self.a + self.b\n",
    "\n",
    "    def subtract(self):\n",
    "        return self.a - self.b\n",
    "\n",
    "    def multiply(self):\n",
    "        return self.a * self.b\n",
    "\n",
    "    def divide(self):\n",
    "        return self.a / self.b\n",
    "\n",
    "math_object = MathOperations(10, 5)\n",
    "print(math_object.add())  # Output: 15\n",
    "print(math_object.subtract())  # Output: 5\n",
    "print(math_object.multiply())  # Output: 50\n",
    "print(math_object.divide())  # Output: 2.0"
   ]
  },
  {
   "cell_type": "markdown",
   "metadata": {},
   "source": [
    "**Example 4: Using the Initializer to Create a Class for a Simple Bank Account**"
   ]
  },
  {
   "cell_type": "code",
   "execution_count": 29,
   "metadata": {},
   "outputs": [
    {
     "name": "stdout",
     "output_type": "stream",
     "text": [
      "150\n",
      "130\n",
      "Insufficient funds\n"
     ]
    }
   ],
   "source": [
    "class BankAccount:\n",
    "    def __init__(self, name, balance=0):\n",
    "        self.name = name\n",
    "        self.balance = balance\n",
    "\n",
    "    def deposit(self, amount):\n",
    "        self.balance += amount\n",
    "        return self.balance\n",
    "\n",
    "    def withdraw(self, amount):\n",
    "        if amount > self.balance:\n",
    "            return \"Insufficient funds\"\n",
    "        else:\n",
    "            self.balance -= amount\n",
    "            return self.balance\n",
    "\n",
    "account = BankAccount(\"John Doe\", 100)\n",
    "print(account.deposit(50))  # Output: 150\n",
    "print(account.withdraw(20))  # Output: 130\n",
    "print(account.withdraw(200))  # Output: Insufficient funds"
   ]
  },
  {
   "cell_type": "markdown",
   "metadata": {},
   "source": [
    "**Example 5: Using the Initializer to Create a Class for a Shopping Cart**"
   ]
  },
  {
   "cell_type": "code",
   "execution_count": 30,
   "metadata": {},
   "outputs": [
    {
     "name": "stdout",
     "output_type": "stream",
     "text": [
      "2.5\n"
     ]
    }
   ],
   "source": [
    "class ShoppingCart:\n",
    "    def __init__(self):\n",
    "        self.items = {}\n",
    "\n",
    "    def add_item(self, name, price, quantity):\n",
    "        if name in self.items:\n",
    "            self.items[name]['quantity'] += quantity\n",
    "        else:\n",
    "            self.items[name] = {'price': price, 'quantity': quantity}\n",
    "\n",
    "    def remove_item(self, name):\n",
    "        if name in self.items:\n",
    "            del self.items[name]\n",
    "\n",
    "    def total_price(self):\n",
    "        total = 0\n",
    "        for item in self.items.values():\n",
    "            total += item['price'] * item['quantity']\n",
    "        return total\n",
    "\n",
    "cart = ShoppingCart()\n",
    "cart.add_item(\"Apple\", 1.0, 3)\n",
    "cart.add_item(\"Banana\", 0.5, 5)\n",
    "cart.remove_item(\"Apple\")\n",
    "print(cart.total_price())  # Output: 2.5"
   ]
  },
  {
   "cell_type": "markdown",
   "metadata": {},
   "source": [
    "## Section 4: Using Objects (Instances of a Class)\n",
    "\n",
    "### 4.1 - Creating an Object\n",
    "\n",
    "Objects are instances of a class. When a class is defined, only the description for the object is defined. So, no memory or storage is allocated. Here are some examples of creating objects in Python:\n",
    "\n",
    "**Example 1: Creating an Object of a Class**"
   ]
  },
  {
   "cell_type": "code",
   "execution_count": 31,
   "metadata": {},
   "outputs": [
    {
     "name": "stdout",
     "output_type": "stream",
     "text": [
      "<__main__.MyClass object at 0x107702110>\n"
     ]
    }
   ],
   "source": [
    "class MyClass:\n",
    "    pass\n",
    "\n",
    "my_object = MyClass()\n",
    "print(my_object)  # Output: <__main__.MyClass object at 0x107702110>"
   ]
  },
  {
   "cell_type": "markdown",
   "metadata": {},
   "source": [
    "**Example 2: Creating Multiple Objects of a Class**"
   ]
  },
  {
   "cell_type": "code",
   "execution_count": 32,
   "metadata": {},
   "outputs": [
    {
     "name": "stdout",
     "output_type": "stream",
     "text": [
      "<__main__.MyClass object at 0x107703f70>\n",
      "<__main__.MyClass object at 0x107703d30>\n"
     ]
    }
   ],
   "source": [
    "class MyClass:\n",
    "    pass\n",
    "\n",
    "object1 = MyClass()\n",
    "object2 = MyClass()\n",
    "print(object1)  # Output: <__main__.MyClass object at 0x107703f70>\n",
    "print(object2)  # Output: <__main__.MyClass object at 0x107703d30>"
   ]
  },
  {
   "cell_type": "markdown",
   "metadata": {},
   "source": [
    "**Example 3: Creating an Object of a Class with an `__init__` Method**"
   ]
  },
  {
   "cell_type": "code",
   "execution_count": 33,
   "metadata": {},
   "outputs": [
    {
     "name": "stdout",
     "output_type": "stream",
     "text": [
      "Python\n"
     ]
    }
   ],
   "source": [
    "class MyClass:\n",
    "    def __init__(self, name):\n",
    "        self.name = name\n",
    "\n",
    "my_object = MyClass(\"Python\")\n",
    "print(my_object.name)  # Output: Python"
   ]
  },
  {
   "cell_type": "markdown",
   "metadata": {},
   "source": [
    "**Example 4: Creating Multiple Objects with Different Initial Attributes**"
   ]
  },
  {
   "cell_type": "code",
   "execution_count": 34,
   "metadata": {},
   "outputs": [
    {
     "name": "stdout",
     "output_type": "stream",
     "text": [
      "Python 30\n",
      "Java 25\n"
     ]
    }
   ],
   "source": [
    "class MyClass:\n",
    "    def __init__(self, name, age):\n",
    "        self.name = name\n",
    "        self.age = age\n",
    "\n",
    "object1 = MyClass(\"Python\", 30)\n",
    "object2 = MyClass(\"Java\", 25)\n",
    "print(object1.name, object1.age)  # Output: Python 30\n",
    "print(object2.name, object2.age)  # Output: Java 25"
   ]
  },
  {
   "cell_type": "markdown",
   "metadata": {},
   "source": [
    "**Example 5: Creating an Object and Modifying Its Attributes**"
   ]
  },
  {
   "cell_type": "code",
   "execution_count": 35,
   "metadata": {},
   "outputs": [
    {
     "name": "stdout",
     "output_type": "stream",
     "text": [
      "31\n"
     ]
    }
   ],
   "source": [
    "class MyClass:\n",
    "    def __init__(self, name, age):\n",
    "        self.name = name\n",
    "        self.age = age\n",
    "\n",
    "my_object = MyClass(\"Python\", 30)\n",
    "my_object.age = 31\n",
    "print(my_object.age)  # Output: 31"
   ]
  },
  {
   "cell_type": "markdown",
   "metadata": {},
   "source": [
    "### 4.2 - Accessing Object Attributes\n",
    "\n",
    "Accessing object attributes in Python is simple and straightforward. You can access the attributes of an object by using the dot (`.`) operator. Here are some examples of how to do this:\n",
    "\n",
    "**Example 1: Accessing a Single Attribute**"
   ]
  },
  {
   "cell_type": "code",
   "execution_count": 36,
   "metadata": {},
   "outputs": [
    {
     "name": "stdout",
     "output_type": "stream",
     "text": [
      "Python\n"
     ]
    }
   ],
   "source": [
    "class MyClass:\n",
    "    def __init__(self, name):\n",
    "        self.name = name\n",
    "\n",
    "my_object = MyClass(\"Python\")\n",
    "print(my_object.name)  # Output: Python"
   ]
  },
  {
   "cell_type": "markdown",
   "metadata": {},
   "source": [
    "**Example 2: Accessing Multiple Attributes**"
   ]
  },
  {
   "cell_type": "code",
   "execution_count": 37,
   "metadata": {},
   "outputs": [
    {
     "name": "stdout",
     "output_type": "stream",
     "text": [
      "Python\n",
      "30\n"
     ]
    }
   ],
   "source": [
    "class MyClass:\n",
    "    def __init__(self, name, age):\n",
    "        self.name = name\n",
    "        self.age = age\n",
    "\n",
    "my_object = MyClass(\"Python\", 30)\n",
    "print(my_object.name)  # Output: Python\n",
    "print(my_object.age)  # Output: 30"
   ]
  },
  {
   "cell_type": "markdown",
   "metadata": {},
   "source": [
    "**Example 3: Modifying an Object's Attribute**"
   ]
  },
  {
   "cell_type": "code",
   "execution_count": 38,
   "metadata": {},
   "outputs": [
    {
     "name": "stdout",
     "output_type": "stream",
     "text": [
      "30\n",
      "31\n"
     ]
    }
   ],
   "source": [
    "class MyClass:\n",
    "    def __init__(self, name, age):\n",
    "        self.name = name\n",
    "        self.age = age\n",
    "\n",
    "my_object = MyClass(\"Python\", 30)\n",
    "print(my_object.age)  # Output: 30\n",
    "\n",
    "my_object.age = 31\n",
    "print(my_object.age)  # Output: 31"
   ]
  },
  {
   "cell_type": "markdown",
   "metadata": {},
   "source": [
    "**Example 4: Accessing an Object's Method as an Attribute**\n",
    "\n",
    "In Python, methods are also considered as attributes of an object. You can access an object's method as an attribute, but without calling it (without parentheses). This will return a bound method, not the result of the method."
   ]
  },
  {
   "cell_type": "code",
   "execution_count": 39,
   "metadata": {},
   "outputs": [
    {
     "name": "stdout",
     "output_type": "stream",
     "text": [
      "<bound method MyClass.greet of <__main__.MyClass object at 0x107702a70>>\n"
     ]
    }
   ],
   "source": [
    "class MyClass:\n",
    "    def __init__(self, name):\n",
    "        self.name = name\n",
    "\n",
    "    def greet(self):\n",
    "        return f\"Hello, {self.name}!\"\n",
    "\n",
    "my_object = MyClass(\"Python\")\n",
    "print(my_object.greet)  # Output: <bound method MyClass.greet of <__main__.MyClass object at 0x107702a70>>"
   ]
  },
  {
   "cell_type": "markdown",
   "metadata": {},
   "source": [
    "**Example 5: Accessing a Class Attribute**\n",
    "\n",
    "Class attributes are attributes that belong to the class, and not to an instance of the class. All instances of the class share the same class attribute, which is why they are often used for constants that need to be available to all instances."
   ]
  },
  {
   "cell_type": "code",
   "execution_count": 40,
   "metadata": {},
   "outputs": [
    {
     "name": "stdout",
     "output_type": "stream",
     "text": [
      "This is a class attribute.\n",
      "This is a class attribute.\n"
     ]
    }
   ],
   "source": [
    "class MyClass:\n",
    "    class_attribute = \"This is a class attribute.\"\n",
    "\n",
    "    def __init__(self, name):\n",
    "        self.name = name\n",
    "\n",
    "my_object = MyClass(\"Python\")\n",
    "print(MyClass.class_attribute)  # Output: This is a class attribute.\n",
    "print(my_object.class_attribute)  # Output: This is a class attribute."
   ]
  },
  {
   "cell_type": "markdown",
   "metadata": {},
   "source": [
    "### 4.3 - Calling Object Methods\n",
    "\n",
    "Methods are functions that belong to an object. They perform specific actions and may return a result. You can call a method by using the dot (`.`) operator.\n",
    "\n",
    "Here are some examples of calling object methods in Python:\n",
    "\n",
    "**Example 1: Calling a Single Method**"
   ]
  },
  {
   "cell_type": "code",
   "execution_count": 41,
   "metadata": {},
   "outputs": [
    {
     "name": "stdout",
     "output_type": "stream",
     "text": [
      "Hello, World!\n"
     ]
    }
   ],
   "source": [
    "class MyClass:\n",
    "    def greet(self):\n",
    "        return \"Hello, World!\"\n",
    "\n",
    "my_object = MyClass()\n",
    "print(my_object.greet())  # Output: Hello, World!"
   ]
  },
  {
   "cell_type": "markdown",
   "metadata": {},
   "source": [
    "**Example 2: Calling Multiple Methods**"
   ]
  },
  {
   "cell_type": "code",
   "execution_count": 42,
   "metadata": {},
   "outputs": [
    {
     "name": "stdout",
     "output_type": "stream",
     "text": [
      "Hello, World!\n",
      "Goodbye, World!\n"
     ]
    }
   ],
   "source": [
    "class MyClass:\n",
    "    def greet(self):\n",
    "        return \"Hello, World!\"\n",
    "\n",
    "    def farewell(self):\n",
    "        return \"Goodbye, World!\"\n",
    "\n",
    "my_object = MyClass()\n",
    "print(my_object.greet())  # Output: Hello, World!\n",
    "print(my_object.farewell())  # Output: Goodbye, World!"
   ]
  },
  {
   "cell_type": "markdown",
   "metadata": {},
   "source": [
    "**Example 3: Using Parameters in Methods**"
   ]
  },
  {
   "cell_type": "code",
   "execution_count": 43,
   "metadata": {},
   "outputs": [
    {
     "name": "stdout",
     "output_type": "stream",
     "text": [
      "Hello, Python!\n"
     ]
    }
   ],
   "source": [
    "class MyClass:\n",
    "    def greet(self, name):\n",
    "        return f\"Hello, {name}!\"\n",
    "\n",
    "my_object = MyClass()\n",
    "print(my_object.greet(\"Python\"))  # Output: Hello, Python!"
   ]
  },
  {
   "cell_type": "markdown",
   "metadata": {},
   "source": [
    "**Example 4: Using Multiple Parameters in Methods**"
   ]
  },
  {
   "cell_type": "code",
   "execution_count": 44,
   "metadata": {},
   "outputs": [
    {
     "name": "stdout",
     "output_type": "stream",
     "text": [
      "Hello, John Doe!\n"
     ]
    }
   ],
   "source": [
    "class MyClass:\n",
    "    def greet(self, first_name, last_name):\n",
    "        return f\"Hello, {first_name} {last_name}!\"\n",
    "\n",
    "my_object = MyClass()\n",
    "print(my_object.greet(\"John\", \"Doe\"))  # Output: Hello, John Doe!"
   ]
  },
  {
   "cell_type": "markdown",
   "metadata": {},
   "source": [
    "**Example 5: Using the `self` Keyword in Methods**\n",
    "\n",
    "The `self` keyword is a reference to the current instance of the class and is used to access variables and methods of the class."
   ]
  },
  {
   "cell_type": "code",
   "execution_count": 45,
   "metadata": {},
   "outputs": [
    {
     "name": "stdout",
     "output_type": "stream",
     "text": [
      "Hello, Python!\n"
     ]
    }
   ],
   "source": [
    "class MyClass:\n",
    "    def __init__(self, name):\n",
    "        self.name = name\n",
    "\n",
    "    def greet(self):\n",
    "        return f\"Hello, {self.name}!\"\n",
    "\n",
    "my_object = MyClass(\"Python\")\n",
    "print(my_object.greet())  # Output: Hello, Python!"
   ]
  },
  {
   "cell_type": "markdown",
   "metadata": {},
   "source": [
    "## Section 5: Inheritance in Python Classes\n",
    "\n",
    "### 5.1 - Concept of Inheritance\n",
    "\n",
    "Inheritance is a fundamental concept in object-oriented programming. It allows a class (child class) to obtain the properties and methods of another class (parent class). This promotes the reuse of code and the creation of more complex objects without duplication.\n",
    "\n",
    "Here are some examples of inheritance in Python:\n",
    "\n",
    "**Example 1: Basic Inheritance**"
   ]
  },
  {
   "cell_type": "code",
   "execution_count": 46,
   "metadata": {},
   "outputs": [
    {
     "name": "stdout",
     "output_type": "stream",
     "text": [
      "This is a method of the parent class.\n"
     ]
    }
   ],
   "source": [
    "class Parent:\n",
    "    def method(self):\n",
    "        return \"This is a method of the parent class.\"\n",
    "\n",
    "class Child(Parent):\n",
    "    pass\n",
    "\n",
    "my_object = Child()\n",
    "print(my_object.method())  # Output: This is a method of the parent class."
   ]
  },
  {
   "cell_type": "markdown",
   "metadata": {},
   "source": [
    "**Example 2: Overriding Methods**"
   ]
  },
  {
   "cell_type": "code",
   "execution_count": 47,
   "metadata": {},
   "outputs": [
    {
     "name": "stdout",
     "output_type": "stream",
     "text": [
      "This method overrides the parent's method.\n"
     ]
    }
   ],
   "source": [
    "class Parent:\n",
    "    def method(self):\n",
    "        return \"This is a method of the parent class.\"\n",
    "\n",
    "class Child(Parent):\n",
    "    def method(self):\n",
    "        return \"This method overrides the parent's method.\"\n",
    "\n",
    "my_object = Child()\n",
    "print(my_object.method())  # Output: This method overrides the parent's method."
   ]
  },
  {
   "cell_type": "markdown",
   "metadata": {},
   "source": [
    "**Example 3: Using the `super()` Function**"
   ]
  },
  {
   "cell_type": "code",
   "execution_count": 48,
   "metadata": {},
   "outputs": [
    {
     "name": "stdout",
     "output_type": "stream",
     "text": [
      "Python\n",
      "30\n"
     ]
    }
   ],
   "source": [
    "class Parent:\n",
    "    def __init__(self, name):\n",
    "        self.name = name\n",
    "\n",
    "class Child(Parent):\n",
    "    def __init__(self, name, age):\n",
    "        super().__init__(name)\n",
    "        self.age = age\n",
    "\n",
    "my_object = Child(\"Python\", 30)\n",
    "print(my_object.name)  # Output: Python\n",
    "print(my_object.age)  # Output: 30"
   ]
  },
  {
   "cell_type": "markdown",
   "metadata": {},
   "source": [
    "**Example 4: Multiple Inheritance**"
   ]
  },
  {
   "cell_type": "code",
   "execution_count": 49,
   "metadata": {},
   "outputs": [
    {
     "name": "stdout",
     "output_type": "stream",
     "text": [
      "This is a method of Parent1.\n",
      "This is a method of Parent2.\n"
     ]
    }
   ],
   "source": [
    "class Parent1:\n",
    "    def method1(self):\n",
    "        return \"This is a method of Parent1.\"\n",
    "\n",
    "class Parent2:\n",
    "    def method2(self):\n",
    "        return \"This is a method of Parent2.\"\n",
    "\n",
    "class Child(Parent1, Parent2):\n",
    "    pass\n",
    "\n",
    "my_object = Child()\n",
    "print(my_object.method1())  # Output: This is a method of Parent1.\n",
    "print(my_object.method2())  # Output: This is a method of Parent2."
   ]
  },
  {
   "cell_type": "markdown",
   "metadata": {},
   "source": [
    "**Example 5: Multilevel Inheritance**"
   ]
  },
  {
   "cell_type": "code",
   "execution_count": 50,
   "metadata": {},
   "outputs": [
    {
     "name": "stdout",
     "output_type": "stream",
     "text": [
      "This is a method of the grandparent class.\n",
      "This is a method of the parent class.\n",
      "This is a method of the child class.\n"
     ]
    }
   ],
   "source": [
    "class Grandparent:\n",
    "    def method1(self):\n",
    "        return \"This is a method of the grandparent class.\"\n",
    "\n",
    "class Parent(Grandparent):\n",
    "    def method2(self):\n",
    "        return \"This is a method of the parent class.\"\n",
    "\n",
    "class Child(Parent):\n",
    "    def method3(self):\n",
    "        return \"This is a method of the child class.\"\n",
    "\n",
    "my_object = Child()\n",
    "print(my_object.method1())  # Output: This is a method of the grandparent class.\n",
    "print(my_object.method2())  # Output: This is a method of the parent class.\n",
    "print(my_object.method3())  # Output: This is a method of the child class."
   ]
  },
  {
   "cell_type": "markdown",
   "metadata": {},
   "source": [
    "### 5.2 - `super()`\n",
    "\n",
    "`super()` is a built-in function in Python that is used in the context of inheritance. It allows us to call methods in the parent class from its subclass.\n",
    "\n",
    "**Example 1: Basic `super()`**\n",
    "\n",
    "A basic use of `super()` is to avoid using the base class name explicitly when calling its methods."
   ]
  },
  {
   "cell_type": "code",
   "execution_count": 51,
   "metadata": {},
   "outputs": [
    {
     "name": "stdout",
     "output_type": "stream",
     "text": [
      "Hello from the parent class.\n"
     ]
    }
   ],
   "source": [
    "class Parent:\n",
    "    def greet(self):\n",
    "        return \"Hello from the parent class.\"\n",
    "\n",
    "class Child(Parent):\n",
    "    def greet(self):\n",
    "        return super().greet()\n",
    "\n",
    "my_object = Child()\n",
    "print(my_object.greet())  # Output: Hello from the parent class."
   ]
  },
  {
   "cell_type": "markdown",
   "metadata": {},
   "source": [
    "**Example 2:  `super()` with `__init__`**\n",
    "\n",
    "`super()` is commonly used with the `__init__` method to ensure that the child class includes the same attributes as its parent class."
   ]
  },
  {
   "cell_type": "code",
   "execution_count": 52,
   "metadata": {},
   "outputs": [
    {
     "name": "stdout",
     "output_type": "stream",
     "text": [
      "Python\n",
      "30\n"
     ]
    }
   ],
   "source": [
    "class Parent:\n",
    "    def __init__(self, name):\n",
    "        self.name = name\n",
    "\n",
    "class Child(Parent):\n",
    "    def __init__(self, name, age):\n",
    "        super().__init__(name)\n",
    "        self.age = age\n",
    "\n",
    "my_object = Child(\"Python\", 30)\n",
    "print(my_object.name)  # Output: Python\n",
    "print(my_object.age)  # Output: 30"
   ]
  },
  {
   "cell_type": "markdown",
   "metadata": {},
   "source": [
    "**Example 3:  `super()` with Multiple Inheritance**\n",
    "\n",
    "`super()` is crucial when working with multiple inheritance, as it helps to avoid any duplication in the constructor call."
   ]
  },
  {
   "cell_type": "code",
   "execution_count": 53,
   "metadata": {},
   "outputs": [
    {
     "name": "stdout",
     "output_type": "stream",
     "text": [
      "Hello from Parent1.\n"
     ]
    }
   ],
   "source": [
    "class Parent1:\n",
    "    def greet(self):\n",
    "        return \"Hello from Parent1.\"\n",
    "\n",
    "class Parent2:\n",
    "    def greet(self):\n",
    "        return \"Hello from Parent2.\"\n",
    "\n",
    "class Child(Parent1, Parent2):\n",
    "    def greet(self):\n",
    "        return super().greet()\n",
    "\n",
    "my_object = Child()\n",
    "print(my_object.greet())  # Output: Hello from Parent1."
   ]
  },
  {
   "cell_type": "markdown",
   "metadata": {},
   "source": [
    "**Example 4:  `super()` In Multilevel Inheritance**\n",
    "\n",
    "`super()` can be used in multilevel inheritance to ensure that the correct parent class method is called."
   ]
  },
  {
   "cell_type": "code",
   "execution_count": 54,
   "metadata": {},
   "outputs": [
    {
     "name": "stdout",
     "output_type": "stream",
     "text": [
      "Hello from the grandparent class.\n"
     ]
    }
   ],
   "source": [
    "class Grandparent:\n",
    "    def greet(self):\n",
    "        return \"Hello from the grandparent class.\"\n",
    "\n",
    "class Parent(Grandparent):\n",
    "    def greet(self):\n",
    "        return super().greet()\n",
    "\n",
    "class Child(Parent):\n",
    "    def greet(self):\n",
    "        return super().greet()\n",
    "\n",
    "my_object = Child()\n",
    "print(my_object.greet())  # Output: Hello from the grandparent class."
   ]
  },
  {
   "cell_type": "markdown",
   "metadata": {},
   "source": [
    "**Example 5:  `super()` with Different Method Names**\n",
    "\n",
    "The `super()` function isn't limited to methods with the same name. You can use it to call any method from the parent class."
   ]
  },
  {
   "cell_type": "code",
   "execution_count": 55,
   "metadata": {},
   "outputs": [
    {
     "name": "stdout",
     "output_type": "stream",
     "text": [
      "Hello from the parent class. and Goodbye from the parent class.\n"
     ]
    }
   ],
   "source": [
    "class Parent:\n",
    "    def greet(self):\n",
    "        return \"Hello from the parent class.\"\n",
    "\n",
    "    def farewell(self):\n",
    "        return \"Goodbye from the parent class.\"\n",
    "\n",
    "class Child(Parent):\n",
    "    def greet_and_farewell(self):\n",
    "        return super().greet() + \" and \" + super().farewell()\n",
    "\n",
    "my_object = Child()\n",
    "print(my_object.greet_and_farewell())  # Output: Hello from the parent class. and Goodbye from the parent class."
   ]
  },
  {
   "cell_type": "markdown",
   "metadata": {},
   "source": [
    "### 5.3 - Syntax and Example of Inheritance\n",
    "\n",
    "Inheritance in Python is performed by defining a new class, followed by the name of the class to inherit from in parentheses. The syntax for defining a child class inheriting from a parent class is as follows:\n",
    "\n",
    "```python\n",
    "class ParentClass:\n",
    "    # Parent class code\n",
    "\n",
    "class ChildClass(ParentClass):\n",
    "    # Child class code\n",
    "\n",
    "```\n",
    "\n",
    "Here are some examples of inheritance in Python:\n",
    "\n",
    "**Example 1: Basic Inheritance**\n",
    "\n",
    "In this example, the `ChildClass` inherits from the `ParentClass`."
   ]
  },
  {
   "cell_type": "code",
   "execution_count": 57,
   "metadata": {},
   "outputs": [
    {
     "name": "stdout",
     "output_type": "stream",
     "text": [
      "This is a method of the parent class.\n"
     ]
    }
   ],
   "source": [
    "class ParentClass:\n",
    "    def parent_method(self):\n",
    "        return \"This is a method of the parent class.\"\n",
    "\n",
    "class ChildClass(ParentClass):\n",
    "    pass\n",
    "\n",
    "child_object = ChildClass()\n",
    "print(child_object.parent_method())  # Output: This is a method of the parent class."
   ]
  },
  {
   "cell_type": "markdown",
   "metadata": {},
   "source": [
    "**Example 2: Method Overriding**\n",
    "\n",
    "Here, the child class overrides the method of the parent class."
   ]
  },
  {
   "cell_type": "code",
   "execution_count": 58,
   "metadata": {},
   "outputs": [
    {
     "name": "stdout",
     "output_type": "stream",
     "text": [
      "This method overrides the parent's method.\n"
     ]
    }
   ],
   "source": [
    "class ParentClass:\n",
    "    def method(self):\n",
    "        return \"This is a method of the parent class.\"\n",
    "\n",
    "class ChildClass(ParentClass):\n",
    "    def method(self):\n",
    "        return \"This method overrides the parent's method.\"\n",
    "\n",
    "child_object = ChildClass()\n",
    "print(child_object.method())  # Output: This method overrides the parent's method."
   ]
  },
  {
   "cell_type": "markdown",
   "metadata": {},
   "source": [
    "**Example 3: The `super()` Function**\n",
    "\n",
    "The `super()` function is used to call a method from the parent class."
   ]
  },
  {
   "cell_type": "code",
   "execution_count": 59,
   "metadata": {},
   "outputs": [
    {
     "name": "stdout",
     "output_type": "stream",
     "text": [
      "John\n",
      "20\n"
     ]
    }
   ],
   "source": [
    "class ParentClass:\n",
    "    def __init__(self, name):\n",
    "        self.name = name\n",
    "\n",
    "class ChildClass(ParentClass):\n",
    "    def __init__(self, name, age):\n",
    "        super().__init__(name)\n",
    "        self.age = age\n",
    "\n",
    "child_object = ChildClass(\"John\", 20)\n",
    "print(child_object.name)  # Output: John\n",
    "print(child_object.age)  # Output: 20"
   ]
  },
  {
   "cell_type": "markdown",
   "metadata": {},
   "source": [
    "**Example 4: Multiple Inheritance**\n",
    "\n",
    "Python supports multiple inheritance, where a class can inherit from more than one class."
   ]
  },
  {
   "cell_type": "code",
   "execution_count": 60,
   "metadata": {},
   "outputs": [
    {
     "name": "stdout",
     "output_type": "stream",
     "text": [
      "This is a method of ParentClass1.\n",
      "This is a method of ParentClass2.\n"
     ]
    }
   ],
   "source": [
    "class ParentClass1:\n",
    "    def method1(self):\n",
    "        return \"This is a method of ParentClass1.\"\n",
    "\n",
    "class ParentClass2:\n",
    "    def method2(self):\n",
    "        return \"This is a method of ParentClass2.\"\n",
    "\n",
    "class ChildClass(ParentClass1, ParentClass2):\n",
    "    pass\n",
    "\n",
    "child_object = ChildClass()\n",
    "print(child_object.method1())  # Output: This is a method of ParentClass1.\n",
    "print(child_object.method2())  # Output: This is a method of ParentClass2."
   ]
  },
  {
   "cell_type": "markdown",
   "metadata": {},
   "source": [
    "**Example 5: Multilevel Inheritance**\n",
    "\n",
    "In multilevel inheritance, a class can inherit from a child class or a derived class."
   ]
  },
  {
   "cell_type": "code",
   "execution_count": 61,
   "metadata": {},
   "outputs": [
    {
     "name": "stdout",
     "output_type": "stream",
     "text": [
      "This is a method of the grandparent class.\n",
      "This is a method of the parent class.\n",
      "This is a method of the child class.\n"
     ]
    }
   ],
   "source": [
    "class GrandparentClass:\n",
    "    def method1(self):\n",
    "        return \"This is a method of the grandparent class.\"\n",
    "\n",
    "class ParentClass(GrandparentClass):\n",
    "    def method2(self):\n",
    "        return \"This is a method of the parent class.\"\n",
    "\n",
    "class ChildClass(ParentClass):\n",
    "    def method3(self):\n",
    "        return \"This is a method of the child class.\"\n",
    "\n",
    "child_object = ChildClass()\n",
    "print(child_object.method1())  # Output: This is a method of the grandparent class.\n",
    "print(child_object.method2())  # Output: This is a method of the parent class.\n",
    "print(child_object.method3())  # Output: This is a method of the child class."
   ]
  },
  {
   "cell_type": "markdown",
   "metadata": {},
   "source": [
    "## Section 6: Polymorphism and Encapsulation in Python\n",
    "\n",
    "### 6.1 - Understanding Polymorphism\n",
    "\n",
    "Polymorphism is a fundamental concept in object-oriented programming. It allows us to use a single interface with different underlying forms. In Python, polymorphism allows functions to use objects of any of these polymorphic classes without needing to be aware of distinctions across the classes.\n",
    "\n",
    "Here are some examples of polymorphism in Python:\n",
    "\n",
    "**Example 1: Basic Polymorphism**"
   ]
  },
  {
   "cell_type": "code",
   "execution_count": 62,
   "metadata": {},
   "outputs": [
    {
     "name": "stdout",
     "output_type": "stream",
     "text": [
      "Meow\n",
      "Bark\n"
     ]
    }
   ],
   "source": [
    "class Cat:\n",
    "    def sound(self):\n",
    "        return \"Meow\"\n",
    "\n",
    "class Dog:\n",
    "    def sound(self):\n",
    "        return \"Bark\"\n",
    "\n",
    "def make_sound(animal):\n",
    "    print(animal.sound())\n",
    "\n",
    "cat = Cat()\n",
    "dog = Dog()\n",
    "\n",
    "make_sound(cat)  # Output: Meow\n",
    "make_sound(dog)  # Output: Bark"
   ]
  },
  {
   "cell_type": "markdown",
   "metadata": {},
   "source": [
    "In this example, the `make_sound` function is able to handle both `Cat` and `Dog` objects.\n",
    "\n",
    "**Example 2: Polymorphism in Inheritance**"
   ]
  },
  {
   "cell_type": "code",
   "execution_count": 63,
   "metadata": {},
   "outputs": [
    {
     "name": "stdout",
     "output_type": "stream",
     "text": [
      "There are many types of birds.\n",
      "Most of the birds can fly.\n",
      "There are many types of birds.\n",
      "Sparrows can fly.\n",
      "There are many types of birds.\n",
      "Ostriches cannot fly.\n"
     ]
    }
   ],
   "source": [
    "class Bird:\n",
    "    def intro(self):\n",
    "        return \"There are many types of birds.\"\n",
    "\n",
    "    def flight(self):\n",
    "        return \"Most of the birds can fly.\"\n",
    "\n",
    "class Sparrow(Bird):\n",
    "    def flight(self):\n",
    "        return \"Sparrows can fly.\"\n",
    "\n",
    "class Ostrich(Bird):\n",
    "    def flight(self):\n",
    "        return \"Ostriches cannot fly.\"\n",
    "\n",
    "bird = Bird()\n",
    "sparrow = Sparrow()\n",
    "ostrich = Ostrich()\n",
    "\n",
    "print(bird.intro())\n",
    "print(bird.flight())\n",
    "print(sparrow.intro())\n",
    "print(sparrow.flight())\n",
    "print(ostrich.intro())\n",
    "print(ostrich.flight())"
   ]
  },
  {
   "cell_type": "markdown",
   "metadata": {},
   "source": [
    "**Example 3: Polymorphism with a Function**"
   ]
  },
  {
   "cell_type": "code",
   "execution_count": 64,
   "metadata": {},
   "outputs": [
    {
     "name": "stdout",
     "output_type": "stream",
     "text": [
      "New Delhi is the capital of India.\n",
      "Washington, D.C. is the capital of USA.\n"
     ]
    }
   ],
   "source": [
    "class India:\n",
    "    def capital(self):\n",
    "        return \"New Delhi is the capital of India.\"\n",
    "\n",
    "class USA:\n",
    "    def capital(self):\n",
    "        return \"Washington, D.C. is the capital of USA.\"\n",
    "\n",
    "def describe_country(country):\n",
    "    print(country.capital())\n",
    "\n",
    "india = India()\n",
    "usa = USA()\n",
    "\n",
    "describe_country(india)\n",
    "describe_country(usa)"
   ]
  },
  {
   "cell_type": "markdown",
   "metadata": {},
   "source": [
    "**Example 4: Polymorphism with Class Methods**"
   ]
  },
  {
   "cell_type": "code",
   "execution_count": 65,
   "metadata": {},
   "outputs": [
    {
     "name": "stdout",
     "output_type": "stream",
     "text": [
      "Meow\n",
      "Bark\n"
     ]
    }
   ],
   "source": [
    "class Cat:\n",
    "    def sound(self):\n",
    "        return \"Meow\"\n",
    "\n",
    "class Dog:\n",
    "    def sound(self):\n",
    "        return \"Bark\"\n",
    "\n",
    "def make_sound(animal):\n",
    "    print(animal.sound())\n",
    "\n",
    "animals = [Cat(), Dog()]\n",
    "\n",
    "for animal in animals:\n",
    "    make_sound(animal)"
   ]
  },
  {
   "cell_type": "markdown",
   "metadata": {},
   "source": [
    "In this example, using a for loop, we have been able to call the `sound` method on each of the animal objects without worrying about the class to which they belong.\n",
    "\n",
    "**Example 5: Polymorphism with Inheritance and Multiple Object Types**"
   ]
  },
  {
   "cell_type": "code",
   "execution_count": 66,
   "metadata": {},
   "outputs": [
    {
     "name": "stdout",
     "output_type": "stream",
     "text": [
      "Document1: Show pdf contents!\n",
      "Document2: Show pdf contents!\n",
      "Document3: Show word contents!\n"
     ]
    }
   ],
   "source": [
    "class Document:\n",
    "    def __init__(self, name):\n",
    "        self.name = name\n",
    "\n",
    "    def show(self):\n",
    "        raise NotImplementedError(\"Subclass must implement abstract method\")\n",
    "\n",
    "class Pdf(Document):\n",
    "    def show(self):\n",
    "        return 'Show pdf contents!'\n",
    "\n",
    "class Word(Document):\n",
    "    def show(self):\n",
    "        return 'Show word contents!'\n",
    "\n",
    "documents = [Pdf('Document1'),\n",
    "             Pdf('Document2'),\n",
    "             Word('Document3')]\n",
    "\n",
    "for document in documents:\n",
    "    print(document.name + ': ' + document.show())"
   ]
  },
  {
   "cell_type": "markdown",
   "metadata": {},
   "source": [
    "In this example, we have used polymorphism to iterate through a list of `Document` objects, allowing us to call the `show` method on each, without worrying about which subclass the object instance belongs to.\n",
    "\n",
    "### 6.2 - Understanding Encapsulation\n",
    "\n",
    "Encapsulation is an important principle of object-oriented programming. It describes the bundling of data with the methods that operate on these data. It allows us to hide the values or state of a structured data object inside a class, preventing unauthorized parties' direct access to them.\n",
    "\n",
    "Here are some examples of encapsulation in Python:\n",
    "\n",
    "**Example 1: Basic Encapsulation**"
   ]
  },
  {
   "cell_type": "code",
   "execution_count": 67,
   "metadata": {},
   "outputs": [
    {
     "name": "stdout",
     "output_type": "stream",
     "text": [
      "Selling Price: 900\n",
      "Selling Price: 900\n",
      "Selling Price: 1000\n"
     ]
    }
   ],
   "source": [
    "class Computer:\n",
    "\n",
    "    def __init__(self):\n",
    "        self.__maxprice = 900\n",
    "\n",
    "    def sell(self):\n",
    "        return \"Selling Price: {}\".format(self.__maxprice)\n",
    "\n",
    "    def setMaxPrice(self, price):\n",
    "        self.__maxprice = price\n",
    "\n",
    "c = Computer()\n",
    "print(c.sell())\n",
    "\n",
    "c.__maxprice = 1000\n",
    "print(c.sell())\n",
    "\n",
    "c.setMaxPrice(1000)\n",
    "print(c.sell())"
   ]
  },
  {
   "cell_type": "markdown",
   "metadata": {},
   "source": [
    "In the example above, we defined a `Computer` class and used the `__init__` method to store the maximum selling price of `Computer`. We tried to modify the price. However, the private variable didn't change.\n",
    "\n",
    "**Example 2: Using Getters and Setters**"
   ]
  },
  {
   "cell_type": "code",
   "execution_count": 68,
   "metadata": {},
   "outputs": [
    {
     "name": "stdout",
     "output_type": "stream",
     "text": [
      "900\n",
      "1000\n"
     ]
    }
   ],
   "source": [
    "class Computer:\n",
    "\n",
    "    def __init__(self):\n",
    "        self.__maxprice = 900\n",
    "\n",
    "    def getMaxPrice(self):\n",
    "        return self.__maxprice\n",
    "\n",
    "    def setMaxPrice(self, price):\n",
    "        self.__maxprice = price\n",
    "\n",
    "c = Computer()\n",
    "print(c.getMaxPrice())\n",
    "\n",
    "c.setMaxPrice(1000)\n",
    "print(c.getMaxPrice())"
   ]
  },
  {
   "cell_type": "markdown",
   "metadata": {},
   "source": [
    "In the example above, we used a method (`getMaxPrice`) to get the value of `__maxprice` and another method (`setMaxPrice`) to set the value of `__maxprice`.\n",
    "\n",
    "**Example 3: Protecting Data Integrity with Encapsulation**"
   ]
  },
  {
   "cell_type": "code",
   "execution_count": 69,
   "metadata": {},
   "outputs": [],
   "source": [
    "class BankAccount:\n",
    "\n",
    "    def __init__(self, account_number, balance=0):\n",
    "        self.__account_number = account_number\n",
    "        self.__balance = balance\n",
    "\n",
    "    def deposit(self, amount):\n",
    "        if amount > 0:\n",
    "            self.__balance += amount\n",
    "        else:\n",
    "            print(\"You must deposit an amount greater than zero.\")\n",
    "\n",
    "    def withdraw(self, amount):\n",
    "        if amount > self.__balance:\n",
    "            print(\"You have insufficient funds.\")\n",
    "        else:\n",
    "            self.__balance -= amount\n",
    "\n",
    "    def get_balance(self):\n",
    "        return self.__balance"
   ]
  },
  {
   "cell_type": "markdown",
   "metadata": {},
   "source": [
    "The example above shows a `BankAccount` class that uses encapsulation to ensure the integrity of the data (the account balance). It only allows positive amounts to be deposited, and it prevents withdrawals that exceed the available balance.\n",
    "\n",
    "**Example 4: Encapsulation in a Class with Multiple Attributes**"
   ]
  },
  {
   "cell_type": "code",
   "execution_count": 70,
   "metadata": {},
   "outputs": [],
   "source": [
    "class Car:\n",
    "\n",
    "    def __init__(self, make, model, year, mileage, price):\n",
    "        self.__make = make\n",
    "        self.__model = model\n",
    "        self.__year = year\n",
    "        self.__mileage = mileage\n",
    "        self.__price = price\n",
    "\n",
    "    def get_make(self):\n",
    "        return self.__make\n",
    "\n",
    "    def get_model(self):\n",
    "        return self.__model\n",
    "\n",
    "    def get_year(self):\n",
    "        return self.__year\n",
    "\n",
    "    def get_mileage(self):\n",
    "        return self.__mileage\n",
    "\n",
    "    def get_price(self):\n",
    "        return self.__price\n",
    "\n",
    "    def set_price(self, price):\n",
    "        self.__price = price"
   ]
  },
  {
   "cell_type": "markdown",
   "metadata": {},
   "source": [
    "In this example, the `Car` class has several attributes that are all encapsulated. This allows us to control how these values are accessed and modified.\n",
    "\n",
    "**Example 5: Encapsulation with Inheritance**"
   ]
  },
  {
   "cell_type": "code",
   "execution_count": 71,
   "metadata": {},
   "outputs": [],
   "source": [
    "class Vehicle:\n",
    "\n",
    "    def __init__(self, make, model, year):\n",
    "        self.__make = make\n",
    "        self.__model = model\n",
    "        self.__year = year\n",
    "\n",
    "    def get_make(self):\n",
    "        return self.__make\n",
    "\n",
    "    def get_model(self):\n",
    "        return self.__model\n",
    "\n",
    "    def get_year(self):\n",
    "        return self.__year\n",
    "\n",
    "class Car(Vehicle):\n",
    "\n",
    "    def __init__(self, make, model, year, mileage, price):\n",
    "        super().__init__(make, model, year)\n",
    "        self.__mileage = mileage\n",
    "        self.__price = price\n",
    "\n",
    "    def get_mileage(self):\n",
    "        return self.__mileage\n",
    "\n",
    "    def get_price(self):\n",
    "        return self.__price\n",
    "\n",
    "    def set_price(self, price):\n",
    "        self.__price = price"
   ]
  },
  {
   "cell_type": "markdown",
   "metadata": {},
   "source": [
    "In this example, the `Car` class inherits from the `Vehicle` class. Both classes use encapsulation for their attributes. This provides control over how the attributes in both the child and parent classes are accessed and modified.\n",
    "\n",
    "## Section 7: Best Practices for Using Classes in Python\n",
    "\n",
    "When using classes in Python, there are several best practices to follow to ensure that your code is clean, efficient, and easy to understand.\n",
    "\n",
    "### 7.1 Use CamelCase for class names\n",
    "\n",
    "Python's PEP 8 style guide recommends that class names should use the CamelCase convention. This means that the first letter of each word in the class name should be capitalized, with no underscores between words.\n",
    "\n",
    "**Example 1: Naming a class**"
   ]
  },
  {
   "cell_type": "code",
   "execution_count": 72,
   "metadata": {},
   "outputs": [],
   "source": [
    "class MyClass:\n",
    "    pass"
   ]
  },
  {
   "cell_type": "markdown",
   "metadata": {},
   "source": [
    "### 7.2 Use descriptive names for classes and methods\n",
    "\n",
    "The names of your classes and methods should be descriptive and indicate their purpose or functionality. This makes your code easier to understand and maintain.\n",
    "\n",
    "**Example 2: Descriptive names**"
   ]
  },
  {
   "cell_type": "code",
   "execution_count": 73,
   "metadata": {},
   "outputs": [],
   "source": [
    "class Employee:\n",
    "    def calculate_salary(self):\n",
    "        pass"
   ]
  },
  {
   "cell_type": "markdown",
   "metadata": {},
   "source": [
    "### 7.3 Use instance attributes for data unique to each instance\n",
    "\n",
    "Instance attributes should be used for data that is unique to each instance of a class. They are defined in the `__init__` method.\n",
    "\n",
    "**Example 3: Using instance attributes**"
   ]
  },
  {
   "cell_type": "code",
   "execution_count": 74,
   "metadata": {},
   "outputs": [],
   "source": [
    "class Employee:\n",
    "    def __init__(self, name, salary):\n",
    "        self.name = name\n",
    "        self.salary = salary"
   ]
  },
  {
   "cell_type": "markdown",
   "metadata": {},
   "source": [
    "### 7.4 Use class attributes for data shared by all instances\n",
    "\n",
    "Class attributes are attributes that belong to the class, not to any instance of the class. They are shared by all instances of the class. Use them for data that should be the same for every instance.\n",
    "\n",
    "**Example 4: Using class attributes**"
   ]
  },
  {
   "cell_type": "code",
   "execution_count": 75,
   "metadata": {},
   "outputs": [],
   "source": [
    "class Employee:\n",
    "    company_name = \"My Company\"\n",
    "\n",
    "    def __init__(self, name, salary):\n",
    "        self.name = name\n",
    "        self.salary = salary"
   ]
  },
  {
   "cell_type": "markdown",
   "metadata": {},
   "source": [
    "### 7.5 Use properties instead of getter and setter methods\n",
    "\n",
    "While Python does allow for explicit getter and setter methods, it is more Pythonic to use properties. Properties allow you to \"get\" and \"set\" values like you would with instance attributes, but behind the scenes, they're methods.\n",
    "\n",
    "**Example 5: Using properties**"
   ]
  },
  {
   "cell_type": "code",
   "execution_count": 76,
   "metadata": {},
   "outputs": [],
   "source": [
    "class Employee:\n",
    "    def __init__(self, name, salary):\n",
    "        self._salary = salary\n",
    "        self.name = name\n",
    "\n",
    "    @property\n",
    "    def salary(self):\n",
    "        return self._salary\n",
    "\n",
    "    @salary.setter\n",
    "    def salary(self, value):\n",
    "        if value < 0:\n",
    "            raise ValueError(\"Salary cannot be negative.\")\n",
    "        self._salary = value"
   ]
  },
  {
   "cell_type": "markdown",
   "metadata": {},
   "source": [
    "In the above example, you can get and set the salary just like it's a regular attribute, but if you try to set the salary to a negative number, it raises an error.\n",
    "\n",
    "## Challenge\n",
    "\n",
    "Create a `Polygon` class that has the following properties:\n",
    "\n",
    "- A constructor that takes an array of integer values describing the lengths of the polygon's sides.\n",
    "- A `perimeter()` method that returns the polygon's perimeter.\n",
    "\n",
    "### Output Format\n",
    "\n",
    "- The `perimeter` method must return the polygon's perimeter using the side length array passed to the constructor.\n",
    "\n",
    "### Explanation\n",
    "\n",
    "Consider the following code:\n",
    "\n",
    "```python\n",
    "# Create a polygon with side lengths 3, 4, and 5\n",
    "triangle = Polygon([3, 4, 5]);\n",
    "\n",
    "# Print the perimeter\n",
    "print(triangle.perimeter());\n",
    "\n",
    "```\n",
    "\n",
    "When executed with a properly implemented Polygon class, this code should print the result of 3 + 4 + 5 = 12."
   ]
  },
  {
   "cell_type": "code",
   "execution_count": null,
   "metadata": {},
   "outputs": [],
   "source": [
    "### WRITE YOUR CODE BELOW THIS LINE ###\n",
    "\n",
    "\n",
    "### WRITE YOUR CODE ABOVE THIS LINE ###"
   ]
  }
 ],
 "metadata": {
  "kernelspec": {
   "display_name": "aia",
   "language": "python",
   "name": "python3"
  },
  "language_info": {
   "codemirror_mode": {
    "name": "ipython",
    "version": 3
   },
   "file_extension": ".py",
   "mimetype": "text/x-python",
   "name": "python",
   "nbconvert_exporter": "python",
   "pygments_lexer": "ipython3",
   "version": "3.10.13"
  }
 },
 "nbformat": 4,
 "nbformat_minor": 2
}
