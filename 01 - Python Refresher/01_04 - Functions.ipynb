{
 "cells": [
  {
   "cell_type": "markdown",
   "metadata": {},
   "source": [
    "# 01.04 - Functions"
   ]
  },
  {
   "cell_type": "markdown",
   "metadata": {},
   "source": [
    "## Introduction to Functions\n",
    "\n",
    "In this Jupyter Notebook, we will be exploring the concept of functions in Python programming. Functions are reusable pieces of code that perform a specific task. They help in making our code more organised, efficient, and easier to understand. The topics we will cover include:\n",
    "\n",
    "1. **Creating Functions** - We'll start by learning how to define and call a function.\n",
    "2. **Function Parameters** - We'll look at how to pass information to functions through positional arguments, keyword arguments, and default parameters.\n",
    "3. **Return Statement** - We'll explore the use of the return statement, including how to return multiple values from a function.\n",
    "4. **Scope of Variables** - We'll understand the difference between global and local variables, and their impact on our code.\n",
    "5. **Lambda Functions** - Finally, we'll introduce lambda functions, a special kind of function in Python that is defined using a single line of code.\n",
    "\n",
    "By understanding these concepts, you will be able to write cleaner, more efficient, and more readable code in Python.\n",
    "\n",
    "## Section 1: Creating Functions\n",
    "\n",
    "### 1.1 - Defining a function\n",
    "\n",
    "In Python, we define a function using the `def` keyword followed by the function name and parentheses `()`. The code block within every function is indented.\n",
    "\n",
    "Here are some examples of defining functions in Python:\n",
    "\n",
    "**Example 1: Defining a Function**"
   ]
  },
  {
   "cell_type": "code",
   "execution_count": 1,
   "metadata": {},
   "outputs": [],
   "source": [
    "def greet():\n",
    "    print(\"Hello, World!\")"
   ]
  },
  {
   "cell_type": "markdown",
   "metadata": {},
   "source": [
    "In this example, we've defined a function named `greet` that prints \"Hello, World!\" when called.\n",
    "\n",
    "**Example 2: Defining a Function with a Single Parameter**"
   ]
  },
  {
   "cell_type": "code",
   "execution_count": 2,
   "metadata": {},
   "outputs": [],
   "source": [
    "def greet(name):\n",
    "    print(\"Hello, \" + name + \"!\")"
   ]
  },
  {
   "cell_type": "markdown",
   "metadata": {},
   "source": [
    "In this example, the `greet` function takes one parameter, `name`, and prints a personalized greeting.\n",
    "\n",
    "**Example 3: Defining a Function with Multiple Parameters**"
   ]
  },
  {
   "cell_type": "code",
   "execution_count": 3,
   "metadata": {},
   "outputs": [],
   "source": [
    "def greet(first_name, last_name):\n",
    "    print(\"Hello, \" + first_name + \" \" + last_name + \"!\")"
   ]
  },
  {
   "cell_type": "markdown",
   "metadata": {},
   "source": [
    "In this example, the `greet` function takes two parameters, `first_name` and `last_name`, and prints a personalized greeting.\n",
    "\n",
    "**Example 4: Defining a Function with a Default Parameter**"
   ]
  },
  {
   "cell_type": "code",
   "execution_count": 4,
   "metadata": {},
   "outputs": [],
   "source": [
    "def greet(name=\"World\"):\n",
    "    print(\"Hello, \" + name + \"!\")"
   ]
  },
  {
   "cell_type": "markdown",
   "metadata": {},
   "source": [
    "In this example, the `greet` function takes one parameter, `name`, with a default value of \"World\". If no argument is passed when calling the function, it will use the default value.\n",
    "\n",
    "**Example 5: Defining a Function that Returns a Value**"
   ]
  },
  {
   "cell_type": "code",
   "execution_count": 5,
   "metadata": {},
   "outputs": [],
   "source": [
    "def add(a, b):\n",
    "    return a + b"
   ]
  },
  {
   "cell_type": "markdown",
   "metadata": {},
   "source": [
    "In this example, the `add` function takes two parameters, `a` and `b`, adds them together, and returns the result.\n",
    "\n",
    "### 1.2 - Calling a function\n",
    "\n",
    "In Python, we call a function by using the function name followed by parentheses `()`. If the function takes parameters, we pass the arguments inside the parentheses.\n",
    "\n",
    "Here are some examples of calling functions in Python:\n",
    "\n",
    "**Example 1: Calling a Function without Parameters**"
   ]
  },
  {
   "cell_type": "code",
   "execution_count": 6,
   "metadata": {},
   "outputs": [
    {
     "name": "stdout",
     "output_type": "stream",
     "text": [
      "Hello, World!\n"
     ]
    }
   ],
   "source": [
    "def greet():\n",
    "    print(\"Hello, World!\")\n",
    "\n",
    "greet()  # Output: Hello, World!"
   ]
  },
  {
   "cell_type": "markdown",
   "metadata": {},
   "source": [
    "In this example, we call the `greet` function, which does not take any parameters.\n",
    "\n",
    "**Example 2: Calling a Function with a Single Parameter**"
   ]
  },
  {
   "cell_type": "code",
   "execution_count": 7,
   "metadata": {},
   "outputs": [
    {
     "name": "stdout",
     "output_type": "stream",
     "text": [
      "Hello, Alice!\n"
     ]
    }
   ],
   "source": [
    "def greet(name):\n",
    "    print(\"Hello, \" + name + \"!\")\n",
    "\n",
    "greet(\"Alice\")  # Output: Hello, Alice!"
   ]
  },
  {
   "cell_type": "markdown",
   "metadata": {},
   "source": [
    "In this example, we call the `greet` function with one argument, \"Alice\".\n",
    "\n",
    "**Example 3: Calling a Function with Multiple Parameters**"
   ]
  },
  {
   "cell_type": "code",
   "execution_count": 8,
   "metadata": {},
   "outputs": [
    {
     "name": "stdout",
     "output_type": "stream",
     "text": [
      "Hello, Alice Smith!\n"
     ]
    }
   ],
   "source": [
    "def greet(first_name, last_name):\n",
    "    print(\"Hello, \" + first_name + \" \" + last_name + \"!\")\n",
    "\n",
    "greet(\"Alice\", \"Smith\")  # Output: Hello, Alice Smith!"
   ]
  },
  {
   "cell_type": "markdown",
   "metadata": {},
   "source": [
    "In this example, we call the `greet` function with two arguments, \"Alice\" and \"Smith\".\n",
    "\n",
    "**Example 4: Calling a Function with a Default Parameter**"
   ]
  },
  {
   "cell_type": "code",
   "execution_count": 9,
   "metadata": {},
   "outputs": [
    {
     "name": "stdout",
     "output_type": "stream",
     "text": [
      "Hello, World!\n",
      "Hello, Alice!\n"
     ]
    }
   ],
   "source": [
    "def greet(name=\"World\"):\n",
    "    print(\"Hello, \" + name + \"!\")\n",
    "\n",
    "greet()  # Output: Hello, World!\n",
    "greet(\"Alice\")  # Output: Hello, Alice!"
   ]
  },
  {
   "cell_type": "markdown",
   "metadata": {},
   "source": [
    "In this example, we call the `greet` function with no arguments and with one argument. When no argument is passed, the function uses the default value.\n",
    "\n",
    "**Example 5: Calling a Function that Returns a Value**"
   ]
  },
  {
   "cell_type": "code",
   "execution_count": 10,
   "metadata": {},
   "outputs": [
    {
     "name": "stdout",
     "output_type": "stream",
     "text": [
      "3\n"
     ]
    }
   ],
   "source": [
    "def add(a, b):\n",
    "    return a + b\n",
    "\n",
    "result = add(1, 2)\n",
    "print(result)  # Output: 3"
   ]
  },
  {
   "cell_type": "markdown",
   "metadata": {},
   "source": [
    "In this example, we call the `add` function with two arguments, 1 and 2, and store the result it returns in a variable. We then print the value of this variable.\n",
    "\n",
    "## Section 2: Function Parameters\n",
    "\n",
    "### 2.1 - Positional Arguments\n",
    "\n",
    "Positional arguments are the most common type of function parameters. The arguments passed to the function in the function call match the parameters in the function definition by their position.\n",
    "\n",
    "Here are some examples of using positional arguments in Python:\n",
    "\n",
    "**Example 1: Function with One Positional Argument**"
   ]
  },
  {
   "cell_type": "code",
   "execution_count": 11,
   "metadata": {},
   "outputs": [
    {
     "name": "stdout",
     "output_type": "stream",
     "text": [
      "Hello, Alice!\n"
     ]
    }
   ],
   "source": [
    "def greet(name):\n",
    "    print(\"Hello, \" + name + \"!\")\n",
    "\n",
    "greet(\"Alice\")  # Output: Hello, Alice!"
   ]
  },
  {
   "cell_type": "markdown",
   "metadata": {},
   "source": [
    "**Example 2: Function with Two Positional Arguments**"
   ]
  },
  {
   "cell_type": "code",
   "execution_count": 12,
   "metadata": {},
   "outputs": [
    {
     "name": "stdout",
     "output_type": "stream",
     "text": [
      "3\n"
     ]
    }
   ],
   "source": [
    "def add(a, b):\n",
    "    print(a + b)\n",
    "\n",
    "add(1, 2)  # Output: 3"
   ]
  },
  {
   "cell_type": "markdown",
   "metadata": {},
   "source": [
    "**Example 3: Function with Three Positional Arguments**"
   ]
  },
  {
   "cell_type": "code",
   "execution_count": 13,
   "metadata": {},
   "outputs": [
    {
     "name": "stdout",
     "output_type": "stream",
     "text": [
      "Name: Alice\n",
      "Age: 25\n",
      "City: New York\n"
     ]
    }
   ],
   "source": [
    "def print_info(name, age, city):\n",
    "    print(\"Name: \" + name)\n",
    "    print(\"Age: \" + str(age))\n",
    "    print(\"City: \" + city)\n",
    "\n",
    "print_info(\"Alice\", 25, \"New York\")"
   ]
  },
  {
   "cell_type": "markdown",
   "metadata": {},
   "source": [
    "**Example 4: Order Matters for Positional Arguments**\n",
    "\n",
    "Remember that the order of the arguments matters in positional arguments. The values you pass in the function call will be assigned to the corresponding parameters in the function definition based on their position."
   ]
  },
  {
   "cell_type": "code",
   "execution_count": 14,
   "metadata": {},
   "outputs": [
    {
     "name": "stdout",
     "output_type": "stream",
     "text": [
      "2\n",
      "-2\n"
     ]
    }
   ],
   "source": [
    "def subtract(a, b):\n",
    "    print(a - b)\n",
    "\n",
    "subtract(5, 3)  # Output: 2\n",
    "subtract(3, 5)  # Output: -2"
   ]
  },
  {
   "cell_type": "markdown",
   "metadata": {},
   "source": [
    "**Example 5: Mixing Positional Arguments with Default Parameters**"
   ]
  },
  {
   "cell_type": "code",
   "execution_count": 15,
   "metadata": {},
   "outputs": [
    {
     "name": "stdout",
     "output_type": "stream",
     "text": [
      "27\n",
      "9\n"
     ]
    }
   ],
   "source": [
    "def power(base, exponent=2):\n",
    "    print(base ** exponent)\n",
    "\n",
    "power(3, 3)  # Output: 27\n",
    "power(3)  # Output: 9"
   ]
  },
  {
   "cell_type": "markdown",
   "metadata": {},
   "source": [
    "In the last example, the function `power` takes two parameters, `base` and `exponent`. The `exponent` parameter has a default value of 2. This means that if no second argument is passed when calling the function, it will use the default value.\n",
    "\n",
    "### 2.2 - Keyword Arguments\n",
    "\n",
    "Keyword arguments are similar to positional arguments, but rather than being passed by position, they're passed to a function by keyword. This provides the advantage of not having to worry about argument order. Furthermore, this method is often preferred as it enhances clarity and readability of the code, aligning with the Zen of Python's emphasis on code readability.\n",
    "\n",
    "Here are some examples of using keyword arguments in Python:\n",
    "\n",
    "**Example 1: Function with One Keyword Argument**"
   ]
  },
  {
   "cell_type": "code",
   "execution_count": 16,
   "metadata": {},
   "outputs": [
    {
     "name": "stdout",
     "output_type": "stream",
     "text": [
      "Hello, Alice!\n"
     ]
    }
   ],
   "source": [
    "def greet(name):\n",
    "    print(\"Hello, \" + name + \"!\")\n",
    "\n",
    "greet(name=\"Alice\")  # Output: Hello, Alice!"
   ]
  },
  {
   "cell_type": "markdown",
   "metadata": {},
   "source": [
    "**Example 2: Function with Two Keyword Arguments**"
   ]
  },
  {
   "cell_type": "code",
   "execution_count": 17,
   "metadata": {},
   "outputs": [
    {
     "name": "stdout",
     "output_type": "stream",
     "text": [
      "3\n",
      "3\n"
     ]
    }
   ],
   "source": [
    "def add(a, b):\n",
    "    print(a + b)\n",
    "\n",
    "add(a=1, b=2)  # Output: 3\n",
    "add(b=2, a=1)  # Output: 3"
   ]
  },
  {
   "cell_type": "markdown",
   "metadata": {},
   "source": [
    "**Example 3: Function with Multiple Keyword Arguments**"
   ]
  },
  {
   "cell_type": "code",
   "execution_count": 18,
   "metadata": {},
   "outputs": [
    {
     "name": "stdout",
     "output_type": "stream",
     "text": [
      "Name: Alice\n",
      "Age: 25\n",
      "City: New York\n",
      "Name: Alice\n",
      "Age: 25\n",
      "City: New York\n"
     ]
    }
   ],
   "source": [
    "def print_info(name, age, city):\n",
    "    print(\"Name: \" + name)\n",
    "    print(\"Age: \" + str(age))\n",
    "    print(\"City: \" + city)\n",
    "\n",
    "print_info(name=\"Alice\", age=25, city=\"New York\")\n",
    "print_info(age=25, name=\"Alice\", city=\"New York\")"
   ]
  },
  {
   "cell_type": "markdown",
   "metadata": {},
   "source": [
    "**Example 4: Mixing Positional and Keyword Arguments**"
   ]
  },
  {
   "cell_type": "code",
   "execution_count": 19,
   "metadata": {},
   "outputs": [
    {
     "name": "stdout",
     "output_type": "stream",
     "text": [
      "Hello, Alice Smith!\n"
     ]
    }
   ],
   "source": [
    "def greet(first_name, last_name):\n",
    "    print(\"Hello, \" + first_name + \" \" + last_name + \"!\")\n",
    "\n",
    "greet(\"Alice\", last_name=\"Smith\")  # Output: Hello, Alice Smith!"
   ]
  },
  {
   "cell_type": "markdown",
   "metadata": {},
   "source": [
    "**Example 5: Keyword Arguments with Default Parameters**"
   ]
  },
  {
   "cell_type": "code",
   "execution_count": 21,
   "metadata": {},
   "outputs": [
    {
     "name": "stdout",
     "output_type": "stream",
     "text": [
      "8\n",
      "27\n"
     ]
    }
   ],
   "source": [
    "def power(exponent, base=2):\n",
    "    print(base ** exponent)\n",
    "\n",
    "power(exponent=3)  # Output: 8\n",
    "power(base=3, exponent=3)  # Output: 27"
   ]
  },
  {
   "cell_type": "markdown",
   "metadata": {},
   "source": [
    "**Note:** When mixing positional arguments and keyword arguments in a function call, positional arguments must be placed before keyword arguments.\n",
    "\n",
    "### 2.3 - Default Parameters\n",
    "\n",
    "Default parameters allow us to set a default value for a function parameter. This means that if an argument for that parameter is not provided when the function is called, Python will use the default value.\n",
    "\n",
    "Here are some examples of defining functions with default parameters in Python:\n",
    "\n",
    "**Example 1: Function with One Default Parameter**"
   ]
  },
  {
   "cell_type": "code",
   "execution_count": 22,
   "metadata": {},
   "outputs": [
    {
     "name": "stdout",
     "output_type": "stream",
     "text": [
      "Hello, World!\n",
      "Hello, Alice!\n"
     ]
    }
   ],
   "source": [
    "def greet(name=\"World\"):\n",
    "    print(\"Hello, \" + name + \"!\")\n",
    "\n",
    "greet()  # Output: Hello, World!\n",
    "greet(\"Alice\")  # Output: Hello, Alice!"
   ]
  },
  {
   "cell_type": "markdown",
   "metadata": {},
   "source": [
    "In this example, the `greet` function takes one parameter, `name`, with a default value of \"World\". If no argument is passed when calling the function, it will use the default value.\n",
    "\n",
    "**Example 2: Function with Multiple Default Parameters**"
   ]
  },
  {
   "cell_type": "code",
   "execution_count": 23,
   "metadata": {},
   "outputs": [
    {
     "name": "stdout",
     "output_type": "stream",
     "text": [
      "4\n",
      "9\n",
      "27\n"
     ]
    }
   ],
   "source": [
    "def power(base=2, exponent=2):\n",
    "    print(base ** exponent)\n",
    "\n",
    "power()  # Output: 4\n",
    "power(3)  # Output: 9\n",
    "power(3, 3)  # Output: 27"
   ]
  },
  {
   "cell_type": "markdown",
   "metadata": {},
   "source": [
    "In this example, the `power` function takes two parameters, `base` and `exponent`, both with a default value of 2.\n",
    "\n",
    "**Example 3: Mixing Positional Arguments and Default Parameters**"
   ]
  },
  {
   "cell_type": "code",
   "execution_count": 24,
   "metadata": {},
   "outputs": [
    {
     "name": "stdout",
     "output_type": "stream",
     "text": [
      "Hi, World!\n",
      "Hi, Alice!\n"
     ]
    }
   ],
   "source": [
    "def greet(greeting, name=\"World\"):\n",
    "    print(greeting + \", \" + name + \"!\")\n",
    "\n",
    "greet(\"Hi\")  # Output: Hi, World!\n",
    "greet(\"Hi\", \"Alice\")  # Output: Hi, Alice!"
   ]
  },
  {
   "cell_type": "markdown",
   "metadata": {},
   "source": [
    "In this example, the `greet` function takes two parameters, `greeting` and `name`, where `name` has a default value.\n",
    "\n",
    "**Example 4: Mixing Keyword Arguments and Default Parameters**"
   ]
  },
  {
   "cell_type": "code",
   "execution_count": 26,
   "metadata": {},
   "outputs": [
    {
     "name": "stdout",
     "output_type": "stream",
     "text": [
      "Hello, Alice!\n",
      "Hi, Alice!\n"
     ]
    }
   ],
   "source": [
    "def greet(name, greeting=\"Hello\"):\n",
    "    print(greeting + \", \" + name + \"!\")\n",
    "\n",
    "greet(name=\"Alice\")  # Output: Hello, Alice!\n",
    "greet(greeting=\"Hi\", name=\"Alice\")  # Output: Hi, Alice!"
   ]
  },
  {
   "cell_type": "markdown",
   "metadata": {},
   "source": [
    "In this example, the `greet` function takes two parameters, `greeting` and `name`, where `greeting` has a default value.\n",
    "\n",
    "**Example 5: Default Parameters in a Function that Returns a Value**"
   ]
  },
  {
   "cell_type": "code",
   "execution_count": 27,
   "metadata": {},
   "outputs": [
    {
     "name": "stdout",
     "output_type": "stream",
     "text": [
      "4\n",
      "9\n",
      "27\n"
     ]
    }
   ],
   "source": [
    "def power(base=2, exponent=2):\n",
    "    return base ** exponent\n",
    "\n",
    "result = power()\n",
    "print(result)  # Output: 4\n",
    "\n",
    "result = power(3)\n",
    "print(result)  # Output: 9\n",
    "\n",
    "result = power(3, 3)\n",
    "print(result)  # Output: 27"
   ]
  },
  {
   "cell_type": "markdown",
   "metadata": {},
   "source": [
    "In this example, the `power` function takes two parameters, `base` and `exponent`, both with a default value. The function returns the result of raising `base` to the power of `exponent`.\n",
    "\n",
    "## Section 3: Return Statement\n",
    "\n",
    "### 3.1 - Use of return statement\n",
    "\n",
    "The `return` statement is used to end the execution of a function and to send a result back to where the function was called.\n",
    "\n",
    "Here are some examples of using the `return` statement in Python functions:\n",
    "\n",
    "**Example 1: Function without a Return Statement**"
   ]
  },
  {
   "cell_type": "code",
   "execution_count": 28,
   "metadata": {},
   "outputs": [
    {
     "name": "stdout",
     "output_type": "stream",
     "text": [
      "Hello, World!\n",
      "Hello, World!\n",
      "None\n"
     ]
    }
   ],
   "source": [
    "def greet():\n",
    "    print(\"Hello, World!\")\n",
    "\n",
    "greet()  # Output: Hello, World!\n",
    "result = greet()\n",
    "print(result)  # Output: None"
   ]
  },
  {
   "cell_type": "markdown",
   "metadata": {},
   "source": [
    "In this example, the `greet` function does not have a `return` statement. When a function does not have a `return` statement, Python automatically returns `None`.\n",
    "\n",
    "**Example 2: Function with a Return Statement**"
   ]
  },
  {
   "cell_type": "code",
   "execution_count": 29,
   "metadata": {},
   "outputs": [
    {
     "name": "stdout",
     "output_type": "stream",
     "text": [
      "3\n"
     ]
    }
   ],
   "source": [
    "def add(a, b):\n",
    "    return a + b\n",
    "\n",
    "result = add(1, 2)\n",
    "print(result)  # Output: 3"
   ]
  },
  {
   "cell_type": "markdown",
   "metadata": {},
   "source": [
    "In this example, the `add` function uses the `return` statement to return the sum of `a` and `b`.\n",
    "\n",
    "**Example 3: Multiple Return Statements in a Function**"
   ]
  },
  {
   "cell_type": "code",
   "execution_count": 30,
   "metadata": {},
   "outputs": [
    {
     "name": "stdout",
     "output_type": "stream",
     "text": [
      "Zero\n",
      "Positive\n",
      "Negative\n"
     ]
    }
   ],
   "source": [
    "def check_number(n):\n",
    "    if n == 0:\n",
    "        return \"Zero\"\n",
    "    elif n > 0:\n",
    "        return \"Positive\"\n",
    "    else:\n",
    "        return \"Negative\"\n",
    "\n",
    "print(check_number(0))  # Output: Zero\n",
    "print(check_number(1))  # Output: Positive\n",
    "print(check_number(-1))  # Output: Negative"
   ]
  },
  {
   "cell_type": "markdown",
   "metadata": {},
   "source": [
    "In this example, the `check_number` function uses multiple `return` statements. The function returns as soon as it hits a `return` statement, and any remaining lines of code in the function are not executed.\n",
    "\n",
    "**Example 4: Returning a Boolean Value**"
   ]
  },
  {
   "cell_type": "code",
   "execution_count": 31,
   "metadata": {},
   "outputs": [
    {
     "name": "stdout",
     "output_type": "stream",
     "text": [
      "True\n",
      "False\n"
     ]
    }
   ],
   "source": [
    "def is_even(n):\n",
    "    return n % 2 == 0\n",
    "\n",
    "print(is_even(0))  # Output: True\n",
    "print(is_even(1))  # Output: False"
   ]
  },
  {
   "cell_type": "markdown",
   "metadata": {},
   "source": [
    "In this example, the `is_even` function uses the `return` statement to return a boolean value indicating whether or not a number is even.\n",
    "\n",
    "**Example 5: Returning None**"
   ]
  },
  {
   "cell_type": "code",
   "execution_count": 32,
   "metadata": {},
   "outputs": [
    {
     "name": "stdout",
     "output_type": "stream",
     "text": [
      "Hello, Alice!\n"
     ]
    }
   ],
   "source": [
    "def print_info(name=None):\n",
    "    if name is not None:\n",
    "        print(\"Hello, \" + name + \"!\")\n",
    "    else:\n",
    "        return\n",
    "\n",
    "print_info()  # No output\n",
    "print_info(\"Alice\")  # Output: Hello, Alice!"
   ]
  },
  {
   "cell_type": "markdown",
   "metadata": {},
   "source": [
    "In this example, the `print_info` function uses the `return` statement to exit the function without providing any output if no argument is passed.\n",
    "\n",
    "### 3.2 - Returning multiple values\n",
    "\n",
    "In Python, a function can return multiple values in the form of a tuple, a list, a dictionary, or an object of a custom class.\n",
    "\n",
    "Here are some examples of returning multiple values from a Python function:\n",
    "\n",
    "**Example 1: Returning Multiple Values as a Tuple**"
   ]
  },
  {
   "cell_type": "code",
   "execution_count": 33,
   "metadata": {},
   "outputs": [
    {
     "name": "stdout",
     "output_type": "stream",
     "text": [
      "(7, 3, 10, 2.5)\n"
     ]
    }
   ],
   "source": [
    "def calculate(a, b):\n",
    "    return a + b, a - b, a * b, a / b\n",
    "\n",
    "result = calculate(5, 2)\n",
    "print(result)  # Output: (7, 3, 10, 2.5)"
   ]
  },
  {
   "cell_type": "markdown",
   "metadata": {},
   "source": [
    "In this example, the `calculate` function returns multiple values as a tuple.\n",
    "\n",
    "**Example 2: Unpacking Returned Values**"
   ]
  },
  {
   "cell_type": "code",
   "execution_count": 34,
   "metadata": {},
   "outputs": [
    {
     "name": "stdout",
     "output_type": "stream",
     "text": [
      "7\n",
      "3\n",
      "10\n",
      "2.5\n"
     ]
    }
   ],
   "source": [
    "def calculate(a, b):\n",
    "    return a + b, a - b, a * b, a / b\n",
    "\n",
    "add, subtract, multiply, divide = calculate(5, 2)\n",
    "print(add)  # Output: 7\n",
    "print(subtract)  # Output: 3\n",
    "print(multiply)  # Output: 10\n",
    "print(divide)  # Output: 2.5"
   ]
  },
  {
   "cell_type": "markdown",
   "metadata": {},
   "source": [
    "In this example, we unpack the returned values into separate variables.\n",
    "\n",
    "**Example 3: Returning Multiple Values as a List**"
   ]
  },
  {
   "cell_type": "code",
   "execution_count": 35,
   "metadata": {},
   "outputs": [
    {
     "name": "stdout",
     "output_type": "stream",
     "text": [
      "[7, 3, 10, 2.5]\n"
     ]
    }
   ],
   "source": [
    "def calculate(a, b):\n",
    "    return [a + b, a - b, a * b, a / b]\n",
    "\n",
    "result = calculate(5, 2)\n",
    "print(result)  # Output: [7, 3, 10, 2.5]"
   ]
  },
  {
   "cell_type": "markdown",
   "metadata": {},
   "source": [
    "In this example, the `calculate` function returns multiple values as a list.\n",
    "\n",
    "**Example 4: Returning Multiple Values as a Dictionary**"
   ]
  },
  {
   "cell_type": "code",
   "execution_count": 36,
   "metadata": {},
   "outputs": [
    {
     "name": "stdout",
     "output_type": "stream",
     "text": [
      "{'add': 7, 'subtract': 3, 'multiply': 10, 'divide': 2.5}\n"
     ]
    }
   ],
   "source": [
    "def calculate(a, b):\n",
    "    return {\"add\": a + b, \"subtract\": a - b, \"multiply\": a * b, \"divide\": a / b}\n",
    "\n",
    "result = calculate(5, 2)\n",
    "print(result)  # Output: {'add': 7, 'subtract': 3, 'multiply': 10, 'divide': 2.5}"
   ]
  },
  {
   "cell_type": "markdown",
   "metadata": {},
   "source": [
    "In this example, the `calculate` function returns multiple values as a dictionary.\n",
    "\n",
    "**Example 5: Returning Multiple Values as an Object**"
   ]
  },
  {
   "cell_type": "code",
   "execution_count": 37,
   "metadata": {},
   "outputs": [
    {
     "name": "stdout",
     "output_type": "stream",
     "text": [
      "7\n",
      "3\n",
      "10\n",
      "2.5\n"
     ]
    }
   ],
   "source": [
    "class CalculationResult:\n",
    "    def __init__(self, add, subtract, multiply, divide):\n",
    "        self.add = add\n",
    "        self.subtract = subtract\n",
    "        self.multiply = multiply\n",
    "        self.divide = divide\n",
    "\n",
    "def calculate(a, b):\n",
    "    return CalculationResult(a + b, a - b, a * b, a / b)\n",
    "\n",
    "result = calculate(5, 2)\n",
    "print(result.add)  # Output: 7\n",
    "print(result.subtract)  # Output: 3\n",
    "print(result.multiply)  # Output: 10\n",
    "print(result.divide)  # Output: 2.5"
   ]
  },
  {
   "cell_type": "markdown",
   "metadata": {},
   "source": [
    "In this example, the `calculate` function returns multiple values as an object of a custom class.\n",
    "\n",
    "## Section 4: Scope of Variables\n",
    "\n",
    "### 4.1 - Global Variables\n",
    "\n",
    "Global variables are variables that are created or declared outside of a function. They can be used by everyone, both inside of functions and outside.\n",
    "\n",
    "Here are some examples of using global variables in Python:\n",
    "\n",
    "**Example 1: Defining a Global Variable**"
   ]
  },
  {
   "cell_type": "code",
   "execution_count": 38,
   "metadata": {},
   "outputs": [
    {
     "name": "stdout",
     "output_type": "stream",
     "text": [
      "x inside: global\n",
      "x outside: global\n"
     ]
    }
   ],
   "source": [
    "x = \"global\"\n",
    "\n",
    "def foo():\n",
    "    print(\"x inside:\", x)\n",
    "\n",
    "foo()\n",
    "print(\"x outside:\", x)\n",
    "\n",
    "# Output:\n",
    "# x inside: global\n",
    "# x outside: global"
   ]
  },
  {
   "cell_type": "markdown",
   "metadata": {},
   "source": [
    "In this example, since `x` is a global variable, it's accessible inside the function `foo` as well as outside.\n",
    "\n",
    "**Example 2: Modifying a Global Variable Inside a Function**"
   ]
  },
  {
   "cell_type": "code",
   "execution_count": 39,
   "metadata": {},
   "outputs": [
    {
     "name": "stdout",
     "output_type": "stream",
     "text": [
      "globalglobal\n"
     ]
    }
   ],
   "source": [
    "x = \"global\"\n",
    "\n",
    "def foo():\n",
    "    global x\n",
    "    x = x * 2\n",
    "    print(x)\n",
    "\n",
    "foo()\n",
    "\n",
    "# Output:\n",
    "# globalglobal"
   ]
  },
  {
   "cell_type": "markdown",
   "metadata": {},
   "source": [
    "In this example, we use the `global` keyword to indicate that `x` is a global variable. This allows us to modify the value of `x` inside the function.\n",
    "\n",
    "**Example 3: Using a Local Variable with the Same Name as a Global Variable**"
   ]
  },
  {
   "cell_type": "code",
   "execution_count": 40,
   "metadata": {},
   "outputs": [
    {
     "ename": "UnboundLocalError",
     "evalue": "local variable 'x' referenced before assignment",
     "output_type": "error",
     "traceback": [
      "\u001b[0;31m---------------------------------------------------------------------------\u001b[0m",
      "\u001b[0;31mUnboundLocalError\u001b[0m                         Traceback (most recent call last)",
      "Cell \u001b[0;32mIn[40], line 7\u001b[0m\n\u001b[1;32m      4\u001b[0m     x \u001b[38;5;241m=\u001b[39m x \u001b[38;5;241m*\u001b[39m \u001b[38;5;241m2\u001b[39m\n\u001b[1;32m      5\u001b[0m     \u001b[38;5;28mprint\u001b[39m(x)\n\u001b[0;32m----> 7\u001b[0m \u001b[43mfoo\u001b[49m\u001b[43m(\u001b[49m\u001b[43m)\u001b[49m\n\u001b[1;32m      8\u001b[0m \u001b[38;5;28mprint\u001b[39m(x)\n\u001b[1;32m     10\u001b[0m \u001b[38;5;66;03m# Output:\u001b[39;00m\n\u001b[1;32m     11\u001b[0m \u001b[38;5;66;03m# UnboundLocalError: local variable 'x' referenced before assignment\u001b[39;00m\n",
      "Cell \u001b[0;32mIn[40], line 4\u001b[0m, in \u001b[0;36mfoo\u001b[0;34m()\u001b[0m\n\u001b[1;32m      3\u001b[0m \u001b[38;5;28;01mdef\u001b[39;00m \u001b[38;5;21mfoo\u001b[39m():\n\u001b[0;32m----> 4\u001b[0m     x \u001b[38;5;241m=\u001b[39m \u001b[43mx\u001b[49m \u001b[38;5;241m*\u001b[39m \u001b[38;5;241m2\u001b[39m\n\u001b[1;32m      5\u001b[0m     \u001b[38;5;28mprint\u001b[39m(x)\n",
      "\u001b[0;31mUnboundLocalError\u001b[0m: local variable 'x' referenced before assignment"
     ]
    }
   ],
   "source": [
    "x = \"global\"\n",
    "\n",
    "def foo():\n",
    "    x = x * 2\n",
    "    print(x)\n",
    "\n",
    "foo()\n",
    "print(x)\n",
    "\n",
    "# Output:\n",
    "# UnboundLocalError: local variable 'x' referenced before assignment"
   ]
  },
  {
   "cell_type": "markdown",
   "metadata": {},
   "source": [
    "In this example, we get an error because Python thinks `x` is a local variable, as it's assigned a new value inside the function. However, `x` is not defined locally in the function, hence the error.\n",
    "\n",
    "**Example 4: How to Correct the Previous Example**"
   ]
  },
  {
   "cell_type": "code",
   "execution_count": 41,
   "metadata": {},
   "outputs": [
    {
     "name": "stdout",
     "output_type": "stream",
     "text": [
      "globalglobal\n",
      "globalglobal\n"
     ]
    }
   ],
   "source": [
    "x = \"global\"\n",
    "\n",
    "def foo():\n",
    "    global x\n",
    "    x = x * 2\n",
    "    print(x)\n",
    "\n",
    "foo()\n",
    "print(x)\n",
    "\n",
    "# Output:\n",
    "# globalglobal\n",
    "# globalglobal"
   ]
  },
  {
   "cell_type": "markdown",
   "metadata": {},
   "source": [
    "In this example, by using the `global` keyword, we can modify the global variable `x` inside the function.\n",
    "\n",
    "**Example 5: Global Variable and Local Variable with the Same Name**"
   ]
  },
  {
   "cell_type": "code",
   "execution_count": 42,
   "metadata": {},
   "outputs": [
    {
     "name": "stdout",
     "output_type": "stream",
     "text": [
      "local\n",
      "global\n"
     ]
    }
   ],
   "source": [
    "x = \"global\"\n",
    "\n",
    "def foo():\n",
    "    x = \"local\"\n",
    "    print(x)\n",
    "\n",
    "foo()\n",
    "print(x)\n",
    "\n",
    "# Output:\n",
    "# local\n",
    "# global"
   ]
  },
  {
   "cell_type": "markdown",
   "metadata": {},
   "source": [
    "In this example, we have both a global variable and a local variable with the same name, `x`. Inside the function, the local variable takes precedence.\n",
    "\n",
    "### 4.2 - Local Variables\n",
    "\n",
    "Local variables are variables that are created or declared inside a function, and they can only be used inside that function.\n",
    "\n",
    "Here are some examples of using local variables in Python:\n",
    "\n",
    "**Example 1: Defining a Local Variable**"
   ]
  },
  {
   "cell_type": "code",
   "execution_count": 43,
   "metadata": {},
   "outputs": [
    {
     "ename": "NameError",
     "evalue": "name 'y' is not defined",
     "output_type": "error",
     "traceback": [
      "\u001b[0;31m---------------------------------------------------------------------------\u001b[0m",
      "\u001b[0;31mNameError\u001b[0m                                 Traceback (most recent call last)",
      "Cell \u001b[0;32mIn[43], line 5\u001b[0m\n\u001b[1;32m      2\u001b[0m     y \u001b[38;5;241m=\u001b[39m \u001b[38;5;124m\"\u001b[39m\u001b[38;5;124mlocal\u001b[39m\u001b[38;5;124m\"\u001b[39m\n\u001b[1;32m      4\u001b[0m foo()\n\u001b[0;32m----> 5\u001b[0m \u001b[38;5;28mprint\u001b[39m(\u001b[43my\u001b[49m)\n\u001b[1;32m      7\u001b[0m \u001b[38;5;66;03m# Output:\u001b[39;00m\n\u001b[1;32m      8\u001b[0m \u001b[38;5;66;03m# NameError: name 'y' is not defined\u001b[39;00m\n",
      "\u001b[0;31mNameError\u001b[0m: name 'y' is not defined"
     ]
    }
   ],
   "source": [
    "def foo():\n",
    "    y = \"local\"\n",
    "\n",
    "foo()\n",
    "print(y)\n",
    "\n",
    "# Output:\n",
    "# NameError: name 'y' is not defined"
   ]
  },
  {
   "cell_type": "markdown",
   "metadata": {},
   "source": [
    "In this example, `y` is a local variable, so it's not defined outside of the function.\n",
    "\n",
    "**Example 2: Accessing a Local Variable Outside Its Function**"
   ]
  },
  {
   "cell_type": "code",
   "execution_count": 44,
   "metadata": {},
   "outputs": [
    {
     "name": "stdout",
     "output_type": "stream",
     "text": [
      "local\n"
     ]
    }
   ],
   "source": [
    "def foo():\n",
    "    y = \"local\"\n",
    "    print(y)\n",
    "\n",
    "foo()\n",
    "\n",
    "# Output:\n",
    "# local"
   ]
  },
  {
   "cell_type": "markdown",
   "metadata": {},
   "source": [
    "In this example, `y` is a local variable of the function `foo()`. It's accessible and can be printed as long as we're doing it inside the function where it's defined.\n",
    "\n",
    "**Example 3: Two Local Variables with the Same Name**"
   ]
  },
  {
   "cell_type": "code",
   "execution_count": 45,
   "metadata": {},
   "outputs": [
    {
     "name": "stdout",
     "output_type": "stream",
     "text": [
      "local bar\n"
     ]
    }
   ],
   "source": [
    "def foo():\n",
    "    y = \"local foo\"\n",
    "\n",
    "def bar():\n",
    "    y = \"local bar\"\n",
    "    print(y)\n",
    "\n",
    "foo()\n",
    "bar()\n",
    "\n",
    "# Output:\n",
    "# local bar"
   ]
  },
  {
   "cell_type": "markdown",
   "metadata": {},
   "source": [
    "In this example, `y` is a local variable for both functions, `foo()` and `bar()`. They're only accessible in their respective functions, and don't interfere with each other.\n",
    "\n",
    "**Example 4: Accessing a Local Variable in a Nested Function**"
   ]
  },
  {
   "cell_type": "code",
   "execution_count": 46,
   "metadata": {},
   "outputs": [
    {
     "name": "stdout",
     "output_type": "stream",
     "text": [
      "inner: nonlocal\n",
      "outer: nonlocal\n"
     ]
    }
   ],
   "source": [
    "def outer():\n",
    "    x = \"local\"\n",
    "\n",
    "    def inner():\n",
    "        nonlocal x\n",
    "        x = \"nonlocal\"\n",
    "        print(\"inner:\", x)\n",
    "\n",
    "    inner()\n",
    "    print(\"outer:\", x)\n",
    "\n",
    "outer()\n",
    "\n",
    "# Output:\n",
    "# inner: nonlocal\n",
    "# outer: nonlocal"
   ]
  },
  {
   "cell_type": "markdown",
   "metadata": {},
   "source": [
    "In this example, `x` is a local variable of the outer function, and it's accessible in the inner function due to the `nonlocal` keyword.\n",
    "\n",
    "**Example 5: Local Variable in a Loop**"
   ]
  },
  {
   "cell_type": "code",
   "execution_count": 47,
   "metadata": {},
   "outputs": [
    {
     "name": "stdout",
     "output_type": "stream",
     "text": [
      "local to for loop\n"
     ]
    }
   ],
   "source": [
    "for i in range(5):\n",
    "    x = \"local to for loop\"\n",
    "\n",
    "print(x)\n",
    "\n",
    "# Output:\n",
    "# local to for loop"
   ]
  },
  {
   "cell_type": "markdown",
   "metadata": {},
   "source": [
    "In this example, `x` is local to the for loop, but it can still be accessed outside of the loop because the loop doesn't define a new scope.\n",
    "\n",
    "## Section 5: Lambda Functions\n",
    "\n",
    "Lambda functions in Python are small, anonymous functions that are defined with the `lambda` keyword, instead of the `def` keyword. They are used when a small, one-line function is needed.\n",
    "\n",
    "### 5.1 - Syntax of Lambda Functions\n",
    "\n",
    "The syntax to create a lambda function is: `lambda arguments: expression`. Lambda functions can have any number of arguments but only one expression. The expression is evaluated and returned.\n",
    "\n",
    "Here are some examples of using lambda functions in Python:\n",
    "\n",
    "**Example 1: Basic Lambda Function**"
   ]
  },
  {
   "cell_type": "code",
   "execution_count": 48,
   "metadata": {},
   "outputs": [
    {
     "name": "stdout",
     "output_type": "stream",
     "text": [
      "25\n"
     ]
    }
   ],
   "source": [
    "square = lambda x: x ** 2\n",
    "print(square(5))  # Output: 25"
   ]
  },
  {
   "cell_type": "markdown",
   "metadata": {},
   "source": [
    "In this example, we have a lambda function that takes one argument, `x`, and returns `x` squared.\n",
    "\n",
    "**Example 2: Lambda Function with Two Arguments**"
   ]
  },
  {
   "cell_type": "code",
   "execution_count": 49,
   "metadata": {},
   "outputs": [
    {
     "name": "stdout",
     "output_type": "stream",
     "text": [
      "5\n"
     ]
    }
   ],
   "source": [
    "add = lambda x, y: x + y\n",
    "print(add(2, 3))  # Output: 5"
   ]
  },
  {
   "cell_type": "markdown",
   "metadata": {},
   "source": [
    "In this example, the lambda function takes two arguments, `x` and `y`, and returns their sum.\n",
    "\n",
    "**Example 3: Lambda Function with Conditional Expression**"
   ]
  },
  {
   "cell_type": "code",
   "execution_count": 50,
   "metadata": {},
   "outputs": [
    {
     "name": "stdout",
     "output_type": "stream",
     "text": [
      "3\n"
     ]
    }
   ],
   "source": [
    "maximum = lambda x, y: x if x > y else y\n",
    "print(maximum(2, 3))  # Output: 3"
   ]
  },
  {
   "cell_type": "markdown",
   "metadata": {},
   "source": [
    "In this example, the lambda function uses a conditional expression to return the larger of the two numbers.\n",
    "\n",
    "**Example 4: Lambda Function Inside Another Function**"
   ]
  },
  {
   "cell_type": "code",
   "execution_count": 51,
   "metadata": {},
   "outputs": [
    {
     "name": "stdout",
     "output_type": "stream",
     "text": [
      "10\n"
     ]
    }
   ],
   "source": [
    "def func(n):\n",
    "    return lambda x: x * n\n",
    "\n",
    "doubler = func(2)\n",
    "print(doubler(5))  # Output: 10"
   ]
  },
  {
   "cell_type": "markdown",
   "metadata": {},
   "source": [
    "In this example, we have a function that returns a lambda function. The returned lambda function multiplies its argument by `n`.\n",
    "\n",
    "**Example 5: Lambda Function in List Sorting**"
   ]
  },
  {
   "cell_type": "code",
   "execution_count": 52,
   "metadata": {},
   "outputs": [
    {
     "name": "stdout",
     "output_type": "stream",
     "text": [
      "[{'name': 'Dave', 'age': 19}, {'name': 'John', 'age': 20}, {'name': 'Jane', 'age': 22}]\n"
     ]
    }
   ],
   "source": [
    "list = [{\"name\": \"John\", \"age\": 20}, {\"name\": \"Jane\", \"age\": 22}, {\"name\": \"Dave\", \"age\": 19}]\n",
    "sorted_list = sorted(list, key=lambda x: x['age'])\n",
    "print(sorted_list)  # Output: [{'name': 'Dave', 'age': 19}, {'name': 'John', 'age': 20}, {'name': 'Jane', 'age': 22}]"
   ]
  },
  {
   "cell_type": "markdown",
   "metadata": {},
   "source": [
    "In this example, we use a lambda function as the key function for Python's built-in `sorted` function to sort a list of dictionaries by the \"age\" key.\n",
    "\n",
    "## Challenge\n",
    "\n",
    "Implement a function named `factorial` that has one parameter: an integer `n`. It must return the value of `n` factorial (the product of all positive integers less than or equal to `n`).\n",
    "\n",
    "For example:\n",
    "\n",
    "```python\n",
    "factorial(5)  # Output: 120\n",
    "\n",
    "```\n",
    "\n",
    "because 5 factorial is 5 * 4 * 3 * 2 * 1 = 120."
   ]
  },
  {
   "cell_type": "code",
   "execution_count": null,
   "metadata": {},
   "outputs": [],
   "source": [
    "### WRITE YOUR CODE BELOW THIS LINE ###\n",
    "\n",
    "\n",
    "### WRITE YOUR CODE ABOVE THIS LINE ###"
   ]
  }
 ],
 "metadata": {
  "kernelspec": {
   "display_name": "aia",
   "language": "python",
   "name": "python3"
  },
  "language_info": {
   "codemirror_mode": {
    "name": "ipython",
    "version": 3
   },
   "file_extension": ".py",
   "mimetype": "text/x-python",
   "name": "python",
   "nbconvert_exporter": "python",
   "pygments_lexer": "ipython3",
   "version": "3.10.13"
  }
 },
 "nbformat": 4,
 "nbformat_minor": 2
}
