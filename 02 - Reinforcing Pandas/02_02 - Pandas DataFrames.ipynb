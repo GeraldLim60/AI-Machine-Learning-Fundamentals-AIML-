{
 "cells": [
  {
   "cell_type": "markdown",
   "metadata": {},
   "source": [
    "# 02.02 - Pandas DataFrames"
   ]
  },
  {
   "cell_type": "markdown",
   "metadata": {},
   "source": [
    "## Introduction\n",
    "\n",
    "In this Jupyter Notebook, we will be covering the basics of using Pandas DataFrames in Python. DataFrames are two-dimensional data structures with columns that can be of different types, similar to a spreadsheet or SQL table. They are one of the most important data structures in Python and form the basis for most data manipulation tasks. The topics that will be covered in this notebook include:\n",
    "\n",
    "1. **Creating a DataFrame** - This includes methods of creating a DataFrame using lists and dictionaries.\n",
    "2. **Inspecting a DataFrame** - This covers various methods to inspect a DataFrame, such as `head()`, `tail()`, `info()`, and `describe()`.\n",
    "3. **Indexing and Selecting Data in DataFrame** - This involves selecting rows and columns, using `loc` and `iloc`, and Boolean indexing.\n",
    "4. **Modifying a DataFrame** - This includes adding and deleting rows and columns, and renaming columns.\n",
    "5. **Handling Missing Data** - This covers methods to handle missing data, such as `isnull()`, `notnull()`, `dropna()`, and `fillna()`.\n",
    "6. **DataFrame Operations** - This covers mathematical operations on DataFrame, applying functions to a DataFrame, and grouping and aggregating data.\n",
    "\n",
    "By understanding these topics, you will be able to manipulate and analyze data using Pandas DataFrames effectively.\n",
    "\n",
    "## Section1: Creating a DataFrame\n",
    "\n",
    "### 1.1 - Using Lists\n",
    "\n",
    "You can create a DataFrame from list-like objects using the pandas DataFrame function.\n",
    "\n",
    "**Example 1: Creating a DataFrame from a Single List**"
   ]
  },
  {
   "cell_type": "code",
   "execution_count": 1,
   "metadata": {},
   "outputs": [
    {
     "name": "stdout",
     "output_type": "stream",
     "text": [
      "   0\n",
      "0  a\n",
      "1  b\n",
      "2  c\n",
      "3  d\n",
      "4  e\n"
     ]
    }
   ],
   "source": [
    "import pandas as pd\n",
    "\n",
    "data = ['a', 'b', 'c', 'd', 'e']\n",
    "df = pd.DataFrame(data)\n",
    "print(df)"
   ]
  },
  {
   "cell_type": "markdown",
   "metadata": {},
   "source": [
    "**Example 2: Creating a DataFrame from a List of Lists**"
   ]
  },
  {
   "cell_type": "code",
   "execution_count": 2,
   "metadata": {},
   "outputs": [
    {
     "name": "stdout",
     "output_type": "stream",
     "text": [
      "     Name  Age\n",
      "0    Alex   10\n",
      "1     Bob   12\n",
      "2  Clarke   13\n"
     ]
    }
   ],
   "source": [
    "import pandas as pd\n",
    "\n",
    "data = [['Alex', 10], ['Bob', 12], ['Clarke', 13]]\n",
    "df = pd.DataFrame(data, columns=['Name', 'Age'])\n",
    "print(df)"
   ]
  },
  {
   "cell_type": "markdown",
   "metadata": {},
   "source": [
    "**Example 3: Creating a DataFrame from a List of Dictionaries**"
   ]
  },
  {
   "cell_type": "code",
   "execution_count": 3,
   "metadata": {},
   "outputs": [
    {
     "name": "stdout",
     "output_type": "stream",
     "text": [
      "   a   b     c\n",
      "0  1   2   NaN\n",
      "1  5  10  20.0\n"
     ]
    }
   ],
   "source": [
    "import pandas as pd\n",
    "\n",
    "data = [{'a': 1, 'b': 2},{'a': 5, 'b': 10, 'c': 20}]\n",
    "df = pd.DataFrame(data)\n",
    "print(df)"
   ]
  },
  {
   "cell_type": "markdown",
   "metadata": {},
   "source": [
    "**Example 4: Creating a DataFrame with Index**"
   ]
  },
  {
   "cell_type": "code",
   "execution_count": 5,
   "metadata": {},
   "outputs": [
    {
     "name": "stdout",
     "output_type": "stream",
     "text": [
      "        Name  Age\n",
      "rank1    Tom   20\n",
      "rank2   nick   21\n",
      "rank3  krish   19\n",
      "rank4   jack   18\n"
     ]
    }
   ],
   "source": [
    "import pandas as pd\n",
    "\n",
    "data = {'Name':['Tom', 'nick', 'krish', 'jack'],\n",
    "        'Age':[20, 21, 19, 18]}\n",
    "\n",
    "df = pd.DataFrame(data, index=['rank1','rank2','rank3','rank4'])\n",
    "print(df)"
   ]
  },
  {
   "cell_type": "markdown",
   "metadata": {},
   "source": [
    "### 1.2 - Using Dictionaries\n",
    "\n",
    "You can create a DataFrame from dictionary using the pandas DataFrame function. The keys of the dictionary are used as column labels and the values are used as data.\n",
    "\n",
    "**Example 1: Creating a DataFrame from a Dictionary**"
   ]
  },
  {
   "cell_type": "code",
   "execution_count": 6,
   "metadata": {},
   "outputs": [
    {
     "name": "stdout",
     "output_type": "stream",
     "text": [
      "   Name  Age\n",
      "0   Tom   20\n",
      "1  Nick   21\n",
      "2  John   19\n",
      "3  Alex   18\n"
     ]
    }
   ],
   "source": [
    "import pandas as pd\n",
    "\n",
    "data = {'Name': ['Tom', 'Nick', 'John', 'Alex'], 'Age': [20, 21, 19, 18]}\n",
    "df = pd.DataFrame(data)\n",
    "print(df)"
   ]
  },
  {
   "cell_type": "markdown",
   "metadata": {},
   "source": [
    "**Example 2: Creating a DataFrame from a Dictionary with specified indexes**"
   ]
  },
  {
   "cell_type": "code",
   "execution_count": 7,
   "metadata": {},
   "outputs": [
    {
     "name": "stdout",
     "output_type": "stream",
     "text": [
      "       Name  Age\n",
      "rank1   Tom   20\n",
      "rank2  Nick   21\n",
      "rank3  John   19\n",
      "rank4  Alex   18\n"
     ]
    }
   ],
   "source": [
    "import pandas as pd\n",
    "\n",
    "data = {'Name': ['Tom', 'Nick', 'John', 'Alex'], 'Age': [20, 21, 19, 18]}\n",
    "df = pd.DataFrame(data, index=['rank1', 'rank2', 'rank3', 'rank4'])\n",
    "print(df)"
   ]
  },
  {
   "cell_type": "markdown",
   "metadata": {},
   "source": [
    "**Example 3: Creating a DataFrame from a Dictionary of Series**\n",
    "\n",
    "When the values in the dictionary are series, the result is a DataFrame where the series are aligned by their index. If no index is specified, the series' index will be used."
   ]
  },
  {
   "cell_type": "code",
   "execution_count": 8,
   "metadata": {},
   "outputs": [
    {
     "name": "stdout",
     "output_type": "stream",
     "text": [
      "   one  two\n",
      "a  1.0    1\n",
      "b  2.0    2\n",
      "c  3.0    3\n",
      "d  NaN    4\n"
     ]
    }
   ],
   "source": [
    "import pandas as pd\n",
    "\n",
    "data = {'one': pd.Series([1, 2, 3], index=['a', 'b', 'c']),\n",
    "        'two': pd.Series([1, 2, 3, 4], index=['a', 'b', 'c', 'd'])}\n",
    "df = pd.DataFrame(data)\n",
    "print(df)"
   ]
  },
  {
   "cell_type": "markdown",
   "metadata": {},
   "source": [
    "**Example 4: Creating a DataFrame from a Dictionary of Lists with different lengths**\n",
    "\n",
    "If you try to create a DataFrame from a dictionary of lists with different lengths, you will get an error."
   ]
  },
  {
   "cell_type": "code",
   "execution_count": 9,
   "metadata": {},
   "outputs": [
    {
     "ename": "ValueError",
     "evalue": "All arrays must be of the same length",
     "output_type": "error",
     "traceback": [
      "\u001b[0;31m---------------------------------------------------------------------------\u001b[0m",
      "\u001b[0;31mValueError\u001b[0m                                Traceback (most recent call last)",
      "Cell \u001b[0;32mIn[9], line 4\u001b[0m\n\u001b[1;32m      1\u001b[0m \u001b[38;5;28;01mimport\u001b[39;00m \u001b[38;5;21;01mpandas\u001b[39;00m \u001b[38;5;28;01mas\u001b[39;00m \u001b[38;5;21;01mpd\u001b[39;00m\n\u001b[1;32m      3\u001b[0m data \u001b[38;5;241m=\u001b[39m {\u001b[38;5;124m'\u001b[39m\u001b[38;5;124mName\u001b[39m\u001b[38;5;124m'\u001b[39m: [\u001b[38;5;124m'\u001b[39m\u001b[38;5;124mTom\u001b[39m\u001b[38;5;124m'\u001b[39m, \u001b[38;5;124m'\u001b[39m\u001b[38;5;124mNick\u001b[39m\u001b[38;5;124m'\u001b[39m, \u001b[38;5;124m'\u001b[39m\u001b[38;5;124mJohn\u001b[39m\u001b[38;5;124m'\u001b[39m], \u001b[38;5;124m'\u001b[39m\u001b[38;5;124mAge\u001b[39m\u001b[38;5;124m'\u001b[39m: [\u001b[38;5;241m20\u001b[39m, \u001b[38;5;241m21\u001b[39m, \u001b[38;5;241m19\u001b[39m, \u001b[38;5;241m18\u001b[39m]}\n\u001b[0;32m----> 4\u001b[0m df \u001b[38;5;241m=\u001b[39m \u001b[43mpd\u001b[49m\u001b[38;5;241;43m.\u001b[39;49m\u001b[43mDataFrame\u001b[49m\u001b[43m(\u001b[49m\u001b[43mdata\u001b[49m\u001b[43m)\u001b[49m  \u001b[38;5;66;03m# This will raise a ValueError\u001b[39;00m\n",
      "File \u001b[0;32m~/anaconda3/envs/aia/lib/python3.10/site-packages/pandas/core/frame.py:778\u001b[0m, in \u001b[0;36mDataFrame.__init__\u001b[0;34m(self, data, index, columns, dtype, copy)\u001b[0m\n\u001b[1;32m    772\u001b[0m     mgr \u001b[38;5;241m=\u001b[39m \u001b[38;5;28mself\u001b[39m\u001b[38;5;241m.\u001b[39m_init_mgr(\n\u001b[1;32m    773\u001b[0m         data, axes\u001b[38;5;241m=\u001b[39m{\u001b[38;5;124m\"\u001b[39m\u001b[38;5;124mindex\u001b[39m\u001b[38;5;124m\"\u001b[39m: index, \u001b[38;5;124m\"\u001b[39m\u001b[38;5;124mcolumns\u001b[39m\u001b[38;5;124m\"\u001b[39m: columns}, dtype\u001b[38;5;241m=\u001b[39mdtype, copy\u001b[38;5;241m=\u001b[39mcopy\n\u001b[1;32m    774\u001b[0m     )\n\u001b[1;32m    776\u001b[0m \u001b[38;5;28;01melif\u001b[39;00m \u001b[38;5;28misinstance\u001b[39m(data, \u001b[38;5;28mdict\u001b[39m):\n\u001b[1;32m    777\u001b[0m     \u001b[38;5;66;03m# GH#38939 de facto copy defaults to False only in non-dict cases\u001b[39;00m\n\u001b[0;32m--> 778\u001b[0m     mgr \u001b[38;5;241m=\u001b[39m \u001b[43mdict_to_mgr\u001b[49m\u001b[43m(\u001b[49m\u001b[43mdata\u001b[49m\u001b[43m,\u001b[49m\u001b[43m \u001b[49m\u001b[43mindex\u001b[49m\u001b[43m,\u001b[49m\u001b[43m \u001b[49m\u001b[43mcolumns\u001b[49m\u001b[43m,\u001b[49m\u001b[43m \u001b[49m\u001b[43mdtype\u001b[49m\u001b[38;5;241;43m=\u001b[39;49m\u001b[43mdtype\u001b[49m\u001b[43m,\u001b[49m\u001b[43m \u001b[49m\u001b[43mcopy\u001b[49m\u001b[38;5;241;43m=\u001b[39;49m\u001b[43mcopy\u001b[49m\u001b[43m,\u001b[49m\u001b[43m \u001b[49m\u001b[43mtyp\u001b[49m\u001b[38;5;241;43m=\u001b[39;49m\u001b[43mmanager\u001b[49m\u001b[43m)\u001b[49m\n\u001b[1;32m    779\u001b[0m \u001b[38;5;28;01melif\u001b[39;00m \u001b[38;5;28misinstance\u001b[39m(data, ma\u001b[38;5;241m.\u001b[39mMaskedArray):\n\u001b[1;32m    780\u001b[0m     \u001b[38;5;28;01mfrom\u001b[39;00m \u001b[38;5;21;01mnumpy\u001b[39;00m\u001b[38;5;21;01m.\u001b[39;00m\u001b[38;5;21;01mma\u001b[39;00m \u001b[38;5;28;01mimport\u001b[39;00m mrecords\n",
      "File \u001b[0;32m~/anaconda3/envs/aia/lib/python3.10/site-packages/pandas/core/internals/construction.py:503\u001b[0m, in \u001b[0;36mdict_to_mgr\u001b[0;34m(data, index, columns, dtype, typ, copy)\u001b[0m\n\u001b[1;32m    499\u001b[0m     \u001b[38;5;28;01melse\u001b[39;00m:\n\u001b[1;32m    500\u001b[0m         \u001b[38;5;66;03m# dtype check to exclude e.g. range objects, scalars\u001b[39;00m\n\u001b[1;32m    501\u001b[0m         arrays \u001b[38;5;241m=\u001b[39m [x\u001b[38;5;241m.\u001b[39mcopy() \u001b[38;5;28;01mif\u001b[39;00m \u001b[38;5;28mhasattr\u001b[39m(x, \u001b[38;5;124m\"\u001b[39m\u001b[38;5;124mdtype\u001b[39m\u001b[38;5;124m\"\u001b[39m) \u001b[38;5;28;01melse\u001b[39;00m x \u001b[38;5;28;01mfor\u001b[39;00m x \u001b[38;5;129;01min\u001b[39;00m arrays]\n\u001b[0;32m--> 503\u001b[0m \u001b[38;5;28;01mreturn\u001b[39;00m \u001b[43marrays_to_mgr\u001b[49m\u001b[43m(\u001b[49m\u001b[43marrays\u001b[49m\u001b[43m,\u001b[49m\u001b[43m \u001b[49m\u001b[43mcolumns\u001b[49m\u001b[43m,\u001b[49m\u001b[43m \u001b[49m\u001b[43mindex\u001b[49m\u001b[43m,\u001b[49m\u001b[43m \u001b[49m\u001b[43mdtype\u001b[49m\u001b[38;5;241;43m=\u001b[39;49m\u001b[43mdtype\u001b[49m\u001b[43m,\u001b[49m\u001b[43m \u001b[49m\u001b[43mtyp\u001b[49m\u001b[38;5;241;43m=\u001b[39;49m\u001b[43mtyp\u001b[49m\u001b[43m,\u001b[49m\u001b[43m \u001b[49m\u001b[43mconsolidate\u001b[49m\u001b[38;5;241;43m=\u001b[39;49m\u001b[43mcopy\u001b[49m\u001b[43m)\u001b[49m\n",
      "File \u001b[0;32m~/anaconda3/envs/aia/lib/python3.10/site-packages/pandas/core/internals/construction.py:114\u001b[0m, in \u001b[0;36marrays_to_mgr\u001b[0;34m(arrays, columns, index, dtype, verify_integrity, typ, consolidate)\u001b[0m\n\u001b[1;32m    111\u001b[0m \u001b[38;5;28;01mif\u001b[39;00m verify_integrity:\n\u001b[1;32m    112\u001b[0m     \u001b[38;5;66;03m# figure out the index, if necessary\u001b[39;00m\n\u001b[1;32m    113\u001b[0m     \u001b[38;5;28;01mif\u001b[39;00m index \u001b[38;5;129;01mis\u001b[39;00m \u001b[38;5;28;01mNone\u001b[39;00m:\n\u001b[0;32m--> 114\u001b[0m         index \u001b[38;5;241m=\u001b[39m \u001b[43m_extract_index\u001b[49m\u001b[43m(\u001b[49m\u001b[43marrays\u001b[49m\u001b[43m)\u001b[49m\n\u001b[1;32m    115\u001b[0m     \u001b[38;5;28;01melse\u001b[39;00m:\n\u001b[1;32m    116\u001b[0m         index \u001b[38;5;241m=\u001b[39m ensure_index(index)\n",
      "File \u001b[0;32m~/anaconda3/envs/aia/lib/python3.10/site-packages/pandas/core/internals/construction.py:677\u001b[0m, in \u001b[0;36m_extract_index\u001b[0;34m(data)\u001b[0m\n\u001b[1;32m    675\u001b[0m lengths \u001b[38;5;241m=\u001b[39m \u001b[38;5;28mlist\u001b[39m(\u001b[38;5;28mset\u001b[39m(raw_lengths))\n\u001b[1;32m    676\u001b[0m \u001b[38;5;28;01mif\u001b[39;00m \u001b[38;5;28mlen\u001b[39m(lengths) \u001b[38;5;241m>\u001b[39m \u001b[38;5;241m1\u001b[39m:\n\u001b[0;32m--> 677\u001b[0m     \u001b[38;5;28;01mraise\u001b[39;00m \u001b[38;5;167;01mValueError\u001b[39;00m(\u001b[38;5;124m\"\u001b[39m\u001b[38;5;124mAll arrays must be of the same length\u001b[39m\u001b[38;5;124m\"\u001b[39m)\n\u001b[1;32m    679\u001b[0m \u001b[38;5;28;01mif\u001b[39;00m have_dicts:\n\u001b[1;32m    680\u001b[0m     \u001b[38;5;28;01mraise\u001b[39;00m \u001b[38;5;167;01mValueError\u001b[39;00m(\n\u001b[1;32m    681\u001b[0m         \u001b[38;5;124m\"\u001b[39m\u001b[38;5;124mMixing dicts with non-Series may lead to ambiguous ordering.\u001b[39m\u001b[38;5;124m\"\u001b[39m\n\u001b[1;32m    682\u001b[0m     )\n",
      "\u001b[0;31mValueError\u001b[0m: All arrays must be of the same length"
     ]
    }
   ],
   "source": [
    "import pandas as pd\n",
    "\n",
    "data = {'Name': ['Tom', 'Nick', 'John'], 'Age': [20, 21, 19, 18]}\n",
    "df = pd.DataFrame(data)  # This will raise a ValueError"
   ]
  },
  {
   "cell_type": "markdown",
   "metadata": {},
   "source": [
    "**Example 5: Creating a DataFrame from a Dictionary while specifying column names**\n",
    "\n",
    "If you specify the column names while creating a DataFrame from a dictionary, the order of the columns in the resulting DataFrame will match the order of the names in your list. Any key in the dictionary not in your list will be excluded from the DataFrame."
   ]
  },
  {
   "cell_type": "code",
   "execution_count": 10,
   "metadata": {},
   "outputs": [
    {
     "name": "stdout",
     "output_type": "stream",
     "text": [
      "   Name\n",
      "0   Tom\n",
      "1  Nick\n",
      "2  John\n",
      "3  Alex\n"
     ]
    }
   ],
   "source": [
    "import pandas as pd\n",
    "\n",
    "data = {'Name': ['Tom', 'Nick', 'John', 'Alex'], 'Age': [20, 21, 19, 18]}\n",
    "df = pd.DataFrame(data, columns=['Name'])\n",
    "print(df)"
   ]
  },
  {
   "cell_type": "markdown",
   "metadata": {},
   "source": [
    "## Section 2: Inspecting a DataFrame\n",
    "\n",
    "### 2.1 - `head()`\n",
    "\n",
    "The `head()` function is used to get the first N rows of a DataFrame. By default, it returns the first 5 rows.\n",
    "\n",
    "**Example 1: Getting the first five rows**"
   ]
  },
  {
   "cell_type": "code",
   "execution_count": 11,
   "metadata": {},
   "outputs": [
    {
     "name": "stdout",
     "output_type": "stream",
     "text": [
      "   Name  Age\n",
      "0   Tom   20\n",
      "1  Nick   21\n",
      "2  John   19\n",
      "3  Alex   18\n"
     ]
    }
   ],
   "source": [
    "import pandas as pd\n",
    "\n",
    "data = {'Name': ['Tom', 'Nick', 'John', 'Alex'], 'Age': [20, 21, 19, 18]}\n",
    "df = pd.DataFrame(data)\n",
    "\n",
    "print(df.head())"
   ]
  },
  {
   "cell_type": "markdown",
   "metadata": {},
   "source": [
    "**Example 2: Getting the first three rows**"
   ]
  },
  {
   "cell_type": "code",
   "execution_count": 12,
   "metadata": {},
   "outputs": [
    {
     "name": "stdout",
     "output_type": "stream",
     "text": [
      "   Name  Age\n",
      "0   Tom   20\n",
      "1  Nick   21\n",
      "2  John   19\n"
     ]
    }
   ],
   "source": [
    "import pandas as pd\n",
    "\n",
    "data = {'Name': ['Tom', 'Nick', 'John', 'Alex'], 'Age': [20, 21, 19, 18]}\n",
    "df = pd.DataFrame(data)\n",
    "\n",
    "print(df.head(3))"
   ]
  },
  {
   "cell_type": "markdown",
   "metadata": {},
   "source": [
    "**Example 3: Using `head()` with a DataFrame resulting from a group operation**"
   ]
  },
  {
   "cell_type": "code",
   "execution_count": 13,
   "metadata": {},
   "outputs": [
    {
     "name": "stdout",
     "output_type": "stream",
     "text": [
      "   Name  Age\n",
      "0   Tom   20\n",
      "1  Nick   21\n",
      "2  John   19\n",
      "3  Alex   18\n"
     ]
    }
   ],
   "source": [
    "import pandas as pd\n",
    "\n",
    "data = {'Name': ['Tom', 'Nick', 'John', 'Alex', 'Tom'], 'Age': [20, 21, 19, 18, 22]}\n",
    "df = pd.DataFrame(data)\n",
    "\n",
    "print(df.groupby('Name').head(1))"
   ]
  },
  {
   "cell_type": "markdown",
   "metadata": {},
   "source": [
    "**Example 4: Using `head()` with a DataFrame resulting from a sort operation**"
   ]
  },
  {
   "cell_type": "code",
   "execution_count": 14,
   "metadata": {},
   "outputs": [
    {
     "name": "stdout",
     "output_type": "stream",
     "text": [
      "   Name  Age\n",
      "3  Alex   18\n",
      "2  John   19\n"
     ]
    }
   ],
   "source": [
    "import pandas as pd\n",
    "\n",
    "data = {'Name': ['Tom', 'Nick', 'John', 'Alex'], 'Age': [20, 21, 19, 18]}\n",
    "df = pd.DataFrame(data)\n",
    "\n",
    "print(df.sort_values('Age').head(2))"
   ]
  },
  {
   "cell_type": "markdown",
   "metadata": {},
   "source": [
    "**Example 5: Using `head()` with a DataFrame resulting from a filter operation**"
   ]
  },
  {
   "cell_type": "code",
   "execution_count": 15,
   "metadata": {},
   "outputs": [
    {
     "name": "stdout",
     "output_type": "stream",
     "text": [
      "   Name  Age\n",
      "0   Tom   20\n",
      "1  Nick   21\n"
     ]
    }
   ],
   "source": [
    "import pandas as pd\n",
    "\n",
    "data = {'Name': ['Tom', 'Nick', 'John', 'Alex'], 'Age': [20, 21, 19, 18]}\n",
    "df = pd.DataFrame(data)\n",
    "\n",
    "print(df[df['Age'] > 19].head(2))"
   ]
  },
  {
   "cell_type": "markdown",
   "metadata": {},
   "source": [
    "### 2.2 - `tail()`\n",
    "\n",
    "The `tail()` function is used to get the last N rows of a DataFrame. By default, it returns the last 5 rows.\n",
    "\n",
    "**Example 1: Getting the last five rows**"
   ]
  },
  {
   "cell_type": "code",
   "execution_count": 16,
   "metadata": {},
   "outputs": [
    {
     "name": "stdout",
     "output_type": "stream",
     "text": [
      "   Name  Age\n",
      "0   Tom   20\n",
      "1  Nick   21\n",
      "2  John   19\n",
      "3  Alex   18\n",
      "4  Matt   22\n"
     ]
    }
   ],
   "source": [
    "import pandas as pd\n",
    "\n",
    "data = {'Name': ['Tom', 'Nick', 'John', 'Alex', 'Matt'], 'Age': [20, 21, 19, 18, 22]}\n",
    "df = pd.DataFrame(data)\n",
    "\n",
    "print(df.tail())"
   ]
  },
  {
   "cell_type": "markdown",
   "metadata": {},
   "source": [
    "**Example 2: Getting the last three rows**"
   ]
  },
  {
   "cell_type": "code",
   "execution_count": 17,
   "metadata": {},
   "outputs": [
    {
     "name": "stdout",
     "output_type": "stream",
     "text": [
      "   Name  Age\n",
      "2  John   19\n",
      "3  Alex   18\n",
      "4  Matt   22\n"
     ]
    }
   ],
   "source": [
    "import pandas as pd\n",
    "\n",
    "data = {'Name': ['Tom', 'Nick', 'John', 'Alex', 'Matt'], 'Age': [20, 21, 19, 18, 22]}\n",
    "df = pd.DataFrame(data)\n",
    "\n",
    "print(df.tail(3))"
   ]
  },
  {
   "cell_type": "markdown",
   "metadata": {},
   "source": [
    "**Example 3: Using `tail()` with a DataFrame resulting from a group operation**"
   ]
  },
  {
   "cell_type": "code",
   "execution_count": 18,
   "metadata": {},
   "outputs": [
    {
     "name": "stdout",
     "output_type": "stream",
     "text": [
      "   Name  Age\n",
      "1  Nick   21\n",
      "2  John   19\n",
      "3  Alex   18\n",
      "4   Tom   22\n"
     ]
    }
   ],
   "source": [
    "import pandas as pd\n",
    "\n",
    "data = {'Name': ['Tom', 'Nick', 'John', 'Alex', 'Tom'], 'Age': [20, 21, 19, 18, 22]}\n",
    "df = pd.DataFrame(data)\n",
    "\n",
    "print(df.groupby('Name').tail(1))"
   ]
  },
  {
   "cell_type": "markdown",
   "metadata": {},
   "source": [
    "**Example 4: Using `tail()` with a DataFrame resulting from a sort operation**"
   ]
  },
  {
   "cell_type": "code",
   "execution_count": 19,
   "metadata": {},
   "outputs": [
    {
     "name": "stdout",
     "output_type": "stream",
     "text": [
      "   Name  Age\n",
      "0   Tom   20\n",
      "1  Nick   21\n"
     ]
    }
   ],
   "source": [
    "import pandas as pd\n",
    "\n",
    "data = {'Name': ['Tom', 'Nick', 'John', 'Alex'], 'Age': [20, 21, 19, 18]}\n",
    "df = pd.DataFrame(data)\n",
    "\n",
    "print(df.sort_values('Age').tail(2))"
   ]
  },
  {
   "cell_type": "markdown",
   "metadata": {},
   "source": [
    "**Example 5: Using `tail()` with a DataFrame resulting from a filter operation**"
   ]
  },
  {
   "cell_type": "code",
   "execution_count": 20,
   "metadata": {},
   "outputs": [
    {
     "name": "stdout",
     "output_type": "stream",
     "text": [
      "   Name  Age\n",
      "0   Tom   20\n",
      "1  Nick   21\n"
     ]
    }
   ],
   "source": [
    "import pandas as pd\n",
    "\n",
    "data = {'Name': ['Tom', 'Nick', 'John', 'Alex'], 'Age': [20, 21, 19, 18]}\n",
    "df = pd.DataFrame(data)\n",
    "\n",
    "print(df[df['Age'] > 19].tail(2))"
   ]
  },
  {
   "cell_type": "markdown",
   "metadata": {},
   "source": [
    "### 2.3 - `info()`\n",
    "\n",
    "The `info()` function is used to get a concise summary of a DataFrame. It provides the essential details about the dataset such as the number of rows and columns, the number of non-null values, what type of data is in each column, and how much memory the DataFrame uses.\n",
    "\n",
    "**Example 1: Getting information about a DataFrame**"
   ]
  },
  {
   "cell_type": "code",
   "execution_count": 21,
   "metadata": {},
   "outputs": [
    {
     "name": "stdout",
     "output_type": "stream",
     "text": [
      "<class 'pandas.core.frame.DataFrame'>\n",
      "RangeIndex: 4 entries, 0 to 3\n",
      "Data columns (total 2 columns):\n",
      " #   Column  Non-Null Count  Dtype \n",
      "---  ------  --------------  ----- \n",
      " 0   Name    4 non-null      object\n",
      " 1   Age     4 non-null      int64 \n",
      "dtypes: int64(1), object(1)\n",
      "memory usage: 192.0+ bytes\n"
     ]
    }
   ],
   "source": [
    "import pandas as pd\n",
    "\n",
    "data = {'Name': ['Tom', 'Nick', 'John', 'Alex'], 'Age': [20, 21, 19, 18]}\n",
    "df = pd.DataFrame(data)\n",
    "\n",
    "df.info()"
   ]
  },
  {
   "cell_type": "markdown",
   "metadata": {},
   "source": [
    "**Example 2: Getting information about a DataFrame resulting from a filter operation**"
   ]
  },
  {
   "cell_type": "code",
   "execution_count": 23,
   "metadata": {},
   "outputs": [
    {
     "name": "stdout",
     "output_type": "stream",
     "text": [
      "<class 'pandas.core.frame.DataFrame'>\n",
      "Index: 2 entries, 0 to 1\n",
      "Data columns (total 2 columns):\n",
      " #   Column  Non-Null Count  Dtype \n",
      "---  ------  --------------  ----- \n",
      " 0   Name    2 non-null      object\n",
      " 1   Age     2 non-null      int64 \n",
      "dtypes: int64(1), object(1)\n",
      "memory usage: 48.0+ bytes\n"
     ]
    }
   ],
   "source": [
    "import pandas as pd\n",
    "\n",
    "data = {'Name': ['Tom', 'Nick', 'John', 'Alex'], 'Age': [20, 21, 19, 18]}\n",
    "df = pd.DataFrame(data)\n",
    "\n",
    "df[df['Age'] > 19].info()"
   ]
  },
  {
   "cell_type": "markdown",
   "metadata": {},
   "source": [
    "**Example 3: Getting information about a DataFrame with missing values**"
   ]
  },
  {
   "cell_type": "code",
   "execution_count": 24,
   "metadata": {},
   "outputs": [
    {
     "name": "stdout",
     "output_type": "stream",
     "text": [
      "<class 'pandas.core.frame.DataFrame'>\n",
      "RangeIndex: 4 entries, 0 to 3\n",
      "Data columns (total 2 columns):\n",
      " #   Column  Non-Null Count  Dtype  \n",
      "---  ------  --------------  -----  \n",
      " 0   Name    3 non-null      object \n",
      " 1   Age     3 non-null      float64\n",
      "dtypes: float64(1), object(1)\n",
      "memory usage: 192.0+ bytes\n"
     ]
    }
   ],
   "source": [
    "import pandas as pd\n",
    "import numpy as np\n",
    "\n",
    "data = {'Name': ['Tom', 'Nick', 'John', np.nan], 'Age': [20, 21, np.nan, 18]}\n",
    "df = pd.DataFrame(data)\n",
    "\n",
    "df.info()"
   ]
  },
  {
   "cell_type": "markdown",
   "metadata": {},
   "source": [
    "**Example 5: Getting information about a large DataFrame**"
   ]
  },
  {
   "cell_type": "code",
   "execution_count": 25,
   "metadata": {},
   "outputs": [
    {
     "name": "stdout",
     "output_type": "stream",
     "text": [
      "<class 'pandas.core.frame.DataFrame'>\n",
      "RangeIndex: 1000 entries, 0 to 999\n",
      "Data columns (total 50 columns):\n",
      " #   Column  Non-Null Count  Dtype  \n",
      "---  ------  --------------  -----  \n",
      " 0   Col0    1000 non-null   float64\n",
      " 1   Col1    1000 non-null   float64\n",
      " 2   Col2    1000 non-null   float64\n",
      " 3   Col3    1000 non-null   float64\n",
      " 4   Col4    1000 non-null   float64\n",
      " 5   Col5    1000 non-null   float64\n",
      " 6   Col6    1000 non-null   float64\n",
      " 7   Col7    1000 non-null   float64\n",
      " 8   Col8    1000 non-null   float64\n",
      " 9   Col9    1000 non-null   float64\n",
      " 10  Col10   1000 non-null   float64\n",
      " 11  Col11   1000 non-null   float64\n",
      " 12  Col12   1000 non-null   float64\n",
      " 13  Col13   1000 non-null   float64\n",
      " 14  Col14   1000 non-null   float64\n",
      " 15  Col15   1000 non-null   float64\n",
      " 16  Col16   1000 non-null   float64\n",
      " 17  Col17   1000 non-null   float64\n",
      " 18  Col18   1000 non-null   float64\n",
      " 19  Col19   1000 non-null   float64\n",
      " 20  Col20   1000 non-null   float64\n",
      " 21  Col21   1000 non-null   float64\n",
      " 22  Col22   1000 non-null   float64\n",
      " 23  Col23   1000 non-null   float64\n",
      " 24  Col24   1000 non-null   float64\n",
      " 25  Col25   1000 non-null   float64\n",
      " 26  Col26   1000 non-null   float64\n",
      " 27  Col27   1000 non-null   float64\n",
      " 28  Col28   1000 non-null   float64\n",
      " 29  Col29   1000 non-null   float64\n",
      " 30  Col30   1000 non-null   float64\n",
      " 31  Col31   1000 non-null   float64\n",
      " 32  Col32   1000 non-null   float64\n",
      " 33  Col33   1000 non-null   float64\n",
      " 34  Col34   1000 non-null   float64\n",
      " 35  Col35   1000 non-null   float64\n",
      " 36  Col36   1000 non-null   float64\n",
      " 37  Col37   1000 non-null   float64\n",
      " 38  Col38   1000 non-null   float64\n",
      " 39  Col39   1000 non-null   float64\n",
      " 40  Col40   1000 non-null   float64\n",
      " 41  Col41   1000 non-null   float64\n",
      " 42  Col42   1000 non-null   float64\n",
      " 43  Col43   1000 non-null   float64\n",
      " 44  Col44   1000 non-null   float64\n",
      " 45  Col45   1000 non-null   float64\n",
      " 46  Col46   1000 non-null   float64\n",
      " 47  Col47   1000 non-null   float64\n",
      " 48  Col48   1000 non-null   float64\n",
      " 49  Col49   1000 non-null   float64\n",
      "dtypes: float64(50)\n",
      "memory usage: 390.8 KB\n"
     ]
    }
   ],
   "source": [
    "import pandas as pd\n",
    "import numpy as np\n",
    "\n",
    "data = pd.DataFrame(np.random.randn(1000, 50), columns=['Col' + str(i) for i in range(50)])\n",
    "df = pd.DataFrame(data)\n",
    "\n",
    "df.info()"
   ]
  },
  {
   "cell_type": "markdown",
   "metadata": {},
   "source": [
    "### 2.4 - `describe()`\n",
    "\n",
    "The `describe()` function is used to generate descriptive statistics of a DataFrame or a Series. It provides a quick overview of the central tendencies, dispersion and shape of the dataset’s distribution.\n",
    "\n",
    "**Example 1: Basic usage of `describe()`**"
   ]
  },
  {
   "cell_type": "code",
   "execution_count": 26,
   "metadata": {},
   "outputs": [
    {
     "data": {
      "text/html": [
       "<div>\n",
       "<style scoped>\n",
       "    .dataframe tbody tr th:only-of-type {\n",
       "        vertical-align: middle;\n",
       "    }\n",
       "\n",
       "    .dataframe tbody tr th {\n",
       "        vertical-align: top;\n",
       "    }\n",
       "\n",
       "    .dataframe thead th {\n",
       "        text-align: right;\n",
       "    }\n",
       "</style>\n",
       "<table border=\"1\" class=\"dataframe\">\n",
       "  <thead>\n",
       "    <tr style=\"text-align: right;\">\n",
       "      <th></th>\n",
       "      <th>Age</th>\n",
       "    </tr>\n",
       "  </thead>\n",
       "  <tbody>\n",
       "    <tr>\n",
       "      <th>count</th>\n",
       "      <td>4.000000</td>\n",
       "    </tr>\n",
       "    <tr>\n",
       "      <th>mean</th>\n",
       "      <td>19.500000</td>\n",
       "    </tr>\n",
       "    <tr>\n",
       "      <th>std</th>\n",
       "      <td>1.290994</td>\n",
       "    </tr>\n",
       "    <tr>\n",
       "      <th>min</th>\n",
       "      <td>18.000000</td>\n",
       "    </tr>\n",
       "    <tr>\n",
       "      <th>25%</th>\n",
       "      <td>18.750000</td>\n",
       "    </tr>\n",
       "    <tr>\n",
       "      <th>50%</th>\n",
       "      <td>19.500000</td>\n",
       "    </tr>\n",
       "    <tr>\n",
       "      <th>75%</th>\n",
       "      <td>20.250000</td>\n",
       "    </tr>\n",
       "    <tr>\n",
       "      <th>max</th>\n",
       "      <td>21.000000</td>\n",
       "    </tr>\n",
       "  </tbody>\n",
       "</table>\n",
       "</div>"
      ],
      "text/plain": [
       "             Age\n",
       "count   4.000000\n",
       "mean   19.500000\n",
       "std     1.290994\n",
       "min    18.000000\n",
       "25%    18.750000\n",
       "50%    19.500000\n",
       "75%    20.250000\n",
       "max    21.000000"
      ]
     },
     "execution_count": 26,
     "metadata": {},
     "output_type": "execute_result"
    }
   ],
   "source": [
    "import pandas as pd\n",
    "\n",
    "data = {'Name': ['Tom', 'Nick', 'John', 'Alex'], 'Age': [20, 21, 19, 18]}\n",
    "df = pd.DataFrame(data)\n",
    "\n",
    "df.describe()"
   ]
  },
  {
   "cell_type": "markdown",
   "metadata": {},
   "source": [
    "**Example 2: Using `describe()` on string data**\n",
    "\n",
    "When `describe()` is used on a column of non-numeric data, it returns the count, unique, top, and frequency."
   ]
  },
  {
   "cell_type": "code",
   "execution_count": 27,
   "metadata": {},
   "outputs": [
    {
     "data": {
      "text/plain": [
       "count       4\n",
       "unique      4\n",
       "top       Tom\n",
       "freq        1\n",
       "Name: Name, dtype: object"
      ]
     },
     "execution_count": 27,
     "metadata": {},
     "output_type": "execute_result"
    }
   ],
   "source": [
    "import pandas as pd\n",
    "\n",
    "data = {'Name': ['Tom', 'Nick', 'John', 'Alex'], 'Age': [20, 21, 19, 18]}\n",
    "df = pd.DataFrame(data)\n",
    "\n",
    "df['Name'].describe()"
   ]
  },
  {
   "cell_type": "markdown",
   "metadata": {},
   "source": [
    "**Example 3: Including all data in `describe()` summary**\n",
    "\n",
    "By default, `describe()` provides a summary of only the numerical columns. If you want a summary of all columns, include the `include='all'` argument."
   ]
  },
  {
   "cell_type": "code",
   "execution_count": 28,
   "metadata": {},
   "outputs": [
    {
     "data": {
      "text/html": [
       "<div>\n",
       "<style scoped>\n",
       "    .dataframe tbody tr th:only-of-type {\n",
       "        vertical-align: middle;\n",
       "    }\n",
       "\n",
       "    .dataframe tbody tr th {\n",
       "        vertical-align: top;\n",
       "    }\n",
       "\n",
       "    .dataframe thead th {\n",
       "        text-align: right;\n",
       "    }\n",
       "</style>\n",
       "<table border=\"1\" class=\"dataframe\">\n",
       "  <thead>\n",
       "    <tr style=\"text-align: right;\">\n",
       "      <th></th>\n",
       "      <th>Name</th>\n",
       "      <th>Age</th>\n",
       "    </tr>\n",
       "  </thead>\n",
       "  <tbody>\n",
       "    <tr>\n",
       "      <th>count</th>\n",
       "      <td>4</td>\n",
       "      <td>4.000000</td>\n",
       "    </tr>\n",
       "    <tr>\n",
       "      <th>unique</th>\n",
       "      <td>4</td>\n",
       "      <td>NaN</td>\n",
       "    </tr>\n",
       "    <tr>\n",
       "      <th>top</th>\n",
       "      <td>Tom</td>\n",
       "      <td>NaN</td>\n",
       "    </tr>\n",
       "    <tr>\n",
       "      <th>freq</th>\n",
       "      <td>1</td>\n",
       "      <td>NaN</td>\n",
       "    </tr>\n",
       "    <tr>\n",
       "      <th>mean</th>\n",
       "      <td>NaN</td>\n",
       "      <td>19.500000</td>\n",
       "    </tr>\n",
       "    <tr>\n",
       "      <th>std</th>\n",
       "      <td>NaN</td>\n",
       "      <td>1.290994</td>\n",
       "    </tr>\n",
       "    <tr>\n",
       "      <th>min</th>\n",
       "      <td>NaN</td>\n",
       "      <td>18.000000</td>\n",
       "    </tr>\n",
       "    <tr>\n",
       "      <th>25%</th>\n",
       "      <td>NaN</td>\n",
       "      <td>18.750000</td>\n",
       "    </tr>\n",
       "    <tr>\n",
       "      <th>50%</th>\n",
       "      <td>NaN</td>\n",
       "      <td>19.500000</td>\n",
       "    </tr>\n",
       "    <tr>\n",
       "      <th>75%</th>\n",
       "      <td>NaN</td>\n",
       "      <td>20.250000</td>\n",
       "    </tr>\n",
       "    <tr>\n",
       "      <th>max</th>\n",
       "      <td>NaN</td>\n",
       "      <td>21.000000</td>\n",
       "    </tr>\n",
       "  </tbody>\n",
       "</table>\n",
       "</div>"
      ],
      "text/plain": [
       "       Name        Age\n",
       "count     4   4.000000\n",
       "unique    4        NaN\n",
       "top     Tom        NaN\n",
       "freq      1        NaN\n",
       "mean    NaN  19.500000\n",
       "std     NaN   1.290994\n",
       "min     NaN  18.000000\n",
       "25%     NaN  18.750000\n",
       "50%     NaN  19.500000\n",
       "75%     NaN  20.250000\n",
       "max     NaN  21.000000"
      ]
     },
     "execution_count": 28,
     "metadata": {},
     "output_type": "execute_result"
    }
   ],
   "source": [
    "import pandas as pd\n",
    "\n",
    "data = {'Name': ['Tom', 'Nick', 'John', 'Alex'], 'Age': [20, 21, 19, 18]}\n",
    "df = pd.DataFrame(data)\n",
    "\n",
    "df.describe(include='all')"
   ]
  },
  {
   "cell_type": "markdown",
   "metadata": {},
   "source": [
    "**Example 4: Using `describe()` on a DataFrame with missing values**\n",
    "\n",
    "If a DataFrame includes missing values, `describe()` will handle them as NaN and exclude them from the summary statistics."
   ]
  },
  {
   "cell_type": "code",
   "execution_count": 29,
   "metadata": {},
   "outputs": [
    {
     "data": {
      "text/html": [
       "<div>\n",
       "<style scoped>\n",
       "    .dataframe tbody tr th:only-of-type {\n",
       "        vertical-align: middle;\n",
       "    }\n",
       "\n",
       "    .dataframe tbody tr th {\n",
       "        vertical-align: top;\n",
       "    }\n",
       "\n",
       "    .dataframe thead th {\n",
       "        text-align: right;\n",
       "    }\n",
       "</style>\n",
       "<table border=\"1\" class=\"dataframe\">\n",
       "  <thead>\n",
       "    <tr style=\"text-align: right;\">\n",
       "      <th></th>\n",
       "      <th>Age</th>\n",
       "    </tr>\n",
       "  </thead>\n",
       "  <tbody>\n",
       "    <tr>\n",
       "      <th>count</th>\n",
       "      <td>3.000000</td>\n",
       "    </tr>\n",
       "    <tr>\n",
       "      <th>mean</th>\n",
       "      <td>19.666667</td>\n",
       "    </tr>\n",
       "    <tr>\n",
       "      <th>std</th>\n",
       "      <td>1.527525</td>\n",
       "    </tr>\n",
       "    <tr>\n",
       "      <th>min</th>\n",
       "      <td>18.000000</td>\n",
       "    </tr>\n",
       "    <tr>\n",
       "      <th>25%</th>\n",
       "      <td>19.000000</td>\n",
       "    </tr>\n",
       "    <tr>\n",
       "      <th>50%</th>\n",
       "      <td>20.000000</td>\n",
       "    </tr>\n",
       "    <tr>\n",
       "      <th>75%</th>\n",
       "      <td>20.500000</td>\n",
       "    </tr>\n",
       "    <tr>\n",
       "      <th>max</th>\n",
       "      <td>21.000000</td>\n",
       "    </tr>\n",
       "  </tbody>\n",
       "</table>\n",
       "</div>"
      ],
      "text/plain": [
       "             Age\n",
       "count   3.000000\n",
       "mean   19.666667\n",
       "std     1.527525\n",
       "min    18.000000\n",
       "25%    19.000000\n",
       "50%    20.000000\n",
       "75%    20.500000\n",
       "max    21.000000"
      ]
     },
     "execution_count": 29,
     "metadata": {},
     "output_type": "execute_result"
    }
   ],
   "source": [
    "import pandas as pd\n",
    "import numpy as np\n",
    "\n",
    "data = {'Name': ['Tom', 'Nick', 'John', np.nan], 'Age': [20, 21, np.nan, 18]}\n",
    "df = pd.DataFrame(data)\n",
    "\n",
    "df.describe()"
   ]
  },
  {
   "cell_type": "markdown",
   "metadata": {},
   "source": [
    "**Example 5: Changing percentiles in `describe()` summary**\n",
    "\n",
    "By default, `describe()` provides the 25th, 50th, and 75th percentiles. You can specify your own percentiles using the `percentiles` argument."
   ]
  },
  {
   "cell_type": "code",
   "execution_count": 30,
   "metadata": {},
   "outputs": [
    {
     "data": {
      "text/html": [
       "<div>\n",
       "<style scoped>\n",
       "    .dataframe tbody tr th:only-of-type {\n",
       "        vertical-align: middle;\n",
       "    }\n",
       "\n",
       "    .dataframe tbody tr th {\n",
       "        vertical-align: top;\n",
       "    }\n",
       "\n",
       "    .dataframe thead th {\n",
       "        text-align: right;\n",
       "    }\n",
       "</style>\n",
       "<table border=\"1\" class=\"dataframe\">\n",
       "  <thead>\n",
       "    <tr style=\"text-align: right;\">\n",
       "      <th></th>\n",
       "      <th>Age</th>\n",
       "    </tr>\n",
       "  </thead>\n",
       "  <tbody>\n",
       "    <tr>\n",
       "      <th>count</th>\n",
       "      <td>4.000000</td>\n",
       "    </tr>\n",
       "    <tr>\n",
       "      <th>mean</th>\n",
       "      <td>19.500000</td>\n",
       "    </tr>\n",
       "    <tr>\n",
       "      <th>std</th>\n",
       "      <td>1.290994</td>\n",
       "    </tr>\n",
       "    <tr>\n",
       "      <th>min</th>\n",
       "      <td>18.000000</td>\n",
       "    </tr>\n",
       "    <tr>\n",
       "      <th>10%</th>\n",
       "      <td>18.300000</td>\n",
       "    </tr>\n",
       "    <tr>\n",
       "      <th>20%</th>\n",
       "      <td>18.600000</td>\n",
       "    </tr>\n",
       "    <tr>\n",
       "      <th>30%</th>\n",
       "      <td>18.900000</td>\n",
       "    </tr>\n",
       "    <tr>\n",
       "      <th>40%</th>\n",
       "      <td>19.200000</td>\n",
       "    </tr>\n",
       "    <tr>\n",
       "      <th>50%</th>\n",
       "      <td>19.500000</td>\n",
       "    </tr>\n",
       "    <tr>\n",
       "      <th>60%</th>\n",
       "      <td>19.800000</td>\n",
       "    </tr>\n",
       "    <tr>\n",
       "      <th>70%</th>\n",
       "      <td>20.100000</td>\n",
       "    </tr>\n",
       "    <tr>\n",
       "      <th>80%</th>\n",
       "      <td>20.400000</td>\n",
       "    </tr>\n",
       "    <tr>\n",
       "      <th>90%</th>\n",
       "      <td>20.700000</td>\n",
       "    </tr>\n",
       "    <tr>\n",
       "      <th>max</th>\n",
       "      <td>21.000000</td>\n",
       "    </tr>\n",
       "  </tbody>\n",
       "</table>\n",
       "</div>"
      ],
      "text/plain": [
       "             Age\n",
       "count   4.000000\n",
       "mean   19.500000\n",
       "std     1.290994\n",
       "min    18.000000\n",
       "10%    18.300000\n",
       "20%    18.600000\n",
       "30%    18.900000\n",
       "40%    19.200000\n",
       "50%    19.500000\n",
       "60%    19.800000\n",
       "70%    20.100000\n",
       "80%    20.400000\n",
       "90%    20.700000\n",
       "max    21.000000"
      ]
     },
     "execution_count": 30,
     "metadata": {},
     "output_type": "execute_result"
    }
   ],
   "source": [
    "import pandas as pd\n",
    "\n",
    "data = {'Age': [20, 21, 19, 18]}\n",
    "df = pd.DataFrame(data)\n",
    "\n",
    "df.describe(percentiles=[.10, .20, .30, .40, .50, .60, .70, .80, .90])"
   ]
  },
  {
   "cell_type": "markdown",
   "metadata": {},
   "source": [
    "## Section 3: Indexing and Selecting Data in DataFrame\n",
    "\n",
    "### 3.1 - Selecting rows\n",
    "\n",
    "Rows in DataFrame can be selected by passing row label to a `loc` function.\n",
    "\n",
    "**Example 1: Selecting a single row by row label**"
   ]
  },
  {
   "cell_type": "code",
   "execution_count": 31,
   "metadata": {},
   "outputs": [
    {
     "name": "stdout",
     "output_type": "stream",
     "text": [
      "Name    Tom\n",
      "Age      20\n",
      "Name: rank1, dtype: object\n"
     ]
    }
   ],
   "source": [
    "import pandas as pd\n",
    "\n",
    "data = {'Name': ['Tom', 'Nick', 'John', 'Alex'], 'Age': [20, 21, 19, 18]}\n",
    "df = pd.DataFrame(data, index=['rank1', 'rank2', 'rank3', 'rank4'])\n",
    "\n",
    "print(df.loc['rank1'])"
   ]
  },
  {
   "cell_type": "markdown",
   "metadata": {},
   "source": [
    "**Example 2: Selecting rows by label range**"
   ]
  },
  {
   "cell_type": "code",
   "execution_count": 32,
   "metadata": {},
   "outputs": [
    {
     "name": "stdout",
     "output_type": "stream",
     "text": [
      "       Name  Age\n",
      "rank1   Tom   20\n",
      "rank2  Nick   21\n",
      "rank3  John   19\n"
     ]
    }
   ],
   "source": [
    "import pandas as pd\n",
    "\n",
    "data = {'Name': ['Tom', 'Nick', 'John', 'Alex'], 'Age': [20, 21, 19, 18]}\n",
    "df = pd.DataFrame(data, index=['rank1', 'rank2', 'rank3', 'rank4'])\n",
    "\n",
    "print(df.loc['rank1':'rank3'])"
   ]
  },
  {
   "cell_type": "markdown",
   "metadata": {},
   "source": [
    "**Example 3: Selecting rows by list of labels**"
   ]
  },
  {
   "cell_type": "code",
   "execution_count": 33,
   "metadata": {},
   "outputs": [
    {
     "name": "stdout",
     "output_type": "stream",
     "text": [
      "       Name  Age\n",
      "rank1   Tom   20\n",
      "rank3  John   19\n"
     ]
    }
   ],
   "source": [
    "import pandas as pd\n",
    "\n",
    "data = {'Name': ['Tom', 'Nick', 'John', 'Alex'], 'Age': [20, 21, 19, 18]}\n",
    "df = pd.DataFrame(data, index=['rank1', 'rank2', 'rank3', 'rank4'])\n",
    "\n",
    "print(df.loc[['rank1', 'rank3']])"
   ]
  },
  {
   "cell_type": "markdown",
   "metadata": {},
   "source": [
    "**Example 4: Selecting rows by condition**"
   ]
  },
  {
   "cell_type": "code",
   "execution_count": 34,
   "metadata": {},
   "outputs": [
    {
     "name": "stdout",
     "output_type": "stream",
     "text": [
      "   Name  Age\n",
      "0   Tom   20\n",
      "1  Nick   21\n"
     ]
    }
   ],
   "source": [
    "import pandas as pd\n",
    "\n",
    "data = {'Name': ['Tom', 'Nick', 'John', 'Alex'], 'Age': [20, 21, 19, 18]}\n",
    "df = pd.DataFrame(data)\n",
    "\n",
    "print(df.loc[df['Age'] > 19])"
   ]
  },
  {
   "cell_type": "markdown",
   "metadata": {},
   "source": [
    "**Example 5: Selecting rows by multiple conditions**"
   ]
  },
  {
   "cell_type": "code",
   "execution_count": 35,
   "metadata": {},
   "outputs": [
    {
     "name": "stdout",
     "output_type": "stream",
     "text": [
      "  Name  Age\n",
      "0  Tom   20\n"
     ]
    }
   ],
   "source": [
    "import pandas as pd\n",
    "\n",
    "data = {'Name': ['Tom', 'Nick', 'John', 'Alex'], 'Age': [20, 21, 19, 18]}\n",
    "df = pd.DataFrame(data)\n",
    "\n",
    "print(df.loc[(df['Age'] > 19) & (df['Name'] == 'Tom')])"
   ]
  },
  {
   "cell_type": "markdown",
   "metadata": {},
   "source": [
    "### 3.2 - Selecting columns\n",
    "\n",
    "Columns in DataFrame can be selected by passing column label to a `loc` function or by directly using the name of the column.\n",
    "\n",
    "**Example 1: Selecting a single column by column label**"
   ]
  },
  {
   "cell_type": "code",
   "execution_count": 36,
   "metadata": {},
   "outputs": [
    {
     "name": "stdout",
     "output_type": "stream",
     "text": [
      "0     Tom\n",
      "1    Nick\n",
      "2    John\n",
      "3    Alex\n",
      "Name: Name, dtype: object\n"
     ]
    }
   ],
   "source": [
    "import pandas as pd\n",
    "\n",
    "data = {'Name': ['Tom', 'Nick', 'John', 'Alex'], 'Age': [20, 21, 19, 18]}\n",
    "df = pd.DataFrame(data)\n",
    "\n",
    "print(df['Name'])"
   ]
  },
  {
   "cell_type": "markdown",
   "metadata": {},
   "source": [
    "**Example 2: Selecting multiple columns by column label**"
   ]
  },
  {
   "cell_type": "code",
   "execution_count": 37,
   "metadata": {},
   "outputs": [
    {
     "name": "stdout",
     "output_type": "stream",
     "text": [
      "   Name  Age\n",
      "0   Tom   20\n",
      "1  Nick   21\n",
      "2  John   19\n",
      "3  Alex   18\n"
     ]
    }
   ],
   "source": [
    "import pandas as pd\n",
    "\n",
    "data = {'Name': ['Tom', 'Nick', 'John', 'Alex'], 'Age': [20, 21, 19, 18]}\n",
    "df = pd.DataFrame(data)\n",
    "\n",
    "print(df[['Name', 'Age']])"
   ]
  },
  {
   "cell_type": "markdown",
   "metadata": {},
   "source": [
    "**Example 3: Selecting columns by label range**"
   ]
  },
  {
   "cell_type": "code",
   "execution_count": 38,
   "metadata": {},
   "outputs": [
    {
     "name": "stdout",
     "output_type": "stream",
     "text": [
      "   Name  Age\n",
      "0   Tom   20\n",
      "1  Nick   21\n",
      "2  John   19\n",
      "3  Alex   18\n"
     ]
    }
   ],
   "source": [
    "import pandas as pd\n",
    "\n",
    "data = {'Name': ['Tom', 'Nick', 'John', 'Alex'], 'Age': [20, 21, 19, 18], 'Rank': [1, 2, 3, 4]}\n",
    "df = pd.DataFrame(data)\n",
    "\n",
    "print(df.loc[:, 'Name':'Age'])"
   ]
  },
  {
   "cell_type": "markdown",
   "metadata": {},
   "source": [
    "**Example 4: Selecting columns by condition**"
   ]
  },
  {
   "cell_type": "code",
   "execution_count": 39,
   "metadata": {},
   "outputs": [
    {
     "name": "stdout",
     "output_type": "stream",
     "text": [
      "       col1      col2      col3\n",
      "3  0.898332 -0.439848 -0.427518\n"
     ]
    }
   ],
   "source": [
    "import pandas as pd\n",
    "import numpy as np\n",
    "\n",
    "df = pd.DataFrame(np.random.randn(5, 3), columns=['col1', 'col2', 'col3'])\n",
    "\n",
    "print(df[df['col1'] > 0.5])"
   ]
  },
  {
   "cell_type": "markdown",
   "metadata": {},
   "source": [
    "**Example 5: Selecting columns by multiple conditions**"
   ]
  },
  {
   "cell_type": "code",
   "execution_count": 40,
   "metadata": {},
   "outputs": [
    {
     "name": "stdout",
     "output_type": "stream",
     "text": [
      "Empty DataFrame\n",
      "Columns: [col1, col2, col3]\n",
      "Index: []\n"
     ]
    }
   ],
   "source": [
    "import pandas as pd\n",
    "import numpy as np\n",
    "\n",
    "df = pd.DataFrame(np.random.randn(5, 3), columns=['col1', 'col2', 'col3'])\n",
    "\n",
    "print(df[(df['col1'] > 0.5) & (df['col2'] < 0.5)])"
   ]
  },
  {
   "cell_type": "markdown",
   "metadata": {},
   "source": [
    "### 3.3 - Using `loc`\n",
    "\n",
    "The `loc` function is a label-based data selection method which means that we have to pass the name of the row or column which we want to select. This method includes the last element of the range, unlike `iloc`. Apart from accessing data, the `loc` function can also be used to modify data.\n",
    "\n",
    "**Example 1: Selecting a single row by row label**"
   ]
  },
  {
   "cell_type": "code",
   "execution_count": 41,
   "metadata": {},
   "outputs": [
    {
     "name": "stdout",
     "output_type": "stream",
     "text": [
      "Name    Tom\n",
      "Age      20\n",
      "Name: rank1, dtype: object\n"
     ]
    }
   ],
   "source": [
    "import pandas as pd\n",
    "\n",
    "data = {'Name': ['Tom', 'Nick', 'John', 'Alex'], 'Age': [20, 21, 19, 18]}\n",
    "df = pd.DataFrame(data, index=['rank1', 'rank2', 'rank3', 'rank4'])\n",
    "\n",
    "print(df.loc['rank1'])"
   ]
  },
  {
   "cell_type": "markdown",
   "metadata": {},
   "source": [
    "**Example 2: Selecting multiple rows by label range**"
   ]
  },
  {
   "cell_type": "code",
   "execution_count": 42,
   "metadata": {},
   "outputs": [
    {
     "name": "stdout",
     "output_type": "stream",
     "text": [
      "       Name  Age\n",
      "rank1   Tom   20\n",
      "rank2  Nick   21\n",
      "rank3  John   19\n"
     ]
    }
   ],
   "source": [
    "import pandas as pd\n",
    "\n",
    "data = {'Name': ['Tom', 'Nick', 'John', 'Alex'], 'Age': [20, 21, 19, 18]}\n",
    "df = pd.DataFrame(data, index=['rank1', 'rank2', 'rank3', 'rank4'])\n",
    "\n",
    "print(df.loc['rank1':'rank3'])"
   ]
  },
  {
   "cell_type": "markdown",
   "metadata": {},
   "source": [
    "**Example 3: Selecting rows and columns by label**"
   ]
  },
  {
   "cell_type": "code",
   "execution_count": 43,
   "metadata": {},
   "outputs": [
    {
     "name": "stdout",
     "output_type": "stream",
     "text": [
      "       Name  Age\n",
      "rank1   Tom   20\n",
      "rank3  John   19\n"
     ]
    }
   ],
   "source": [
    "import pandas as pd\n",
    "\n",
    "data = {'Name': ['Tom', 'Nick', 'John', 'Alex'], 'Age': [20, 21, 19, 18]}\n",
    "df = pd.DataFrame(data, index=['rank1', 'rank2', 'rank3', 'rank4'])\n",
    "\n",
    "print(df.loc[['rank1', 'rank3'], ['Name', 'Age']])"
   ]
  },
  {
   "cell_type": "markdown",
   "metadata": {},
   "source": [
    "**Example 4: Modifying data using `loc`**"
   ]
  },
  {
   "cell_type": "code",
   "execution_count": 44,
   "metadata": {},
   "outputs": [
    {
     "name": "stdout",
     "output_type": "stream",
     "text": [
      "        Name  Age\n",
      "rank1  Jerry   20\n",
      "rank2   Nick   21\n",
      "rank3   John   19\n",
      "rank4   Alex   18\n"
     ]
    }
   ],
   "source": [
    "import pandas as pd\n",
    "\n",
    "data = {'Name': ['Tom', 'Nick', 'John', 'Alex'], 'Age': [20, 21, 19, 18]}\n",
    "df = pd.DataFrame(data, index=['rank1', 'rank2', 'rank3', 'rank4'])\n",
    "\n",
    "df.loc['rank1', 'Name'] = 'Jerry'\n",
    "\n",
    "print(df)"
   ]
  },
  {
   "cell_type": "markdown",
   "metadata": {},
   "source": [
    "**Example 5: Complex data selection using `loc`**"
   ]
  },
  {
   "cell_type": "code",
   "execution_count": 45,
   "metadata": {},
   "outputs": [
    {
     "name": "stdout",
     "output_type": "stream",
     "text": [
      "       Name  Rank\n",
      "rank1   Tom     1\n",
      "rank2  Nick     2\n"
     ]
    }
   ],
   "source": [
    "import pandas as pd\n",
    "\n",
    "data = {'Name': ['Tom', 'Nick', 'John', 'Alex'], 'Age': [20, 21, 19, 18], 'Rank': [1, 2, 3, 4]}\n",
    "df = pd.DataFrame(data, index=['rank1', 'rank2', 'rank3', 'rank4'])\n",
    "\n",
    "print(df.loc[df['Age'] > 19, ['Name', 'Rank']])"
   ]
  },
  {
   "cell_type": "markdown",
   "metadata": {},
   "source": [
    "### 3.4 - Using `iloc`\n",
    "\n",
    "The `iloc` function is an index-based selection method which means we have to pass integer index in the method to select specific rows/columns. Unlike `loc`, `iloc` excludes the last element of the range.\n",
    "\n",
    "**Example 1: Selecting a single row by integer index**"
   ]
  },
  {
   "cell_type": "code",
   "execution_count": 46,
   "metadata": {},
   "outputs": [
    {
     "name": "stdout",
     "output_type": "stream",
     "text": [
      "Name    Tom\n",
      "Age      20\n",
      "Name: 0, dtype: object\n"
     ]
    }
   ],
   "source": [
    "import pandas as pd\n",
    "\n",
    "data = {'Name': ['Tom', 'Nick', 'John', 'Alex'], 'Age': [20, 21, 19, 18]}\n",
    "df = pd.DataFrame(data)\n",
    "\n",
    "print(df.iloc[0])"
   ]
  },
  {
   "cell_type": "markdown",
   "metadata": {},
   "source": [
    "**Example 2: Selecting multiple rows by integer range**"
   ]
  },
  {
   "cell_type": "code",
   "execution_count": 47,
   "metadata": {},
   "outputs": [
    {
     "name": "stdout",
     "output_type": "stream",
     "text": [
      "   Name  Age\n",
      "0   Tom   20\n",
      "1  Nick   21\n"
     ]
    }
   ],
   "source": [
    "import pandas as pd\n",
    "\n",
    "data = {'Name': ['Tom', 'Nick', 'John', 'Alex'], 'Age': [20, 21, 19, 18]}\n",
    "df = pd.DataFrame(data)\n",
    "\n",
    "print(df.iloc[0:2])"
   ]
  },
  {
   "cell_type": "markdown",
   "metadata": {},
   "source": [
    "**Example 3: Selecting rows and columns by integer index**"
   ]
  },
  {
   "cell_type": "code",
   "execution_count": 49,
   "metadata": {},
   "outputs": [
    {
     "name": "stdout",
     "output_type": "stream",
     "text": [
      "   Name\n",
      "0   Tom\n",
      "1  Nick\n"
     ]
    }
   ],
   "source": [
    "import pandas as pd\n",
    "\n",
    "data = {'Name': ['Tom', 'Nick', 'John', 'Alex'], 'Age': [20, 21, 19, 18]}\n",
    "df = pd.DataFrame(data)\n",
    "\n",
    "print(df.iloc[0:2, 0:1])"
   ]
  },
  {
   "cell_type": "markdown",
   "metadata": {},
   "source": [
    "**Example 4: Modifying data using `iloc`**"
   ]
  },
  {
   "cell_type": "code",
   "execution_count": 50,
   "metadata": {},
   "outputs": [
    {
     "name": "stdout",
     "output_type": "stream",
     "text": [
      "    Name  Age\n",
      "0  Jerry   20\n",
      "1   Nick   21\n",
      "2   John   19\n",
      "3   Alex   18\n"
     ]
    }
   ],
   "source": [
    "import pandas as pd\n",
    "\n",
    "data = {'Name': ['Tom', 'Nick', 'John', 'Alex'], 'Age': [20, 21, 19, 18]}\n",
    "df = pd.DataFrame(data)\n",
    "\n",
    "df.iloc[0, 0] = 'Jerry'\n",
    "\n",
    "print(df)"
   ]
  },
  {
   "cell_type": "markdown",
   "metadata": {},
   "source": [
    "**Example 5: Complex data selection using `iloc`**"
   ]
  },
  {
   "cell_type": "code",
   "execution_count": 51,
   "metadata": {},
   "outputs": [
    {
     "name": "stdout",
     "output_type": "stream",
     "text": [
      "   Name  Rank\n",
      "0   Tom     1\n",
      "1  Nick     2\n"
     ]
    }
   ],
   "source": [
    "import pandas as pd\n",
    "\n",
    "data = {'Name': ['Tom', 'Nick', 'John', 'Alex'], 'Age': [20, 21, 19, 18], 'Rank': [1, 2, 3, 4]}\n",
    "df = pd.DataFrame(data)\n",
    "\n",
    "print(df.iloc[df['Age'].values > 19, [0, 2]])"
   ]
  },
  {
   "cell_type": "markdown",
   "metadata": {},
   "source": [
    "### 3.5 - Boolean indexing\n",
    "\n",
    "In Python, particularly with Pandas DataFrame, you can use Boolean indexing to select subsets of data. This method is used when you want to select data based on the criteria that you specify.\n",
    "\n",
    "**Example 1: Basic Boolean Indexing**"
   ]
  },
  {
   "cell_type": "code",
   "execution_count": 52,
   "metadata": {},
   "outputs": [
    {
     "name": "stdout",
     "output_type": "stream",
     "text": [
      "   Name  Age\n",
      "0   Tom   20\n",
      "1  Nick   21\n"
     ]
    }
   ],
   "source": [
    "import pandas as pd\n",
    "\n",
    "data = {'Name': ['Tom', 'Nick', 'John', 'Alex'], 'Age': [20, 21, 19, 18]}\n",
    "df = pd.DataFrame(data)\n",
    "\n",
    "print(df[df['Age'] > 19])"
   ]
  },
  {
   "cell_type": "markdown",
   "metadata": {},
   "source": [
    "In this example, `df['Age'] > 19` is a Boolean condition that checks which rows have 'Age' greater than 19. The result is a series of True/False values, which is used to select the rows.\n",
    "\n",
    "**Example 2: Using Multiple Conditions**\n",
    "\n",
    "You can use `&` and `|` operators to combine multiple conditions."
   ]
  },
  {
   "cell_type": "code",
   "execution_count": 53,
   "metadata": {},
   "outputs": [
    {
     "name": "stdout",
     "output_type": "stream",
     "text": [
      "  Name  Age\n",
      "0  Tom   20\n"
     ]
    }
   ],
   "source": [
    "import pandas as pd\n",
    "\n",
    "data = {'Name': ['Tom', 'Nick', 'John', 'Alex'], 'Age': [20, 21, 19, 18]}\n",
    "df = pd.DataFrame(data)\n",
    "\n",
    "print(df[(df['Age'] > 19) & (df['Name'] == 'Tom')])"
   ]
  },
  {
   "cell_type": "markdown",
   "metadata": {},
   "source": [
    "In this example, rows where 'Age' is greater than 19 and 'Name' is 'Tom' are selected.\n",
    "\n",
    "**Example 3: Using `isin` Function for Filtering**\n",
    "\n",
    "The `isin` function is used when you want to match some specific values."
   ]
  },
  {
   "cell_type": "code",
   "execution_count": 54,
   "metadata": {},
   "outputs": [
    {
     "name": "stdout",
     "output_type": "stream",
     "text": [
      "   Name  Age\n",
      "0   Tom   20\n",
      "2  John   19\n"
     ]
    }
   ],
   "source": [
    "import pandas as pd\n",
    "\n",
    "data = {'Name': ['Tom', 'Nick', 'John', 'Alex'], 'Age': [20, 21, 19, 18]}\n",
    "df = pd.DataFrame(data)\n",
    "\n",
    "print(df[df['Name'].isin(['Tom', 'John'])])"
   ]
  },
  {
   "cell_type": "markdown",
   "metadata": {},
   "source": [
    "In this example, rows where 'Name' is either 'Tom' or 'John' are selected.\n",
    "\n",
    "**Example 4: Using `~` Operator for Filtering**\n",
    "\n",
    "The `~` operator is used when you want to select the rows that do not satisfy the condition."
   ]
  },
  {
   "cell_type": "code",
   "execution_count": 55,
   "metadata": {},
   "outputs": [
    {
     "name": "stdout",
     "output_type": "stream",
     "text": [
      "   Name  Age\n",
      "0   Tom   20\n",
      "1  Nick   21\n"
     ]
    }
   ],
   "source": [
    "import pandas as pd\n",
    "\n",
    "data = {'Name': ['Tom', 'Nick', 'John', 'Alex'], 'Age': [20, 21, 19, 18]}\n",
    "df = pd.DataFrame(data)\n",
    "\n",
    "print(df[~(df['Age'] < 20)])"
   ]
  },
  {
   "cell_type": "markdown",
   "metadata": {},
   "source": [
    "In this example, rows where 'Age' is not less than 20 are selected.\n",
    "\n",
    "**Example 5: Using Boolean Indexing with `loc` Function**\n",
    "\n",
    "The `loc` function can also be used with Boolean indexing."
   ]
  },
  {
   "cell_type": "code",
   "execution_count": 56,
   "metadata": {},
   "outputs": [
    {
     "name": "stdout",
     "output_type": "stream",
     "text": [
      "0     Tom\n",
      "1    Nick\n",
      "Name: Name, dtype: object\n"
     ]
    }
   ],
   "source": [
    "import pandas as pd\n",
    "\n",
    "data = {'Name': ['Tom', 'Nick', 'John', 'Alex'], 'Age': [20, 21, 19, 18]}\n",
    "df = pd.DataFrame(data)\n",
    "\n",
    "print(df.loc[df['Age'] > 19, 'Name'])"
   ]
  },
  {
   "cell_type": "markdown",
   "metadata": {},
   "source": [
    "In this example, 'Name' of the rows where 'Age' is greater than 19 are selected.\n",
    "\n",
    "## Section 4: Modifying a DataFrame\n",
    "\n",
    "### 4.1 - Adding rows\n",
    "\n",
    "You can add rows to a DataFrame using the `concat()` function. This function concatenates pandas objects along a particular axis.\n",
    "\n",
    "**Example 1: Adding a single row to a DataFrame**"
   ]
  },
  {
   "cell_type": "code",
   "execution_count": 60,
   "metadata": {},
   "outputs": [
    {
     "name": "stdout",
     "output_type": "stream",
     "text": [
      "   Name  Age\n",
      "0   Tom   20\n",
      "1  Nick   21\n",
      "2  John   19\n",
      "3  Alex   18\n"
     ]
    }
   ],
   "source": [
    "import pandas as pd\n",
    "\n",
    "data = {'Name': ['Tom', 'Nick', 'John'], 'Age': [20, 21, 19]}\n",
    "df = pd.DataFrame(data)\n",
    "\n",
    "new_row = pd.DataFrame({'Name': ['Alex'], 'Age': [18]}, index=[3])\n",
    "df = pd.concat([df, new_row])\n",
    "\n",
    "print(df)"
   ]
  },
  {
   "cell_type": "markdown",
   "metadata": {},
   "source": [
    "**Example 2: Adding multiple rows to a DataFrame**"
   ]
  },
  {
   "cell_type": "code",
   "execution_count": 61,
   "metadata": {},
   "outputs": [
    {
     "name": "stdout",
     "output_type": "stream",
     "text": [
      "   Name  Age\n",
      "0   Tom   20\n",
      "1  Nick   21\n",
      "2  John   19\n",
      "3  Alex   18\n",
      "4  Matt   22\n"
     ]
    }
   ],
   "source": [
    "import pandas as pd\n",
    "\n",
    "data = {'Name': ['Tom', 'Nick', 'John'], 'Age': [20, 21, 19]}\n",
    "df = pd.DataFrame(data)\n",
    "\n",
    "new_rows = pd.DataFrame({'Name': ['Alex', 'Matt'], 'Age': [18, 22]}, index=[3, 4])\n",
    "df = pd.concat([df, new_rows])\n",
    "\n",
    "print(df)"
   ]
  },
  {
   "cell_type": "markdown",
   "metadata": {},
   "source": [
    "**Example 3: Adding rows from another DataFrame**"
   ]
  },
  {
   "cell_type": "code",
   "execution_count": 62,
   "metadata": {},
   "outputs": [
    {
     "name": "stdout",
     "output_type": "stream",
     "text": [
      "   Name  Age\n",
      "0   Tom   20\n",
      "1  Nick   21\n",
      "2  John   19\n",
      "0  Alex   18\n",
      "1  Matt   22\n"
     ]
    }
   ],
   "source": [
    "import pandas as pd\n",
    "\n",
    "data1 = {'Name': ['Tom', 'Nick', 'John'], 'Age': [20, 21, 19]}\n",
    "df1 = pd.DataFrame(data1)\n",
    "\n",
    "data2 = {'Name': ['Alex', 'Matt'], 'Age': [18, 22]}\n",
    "df2 = pd.DataFrame(data2)\n",
    "\n",
    "df1 = pd.concat([df1, df2])\n",
    "\n",
    "print(df1)"
   ]
  },
  {
   "cell_type": "markdown",
   "metadata": {},
   "source": [
    "**Example 4: Adding rows using a dictionary**"
   ]
  },
  {
   "cell_type": "code",
   "execution_count": 63,
   "metadata": {},
   "outputs": [
    {
     "name": "stdout",
     "output_type": "stream",
     "text": [
      "   Name  Age\n",
      "0   Tom   20\n",
      "1  Nick   21\n",
      "2  John   19\n",
      "3  Alex   18\n"
     ]
    }
   ],
   "source": [
    "import pandas as pd\n",
    "\n",
    "data = {'Name': ['Tom', 'Nick', 'John'], 'Age': [20, 21, 19]}\n",
    "df = pd.DataFrame(data)\n",
    "\n",
    "new_row = pd.DataFrame({'Name': ['Alex'], 'Age': [18]}, index=[3])\n",
    "df = pd.concat([df, new_row])\n",
    "\n",
    "print(df)"
   ]
  },
  {
   "cell_type": "markdown",
   "metadata": {},
   "source": [
    "**Example 5: Adding rows with different columns**"
   ]
  },
  {
   "cell_type": "code",
   "execution_count": 64,
   "metadata": {},
   "outputs": [
    {
     "name": "stdout",
     "output_type": "stream",
     "text": [
      "   Name  Age  Rank\n",
      "0   Tom   20   NaN\n",
      "1  Nick   21   NaN\n",
      "2  John   19   NaN\n",
      "3  Alex   18   4.0\n"
     ]
    }
   ],
   "source": [
    "import pandas as pd\n",
    "\n",
    "data = {'Name': ['Tom', 'Nick', 'John'], 'Age': [20, 21, 19]}\n",
    "df = pd.DataFrame(data)\n",
    "\n",
    "new_row = pd.DataFrame({'Name': ['Alex'], 'Age': [18], 'Rank': [4]}, index=[3])\n",
    "df = pd.concat([df, new_row])\n",
    "\n",
    "print(df)"
   ]
  },
  {
   "cell_type": "markdown",
   "metadata": {},
   "source": [
    "In this example, the new row includes a new column 'Rank'. The value in this column for the existing rows is filled with `NaN`.\n",
    "\n",
    "### 4.2 - Adding columns\n",
    "\n",
    "Adding columns to a DataFrame in pandas can be achieved through the assignment operator.\n",
    "\n",
    "**Example 1: Adding a Single Column**"
   ]
  },
  {
   "cell_type": "code",
   "execution_count": 65,
   "metadata": {},
   "outputs": [
    {
     "name": "stdout",
     "output_type": "stream",
     "text": [
      "   A  B  C\n",
      "0  1  3  5\n",
      "1  2  4  6\n"
     ]
    }
   ],
   "source": [
    "import pandas as pd\n",
    "\n",
    "df = pd.DataFrame({'A': [1, 2], 'B': [3, 4]})\n",
    "df['C'] = [5, 6]\n",
    "\n",
    "print(df)"
   ]
  },
  {
   "cell_type": "markdown",
   "metadata": {},
   "source": [
    "**Example 2: Adding Multiple Columns**"
   ]
  },
  {
   "cell_type": "code",
   "execution_count": 66,
   "metadata": {},
   "outputs": [
    {
     "name": "stdout",
     "output_type": "stream",
     "text": [
      "   A  B  C  D\n",
      "0  1  3  5  7\n",
      "1  2  4  6  8\n"
     ]
    }
   ],
   "source": [
    "import pandas as pd\n",
    "\n",
    "df = pd.DataFrame({'A': [1, 2], 'B': [3, 4]})\n",
    "df = df.assign(C=[5, 6], D=[7, 8])\n",
    "\n",
    "print(df)"
   ]
  },
  {
   "cell_type": "markdown",
   "metadata": {},
   "source": [
    "**Example 3: Adding a Column Based on Existing Columns**"
   ]
  },
  {
   "cell_type": "code",
   "execution_count": 67,
   "metadata": {},
   "outputs": [
    {
     "name": "stdout",
     "output_type": "stream",
     "text": [
      "   A  B  C\n",
      "0  1  3  4\n",
      "1  2  4  6\n"
     ]
    }
   ],
   "source": [
    "import pandas as pd\n",
    "\n",
    "df = pd.DataFrame({'A': [1, 2], 'B': [3, 4]})\n",
    "df['C'] = df['A'] + df['B']\n",
    "\n",
    "print(df)"
   ]
  },
  {
   "cell_type": "markdown",
   "metadata": {},
   "source": [
    "**Example 4: Adding a Column Using a Function**"
   ]
  },
  {
   "cell_type": "code",
   "execution_count": 68,
   "metadata": {},
   "outputs": [
    {
     "name": "stdout",
     "output_type": "stream",
     "text": [
      "   A  B  C\n",
      "0  1  3  1\n",
      "1  2  4  4\n"
     ]
    }
   ],
   "source": [
    "import pandas as pd\n",
    "\n",
    "df = pd.DataFrame({'A': [1, 2], 'B': [3, 4]})\n",
    "df['C'] = df['A'].apply(lambda x: x ** 2)\n",
    "\n",
    "print(df)"
   ]
  },
  {
   "cell_type": "markdown",
   "metadata": {},
   "source": [
    "**Example 5: Adding a Column Conditionally**"
   ]
  },
  {
   "cell_type": "code",
   "execution_count": 69,
   "metadata": {},
   "outputs": [
    {
     "name": "stdout",
     "output_type": "stream",
     "text": [
      "   A  B     C\n",
      "0  1  3   Low\n",
      "1  2  4  High\n"
     ]
    }
   ],
   "source": [
    "import pandas as pd\n",
    "\n",
    "df = pd.DataFrame({'A': [1, 2], 'B': [3, 4]})\n",
    "df['C'] = df['A'].apply(lambda x: 'High' if x > 1 else 'Low')\n",
    "\n",
    "print(df)"
   ]
  },
  {
   "cell_type": "markdown",
   "metadata": {},
   "source": [
    "In this example, a new column `C` is added to the DataFrame. The values in this column are determined based on the values in column `A`. If the value in `A` is greater than 1, `C` is 'High'. Otherwise, `C` is 'Low'.\n",
    "\n",
    "### 4.3 - Deleting rows\n",
    "\n",
    "In pandas, you can delete one or more rows from a DataFrame using the `drop()` function. The key parameter to the `drop()` function is the index of the rows you want to delete.\n",
    "\n",
    "**Example 1: Deleting a Single Row by Index**"
   ]
  },
  {
   "cell_type": "code",
   "execution_count": 70,
   "metadata": {},
   "outputs": [
    {
     "name": "stdout",
     "output_type": "stream",
     "text": [
      "   A  B\n",
      "0  1  4\n",
      "2  3  6\n"
     ]
    }
   ],
   "source": [
    "import pandas as pd\n",
    "\n",
    "df = pd.DataFrame({'A': [1, 2, 3], 'B': [4, 5, 6]})\n",
    "df = df.drop(1)\n",
    "\n",
    "print(df)"
   ]
  },
  {
   "cell_type": "markdown",
   "metadata": {},
   "source": [
    "**Example 2: Deleting Multiple Rows by Index**"
   ]
  },
  {
   "cell_type": "code",
   "execution_count": 71,
   "metadata": {},
   "outputs": [
    {
     "name": "stdout",
     "output_type": "stream",
     "text": [
      "   A  B\n",
      "1  2  5\n"
     ]
    }
   ],
   "source": [
    "import pandas as pd\n",
    "\n",
    "df = pd.DataFrame({'A': [1, 2, 3], 'B': [4, 5, 6]})\n",
    "df = df.drop([0, 2])\n",
    "\n",
    "print(df)"
   ]
  },
  {
   "cell_type": "markdown",
   "metadata": {},
   "source": [
    "**Example 3: Deleting Rows Based on Condition**"
   ]
  },
  {
   "cell_type": "code",
   "execution_count": 72,
   "metadata": {},
   "outputs": [
    {
     "name": "stdout",
     "output_type": "stream",
     "text": [
      "   A  B\n",
      "2  3  6\n"
     ]
    }
   ],
   "source": [
    "import pandas as pd\n",
    "\n",
    "df = pd.DataFrame({'A': [1, 2, 3], 'B': [4, 5, 6]})\n",
    "df = df.drop(df[df['A'] < 3].index)\n",
    "\n",
    "print(df)"
   ]
  },
  {
   "cell_type": "markdown",
   "metadata": {},
   "source": [
    "**Example 4: Deleting Rows with Missing Values**"
   ]
  },
  {
   "cell_type": "code",
   "execution_count": 73,
   "metadata": {},
   "outputs": [
    {
     "name": "stdout",
     "output_type": "stream",
     "text": [
      "     A    B\n",
      "0  1.0  4.0\n"
     ]
    }
   ],
   "source": [
    "import pandas as pd\n",
    "import numpy as np\n",
    "\n",
    "df = pd.DataFrame({'A': [1, 2, np.nan], 'B': [4, np.nan, 6]})\n",
    "df = df.dropna()\n",
    "\n",
    "print(df)"
   ]
  },
  {
   "cell_type": "markdown",
   "metadata": {},
   "source": [
    "**Example 5: Deleting Rows in Large DataFrames**"
   ]
  },
  {
   "cell_type": "code",
   "execution_count": 74,
   "metadata": {},
   "outputs": [
    {
     "name": "stdout",
     "output_type": "stream",
     "text": [
      "         Col0      Col1      Col2      Col3      Col4      Col5      Col6  \\\n",
      "5    0.783560  0.922735 -1.514587  1.363061 -0.283216 -0.732328  0.120786   \n",
      "9   -0.556428  1.234734 -1.382040 -0.892821 -0.364225 -1.094022 -0.480513   \n",
      "10   0.198524  0.566077  0.741394 -0.469477  1.613670 -1.045715  1.438147   \n",
      "13   0.989406  1.763224 -0.460602  0.358639  0.080909  0.838941 -0.065463   \n",
      "15   0.519660  1.331177  0.058357  0.486299  0.311575  0.746012  0.072102   \n",
      "..        ...       ...       ...       ...       ...       ...       ...   \n",
      "972  2.334944  0.592943  0.721719 -0.081290 -1.278230  0.090313 -0.153647   \n",
      "976  0.562071  0.556007  0.603591  0.166400 -0.673643  0.683556  1.010934   \n",
      "977  1.599622  0.563105 -0.511225 -1.340288  2.379503  1.223057 -0.064570   \n",
      "983  1.188907  1.293782  0.445693  0.524671 -0.726381  0.784087 -0.933569   \n",
      "999  0.006981  2.089618  1.664403  2.026878 -0.236650 -0.881655  0.218536   \n",
      "\n",
      "         Col7      Col8      Col9  ...     Col40     Col41     Col42  \\\n",
      "5    0.629731 -0.503454  1.426736  ... -2.311143  0.164871  0.455847   \n",
      "9   -0.768928  0.599691  0.658000  ... -0.141978 -0.709565  0.587019   \n",
      "10   0.791812  0.370318  0.762884  ... -1.024986 -1.815349  1.602641   \n",
      "13   1.541173  0.180501 -1.139857  ... -0.533885 -0.259583 -0.223181   \n",
      "15  -1.369013  1.817131  0.976240  ... -0.545963  1.240529  0.630657   \n",
      "..        ...       ...       ...  ...       ...       ...       ...   \n",
      "972  2.392955  0.694636 -1.327004  ... -0.684384 -0.028933 -0.428999   \n",
      "976 -0.984608  2.165320 -1.551579  ...  0.278346 -0.712547 -1.662327   \n",
      "977  1.540980 -0.226834 -0.487018  ...  0.573452  0.628605 -0.338257   \n",
      "983 -0.303447 -0.701444 -1.455612  ... -0.762796  1.974312 -1.332251   \n",
      "999 -0.461767  0.176625  0.911643  ...  0.810256  0.045803  1.901204   \n",
      "\n",
      "        Col43     Col44     Col45     Col46     Col47     Col48     Col49  \n",
      "5   -1.189679 -0.108666 -1.324065  0.822883 -0.491788  1.003527 -1.796541  \n",
      "9   -1.482165  1.333966  1.107411 -0.622145  2.245579 -0.177022 -0.087736  \n",
      "10   0.619191 -0.109336 -1.110811  0.566855  1.414424 -1.194069  0.884943  \n",
      "13  -0.580487 -0.456342 -0.161988  1.994097  1.219853 -0.059436  0.750900  \n",
      "15  -0.412982  0.196437 -0.190566  0.477721  0.312423  0.024306 -1.068883  \n",
      "..        ...       ...       ...       ...       ...       ...       ...  \n",
      "972  0.155248 -2.470159  0.840787  0.432891 -1.695119  1.072083  0.166745  \n",
      "976 -1.750242  1.850452 -1.832043 -1.125500 -2.702448  0.279070 -1.286856  \n",
      "977 -0.084724 -1.828192  0.367097 -1.381701 -0.889686  0.208202  1.210966  \n",
      "983  0.037844 -1.780013 -0.142976  2.484654  0.096887 -2.061809  0.624372  \n",
      "999 -1.130813  0.767481 -1.445019 -0.379571 -0.054667  0.361939 -0.227568  \n",
      "\n",
      "[298 rows x 50 columns]\n"
     ]
    }
   ],
   "source": [
    "import pandas as pd\n",
    "import numpy as np\n",
    "\n",
    "data = pd.DataFrame(np.random.randn(1000, 50), columns=['Col' + str(i) for i in range(50)])\n",
    "data = data.drop(data[data['Col1'] < 0.5].index)\n",
    "\n",
    "print(data)"
   ]
  },
  {
   "cell_type": "markdown",
   "metadata": {},
   "source": [
    "### 4.4 - Deleting columns\n",
    "\n",
    "Columns in a DataFrame can be deleted or dropped by using the `drop()` function and specifying the `axis=1` parameter.\n",
    "\n",
    "**Example 1: Deleting a Single Column by Label**"
   ]
  },
  {
   "cell_type": "code",
   "execution_count": 75,
   "metadata": {},
   "outputs": [
    {
     "name": "stdout",
     "output_type": "stream",
     "text": [
      "   B  C\n",
      "0  4  7\n",
      "1  5  8\n",
      "2  6  9\n"
     ]
    }
   ],
   "source": [
    "import pandas as pd\n",
    "\n",
    "df = pd.DataFrame({'A': [1, 2, 3], 'B': [4, 5, 6], 'C': [7, 8, 9]})\n",
    "df = df.drop('A', axis=1)\n",
    "\n",
    "print(df)"
   ]
  },
  {
   "cell_type": "markdown",
   "metadata": {},
   "source": [
    "**Example 2: Deleting Multiple Columns by Label**"
   ]
  },
  {
   "cell_type": "code",
   "execution_count": 76,
   "metadata": {},
   "outputs": [
    {
     "name": "stdout",
     "output_type": "stream",
     "text": [
      "   C\n",
      "0  7\n",
      "1  8\n",
      "2  9\n"
     ]
    }
   ],
   "source": [
    "import pandas as pd\n",
    "\n",
    "df = pd.DataFrame({'A': [1, 2, 3], 'B': [4, 5, 6], 'C': [7, 8, 9]})\n",
    "df = df.drop(['A', 'B'], axis=1)\n",
    "\n",
    "print(df)"
   ]
  },
  {
   "cell_type": "markdown",
   "metadata": {},
   "source": [
    "**Example 3: Deleting Columns Based on Condition**"
   ]
  },
  {
   "cell_type": "code",
   "execution_count": 77,
   "metadata": {},
   "outputs": [
    {
     "name": "stdout",
     "output_type": "stream",
     "text": [
      "   B  C\n",
      "0  4  7\n",
      "1  5  8\n",
      "2  6  9\n"
     ]
    }
   ],
   "source": [
    "import pandas as pd\n",
    "\n",
    "df = pd.DataFrame({'A': [1, 2, 3], 'B': [4, 5, 6], 'C': [7, 8, 9]})\n",
    "df = df.drop(df.columns[df.apply(lambda col: col.sum() < 10)], axis=1)\n",
    "\n",
    "print(df)"
   ]
  },
  {
   "cell_type": "markdown",
   "metadata": {},
   "source": [
    "**Example 4: Deleting Columns with Missing Values**"
   ]
  },
  {
   "cell_type": "code",
   "execution_count": 78,
   "metadata": {},
   "outputs": [
    {
     "name": "stdout",
     "output_type": "stream",
     "text": [
      "   B\n",
      "0  4\n",
      "1  5\n",
      "2  6\n"
     ]
    }
   ],
   "source": [
    "import pandas as pd\n",
    "import numpy as np\n",
    "\n",
    "df = pd.DataFrame({'A': [1, np.nan, 3], 'B': [4, 5, 6], 'C': [7, np.nan, 9]})\n",
    "df = df.dropna(axis=1)\n",
    "\n",
    "print(df)"
   ]
  },
  {
   "cell_type": "markdown",
   "metadata": {},
   "source": [
    "**Example 5: Deleting Columns in Large DataFrames**"
   ]
  },
  {
   "cell_type": "code",
   "execution_count": 79,
   "metadata": {},
   "outputs": [
    {
     "name": "stdout",
     "output_type": "stream",
     "text": [
      "         Col0      Col2      Col4      Col6      Col7     Col10     Col14  \\\n",
      "0   -0.398428  0.585864 -0.047487  0.194210  0.118103 -0.106484  0.835472   \n",
      "1    0.913807 -0.463994 -0.435905  1.763789 -0.672060 -1.189803  0.098013   \n",
      "2   -0.897861  0.182388  1.863928  0.132625 -0.602466  2.581540 -0.173454   \n",
      "3    1.122628 -1.414626  0.103776  0.810942  0.791066  1.285727  0.436057   \n",
      "4   -1.561162  1.238574  1.323453 -0.697975 -0.311414  0.357093  1.070905   \n",
      "..        ...       ...       ...       ...       ...       ...       ...   \n",
      "995 -0.024788 -0.521992 -0.590010  1.672357  1.754726  0.707214  0.607003   \n",
      "996 -0.236039  0.340864  0.031249  0.305286  1.243318 -0.172771  0.111305   \n",
      "997 -0.999715 -1.561974 -0.762783  0.280265  1.052498  0.297266 -1.164675   \n",
      "998  0.812245  0.591240  1.116369 -0.872340  0.086809  1.107168  0.320752   \n",
      "999  0.037886  1.614442  1.712559 -0.177169  0.854634 -1.344601  0.048011   \n",
      "\n",
      "        Col15     Col16     Col23     Col29     Col35     Col38     Col39  \\\n",
      "0    0.597421 -1.214586  0.572735 -1.134798  0.695772  0.372682 -0.706591   \n",
      "1   -0.784687  1.253497  0.344203 -0.158941 -1.860759  0.830618 -1.282106   \n",
      "2    0.725430  1.043002  1.076104  1.448762 -1.042741  0.998889  0.204903   \n",
      "3   -1.304745  0.561113  1.717082 -0.864687  0.810687 -0.284137 -0.053495   \n",
      "4   -0.299024 -0.780337  1.192680 -0.179457 -0.879042 -1.647169 -0.081723   \n",
      "..        ...       ...       ...       ...       ...       ...       ...   \n",
      "995 -0.651980 -0.822618 -0.796039  1.772525  1.063614 -0.351382 -0.692802   \n",
      "996  0.725214  1.161973  0.408571  1.011503  0.018841  2.418412 -0.706487   \n",
      "997 -1.044689  0.949627  0.364419  0.412458 -0.763100  0.234680  1.787456   \n",
      "998  0.000532  0.008578  0.529818 -0.339267 -0.671613 -0.011382  0.125262   \n",
      "999  0.806550  0.374905  2.040071  0.112949 -0.341857  0.057587  1.181648   \n",
      "\n",
      "        Col41     Col42     Col44     Col45     Col46     Col47  \n",
      "0    1.966976 -0.071752 -0.562170 -0.786704 -0.676192  0.921764  \n",
      "1    2.053032  0.042430 -0.576776 -0.652694 -0.006147 -0.197092  \n",
      "2   -0.221816 -1.262839 -1.092410 -0.138346 -0.771285 -0.207512  \n",
      "3    1.449971 -0.095275 -0.321192 -0.100365  1.717161  0.749839  \n",
      "4    1.514218  1.326486  1.604852  1.200697 -0.321087 -0.281658  \n",
      "..        ...       ...       ...       ...       ...       ...  \n",
      "995 -0.184141 -0.730464 -0.158628  0.266842  1.325141 -1.338586  \n",
      "996  0.302490 -0.242182 -0.897954 -0.004511 -0.202265  0.434747  \n",
      "997  0.040999 -0.018862  0.839800  1.198643 -0.392289 -1.103699  \n",
      "998 -0.472739  0.014866 -0.204224 -0.804788  0.508624  1.600828  \n",
      "999  1.372448  0.139059  1.000880  1.527238  0.896505 -0.944540  \n",
      "\n",
      "[1000 rows x 20 columns]\n"
     ]
    }
   ],
   "source": [
    "import pandas as pd\n",
    "import numpy as np\n",
    "\n",
    "data = pd.DataFrame(np.random.randn(1000, 50), columns=['Col' + str(i) for i in range(50)])\n",
    "data = data.drop(data.columns[data.apply(lambda col: col.mean() < 0)], axis=1)\n",
    "\n",
    "print(data)"
   ]
  },
  {
   "cell_type": "markdown",
   "metadata": {},
   "source": [
    "### 4.5 - Renaming columns\n",
    "\n",
    "Renaming column names in pandas DataFrame can be achieved using the `rename()` function or by assigning a new list of column names to the `columns` attribute of the DataFrame.\n",
    "\n",
    "**Example 1: Renaming a Single Column**"
   ]
  },
  {
   "cell_type": "code",
   "execution_count": 80,
   "metadata": {},
   "outputs": [
    {
     "name": "stdout",
     "output_type": "stream",
     "text": [
      "   X  B\n",
      "0  1  4\n",
      "1  2  5\n",
      "2  3  6\n"
     ]
    }
   ],
   "source": [
    "import pandas as pd\n",
    "\n",
    "df = pd.DataFrame({'A': [1, 2, 3], 'B': [4, 5, 6]})\n",
    "df = df.rename(columns={'A': 'X'})\n",
    "\n",
    "print(df)"
   ]
  },
  {
   "cell_type": "markdown",
   "metadata": {},
   "source": [
    "**Example 2: Renaming Multiple Columns**"
   ]
  },
  {
   "cell_type": "code",
   "execution_count": 81,
   "metadata": {},
   "outputs": [
    {
     "name": "stdout",
     "output_type": "stream",
     "text": [
      "   X  Y\n",
      "0  1  4\n",
      "1  2  5\n",
      "2  3  6\n"
     ]
    }
   ],
   "source": [
    "import pandas as pd\n",
    "\n",
    "df = pd.DataFrame({'A': [1, 2, 3], 'B': [4, 5, 6]})\n",
    "df = df.rename(columns={'A': 'X', 'B': 'Y'})\n",
    "\n",
    "print(df)"
   ]
  },
  {
   "cell_type": "markdown",
   "metadata": {},
   "source": [
    "**Example 3: Renaming All Columns**"
   ]
  },
  {
   "cell_type": "code",
   "execution_count": 82,
   "metadata": {},
   "outputs": [
    {
     "name": "stdout",
     "output_type": "stream",
     "text": [
      "   X  Y\n",
      "0  1  4\n",
      "1  2  5\n",
      "2  3  6\n"
     ]
    }
   ],
   "source": [
    "import pandas as pd\n",
    "\n",
    "df = pd.DataFrame({'A': [1, 2, 3], 'B': [4, 5, 6]})\n",
    "df.columns = ['X', 'Y']\n",
    "\n",
    "print(df)"
   ]
  },
  {
   "cell_type": "markdown",
   "metadata": {},
   "source": [
    "**Example 4: Renaming Columns Using a Function**"
   ]
  },
  {
   "cell_type": "code",
   "execution_count": 83,
   "metadata": {},
   "outputs": [
    {
     "name": "stdout",
     "output_type": "stream",
     "text": [
      "   a  b\n",
      "0  1  4\n",
      "1  2  5\n",
      "2  3  6\n"
     ]
    }
   ],
   "source": [
    "import pandas as pd\n",
    "\n",
    "df = pd.DataFrame({'A': [1, 2, 3], 'B': [4, 5, 6]})\n",
    "df = df.rename(columns=str.lower)\n",
    "\n",
    "print(df)"
   ]
  },
  {
   "cell_type": "markdown",
   "metadata": {},
   "source": [
    "**Example 5: Renaming Columns in a Large DataFrame**"
   ]
  },
  {
   "cell_type": "code",
   "execution_count": 84,
   "metadata": {},
   "outputs": [
    {
     "name": "stdout",
     "output_type": "stream",
     "text": [
      "      Column0   Column1   Column2   Column3   Column4   Column5   Column6  \\\n",
      "0    1.708102  1.140212 -0.234168  0.468273 -0.878713 -0.717516 -0.560662   \n",
      "1   -0.864273 -0.560668  0.275754  0.067009 -0.264682  0.245055 -0.385277   \n",
      "2   -0.785442  0.582638 -0.298446  0.345213 -0.114231  0.288188 -0.781287   \n",
      "3   -0.382307 -0.895223 -0.381456 -0.641675  0.629782  0.737742  0.685549   \n",
      "4    0.667738  1.246094  0.950891  1.359284 -0.059760  0.069623 -0.325293   \n",
      "..        ...       ...       ...       ...       ...       ...       ...   \n",
      "995 -0.993203  1.536368 -1.132079 -1.200345 -0.533931 -0.723136 -0.544457   \n",
      "996 -0.773440  0.401375  0.408672  0.927838  1.087591  0.972114 -1.122101   \n",
      "997  2.129209  2.366911  1.047558 -2.405874  1.895077 -2.508289  0.979335   \n",
      "998  1.276694 -1.645011  0.641682 -0.394741  0.396671 -0.372716 -0.183743   \n",
      "999  0.104942 -0.449575 -0.086573  0.106359 -0.286234  0.053536  0.434288   \n",
      "\n",
      "      Column7   Column8   Column9  ...  Column40  Column41  Column42  \\\n",
      "0    1.648729  0.433348 -0.301705  ... -0.033277  0.578205 -0.297783   \n",
      "1    1.660122  0.016629 -0.443651  ... -1.044223  0.268802 -1.830816   \n",
      "2    0.377963  1.775030  1.190644  ...  0.832329  0.889677 -2.410465   \n",
      "3    1.054112 -1.064076 -0.320213  ... -0.111588  1.596294  0.055282   \n",
      "4   -0.591459 -1.564625  0.212175  ...  0.868393  1.615682 -0.761294   \n",
      "..        ...       ...       ...  ...       ...       ...       ...   \n",
      "995  0.452190  0.167963 -1.526252  ... -1.250863  0.090944 -3.758068   \n",
      "996  0.060765  0.396352 -0.155935  ... -0.091424 -1.064795 -1.701863   \n",
      "997  1.119097  0.660479 -0.707855  ... -0.651135 -1.212326 -0.254391   \n",
      "998 -1.588778  1.067917 -0.045083  ... -0.773611 -0.111022 -0.225222   \n",
      "999  1.249017 -1.059783  0.559712  ... -1.410152  0.478364  1.366232   \n",
      "\n",
      "     Column43  Column44  Column45  Column46  Column47  Column48  Column49  \n",
      "0    0.129639 -0.092919 -0.785898  0.345232  0.214055 -0.774131 -0.558599  \n",
      "1   -0.985140  0.012246 -1.214269  0.961029  1.196936 -0.669762 -0.405232  \n",
      "2    0.407182 -0.525727  0.818952  1.283428  1.034845 -0.528676 -0.684645  \n",
      "3   -0.662129  0.588847 -1.095152  0.638904  1.438862 -1.095670 -0.677731  \n",
      "4   -0.701641 -0.043431  0.481374  0.374295  0.274840  0.533454  1.114684  \n",
      "..        ...       ...       ...       ...       ...       ...       ...  \n",
      "995 -0.383917 -0.050733  0.075215 -0.087680  0.222914 -1.740137  1.435459  \n",
      "996 -0.612714  0.705298 -0.129638  0.172047  1.074927  1.496252 -1.405939  \n",
      "997 -0.062884 -0.791213  0.850502 -1.775319 -2.277580  0.669089  1.391522  \n",
      "998  1.992823 -0.465623 -0.741043 -0.184135  0.952666 -0.972999 -0.288968  \n",
      "999 -1.988386  0.797708  1.544016  1.204067  0.216626  0.616618  0.414066  \n",
      "\n",
      "[1000 rows x 50 columns]\n"
     ]
    }
   ],
   "source": [
    "import pandas as pd\n",
    "import numpy as np\n",
    "\n",
    "data = pd.DataFrame(np.random.randn(1000, 50), columns=['Col' + str(i) for i in range(50)])\n",
    "data = data.rename(columns=lambda x: x.replace('Col', 'Column'))\n",
    "\n",
    "print(data)"
   ]
  },
  {
   "cell_type": "markdown",
   "metadata": {},
   "source": [
    "## Section 5: Handling Missing Data\n",
    "\n",
    "### 5.1 - `isnull()`\n",
    "\n",
    "`isnull()` is a function in pandas used to detect missing or NaN values. It returns a DataFrame or Series of boolean values representing whether each element is a NaN or not.\n",
    "\n",
    "**Example 1: Detecting Null Values in a Series**"
   ]
  },
  {
   "cell_type": "code",
   "execution_count": 85,
   "metadata": {},
   "outputs": [
    {
     "name": "stdout",
     "output_type": "stream",
     "text": [
      "0    False\n",
      "1    False\n",
      "2     True\n",
      "3    False\n",
      "4    False\n",
      "dtype: bool\n"
     ]
    }
   ],
   "source": [
    "import pandas as pd\n",
    "import numpy as np\n",
    "\n",
    "s = pd.Series([1, 2, np.nan, 4, 5])\n",
    "print(s.isnull())"
   ]
  },
  {
   "cell_type": "markdown",
   "metadata": {},
   "source": [
    "**Example 2: Detecting Null Values in a DataFrame**"
   ]
  },
  {
   "cell_type": "code",
   "execution_count": 86,
   "metadata": {},
   "outputs": [
    {
     "name": "stdout",
     "output_type": "stream",
     "text": [
      "       A      B\n",
      "0  False  False\n",
      "1  False   True\n",
      "2   True  False\n"
     ]
    }
   ],
   "source": [
    "import pandas as pd\n",
    "import numpy as np\n",
    "\n",
    "df = pd.DataFrame({'A': [1, 2, np.nan], 'B': [4, np.nan, 6]})\n",
    "print(df.isnull())"
   ]
  },
  {
   "cell_type": "markdown",
   "metadata": {},
   "source": [
    "**Example 3: Counting Null Values in a DataFrame**"
   ]
  },
  {
   "cell_type": "code",
   "execution_count": 87,
   "metadata": {},
   "outputs": [
    {
     "name": "stdout",
     "output_type": "stream",
     "text": [
      "A    1\n",
      "B    1\n",
      "dtype: int64\n"
     ]
    }
   ],
   "source": [
    "import pandas as pd\n",
    "import numpy as np\n",
    "\n",
    "df = pd.DataFrame({'A': [1, 2, np.nan], 'B': [4, np.nan, 6]})\n",
    "print(df.isnull().sum())"
   ]
  },
  {
   "cell_type": "markdown",
   "metadata": {},
   "source": [
    "**Example 4: Filtering Out Null Values**"
   ]
  },
  {
   "cell_type": "code",
   "execution_count": 88,
   "metadata": {},
   "outputs": [
    {
     "name": "stdout",
     "output_type": "stream",
     "text": [
      "     A    B\n",
      "0  1.0  4.0\n",
      "1  2.0  NaN\n"
     ]
    }
   ],
   "source": [
    "import pandas as pd\n",
    "import numpy as np\n",
    "\n",
    "df = pd.DataFrame({'A': [1, 2, np.nan], 'B': [4, np.nan, 6]})\n",
    "print(df[df['A'].notnull()])"
   ]
  },
  {
   "cell_type": "markdown",
   "metadata": {},
   "source": [
    "**Example 5: Replacing Null Values**"
   ]
  },
  {
   "cell_type": "code",
   "execution_count": 89,
   "metadata": {},
   "outputs": [
    {
     "name": "stdout",
     "output_type": "stream",
     "text": [
      "     A    B\n",
      "0  1.0  4.0\n",
      "1  2.0  0.0\n",
      "2  0.0  6.0\n"
     ]
    }
   ],
   "source": [
    "import pandas as pd\n",
    "import numpy as np\n",
    "\n",
    "df = pd.DataFrame({'A': [1, 2, np.nan], 'B': [4, np.nan, 6]})\n",
    "df = df.fillna(0)\n",
    "print(df)"
   ]
  },
  {
   "cell_type": "markdown",
   "metadata": {},
   "source": [
    "In this example, `fillna()` method replaces all the NaN values in the DataFrame with 0.\n",
    "\n",
    "### 5.2 - `notnull()`\n",
    "\n",
    "`notnull()` is a function in pandas used to detect existing (non-missing) values. It is the counterpart of `isnull()`. It returns a DataFrame or Series of boolean values representing whether each element is a non-missing or not.\n",
    "\n",
    "**Example 1: Detecting Non-Missing Values in a Series**"
   ]
  },
  {
   "cell_type": "code",
   "execution_count": 90,
   "metadata": {},
   "outputs": [
    {
     "name": "stdout",
     "output_type": "stream",
     "text": [
      "0     True\n",
      "1     True\n",
      "2    False\n",
      "3     True\n",
      "4     True\n",
      "dtype: bool\n"
     ]
    }
   ],
   "source": [
    "import pandas as pd\n",
    "import numpy as np\n",
    "\n",
    "s = pd.Series([1, 2, np.nan, 4, 5])\n",
    "print(s.notnull())"
   ]
  },
  {
   "cell_type": "markdown",
   "metadata": {},
   "source": [
    "**Example 2: Detecting Non-Missing Values in a DataFrame**"
   ]
  },
  {
   "cell_type": "code",
   "execution_count": 91,
   "metadata": {},
   "outputs": [
    {
     "name": "stdout",
     "output_type": "stream",
     "text": [
      "       A      B\n",
      "0   True   True\n",
      "1   True  False\n",
      "2  False   True\n"
     ]
    }
   ],
   "source": [
    "import pandas as pd\n",
    "import numpy as np\n",
    "\n",
    "df = pd.DataFrame({'A': [1, 2, np.nan], 'B': [4, np.nan, 6]})\n",
    "print(df.notnull())"
   ]
  },
  {
   "cell_type": "markdown",
   "metadata": {},
   "source": [
    "**Example 3: Counting Non-Missing Values in a DataFrame**"
   ]
  },
  {
   "cell_type": "code",
   "execution_count": 92,
   "metadata": {},
   "outputs": [
    {
     "name": "stdout",
     "output_type": "stream",
     "text": [
      "A    2\n",
      "B    2\n",
      "dtype: int64\n"
     ]
    }
   ],
   "source": [
    "import pandas as pd\n",
    "import numpy as np\n",
    "\n",
    "df = pd.DataFrame({'A': [1, 2, np.nan], 'B': [4, np.nan, 6]})\n",
    "print(df.notnull().sum())"
   ]
  },
  {
   "cell_type": "markdown",
   "metadata": {},
   "source": [
    "**Example 4: Filtering Out Missing Values**"
   ]
  },
  {
   "cell_type": "code",
   "execution_count": 93,
   "metadata": {},
   "outputs": [
    {
     "name": "stdout",
     "output_type": "stream",
     "text": [
      "     A    B\n",
      "0  1.0  4.0\n",
      "1  2.0  NaN\n"
     ]
    }
   ],
   "source": [
    "import pandas as pd\n",
    "import numpy as np\n",
    "\n",
    "df = pd.DataFrame({'A': [1, 2, np.nan], 'B': [4, np.nan, 6]})\n",
    "print(df[df['A'].notnull()])"
   ]
  },
  {
   "cell_type": "markdown",
   "metadata": {},
   "source": [
    "**Example 5: Replacing Missing Values**"
   ]
  },
  {
   "cell_type": "code",
   "execution_count": 94,
   "metadata": {},
   "outputs": [
    {
     "name": "stdout",
     "output_type": "stream",
     "text": [
      "     A    B\n",
      "0  1.0  4.0\n",
      "1  2.0  0.0\n",
      "2  0.0  6.0\n"
     ]
    }
   ],
   "source": [
    "import pandas as pd\n",
    "import numpy as np\n",
    "\n",
    "df = pd.DataFrame({'A': [1, 2, np.nan], 'B': [4, np.nan, 6]})\n",
    "df = df.fillna(0)\n",
    "print(df)"
   ]
  },
  {
   "cell_type": "markdown",
   "metadata": {},
   "source": [
    "In this example, `fillna()` method replaces all the NaN values in the DataFrame with 0.\n",
    "\n",
    "### 5.3 - `dropna()`\n",
    "\n",
    "`dropna()` is a function in pandas used to remove missing values. It removes the rows or columns with missing values based on the specified method.\n",
    "\n",
    "**Example 1: Dropping Rows with Missing Values**"
   ]
  },
  {
   "cell_type": "code",
   "execution_count": 95,
   "metadata": {},
   "outputs": [
    {
     "name": "stdout",
     "output_type": "stream",
     "text": [
      "     A    B\n",
      "0  1.0  4.0\n"
     ]
    }
   ],
   "source": [
    "import pandas as pd\n",
    "import numpy as np\n",
    "\n",
    "df = pd.DataFrame({'A': [1, np.nan, 3], 'B': [4, 5, np.nan]})\n",
    "df = df.dropna()\n",
    "\n",
    "print(df)"
   ]
  },
  {
   "cell_type": "markdown",
   "metadata": {},
   "source": [
    "**Example 2: Dropping Columns with Missing Values**"
   ]
  },
  {
   "cell_type": "code",
   "execution_count": 96,
   "metadata": {},
   "outputs": [
    {
     "name": "stdout",
     "output_type": "stream",
     "text": [
      "   B\n",
      "0  4\n",
      "1  5\n",
      "2  6\n"
     ]
    }
   ],
   "source": [
    "import pandas as pd\n",
    "import numpy as np\n",
    "\n",
    "df = pd.DataFrame({'A': [1, np.nan, 3], 'B': [4, 5, 6]})\n",
    "df = df.dropna(axis=1)\n",
    "\n",
    "print(df)"
   ]
  },
  {
   "cell_type": "markdown",
   "metadata": {},
   "source": [
    "**Example 3: Dropping Rows with All Missing Values**"
   ]
  },
  {
   "cell_type": "code",
   "execution_count": 98,
   "metadata": {},
   "outputs": [
    {
     "name": "stdout",
     "output_type": "stream",
     "text": [
      "     A    B\n",
      "0  1.0  4.0\n",
      "1  NaN  1.0\n"
     ]
    }
   ],
   "source": [
    "import pandas as pd\n",
    "import numpy as np\n",
    "\n",
    "df = pd.DataFrame({'A': [1, np.nan, np.nan], 'B': [4, 1, np.nan]})\n",
    "df = df.dropna(how='all')\n",
    "\n",
    "print(df)"
   ]
  },
  {
   "cell_type": "markdown",
   "metadata": {},
   "source": [
    "**Example 4: Dropping Rows with Any Missing Values in Specific Columns**"
   ]
  },
  {
   "cell_type": "code",
   "execution_count": 99,
   "metadata": {},
   "outputs": [
    {
     "name": "stdout",
     "output_type": "stream",
     "text": [
      "     A    B\n",
      "0  1.0  4.0\n",
      "1  2.0  NaN\n"
     ]
    }
   ],
   "source": [
    "import pandas as pd\n",
    "import numpy as np\n",
    "\n",
    "df = pd.DataFrame({'A': [1, 2, np.nan], 'B': [4, np.nan, 6]})\n",
    "df = df.dropna(subset=['A'])\n",
    "\n",
    "print(df)"
   ]
  },
  {
   "cell_type": "markdown",
   "metadata": {},
   "source": [
    "**Example 5: Dropping Rows with Missing Values using a Threshold**"
   ]
  },
  {
   "cell_type": "code",
   "execution_count": 100,
   "metadata": {},
   "outputs": [
    {
     "name": "stdout",
     "output_type": "stream",
     "text": [
      "     A    B    C\n",
      "0  1.0  4.0  7.0\n",
      "1  2.0  NaN  8.0\n"
     ]
    }
   ],
   "source": [
    "import pandas as pd\n",
    "import numpy as np\n",
    "\n",
    "df = pd.DataFrame({'A': [1, 2, np.nan, np.nan], 'B': [4, np.nan, 6, np.nan], 'C': [7, 8, np.nan, np.nan]})\n",
    "df = df.dropna(thresh=2)\n",
    "\n",
    "print(df)"
   ]
  },
  {
   "cell_type": "markdown",
   "metadata": {},
   "source": [
    "In this example, `dropna(thresh=2)` removes rows that have 2 or more non-NA values.\n",
    "\n",
    "### 5.4 - `fillna()`\n",
    "\n",
    "The `fillna()` function in pandas is used to fill NA/NaN values using the specified method.\n",
    "\n",
    "**Example 1: Filling NaN Values with Zero**"
   ]
  },
  {
   "cell_type": "code",
   "execution_count": 101,
   "metadata": {},
   "outputs": [
    {
     "name": "stdout",
     "output_type": "stream",
     "text": [
      "     A    B\n",
      "0  1.0  4.0\n",
      "1  0.0  0.0\n",
      "2  3.0  6.0\n"
     ]
    }
   ],
   "source": [
    "import pandas as pd\n",
    "import numpy as np\n",
    "\n",
    "df = pd.DataFrame({'A': [1, np.nan, 3], 'B': [4, np.nan, 6]})\n",
    "df = df.fillna(0)\n",
    "\n",
    "print(df)"
   ]
  },
  {
   "cell_type": "markdown",
   "metadata": {},
   "source": [
    "**Example 2: Using Forward Fill Method to Fill NaN Values**"
   ]
  },
  {
   "cell_type": "code",
   "execution_count": 102,
   "metadata": {},
   "outputs": [
    {
     "name": "stdout",
     "output_type": "stream",
     "text": [
      "     A    B\n",
      "0  1.0  4.0\n",
      "1  1.0  4.0\n",
      "2  3.0  6.0\n"
     ]
    },
    {
     "name": "stderr",
     "output_type": "stream",
     "text": [
      "/var/folders/ng/r2tzgry96c3cm_rbns2hw5jr0000gn/T/ipykernel_62968/22524316.py:5: FutureWarning: DataFrame.fillna with 'method' is deprecated and will raise in a future version. Use obj.ffill() or obj.bfill() instead.\n",
      "  df = df.fillna(method='ffill')\n"
     ]
    }
   ],
   "source": [
    "import pandas as pd\n",
    "import numpy as np\n",
    "\n",
    "df = pd.DataFrame({'A': [1, np.nan, 3], 'B': [4, np.nan, 6]})\n",
    "df = df.fillna(method='ffill')\n",
    "\n",
    "print(df)"
   ]
  },
  {
   "cell_type": "markdown",
   "metadata": {},
   "source": [
    "**Example 3: Using Backward Fill Method to Fill NaN Values**"
   ]
  },
  {
   "cell_type": "code",
   "execution_count": 103,
   "metadata": {},
   "outputs": [
    {
     "name": "stdout",
     "output_type": "stream",
     "text": [
      "     A    B\n",
      "0  1.0  4.0\n",
      "1  3.0  6.0\n",
      "2  3.0  6.0\n"
     ]
    },
    {
     "name": "stderr",
     "output_type": "stream",
     "text": [
      "/var/folders/ng/r2tzgry96c3cm_rbns2hw5jr0000gn/T/ipykernel_62968/2899417932.py:5: FutureWarning: DataFrame.fillna with 'method' is deprecated and will raise in a future version. Use obj.ffill() or obj.bfill() instead.\n",
      "  df = df.fillna(method='bfill')\n"
     ]
    }
   ],
   "source": [
    "import pandas as pd\n",
    "import numpy as np\n",
    "\n",
    "df = pd.DataFrame({'A': [1, np.nan, 3], 'B': [4, np.nan, 6]})\n",
    "df = df.fillna(method='bfill')\n",
    "\n",
    "print(df)"
   ]
  },
  {
   "cell_type": "markdown",
   "metadata": {},
   "source": [
    "**Example 4: Filling NaN Values by Mean of the Column**"
   ]
  },
  {
   "cell_type": "code",
   "execution_count": 104,
   "metadata": {},
   "outputs": [
    {
     "name": "stdout",
     "output_type": "stream",
     "text": [
      "     A    B\n",
      "0  1.0  4.0\n",
      "1  2.0  NaN\n",
      "2  3.0  6.0\n"
     ]
    }
   ],
   "source": [
    "import pandas as pd\n",
    "import numpy as np\n",
    "\n",
    "df = pd.DataFrame({'A': [1, np.nan, 3], 'B': [4, np.nan, 6]})\n",
    "df['A'] = df['A'].fillna(df['A'].mean())\n",
    "\n",
    "print(df)"
   ]
  },
  {
   "cell_type": "markdown",
   "metadata": {},
   "source": [
    "**Example 5: Filling NaN Values by Interpolation**"
   ]
  },
  {
   "cell_type": "code",
   "execution_count": 105,
   "metadata": {},
   "outputs": [
    {
     "name": "stdout",
     "output_type": "stream",
     "text": [
      "     A\n",
      "0  1.0\n",
      "1  2.0\n",
      "2  3.0\n",
      "3  3.0\n"
     ]
    }
   ],
   "source": [
    "import pandas as pd\n",
    "import numpy as np\n",
    "\n",
    "df = pd.DataFrame({'A': [1, np.nan, 3, np.nan]})\n",
    "df['A'] = df['A'].interpolate()\n",
    "\n",
    "print(df)"
   ]
  },
  {
   "cell_type": "markdown",
   "metadata": {},
   "source": [
    "## Section 6: DataFrame Operations\n",
    "\n",
    "### 6.1 - Mathematical operations on DataFrame\n",
    "\n",
    "Pandas DataFrame allows us to perform various mathematical operations on the data. We can perform operations on an entire DataFrame, individual series, or between two series. Here are some examples:\n",
    "\n",
    "**Example 1: Addition**"
   ]
  },
  {
   "cell_type": "code",
   "execution_count": 106,
   "metadata": {},
   "outputs": [
    {
     "name": "stdout",
     "output_type": "stream",
     "text": [
      "   A  B  C\n",
      "0  1  4  5\n",
      "1  2  5  7\n",
      "2  3  6  9\n"
     ]
    }
   ],
   "source": [
    "import pandas as pd\n",
    "\n",
    "df = pd.DataFrame({'A': [1, 2, 3], 'B': [4, 5, 6]})\n",
    "df['C'] = df['A'] + df['B']\n",
    "\n",
    "print(df)"
   ]
  },
  {
   "cell_type": "markdown",
   "metadata": {},
   "source": [
    "**Example 2: Subtraction**"
   ]
  },
  {
   "cell_type": "code",
   "execution_count": 107,
   "metadata": {},
   "outputs": [
    {
     "name": "stdout",
     "output_type": "stream",
     "text": [
      "   A  B  C\n",
      "0  1  4  3\n",
      "1  2  5  3\n",
      "2  3  6  3\n"
     ]
    }
   ],
   "source": [
    "import pandas as pd\n",
    "\n",
    "df = pd.DataFrame({'A': [1, 2, 3], 'B': [4, 5, 6]})\n",
    "df['C'] = df['B'] - df['A']\n",
    "\n",
    "print(df)"
   ]
  },
  {
   "cell_type": "markdown",
   "metadata": {},
   "source": [
    "**Example 3: Addition Between DataFrames**"
   ]
  },
  {
   "cell_type": "code",
   "execution_count": 108,
   "metadata": {},
   "outputs": [
    {
     "name": "stdout",
     "output_type": "stream",
     "text": [
      "    A   B\n",
      "0   8  14\n",
      "1  10  16\n",
      "2  12  18\n"
     ]
    }
   ],
   "source": [
    "import pandas as pd\n",
    "\n",
    "df1 = pd.DataFrame({'A': [1, 2, 3], 'B': [4, 5, 6]})\n",
    "df2 = pd.DataFrame({'A': [7, 8, 9], 'B': [10, 11, 12]})\n",
    "df3 = df1 + df2\n",
    "\n",
    "print(df3)"
   ]
  },
  {
   "cell_type": "markdown",
   "metadata": {},
   "source": [
    "**Example 4: Division by a Scalar**"
   ]
  },
  {
   "cell_type": "code",
   "execution_count": 109,
   "metadata": {},
   "outputs": [
    {
     "name": "stdout",
     "output_type": "stream",
     "text": [
      "     A    B\n",
      "0  0.5  2.0\n",
      "1  1.0  2.5\n",
      "2  1.5  3.0\n"
     ]
    }
   ],
   "source": [
    "import pandas as pd\n",
    "\n",
    "df = pd.DataFrame({'A': [1, 2, 3], 'B': [4, 5, 6]})\n",
    "df = df / 2\n",
    "\n",
    "print(df)"
   ]
  },
  {
   "cell_type": "markdown",
   "metadata": {},
   "source": [
    "**Example 5: Applying a Function**"
   ]
  },
  {
   "cell_type": "code",
   "execution_count": 110,
   "metadata": {},
   "outputs": [
    {
     "name": "stdout",
     "output_type": "stream",
     "text": [
      "   A   B\n",
      "0  1  16\n",
      "1  4  25\n",
      "2  9  36\n"
     ]
    }
   ],
   "source": [
    "import pandas as pd\n",
    "import numpy as np\n",
    "\n",
    "df = pd.DataFrame({'A': [1, 2, 3], 'B': [4, 5, 6]})\n",
    "df = df.apply(np.square)\n",
    "\n",
    "print(df)"
   ]
  },
  {
   "cell_type": "markdown",
   "metadata": {},
   "source": [
    "In this example, the `apply()` function is used to apply the `np.square` function to every element in the DataFrame. This squares the value of each element in the DataFrame.\n",
    "\n",
    "### 6.2 - Applying functions to a DataFrame\n",
    "\n",
    "Applying functions to a DataFrame is a powerful tool in pandas which lets us manipulate data in a DataFrame using our custom functions or built-in Python functions.\n",
    "\n",
    "**Example 1: Applying a Function to Each Element**"
   ]
  },
  {
   "cell_type": "code",
   "execution_count": 111,
   "metadata": {},
   "outputs": [
    {
     "name": "stdout",
     "output_type": "stream",
     "text": [
      "   A   B\n",
      "0  1  16\n",
      "1  4  25\n",
      "2  9  36\n"
     ]
    },
    {
     "name": "stderr",
     "output_type": "stream",
     "text": [
      "/var/folders/ng/r2tzgry96c3cm_rbns2hw5jr0000gn/T/ipykernel_62968/938354110.py:7: FutureWarning: DataFrame.applymap has been deprecated. Use DataFrame.map instead.\n",
      "  df = df.applymap(square)\n"
     ]
    }
   ],
   "source": [
    "import pandas as pd\n",
    "\n",
    "def square(x):\n",
    "    return x**2\n",
    "\n",
    "df = pd.DataFrame({'A': [1, 2, 3], 'B': [4, 5, 6]})\n",
    "df = df.applymap(square)\n",
    "\n",
    "print(df)"
   ]
  },
  {
   "cell_type": "markdown",
   "metadata": {},
   "source": [
    "**Example 2: Applying a Function to Each Column**"
   ]
  },
  {
   "cell_type": "code",
   "execution_count": 112,
   "metadata": {},
   "outputs": [
    {
     "name": "stdout",
     "output_type": "stream",
     "text": [
      "A     6\n",
      "B    15\n",
      "C    24\n",
      "dtype: int64\n"
     ]
    }
   ],
   "source": [
    "import pandas as pd\n",
    "\n",
    "df = pd.DataFrame({\n",
    "    'A': [1, 2, 3],\n",
    "    'B': [4, 5, 6],\n",
    "    'C': [7, 8, 9]\n",
    "})\n",
    "df = df.apply(sum, axis=0)\n",
    "\n",
    "print(df)"
   ]
  },
  {
   "cell_type": "markdown",
   "metadata": {},
   "source": [
    "**Example 3: Applying a Function to Each Row**"
   ]
  },
  {
   "cell_type": "code",
   "execution_count": 113,
   "metadata": {},
   "outputs": [
    {
     "name": "stdout",
     "output_type": "stream",
     "text": [
      "0    12\n",
      "1    15\n",
      "2    18\n",
      "dtype: int64\n"
     ]
    }
   ],
   "source": [
    "import pandas as pd\n",
    "\n",
    "df = pd.DataFrame({\n",
    "    'A': [1, 2, 3],\n",
    "    'B': [4, 5, 6],\n",
    "    'C': [7, 8, 9]\n",
    "})\n",
    "df = df.apply(sum, axis=1)\n",
    "\n",
    "print(df)"
   ]
  },
  {
   "cell_type": "markdown",
   "metadata": {},
   "source": [
    "**Example 4: Applying a Function Conditionally**"
   ]
  },
  {
   "cell_type": "code",
   "execution_count": 114,
   "metadata": {},
   "outputs": [
    {
     "name": "stdout",
     "output_type": "stream",
     "text": [
      "      A  B\n",
      "0   Low  4\n",
      "1   Low  6\n",
      "2  High  9\n"
     ]
    }
   ],
   "source": [
    "import pandas as pd\n",
    "\n",
    "def check(x):\n",
    "    return 'High' if x > 5 else 'Low'\n",
    "\n",
    "df = pd.DataFrame({'A': [1, 2, 8], 'B': [4, 6, 9]})\n",
    "df['A'] = df['A'].apply(check)\n",
    "\n",
    "print(df)"
   ]
  },
  {
   "cell_type": "markdown",
   "metadata": {},
   "source": [
    "**Example 5: Applying a Function That Returns Multiple Values**"
   ]
  },
  {
   "cell_type": "code",
   "execution_count": 115,
   "metadata": {},
   "outputs": [
    {
     "name": "stdout",
     "output_type": "stream",
     "text": [
      "        A    B\n",
      "min   1.0  4.0\n",
      "max   3.0  6.0\n",
      "mean  2.0  5.0\n"
     ]
    }
   ],
   "source": [
    "import pandas as pd\n",
    "\n",
    "def calculate(x):\n",
    "    return pd.Series([x.min(), x.max(), x.mean()], index=['min', 'max', 'mean'])\n",
    "\n",
    "df = pd.DataFrame({'A': [1, 2, 3], 'B': [4, 5, 6]})\n",
    "df = df.apply(calculate)\n",
    "\n",
    "print(df)"
   ]
  },
  {
   "cell_type": "markdown",
   "metadata": {},
   "source": [
    "In this example, the `calculate` function is applied to each column in the DataFrame and it returns a Series with multiple values. The result is a DataFrame where each column represents the results of the applied function for the corresponding column in the original DataFrame.\n",
    "\n",
    "### 6.3 - Grouping and aggregating data\n",
    "\n",
    "Grouping and aggregating data in a DataFrame is a fundamental task in data analysis. It involves combining multiple rows into a single row based on some criteria.\n",
    "\n",
    "**Example 1: Grouping Data by a Single Column**"
   ]
  },
  {
   "cell_type": "code",
   "execution_count": 116,
   "metadata": {},
   "outputs": [
    {
     "name": "stdout",
     "output_type": "stream",
     "text": [
      "               B   C    D\n",
      "A                        \n",
      "bar  onethreetwo  12  120\n",
      "foo    onetwotwo   9   90\n"
     ]
    }
   ],
   "source": [
    "import pandas as pd\n",
    "\n",
    "df = pd.DataFrame({\n",
    "    'A': ['foo', 'bar', 'foo', 'bar', 'foo', 'bar'],\n",
    "    'B': ['one', 'one', 'two', 'three', 'two', 'two'],\n",
    "    'C': [1, 2, 3, 4, 5, 6],\n",
    "    'D': [10, 20, 30, 40, 50, 60]\n",
    "})\n",
    "\n",
    "grouped = df.groupby('A')\n",
    "\n",
    "print(grouped.sum())"
   ]
  },
  {
   "cell_type": "markdown",
   "metadata": {},
   "source": [
    "**Example 2: Grouping Data by Multiple Columns**"
   ]
  },
  {
   "cell_type": "code",
   "execution_count": 117,
   "metadata": {},
   "outputs": [
    {
     "name": "stdout",
     "output_type": "stream",
     "text": [
      "             C     D\n",
      "A   B               \n",
      "bar one    2.0  20.0\n",
      "    three  4.0  40.0\n",
      "    two    6.0  60.0\n",
      "foo one    1.0  10.0\n",
      "    two    4.0  40.0\n"
     ]
    }
   ],
   "source": [
    "import pandas as pd\n",
    "\n",
    "df = pd.DataFrame({\n",
    "    'A': ['foo', 'bar', 'foo', 'bar', 'foo', 'bar'],\n",
    "    'B': ['one', 'one', 'two', 'three', 'two', 'two'],\n",
    "    'C': [1, 2, 3, 4, 5, 6],\n",
    "    'D': [10, 20, 30, 40, 50, 60]\n",
    "})\n",
    "\n",
    "grouped = df.groupby(['A', 'B'])\n",
    "\n",
    "print(grouped.mean())"
   ]
  },
  {
   "cell_type": "markdown",
   "metadata": {},
   "source": [
    "**Example 3: Grouping with a Function**"
   ]
  },
  {
   "cell_type": "code",
   "execution_count": 118,
   "metadata": {},
   "outputs": [
    {
     "name": "stdout",
     "output_type": "stream",
     "text": [
      "               A            B   C    D\n",
      "False  barbarbar  onethreetwo  12  120\n",
      "True   foofoofoo    onetwotwo   9   90\n"
     ]
    }
   ],
   "source": [
    "import pandas as pd\n",
    "\n",
    "df = pd.DataFrame({\n",
    "    'A': ['foo', 'bar', 'foo', 'bar', 'foo', 'bar'],\n",
    "    'B': ['one', 'one', 'two', 'three', 'two', 'two'],\n",
    "    'C': [1, 2, 3, 4, 5, 6],\n",
    "    'D': [10, 20, 30, 40, 50, 60]\n",
    "})\n",
    "\n",
    "grouped = df.groupby(lambda x: x % 2 == 0)\n",
    "\n",
    "print(grouped.sum())"
   ]
  },
  {
   "cell_type": "markdown",
   "metadata": {},
   "source": [
    "**Example 4: Grouping by Index Levels**"
   ]
  },
  {
   "cell_type": "code",
   "execution_count": 119,
   "metadata": {},
   "outputs": [
    {
     "name": "stdout",
     "output_type": "stream",
     "text": [
      "      C    D\n",
      "A           \n",
      "bar  12  120\n",
      "foo   9   90\n"
     ]
    }
   ],
   "source": [
    "import pandas as pd\n",
    "\n",
    "df = pd.DataFrame({\n",
    "    'A': ['foo', 'bar', 'foo', 'bar', 'foo', 'bar'],\n",
    "    'B': ['one', 'one', 'two', 'three', 'two', 'two'],\n",
    "    'C': [1, 2, 3, 4, 5, 6],\n",
    "    'D': [10, 20, 30, 40, 50, 60]\n",
    "})\n",
    "\n",
    "df = df.set_index(['A', 'B'])\n",
    "\n",
    "grouped = df.groupby(level=df.index.names.difference(['B']))\n",
    "\n",
    "print(grouped.sum())"
   ]
  },
  {
   "cell_type": "markdown",
   "metadata": {},
   "source": [
    "**Example 5: Aggregating Data**"
   ]
  },
  {
   "cell_type": "code",
   "execution_count": 120,
   "metadata": {},
   "outputs": [
    {
     "name": "stdout",
     "output_type": "stream",
     "text": [
      "      C                  D\n",
      "    sum min max mean  mean\n",
      "A                         \n",
      "bar  12   2   6  4.0  40.0\n",
      "foo   9   1   5  3.0  30.0\n"
     ]
    }
   ],
   "source": [
    "import pandas as pd\n",
    "\n",
    "df = pd.DataFrame({\n",
    "    'A': ['foo', 'bar', 'foo', 'bar', 'foo', 'bar'],\n",
    "    'B': ['one', 'one', 'two', 'three', 'two', 'two'],\n",
    "    'C': [1, 2, 3, 4, 5, 6],\n",
    "    'D': [10, 20, 30, 40, 50, 60]\n",
    "})\n",
    "\n",
    "grouped = df.groupby('A')\n",
    "\n",
    "print(grouped.agg({\n",
    "    'C': ['sum', 'min', 'max', 'mean'],\n",
    "    'D': ['mean']\n",
    "}))"
   ]
  },
  {
   "cell_type": "markdown",
   "metadata": {},
   "source": [
    "In this example, the `agg()` function is used to apply different aggregations to different columns in the DataFrame.\n",
    "\n",
    "## Challenge\n",
    "\n",
    "Create a `DataFrameManipulator` class that has the following methods:\n",
    "\n",
    "- An `add_column` method that takes a DataFrame, column name, and data (list or array) and adds the data as a new column to the DataFrame.\n",
    "- A `rename_column` method that takes a DataFrame, old column name, and new column name and renames the specified column.\n",
    "- A `drop_column` method that takes a DataFrame and a column name and removes the specified column from the DataFrame.\n",
    "\n",
    "### Output Format\n",
    "\n",
    "- The `add_column`, `rename_column` and `drop_column` methods must return the modified DataFrame.\n",
    "\n",
    "### Explanation\n",
    "\n",
    "Consider the following code:\n",
    "\n",
    "```python\n",
    "import pandas as pd\n",
    "\n",
    "# Create a DataFrame\n",
    "df = pd.DataFrame({'A': [1, 2, 3], 'B': [4, 5, 6]})\n",
    "\n",
    "# Create a DataFrameManipulator object\n",
    "manipulator = DataFrameManipulator()\n",
    "\n",
    "# Add a column\n",
    "df = manipulator.add_column(df, 'C', [7, 8, 9])\n",
    "print(df)\n",
    "\n",
    "# Rename a column\n",
    "df = manipulator.rename_column(df, 'A', 'X')\n",
    "print(df)\n",
    "\n",
    "# Drop a column\n",
    "df = manipulator.drop_column(df, 'B')\n",
    "print(df)\n",
    "\n",
    "```\n",
    "\n",
    "When executed with a properly implemented DataFrameManipulator class, this code should print:\n",
    "\n",
    "```\n",
    "   A  B  C\n",
    "0  1  4  7\n",
    "1  2  5  8\n",
    "2  3  6  9\n",
    "\n",
    "```\n",
    "\n",
    "```\n",
    "   X  B  C\n",
    "0  1  4  7\n",
    "1  2  5  8\n",
    "2  3  6  9\n",
    "\n",
    "```\n",
    "\n",
    "```\n",
    "   X  C\n",
    "0  1  7\n",
    "1  2  8\n",
    "2  3  9\n",
    "\n",
    "```"
   ]
  },
  {
   "cell_type": "code",
   "execution_count": null,
   "metadata": {},
   "outputs": [],
   "source": [
    "### WRITE YOUR CODE BELOW THIS LINE ###\n",
    "\n",
    "\n",
    "### WRITE YOUR CODE ABOVE THIS LINE ###"
   ]
  }
 ],
 "metadata": {
  "kernelspec": {
   "display_name": "aia",
   "language": "python",
   "name": "python3"
  },
  "language_info": {
   "codemirror_mode": {
    "name": "ipython",
    "version": 3
   },
   "file_extension": ".py",
   "mimetype": "text/x-python",
   "name": "python",
   "nbconvert_exporter": "python",
   "pygments_lexer": "ipython3",
   "version": "3.10.13"
  }
 },
 "nbformat": 4,
 "nbformat_minor": 2
}
