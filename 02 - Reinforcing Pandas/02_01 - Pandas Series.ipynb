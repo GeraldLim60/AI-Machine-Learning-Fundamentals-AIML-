{
 "cells": [
  {
   "cell_type": "markdown",
   "metadata": {},
   "source": [
    "# 02.01 - Pandas Series"
   ]
  },
  {
   "cell_type": "markdown",
   "metadata": {},
   "source": [
    "## Introduction\n",
    "\n",
    "Pandas is a data manipulation and analysis library in Python. It provides data structures and functions needed to manipulate structured data. The key data structures in Pandas are Series and DataFrame. In this notebook, we'll be focusing on Series, a one-dimensional labeled array capable of holding any data type.\n",
    "\n",
    "We will be covering the following topics:\n",
    "\n",
    "1. **Creating a Pandas Series** - Here, we will learn how to create a Pandas Series from various data types like lists, dictionaries, and NumPy arrays.\n",
    "2. **Accessing Elements in a Series** - This involves retrieving data from a series, either by using the index or label.\n",
    "3. **Operations on Series** - We will cover how to perform mathematical and boolean operations on a series.\n",
    "4. **Handling Missing Data in Series** - This section deals with identifying and handling missing or null data in a series.\n",
    "5. **Series Functions** - We'll learn about various built-in Series functions like .describe(), .count(), and .value_counts().\n",
    "\n",
    "Understanding these basics of Pandas Series is crucial when dealing with data manipulation and analysis in Python.\n",
    "\n",
    "## Section 1: Creating a Pandas Series\n",
    "\n",
    "### 1.1 - From a List\n",
    "\n",
    "Pandas Series can be created from list data structures in Python. The index of the series will be the default integer index.\n",
    "\n",
    "**Example 1: Creating a Simple Series from a List**"
   ]
  },
  {
   "cell_type": "code",
   "execution_count": 2,
   "metadata": {},
   "outputs": [
    {
     "name": "stdout",
     "output_type": "stream",
     "text": [
      "0    1\n",
      "1    2\n",
      "2    3\n",
      "3    4\n",
      "4    5\n",
      "dtype: int64\n"
     ]
    }
   ],
   "source": [
    "import pandas as pd\n",
    "\n",
    "data = [1, 2, 3, 4, 5]\n",
    "series = pd.Series(data)\n",
    "\n",
    "print(series)\n",
    "# Output:\n",
    "# 0    1\n",
    "# 1    2\n",
    "# 2    3\n",
    "# 3    4\n",
    "# 4    5\n",
    "# dtype: int64"
   ]
  },
  {
   "cell_type": "markdown",
   "metadata": {},
   "source": [
    "**Example 2: Creating a Series from a List with a Custom Index**"
   ]
  },
  {
   "cell_type": "code",
   "execution_count": 3,
   "metadata": {},
   "outputs": [
    {
     "name": "stdout",
     "output_type": "stream",
     "text": [
      "a    1\n",
      "b    2\n",
      "c    3\n",
      "d    4\n",
      "e    5\n",
      "dtype: int64\n"
     ]
    }
   ],
   "source": [
    "import pandas as pd\n",
    "\n",
    "data = [1, 2, 3, 4, 5]\n",
    "index = ['a', 'b', 'c', 'd', 'e']\n",
    "series = pd.Series(data, index=index)\n",
    "\n",
    "print(series)\n",
    "# Output:\n",
    "# a    1\n",
    "# b    2\n",
    "# c    3\n",
    "# d    4\n",
    "# e    5\n",
    "# dtype: int64"
   ]
  },
  {
   "cell_type": "markdown",
   "metadata": {},
   "source": [
    "**Example 3: Creating a Series from a List of Different Data Types**"
   ]
  },
  {
   "cell_type": "code",
   "execution_count": 4,
   "metadata": {},
   "outputs": [
    {
     "name": "stdout",
     "output_type": "stream",
     "text": [
      "0       1\n",
      "1     two\n",
      "2     3.0\n",
      "3    four\n",
      "4       5\n",
      "dtype: object\n"
     ]
    }
   ],
   "source": [
    "import pandas as pd\n",
    "\n",
    "data = [1, \"two\", 3.0, \"four\", 5]\n",
    "series = pd.Series(data)\n",
    "\n",
    "print(series)\n",
    "# Output:\n",
    "# 0       1\n",
    "# 1     two\n",
    "# 2     3.0\n",
    "# 3    four\n",
    "# 4       5\n",
    "# dtype: object"
   ]
  },
  {
   "cell_type": "markdown",
   "metadata": {},
   "source": [
    "**Example 4: Creating a Series from a List of Objects**"
   ]
  },
  {
   "cell_type": "code",
   "execution_count": 5,
   "metadata": {},
   "outputs": [
    {
     "name": "stdout",
     "output_type": "stream",
     "text": [
      "0    <__main__.CustomObject object at 0x10f406cb0>\n",
      "1    <__main__.CustomObject object at 0x12fcfcc10>\n",
      "2    <__main__.CustomObject object at 0x12fcfd000>\n",
      "dtype: object\n"
     ]
    }
   ],
   "source": [
    "import pandas as pd\n",
    "\n",
    "class CustomObject:\n",
    "    def __init__(self, name):\n",
    "        self.name = name\n",
    "\n",
    "data = [CustomObject(\"Object1\"), CustomObject(\"Object2\"), CustomObject(\"Object3\")]\n",
    "series = pd.Series(data)\n",
    "\n",
    "print(series)\n",
    "# Output:\n",
    "# 0    <__main__.CustomObject object at 0x10f406cb0>\n",
    "# 1    <__main__.CustomObject object at 0x12fcfcc10>\n",
    "# 2    <__main__.CustomObject object at 0x12fcfd000>\n",
    "# dtype: object"
   ]
  },
  {
   "cell_type": "markdown",
   "metadata": {},
   "source": [
    "**Example 5: Creating a Series from a List with Missing Values**"
   ]
  },
  {
   "cell_type": "code",
   "execution_count": 6,
   "metadata": {},
   "outputs": [
    {
     "name": "stdout",
     "output_type": "stream",
     "text": [
      "0    1.0\n",
      "1    2.0\n",
      "2    NaN\n",
      "3    4.0\n",
      "4    5.0\n",
      "dtype: float64\n"
     ]
    }
   ],
   "source": [
    "import pandas as pd\n",
    "\n",
    "data = [1, 2, None, 4, 5]\n",
    "series = pd.Series(data)\n",
    "\n",
    "print(series)\n",
    "# Output:\n",
    "# 0    1.0\n",
    "# 1    2.0\n",
    "# 2    NaN\n",
    "# 3    4.0\n",
    "# 4    5.0\n",
    "# dtype: float64"
   ]
  },
  {
   "cell_type": "markdown",
   "metadata": {},
   "source": [
    "### 1.2 - From a Dictionary\n",
    "\n",
    "Pandas Series can also be created from dictionary data structures in Python. The keys of the dictionary would become the index of the series, and the values of the dictionary would become the values of the series.\n",
    "\n",
    "**Example 1: Creating a Simple Series from a Dictionary**"
   ]
  },
  {
   "cell_type": "code",
   "execution_count": 7,
   "metadata": {},
   "outputs": [
    {
     "name": "stdout",
     "output_type": "stream",
     "text": [
      "a    1\n",
      "b    2\n",
      "c    3\n",
      "dtype: int64\n"
     ]
    }
   ],
   "source": [
    "import pandas as pd\n",
    "\n",
    "data = {'a': 1, 'b': 2, 'c': 3}\n",
    "series = pd.Series(data)\n",
    "\n",
    "print(series)\n",
    "# Output:\n",
    "# a    1\n",
    "# b    2\n",
    "# c    3\n",
    "# dtype: int64"
   ]
  },
  {
   "cell_type": "markdown",
   "metadata": {},
   "source": [
    "**Example 2: Creating a Series from a Dictionary with Missing Values**"
   ]
  },
  {
   "cell_type": "code",
   "execution_count": 8,
   "metadata": {},
   "outputs": [
    {
     "name": "stdout",
     "output_type": "stream",
     "text": [
      "a    1.0\n",
      "b    2.0\n",
      "c    NaN\n",
      "dtype: float64\n"
     ]
    }
   ],
   "source": [
    "import pandas as pd\n",
    "\n",
    "data = {'a': 1, 'b': 2, 'c': None}\n",
    "series = pd.Series(data)\n",
    "\n",
    "print(series)\n",
    "# Output:\n",
    "# a    1.0\n",
    "# b    2.0\n",
    "# c    NaN\n",
    "# dtype: float64"
   ]
  },
  {
   "cell_type": "markdown",
   "metadata": {},
   "source": [
    "**Example 3: Creating a Series from a Dictionary with Different Data Types**"
   ]
  },
  {
   "cell_type": "code",
   "execution_count": 9,
   "metadata": {},
   "outputs": [
    {
     "name": "stdout",
     "output_type": "stream",
     "text": [
      "a       1\n",
      "b     two\n",
      "c     3.0\n",
      "d    None\n",
      "dtype: object\n"
     ]
    }
   ],
   "source": [
    "import pandas as pd\n",
    "\n",
    "data = {'a': 1, 'b': \"two\", 'c': 3.0, 'd': None}\n",
    "series = pd.Series(data)\n",
    "\n",
    "print(series)\n",
    "# Output:\n",
    "# a      1\n",
    "# b    two\n",
    "# c    3.0\n",
    "# d   None\n",
    "# dtype: object"
   ]
  },
  {
   "cell_type": "markdown",
   "metadata": {},
   "source": [
    "**Example 4: Creating a Series from a Dictionary of Objects**"
   ]
  },
  {
   "cell_type": "code",
   "execution_count": 10,
   "metadata": {},
   "outputs": [
    {
     "name": "stdout",
     "output_type": "stream",
     "text": [
      "obj1    <__main__.CustomObject object at 0x10f406e90>\n",
      "obj2    <__main__.CustomObject object at 0x12fcfdf00>\n",
      "obj3    <__main__.CustomObject object at 0x12fcfcc10>\n",
      "dtype: object\n"
     ]
    }
   ],
   "source": [
    "import pandas as pd\n",
    "\n",
    "class CustomObject:\n",
    "    def __init__(self, name):\n",
    "        self.name = name\n",
    "\n",
    "data = {'obj1': CustomObject(\"Object1\"), 'obj2': CustomObject(\"Object2\"), 'obj3': CustomObject(\"Object3\")}\n",
    "series = pd.Series(data)\n",
    "\n",
    "print(series)\n",
    "# Output:\n",
    "# obj1    <__main__.CustomObject object at 0x10f406e90>\n",
    "# obj2    <__main__.CustomObject object at 0x12fcfdf00>\n",
    "# obj3    <__main__.CustomObject object at 0x12fcfcc10>\n",
    "# dtype: object"
   ]
  },
  {
   "cell_type": "markdown",
   "metadata": {},
   "source": [
    "**Example 5: Creating a Series from a Dictionary with a Custom Index**\n",
    "\n",
    "If a custom index is provided, it will override the dictionary keys. Missing values are filled with `NaN`."
   ]
  },
  {
   "cell_type": "code",
   "execution_count": 11,
   "metadata": {},
   "outputs": [
    {
     "name": "stdout",
     "output_type": "stream",
     "text": [
      "a    1.0\n",
      "b    2.0\n",
      "d    NaN\n",
      "dtype: float64\n"
     ]
    }
   ],
   "source": [
    "import pandas as pd\n",
    "\n",
    "data = {'a': 1, 'b': 2, 'c': 3}\n",
    "index = ['a', 'b', 'd']\n",
    "series = pd.Series(data, index=index)\n",
    "\n",
    "print(series)\n",
    "# Output:\n",
    "# a    1.0\n",
    "# b    2.0\n",
    "# d    NaN\n",
    "# dtype: float64"
   ]
  },
  {
   "cell_type": "markdown",
   "metadata": {},
   "source": [
    "### 1.3 - From a NumPy Array\n",
    "\n",
    "Pandas Series can also be created from NumPy arrays. The index of the series will be the default integer index.\n",
    "\n",
    "**Example 1: Creating a Simple Series from a NumPy Array**"
   ]
  },
  {
   "cell_type": "code",
   "execution_count": 12,
   "metadata": {},
   "outputs": [
    {
     "name": "stdout",
     "output_type": "stream",
     "text": [
      "0    1\n",
      "1    2\n",
      "2    3\n",
      "3    4\n",
      "4    5\n",
      "dtype: int64\n"
     ]
    }
   ],
   "source": [
    "import pandas as pd\n",
    "import numpy as np\n",
    "\n",
    "data = np.array([1, 2, 3, 4, 5])\n",
    "series = pd.Series(data)\n",
    "\n",
    "print(series)\n",
    "# Output:\n",
    "# 0    1\n",
    "# 1    2\n",
    "# 2    3\n",
    "# 3    4\n",
    "# 4    5\n",
    "# dtype: int32"
   ]
  },
  {
   "cell_type": "markdown",
   "metadata": {},
   "source": [
    "**Example 2: Creating a Series from a NumPy Array with a Custom Index**"
   ]
  },
  {
   "cell_type": "code",
   "execution_count": 13,
   "metadata": {},
   "outputs": [
    {
     "name": "stdout",
     "output_type": "stream",
     "text": [
      "a    1\n",
      "b    2\n",
      "c    3\n",
      "d    4\n",
      "e    5\n",
      "dtype: int64\n"
     ]
    }
   ],
   "source": [
    "import pandas as pd\n",
    "import numpy as np\n",
    "\n",
    "data = np.array([1, 2, 3, 4, 5])\n",
    "index = ['a', 'b', 'c', 'd', 'e']\n",
    "series = pd.Series(data, index=index)\n",
    "\n",
    "print(series)\n",
    "# Output:\n",
    "# a    1\n",
    "# b    2\n",
    "# c    3\n",
    "# d    4\n",
    "# e    5\n",
    "# dtype: int64"
   ]
  },
  {
   "cell_type": "markdown",
   "metadata": {},
   "source": [
    "**Example 3: Creating a Series from a NumPy Array of Different Data Types**"
   ]
  },
  {
   "cell_type": "code",
   "execution_count": 14,
   "metadata": {},
   "outputs": [
    {
     "name": "stdout",
     "output_type": "stream",
     "text": [
      "0       1\n",
      "1     two\n",
      "2     3.0\n",
      "3    four\n",
      "4       5\n",
      "dtype: object\n"
     ]
    }
   ],
   "source": [
    "import pandas as pd\n",
    "import numpy as np\n",
    "\n",
    "data = np.array([1, \"two\", 3.0, \"four\", 5])\n",
    "series = pd.Series(data)\n",
    "\n",
    "print(series)\n",
    "# Output:\n",
    "# 0       1\n",
    "# 1     two\n",
    "# 2     3.0\n",
    "# 3    four\n",
    "# 4       5\n",
    "# dtype: object"
   ]
  },
  {
   "cell_type": "markdown",
   "metadata": {},
   "source": [
    "**Example 4: Creating a Series from a NumPy Array of Objects**"
   ]
  },
  {
   "cell_type": "code",
   "execution_count": 15,
   "metadata": {},
   "outputs": [
    {
     "name": "stdout",
     "output_type": "stream",
     "text": [
      "0    <__main__.CustomObject object at 0x10f4075e0>\n",
      "1    <__main__.CustomObject object at 0x12fcfe500>\n",
      "2    <__main__.CustomObject object at 0x12fcfd2a0>\n",
      "dtype: object\n"
     ]
    }
   ],
   "source": [
    "import pandas as pd\n",
    "import numpy as np\n",
    "\n",
    "class CustomObject:\n",
    "    def __init__(self, name):\n",
    "        self.name = name\n",
    "\n",
    "data = np.array([CustomObject(\"Object1\"), CustomObject(\"Object2\"), CustomObject(\"Object3\")])\n",
    "series = pd.Series(data)\n",
    "\n",
    "print(series)\n",
    "# Output:\n",
    "# 0    <__main__.CustomObject object at 0x10f4075e0>\n",
    "# 1    <__main__.CustomObject object at 0x12fcfe500>\n",
    "# 2    <__main__.CustomObject object at 0x12fcfd2a0>\n",
    "# dtype: object"
   ]
  },
  {
   "cell_type": "markdown",
   "metadata": {},
   "source": [
    "**Example 5: Creating a Series from a NumPy Array with Missing Values**"
   ]
  },
  {
   "cell_type": "code",
   "execution_count": 16,
   "metadata": {},
   "outputs": [
    {
     "name": "stdout",
     "output_type": "stream",
     "text": [
      "0    1.0\n",
      "1    2.0\n",
      "2    NaN\n",
      "3    4.0\n",
      "4    5.0\n",
      "dtype: float64\n"
     ]
    }
   ],
   "source": [
    "import pandas as pd\n",
    "import numpy as np\n",
    "\n",
    "data = np.array([1, 2, np.nan, 4, 5])\n",
    "series = pd.Series(data)\n",
    "\n",
    "print(series)\n",
    "# Output:\n",
    "# 0    1.0\n",
    "# 1    2.0\n",
    "# 2    NaN\n",
    "# 3    4.0\n",
    "# 4    5.0\n",
    "# dtype: float64"
   ]
  },
  {
   "cell_type": "markdown",
   "metadata": {},
   "source": [
    "## Section 2: Accessing Elements in a Series\n",
    "\n",
    "Accessing elements in a Pandas Series can be performed in several ways, primarily through indexing by number (integer index) or label (index label).\n",
    "\n",
    "### 2.1 - Accessing by Index\n",
    "\n",
    "Each element in a series has a unique integer index, which is assigned by default and starts from 0. This index can be used to access the corresponding element.\n",
    "\n",
    "**Example 1: Accessing a Single Element by Index**"
   ]
  },
  {
   "cell_type": "code",
   "execution_count": 17,
   "metadata": {},
   "outputs": [
    {
     "name": "stdout",
     "output_type": "stream",
     "text": [
      "4\n"
     ]
    }
   ],
   "source": [
    "import pandas as pd\n",
    "\n",
    "data = [1, 2, 3, 4, 5]\n",
    "series = pd.Series(data)\n",
    "\n",
    "print(series[3])  # Output: 4"
   ]
  },
  {
   "cell_type": "markdown",
   "metadata": {},
   "source": [
    "**Example 2: Accessing Multiple Elements by Index**"
   ]
  },
  {
   "cell_type": "code",
   "execution_count": 18,
   "metadata": {},
   "outputs": [
    {
     "name": "stdout",
     "output_type": "stream",
     "text": [
      "1    2\n",
      "3    4\n",
      "4    5\n",
      "dtype: int64\n"
     ]
    }
   ],
   "source": [
    "import pandas as pd\n",
    "\n",
    "data = [1, 2, 3, 4, 5]\n",
    "series = pd.Series(data)\n",
    "\n",
    "print(series[[1, 3, 4]])  # Output: 1    2\n",
    "                          #          3    4\n",
    "                          #          4    5\n",
    "                          # dtype: int64"
   ]
  },
  {
   "cell_type": "markdown",
   "metadata": {},
   "source": [
    "**Example 3: Accessing a Range of Elements by Index**"
   ]
  },
  {
   "cell_type": "code",
   "execution_count": 19,
   "metadata": {},
   "outputs": [
    {
     "name": "stdout",
     "output_type": "stream",
     "text": [
      "1    2\n",
      "2    3\n",
      "3    4\n",
      "dtype: int64\n"
     ]
    }
   ],
   "source": [
    "import pandas as pd\n",
    "\n",
    "data = [1, 2, 3, 4, 5]\n",
    "series = pd.Series(data)\n",
    "\n",
    "print(series[1:4])  # Output: 1    2\n",
    "                    #         2    3\n",
    "                    #         3    4\n",
    "                    # dtype: int64"
   ]
  },
  {
   "cell_type": "markdown",
   "metadata": {},
   "source": [
    "### 2.2 - Accessing by Label\n",
    "\n",
    "If a series has a defined index label, this label can be used to access the corresponding element. This is similar to how keys are used to access values in a dictionary.\n",
    "\n",
    "**Example 1: Accessing a Single Element by Label**"
   ]
  },
  {
   "cell_type": "code",
   "execution_count": 21,
   "metadata": {},
   "outputs": [
    {
     "name": "stdout",
     "output_type": "stream",
     "text": [
      "3\n"
     ]
    }
   ],
   "source": [
    "import pandas as pd\n",
    "\n",
    "data = [1, 2, 3, 4, 5]\n",
    "index = ['a', 'b', 'c', 'd', 'e']\n",
    "series = pd.Series(data, index=index)\n",
    "\n",
    "print(series['c'])  # Output: 3"
   ]
  },
  {
   "cell_type": "markdown",
   "metadata": {},
   "source": [
    "**Example 2: Accessing Multiple Elements by Label**"
   ]
  },
  {
   "cell_type": "code",
   "execution_count": 22,
   "metadata": {},
   "outputs": [
    {
     "name": "stdout",
     "output_type": "stream",
     "text": [
      "b    2\n",
      "d    4\n",
      "e    5\n",
      "dtype: int64\n"
     ]
    }
   ],
   "source": [
    "import pandas as pd\n",
    "\n",
    "data = [1, 2, 3, 4, 5]\n",
    "index = ['a', 'b', 'c', 'd', 'e']\n",
    "series = pd.Series(data, index=index)\n",
    "\n",
    "print(series[['b', 'd', 'e']])  # Output: b    2\n",
    "                                #         d    4\n",
    "                                #         e    5\n",
    "                                # dtype: int64"
   ]
  },
  {
   "cell_type": "markdown",
   "metadata": {},
   "source": [
    "**Example 3: Accessing a Range of Elements by Label**"
   ]
  },
  {
   "cell_type": "code",
   "execution_count": 23,
   "metadata": {},
   "outputs": [
    {
     "name": "stdout",
     "output_type": "stream",
     "text": [
      "b    2\n",
      "c    3\n",
      "d    4\n",
      "dtype: int64\n"
     ]
    }
   ],
   "source": [
    "import pandas as pd\n",
    "\n",
    "data = [1, 2, 3, 4, 5]\n",
    "index = ['a', 'b', 'c', 'd', 'e']\n",
    "series = pd.Series(data, index=index)\n",
    "\n",
    "print(series['b':'d'])  # Output: b    2\n",
    "                        #         c    3\n",
    "                        #         d    4\n",
    "                        # dtype: int64"
   ]
  },
  {
   "cell_type": "markdown",
   "metadata": {},
   "source": [
    "**Example 4: Accessing an Element by Label Using the `.loc` Accessor**\n",
    "\n",
    "The `.loc` accessor is used to access a group of rows and columns by label(s) or a boolean array."
   ]
  },
  {
   "cell_type": "code",
   "execution_count": 24,
   "metadata": {},
   "outputs": [
    {
     "name": "stdout",
     "output_type": "stream",
     "text": [
      "2\n"
     ]
    }
   ],
   "source": [
    "import pandas as pd\n",
    "\n",
    "data = [1, 2, 3, 4, 5]\n",
    "index = ['a', 'b', 'c', 'd', 'e']\n",
    "series = pd.Series(data, index=index)\n",
    "\n",
    "print(series.loc['b'])  # Output: 2"
   ]
  },
  {
   "cell_type": "markdown",
   "metadata": {},
   "source": [
    "**Example 5: Accessing Multiple Elements by Label Using the `.loc` Accessor**"
   ]
  },
  {
   "cell_type": "code",
   "execution_count": 25,
   "metadata": {},
   "outputs": [
    {
     "name": "stdout",
     "output_type": "stream",
     "text": [
      "a    1\n",
      "c    3\n",
      "e    5\n",
      "dtype: int64\n"
     ]
    }
   ],
   "source": [
    "import pandas as pd\n",
    "\n",
    "data = [1, 2, 3, 4, 5]\n",
    "index = ['a', 'b', 'c', 'd', 'e']\n",
    "series = pd.Series(data, index=index)\n",
    "\n",
    "print(series.loc[['a', 'c', 'e']])  # Output: a    1\n",
    "                                    #         c    3\n",
    "                                    #         e    5\n",
    "                                    # dtype: int64"
   ]
  },
  {
   "cell_type": "markdown",
   "metadata": {},
   "source": [
    "### 2.3 - Accessing by Condition\n",
    "\n",
    "You can also access and manipulate elements in a series based on a certain condition or criteria.\n",
    "\n",
    "**Example 1: Accessing Elements That Satisfy a Condition**"
   ]
  },
  {
   "cell_type": "code",
   "execution_count": 26,
   "metadata": {},
   "outputs": [
    {
     "name": "stdout",
     "output_type": "stream",
     "text": [
      "3    4\n",
      "4    5\n",
      "dtype: int64\n"
     ]
    }
   ],
   "source": [
    "import pandas as pd\n",
    "\n",
    "data = [1, 2, 3, 4, 5]\n",
    "series = pd.Series(data)\n",
    "\n",
    "print(series[series > 3])  # Output: 3    4\n",
    "                           #         4    5\n",
    "                           # dtype: int64"
   ]
  },
  {
   "cell_type": "markdown",
   "metadata": {},
   "source": [
    "**Example 2: Modifying Elements That Satisfy a Condition**"
   ]
  },
  {
   "cell_type": "code",
   "execution_count": 27,
   "metadata": {},
   "outputs": [
    {
     "name": "stdout",
     "output_type": "stream",
     "text": [
      "0     1\n",
      "1     2\n",
      "2     3\n",
      "3    10\n",
      "4    10\n",
      "dtype: int64\n"
     ]
    }
   ],
   "source": [
    "import pandas as pd\n",
    "\n",
    "data = [1, 2, 3, 4, 5]\n",
    "series = pd.Series(data)\n",
    "\n",
    "series[series > 3] = 10\n",
    "\n",
    "print(series)  # Output: 0     1\n",
    "               #         1     2\n",
    "               #         2     3\n",
    "               #         3    10\n",
    "               #         4    10\n",
    "               # dtype: int64"
   ]
  },
  {
   "cell_type": "markdown",
   "metadata": {},
   "source": [
    "**Example 3: Accessing Elements That Satisfy Multiple Conditions**"
   ]
  },
  {
   "cell_type": "code",
   "execution_count": 28,
   "metadata": {},
   "outputs": [
    {
     "name": "stdout",
     "output_type": "stream",
     "text": [
      "2    3\n",
      "3    4\n",
      "dtype: int64\n"
     ]
    }
   ],
   "source": [
    "import pandas as pd\n",
    "\n",
    "data = [1, 2, 3, 4, 5]\n",
    "series = pd.Series(data)\n",
    "\n",
    "print(series[(series > 2) & (series < 5)])  # Output: 2    3\n",
    "                                            #         3    4\n",
    "                                            # dtype: int64"
   ]
  },
  {
   "cell_type": "markdown",
   "metadata": {},
   "source": [
    "**Example 4: Accessing Elements Using the `.where()` Function**\n",
    "\n",
    "The `.where()` function returns a new series that replaces all values where the condition is `False`."
   ]
  },
  {
   "cell_type": "code",
   "execution_count": 29,
   "metadata": {},
   "outputs": [
    {
     "name": "stdout",
     "output_type": "stream",
     "text": [
      "0    NaN\n",
      "1    NaN\n",
      "2    NaN\n",
      "3    4.0\n",
      "4    5.0\n",
      "dtype: float64\n"
     ]
    }
   ],
   "source": [
    "import pandas as pd\n",
    "\n",
    "data = [1, 2, 3, 4, 5]\n",
    "series = pd.Series(data)\n",
    "\n",
    "print(series.where(series > 3))  # Output: 0    NaN\n",
    "                                 #         1    NaN\n",
    "                                 #         2    NaN\n",
    "                                 #         3    4.0\n",
    "                                 #         4    5.0\n",
    "                                 # dtype: float64"
   ]
  },
  {
   "cell_type": "markdown",
   "metadata": {},
   "source": [
    "## Section 3: Operations on Series\n",
    "\n",
    "### 3.1 - Mathematical Operations\n",
    "\n",
    "When working with Pandas Series, various mathematical operations can be performed. Both unary and binary mathematical operators work with series.\n",
    "\n",
    "**Example 1: Addition of a Constant to a Series**"
   ]
  },
  {
   "cell_type": "code",
   "execution_count": 31,
   "metadata": {},
   "outputs": [
    {
     "name": "stdout",
     "output_type": "stream",
     "text": [
      "0    11\n",
      "1    12\n",
      "2    13\n",
      "3    14\n",
      "4    15\n",
      "dtype: int64\n"
     ]
    }
   ],
   "source": [
    "import pandas as pd\n",
    "\n",
    "data = [1, 2, 3, 4, 5]\n",
    "series = pd.Series(data)\n",
    "\n",
    "print(series + 10)  # Output: 0    11\n",
    "                    #         1    12\n",
    "                    #         2    13\n",
    "                    #         3    14\n",
    "                    #         4    15\n",
    "                    # dtype: int64"
   ]
  },
  {
   "cell_type": "markdown",
   "metadata": {},
   "source": [
    "**Example 2: Subtraction of a Constant from a Series**"
   ]
  },
  {
   "cell_type": "code",
   "execution_count": 32,
   "metadata": {},
   "outputs": [
    {
     "name": "stdout",
     "output_type": "stream",
     "text": [
      "0    1\n",
      "1    2\n",
      "2    3\n",
      "3    4\n",
      "4    5\n",
      "dtype: int64\n"
     ]
    }
   ],
   "source": [
    "import pandas as pd\n",
    "\n",
    "data = [11, 12, 13, 14, 15]\n",
    "series = pd.Series(data)\n",
    "\n",
    "print(series - 10)  # Output: 0    1\n",
    "                    #         1    2\n",
    "                    #         2    3\n",
    "                    #         3    4\n",
    "                    #         4    5\n",
    "                    # dtype: int64"
   ]
  },
  {
   "cell_type": "markdown",
   "metadata": {},
   "source": [
    "**Example 3: Addition of Two Series**\n",
    "\n",
    "When adding two series together, Pandas aligns them by their index. If the index does not match, the result is `NaN`."
   ]
  },
  {
   "cell_type": "code",
   "execution_count": 33,
   "metadata": {},
   "outputs": [
    {
     "name": "stdout",
     "output_type": "stream",
     "text": [
      "0    11\n",
      "1    22\n",
      "2    33\n",
      "3    44\n",
      "4    55\n",
      "dtype: int64\n"
     ]
    }
   ],
   "source": [
    "import pandas as pd\n",
    "\n",
    "data1 = [1, 2, 3, 4, 5]\n",
    "data2 = [10, 20, 30, 40, 50]\n",
    "series1 = pd.Series(data1)\n",
    "series2 = pd.Series(data2)\n",
    "\n",
    "print(series1 + series2)  # Output: 0    11\n",
    "                          #         1    22\n",
    "                          #         2    33\n",
    "                          #         3    44\n",
    "                          #         4    55\n",
    "                          # dtype: int64"
   ]
  },
  {
   "cell_type": "markdown",
   "metadata": {},
   "source": [
    "**Example 4: Multiplication of Two Series**"
   ]
  },
  {
   "cell_type": "code",
   "execution_count": 34,
   "metadata": {},
   "outputs": [
    {
     "name": "stdout",
     "output_type": "stream",
     "text": [
      "0     10\n",
      "1     40\n",
      "2     90\n",
      "3    160\n",
      "4    250\n",
      "dtype: int64\n"
     ]
    }
   ],
   "source": [
    "import pandas as pd\n",
    "\n",
    "data1 = [1, 2, 3, 4, 5]\n",
    "data2 = [10, 20, 30, 40, 50]\n",
    "series1 = pd.Series(data1)\n",
    "series2 = pd.Series(data2)\n",
    "\n",
    "print(series1 * series2)  # Output: 0     10\n",
    "                          #         1     40\n",
    "                          #         2     90\n",
    "                          #         3    160\n",
    "                          #         4    250\n",
    "                          # dtype: int64"
   ]
  },
  {
   "cell_type": "markdown",
   "metadata": {},
   "source": [
    "**Example 5: Division of Two Series**"
   ]
  },
  {
   "cell_type": "code",
   "execution_count": 35,
   "metadata": {},
   "outputs": [
    {
     "name": "stdout",
     "output_type": "stream",
     "text": [
      "0    1.0\n",
      "1    2.0\n",
      "2    3.0\n",
      "3    4.0\n",
      "4    5.0\n",
      "dtype: float64\n"
     ]
    }
   ],
   "source": [
    "import pandas as pd\n",
    "\n",
    "data1 = [10, 40, 90, 160, 250]\n",
    "data2 = [10, 20, 30, 40, 50]\n",
    "series1 = pd.Series(data1)\n",
    "series2 = pd.Series(data2)\n",
    "\n",
    "print(series1 / series2)  # Output: 0    1.0\n",
    "                          #         1    2.0\n",
    "                          #         2    3.0\n",
    "                          #         3    4.0\n",
    "                          #         4    5.0\n",
    "                          # dtype: float64"
   ]
  },
  {
   "cell_type": "markdown",
   "metadata": {},
   "source": [
    "### 3.2 - Boolean Operations\n",
    "\n",
    "Boolean operations in Pandas Series are performed element-wise and return a series of `True` or `False` values.\n",
    "\n",
    "### Example 1: Comparison of a Series with a Constant"
   ]
  },
  {
   "cell_type": "code",
   "execution_count": 36,
   "metadata": {},
   "outputs": [
    {
     "name": "stdout",
     "output_type": "stream",
     "text": [
      "0    False\n",
      "1    False\n",
      "2    False\n",
      "3     True\n",
      "4     True\n",
      "dtype: bool\n"
     ]
    }
   ],
   "source": [
    "import pandas as pd\n",
    "\n",
    "data = [1, 2, 3, 4, 5]\n",
    "series = pd.Series(data)\n",
    "\n",
    "print(series > 3)  # Output: 0    False\n",
    "                   #         1    False\n",
    "                   #         2    False\n",
    "                   #         3     True\n",
    "                   #         4     True\n",
    "                   # dtype: bool"
   ]
  },
  {
   "cell_type": "markdown",
   "metadata": {},
   "source": [
    "### Example 2: Comparison of Two Series"
   ]
  },
  {
   "cell_type": "code",
   "execution_count": 37,
   "metadata": {},
   "outputs": [
    {
     "name": "stdout",
     "output_type": "stream",
     "text": [
      "0    False\n",
      "1    False\n",
      "2    False\n",
      "3     True\n",
      "4     True\n",
      "dtype: bool\n"
     ]
    }
   ],
   "source": [
    "import pandas as pd\n",
    "\n",
    "data1 = [1, 2, 3, 4, 5]\n",
    "data2 = [5, 4, 3, 2, 1]\n",
    "series1 = pd.Series(data1)\n",
    "series2 = pd.Series(data2)\n",
    "\n",
    "print(series1 > series2)  # Output: 0    False\n",
    "                          #         1    False\n",
    "                          #         2     False\n",
    "                          #         3     True\n",
    "                          #         4     True\n",
    "                          # dtype: bool"
   ]
  },
  {
   "cell_type": "markdown",
   "metadata": {},
   "source": [
    "### Example 3: Logical AND Operation"
   ]
  },
  {
   "cell_type": "code",
   "execution_count": 38,
   "metadata": {},
   "outputs": [
    {
     "name": "stdout",
     "output_type": "stream",
     "text": [
      "0     True\n",
      "1    False\n",
      "2    False\n",
      "3    False\n",
      "4     True\n",
      "dtype: bool\n"
     ]
    }
   ],
   "source": [
    "import pandas as pd\n",
    "\n",
    "data1 = [True, False, True, False, True]\n",
    "data2 = [True, True, False, False, True]\n",
    "series1 = pd.Series(data1)\n",
    "series2 = pd.Series(data2)\n",
    "\n",
    "print(series1 & series2)  # Output: 0     True\n",
    "                          #         1    False\n",
    "                          #         2    False\n",
    "                          #         3    False\n",
    "                          #         4     True\n",
    "                          # dtype: bool"
   ]
  },
  {
   "cell_type": "markdown",
   "metadata": {},
   "source": [
    "### Example 4: Logical OR Operation"
   ]
  },
  {
   "cell_type": "code",
   "execution_count": 39,
   "metadata": {},
   "outputs": [
    {
     "name": "stdout",
     "output_type": "stream",
     "text": [
      "0     True\n",
      "1     True\n",
      "2     True\n",
      "3    False\n",
      "4     True\n",
      "dtype: bool\n"
     ]
    }
   ],
   "source": [
    "import pandas as pd\n",
    "\n",
    "data1 = [True, False, True, False, True]\n",
    "data2 = [True, True, False, False, True]\n",
    "series1 = pd.Series(data1)\n",
    "series2 = pd.Series(data2)\n",
    "\n",
    "print(series1 | series2)  # Output: 0    True\n",
    "                          #         1    True\n",
    "                          #         2    True\n",
    "                          #         3    False\n",
    "                          #         4    True\n",
    "                          # dtype: bool"
   ]
  },
  {
   "cell_type": "markdown",
   "metadata": {},
   "source": [
    "### Example 5: Logical NOT Operation"
   ]
  },
  {
   "cell_type": "code",
   "execution_count": 40,
   "metadata": {},
   "outputs": [
    {
     "name": "stdout",
     "output_type": "stream",
     "text": [
      "0    False\n",
      "1     True\n",
      "2    False\n",
      "3     True\n",
      "4    False\n",
      "dtype: bool\n"
     ]
    }
   ],
   "source": [
    "import pandas as pd\n",
    "\n",
    "data = [True, False, True, False, True]\n",
    "series = pd.Series(data)\n",
    "\n",
    "print(~series)  # Output: 0    False\n",
    "                #         1     True\n",
    "                #         2    False\n",
    "                #         3     True\n",
    "                #         4    False\n",
    "                # dtype: bool"
   ]
  },
  {
   "cell_type": "markdown",
   "metadata": {},
   "source": [
    "## Section 4: Handling Missing Data in Series\n",
    "\n",
    "Pandas provides various methods to handle missing data (represented as `NaN`) in a Pandas Series.\n",
    "\n",
    "### 4.1 - Detecting Missing Values\n",
    "\n",
    "Pandas provides the `isnull()` and `notnull()` functions to detect missing values in a series. These functions return a boolean same-sized object indicating if the values are NA.\n",
    "\n",
    "**Example 1: Using the `isnull()` Function**"
   ]
  },
  {
   "cell_type": "code",
   "execution_count": 41,
   "metadata": {},
   "outputs": [
    {
     "name": "stdout",
     "output_type": "stream",
     "text": [
      "0    False\n",
      "1     True\n",
      "2    False\n",
      "3     True\n",
      "4    False\n",
      "dtype: bool\n"
     ]
    }
   ],
   "source": [
    "import pandas as pd\n",
    "\n",
    "data = [1, None, 3, None, 5]\n",
    "series = pd.Series(data)\n",
    "\n",
    "print(series.isnull())\n",
    "# Output:\n",
    "# 0    False\n",
    "# 1     True\n",
    "# 2    False\n",
    "# 3     True\n",
    "# 4    False\n",
    "# dtype: bool"
   ]
  },
  {
   "cell_type": "markdown",
   "metadata": {},
   "source": [
    "**Example 2: Using the `notnull()` Function**"
   ]
  },
  {
   "cell_type": "code",
   "execution_count": 42,
   "metadata": {},
   "outputs": [
    {
     "name": "stdout",
     "output_type": "stream",
     "text": [
      "0     True\n",
      "1    False\n",
      "2     True\n",
      "3    False\n",
      "4     True\n",
      "dtype: bool\n"
     ]
    }
   ],
   "source": [
    "import pandas as pd\n",
    "\n",
    "data = [1, None, 3, None, 5]\n",
    "series = pd.Series(data)\n",
    "\n",
    "print(series.notnull())\n",
    "# Output:\n",
    "# 0     True\n",
    "# 1    False\n",
    "# 2     True\n",
    "# 3    False\n",
    "# 4     True\n",
    "# dtype: bool"
   ]
  },
  {
   "cell_type": "markdown",
   "metadata": {},
   "source": [
    "**Example 3: Using `notnull()` to Filter Out Missing Values**"
   ]
  },
  {
   "cell_type": "code",
   "execution_count": 43,
   "metadata": {},
   "outputs": [
    {
     "name": "stdout",
     "output_type": "stream",
     "text": [
      "0    1.0\n",
      "2    3.0\n",
      "4    5.0\n",
      "dtype: float64\n"
     ]
    }
   ],
   "source": [
    "import pandas as pd\n",
    "\n",
    "data = [1, None, 3, None, 5]\n",
    "series = pd.Series(data)\n",
    "\n",
    "filtered_series = series[series.notnull()]\n",
    "\n",
    "print(filtered_series)\n",
    "# Output:\n",
    "# 0    1.0\n",
    "# 2    3.0\n",
    "# 4    5.0\n",
    "# dtype: float64"
   ]
  },
  {
   "cell_type": "markdown",
   "metadata": {},
   "source": [
    "**Example 4: Count the Number of Missing Values**"
   ]
  },
  {
   "cell_type": "code",
   "execution_count": 44,
   "metadata": {},
   "outputs": [
    {
     "name": "stdout",
     "output_type": "stream",
     "text": [
      "2\n"
     ]
    }
   ],
   "source": [
    "import pandas as pd\n",
    "\n",
    "data = [1, None, 3, None, 5]\n",
    "series = pd.Series(data)\n",
    "\n",
    "num_missing = series.isnull().sum()\n",
    "\n",
    "print(num_missing)\n",
    "# Output: 2"
   ]
  },
  {
   "cell_type": "markdown",
   "metadata": {},
   "source": [
    "**Example 5: Using `isnull()` in Conjunction with the `any()` Function**\n",
    "\n",
    "The `any()` function returns `True` if at least one element of an iterable is `True`. It can be used in conjunction with `isnull()` to check if there are any missing values in a series."
   ]
  },
  {
   "cell_type": "code",
   "execution_count": 45,
   "metadata": {},
   "outputs": [
    {
     "name": "stdout",
     "output_type": "stream",
     "text": [
      "True\n"
     ]
    }
   ],
   "source": [
    "import pandas as pd\n",
    "\n",
    "data = [1, None, 3, None, 5]\n",
    "series = pd.Series(data)\n",
    "\n",
    "print(series.isnull().any())\n",
    "# Output: True"
   ]
  },
  {
   "cell_type": "markdown",
   "metadata": {},
   "source": [
    "### 4.2 - Filling Missing Values\n",
    "\n",
    "Pandas provides several methods to fill missing values in a series, such as `fillna()`, `ffill()`, and `bfill()`. You can also fill missing values with statistical methods like mean, median, mode, etc.\n",
    "\n",
    "**Example 1: Using the `fillna()` Function**\n",
    "\n",
    "The `fillna()` function is used to fill NA/NaN values using the specified method."
   ]
  },
  {
   "cell_type": "code",
   "execution_count": 46,
   "metadata": {},
   "outputs": [
    {
     "name": "stdout",
     "output_type": "stream",
     "text": [
      "0    1.0\n",
      "1    0.0\n",
      "2    3.0\n",
      "3    0.0\n",
      "4    5.0\n",
      "dtype: float64\n"
     ]
    }
   ],
   "source": [
    "import pandas as pd\n",
    "\n",
    "data = [1, None, 3, None, 5]\n",
    "series = pd.Series(data)\n",
    "\n",
    "print(series.fillna(0))\n",
    "# Output:\n",
    "# 0    1.0\n",
    "# 1    0.0\n",
    "# 2    3.0\n",
    "# 3    0.0\n",
    "# 4    5.0\n",
    "# dtype: float64"
   ]
  },
  {
   "cell_type": "markdown",
   "metadata": {},
   "source": [
    "**Example 2: Filling Missing Values with Mean**\n",
    "\n",
    "You can use the mean of the non-null values in the series to fill the missing values."
   ]
  },
  {
   "cell_type": "code",
   "execution_count": 47,
   "metadata": {},
   "outputs": [
    {
     "name": "stdout",
     "output_type": "stream",
     "text": [
      "0    1.0\n",
      "1    3.0\n",
      "2    3.0\n",
      "3    3.0\n",
      "4    5.0\n",
      "dtype: float64\n"
     ]
    }
   ],
   "source": [
    "import pandas as pd\n",
    "\n",
    "data = [1, None, 3, None, 5]\n",
    "series = pd.Series(data)\n",
    "\n",
    "mean = series.mean()\n",
    "print(series.fillna(mean))\n",
    "# Output:\n",
    "# 0    1.0\n",
    "# 1    3.0\n",
    "# 2    3.0\n",
    "# 3    3.0\n",
    "# 4    5.0\n",
    "# dtype: float64"
   ]
  },
  {
   "cell_type": "markdown",
   "metadata": {},
   "source": [
    "**Example 3: Filling Missing Values with Median**\n",
    "\n",
    "You can use the median of the non-null values in the series to fill the missing values."
   ]
  },
  {
   "cell_type": "code",
   "execution_count": 48,
   "metadata": {},
   "outputs": [
    {
     "name": "stdout",
     "output_type": "stream",
     "text": [
      "0    1.0\n",
      "1    3.0\n",
      "2    3.0\n",
      "3    3.0\n",
      "4    5.0\n",
      "dtype: float64\n"
     ]
    }
   ],
   "source": [
    "import pandas as pd\n",
    "\n",
    "data = [1, None, 3, None, 5]\n",
    "series = pd.Series(data)\n",
    "\n",
    "median = series.median()\n",
    "print(series.fillna(median))\n",
    "# Output:\n",
    "# 0    1.0\n",
    "# 1    3.0\n",
    "# 2    3.0\n",
    "# 3    3.0\n",
    "# 4    5.0\n",
    "# dtype: float64"
   ]
  },
  {
   "cell_type": "markdown",
   "metadata": {},
   "source": [
    "**Example 4: Filling Missing Values with Mode**\n",
    "\n",
    "You can use the mode of the non-null values in the series to fill the missing values."
   ]
  },
  {
   "cell_type": "code",
   "execution_count": 49,
   "metadata": {},
   "outputs": [
    {
     "name": "stdout",
     "output_type": "stream",
     "text": [
      "0    1.0\n",
      "1    1.0\n",
      "2    3.0\n",
      "3    1.0\n",
      "4    5.0\n",
      "dtype: float64\n"
     ]
    }
   ],
   "source": [
    "import pandas as pd\n",
    "\n",
    "data = [1, 1, 3, None, 5]\n",
    "series = pd.Series(data)\n",
    "\n",
    "mode = series.mode()[0]\n",
    "print(series.fillna(mode))\n",
    "# Output:\n",
    "# 0    1.0\n",
    "# 1    1.0\n",
    "# 2    3.0\n",
    "# 3    1.0\n",
    "# 4    5.0\n",
    "# dtype: float64"
   ]
  },
  {
   "cell_type": "markdown",
   "metadata": {},
   "source": [
    "**Example 5: Using `interpolate()` function to fill missing values**\n",
    "\n",
    "The `interpolate()` function is used to fill NA values in the series or dataframe, but it uses various interpolation techniques to fill the missing values rather than hard-coding the value."
   ]
  },
  {
   "cell_type": "code",
   "execution_count": 50,
   "metadata": {},
   "outputs": [
    {
     "name": "stdout",
     "output_type": "stream",
     "text": [
      "0    1.0\n",
      "1    2.0\n",
      "2    3.0\n",
      "3    4.0\n",
      "4    5.0\n",
      "dtype: float64\n"
     ]
    }
   ],
   "source": [
    "import pandas as pd\n",
    "\n",
    "data = [1, None, 3, None, 5]\n",
    "series = pd.Series(data)\n",
    "\n",
    "print(series.interpolate())\n",
    "# Output:\n",
    "# 0    1.0\n",
    "# 1    2.0\n",
    "# 2    3.0\n",
    "# 3    4.0\n",
    "# 4    5.0\n",
    "# dtype: float64"
   ]
  },
  {
   "cell_type": "markdown",
   "metadata": {},
   "source": [
    "### 4.3 - Dropping Missing Values\n",
    "\n",
    "The `dropna()` function is used to remove missing values (represented as `NaN`) from a series.\n",
    "\n",
    "**Example 1: Dropping Missing Values**"
   ]
  },
  {
   "cell_type": "code",
   "execution_count": 51,
   "metadata": {},
   "outputs": [
    {
     "name": "stdout",
     "output_type": "stream",
     "text": [
      "0    1.0\n",
      "2    3.0\n",
      "4    5.0\n",
      "dtype: float64\n"
     ]
    }
   ],
   "source": [
    "import pandas as pd\n",
    "\n",
    "data = [1, None, 3, None, 5]\n",
    "series = pd.Series(data)\n",
    "\n",
    "print(series.dropna())\n",
    "# Output:\n",
    "# 0    1.0\n",
    "# 2    3.0\n",
    "# 4    5.0\n",
    "# dtype: float64"
   ]
  },
  {
   "cell_type": "markdown",
   "metadata": {},
   "source": [
    "**Example 2: Dropping Missing Values in Place**\n",
    "\n",
    "The `inplace` parameter, when set to `True`, allows to modify the original series."
   ]
  },
  {
   "cell_type": "code",
   "execution_count": 52,
   "metadata": {},
   "outputs": [
    {
     "name": "stdout",
     "output_type": "stream",
     "text": [
      "0    1.0\n",
      "2    3.0\n",
      "4    5.0\n",
      "dtype: float64\n"
     ]
    }
   ],
   "source": [
    "import pandas as pd\n",
    "\n",
    "data = [1, None, 3, None, 5]\n",
    "series = pd.Series(data)\n",
    "\n",
    "series.dropna(inplace=True)\n",
    "print(series)\n",
    "# Output:\n",
    "# 0    1.0\n",
    "# 2    3.0\n",
    "# 4    5.0\n",
    "# dtype: float64"
   ]
  },
  {
   "cell_type": "markdown",
   "metadata": {},
   "source": [
    "**Example 3: Verifying the Removal of Missing Values**\n",
    "\n",
    "Once the missing values have been dropped, you can verify their removal by using the `isnull()` function in conjunction with the `any()` function."
   ]
  },
  {
   "cell_type": "code",
   "execution_count": 53,
   "metadata": {},
   "outputs": [
    {
     "name": "stdout",
     "output_type": "stream",
     "text": [
      "False\n"
     ]
    }
   ],
   "source": [
    "import pandas as pd\n",
    "\n",
    "data = [1, None, 3, None, 5]\n",
    "series = pd.Series(data)\n",
    "\n",
    "series.dropna(inplace=True)\n",
    "print(series.isnull().any())\n",
    "# Output: False"
   ]
  },
  {
   "cell_type": "markdown",
   "metadata": {},
   "source": [
    "**Example 4: Counting the Number of Values Before and After Dropping Missing Values**\n",
    "\n",
    "This can be helpful for comparing the size of the series before and after the operation."
   ]
  },
  {
   "cell_type": "code",
   "execution_count": 55,
   "metadata": {},
   "outputs": [
    {
     "name": "stdout",
     "output_type": "stream",
     "text": [
      "Number of values before:  5\n",
      "Number of values after:  3\n"
     ]
    }
   ],
   "source": [
    "import pandas as pd\n",
    "\n",
    "data = [1, None, 3, None, 5]\n",
    "series = pd.Series(data)\n",
    "\n",
    "num_before = series.count() + series.isnull().sum()\n",
    "series.dropna(inplace=True)\n",
    "num_after = series.count() + series.isnull().sum()\n",
    "\n",
    "print(\"Number of values before: \", num_before)\n",
    "print(\"Number of values after: \", num_after)\n",
    "# Output:\n",
    "# Number of values before:  5\n",
    "# Number of values after:  3"
   ]
  },
  {
   "cell_type": "markdown",
   "metadata": {},
   "source": [
    "**Example 5: Dropping Missing Values from a Series with a Custom Index**\n",
    "\n",
    "If a series has a custom index, `dropna()` will also drop the corresponding index label for each missing value."
   ]
  },
  {
   "cell_type": "code",
   "execution_count": 56,
   "metadata": {},
   "outputs": [
    {
     "name": "stdout",
     "output_type": "stream",
     "text": [
      "a    1.0\n",
      "c    3.0\n",
      "e    5.0\n",
      "dtype: float64\n"
     ]
    }
   ],
   "source": [
    "import pandas as pd\n",
    "\n",
    "data = [1, None, 3, None, 5]\n",
    "index = ['a', 'b', 'c', 'd', 'e']\n",
    "series = pd.Series(data, index=index)\n",
    "\n",
    "print(series.dropna())\n",
    "# Output:\n",
    "# a    1.0\n",
    "# c    3.0\n",
    "# e    5.0\n",
    "# dtype: float64"
   ]
  },
  {
   "cell_type": "markdown",
   "metadata": {},
   "source": [
    "### 4.4 - Replacing Missing Values\n",
    "\n",
    "In some cases, instead of dropping or filling missing values, you may want to replace them with a specific value or values. The `replace()` function is used to replace a set of values with another set of values.\n",
    "\n",
    "**Example 1: Replacing a Single Value**"
   ]
  },
  {
   "cell_type": "code",
   "execution_count": 61,
   "metadata": {},
   "outputs": [
    {
     "name": "stdout",
     "output_type": "stream",
     "text": [
      "0    1\n",
      "1    2\n",
      "2    4\n",
      "3    4\n",
      "4    5\n",
      "dtype: int64\n"
     ]
    }
   ],
   "source": [
    "import pandas as pd\n",
    "\n",
    "data = [1, 2, 3, 3, 5]\n",
    "series = pd.Series(data)\n",
    "\n",
    "print(series.replace(3, 4))\n",
    "# Output:\n",
    "# 0    1.0\n",
    "# 1    0.0\n",
    "# 2    3.0\n",
    "# 3    0.0\n",
    "# 4    5.0\n",
    "# dtype: float64"
   ]
  },
  {
   "cell_type": "markdown",
   "metadata": {},
   "source": [
    "**Example 2: Replacing Multiple Values**"
   ]
  },
  {
   "cell_type": "code",
   "execution_count": 62,
   "metadata": {},
   "outputs": [
    {
     "name": "stdout",
     "output_type": "stream",
     "text": [
      "0    1\n",
      "1    0\n",
      "2    3\n",
      "3    0\n",
      "4    5\n",
      "dtype: int64\n"
     ]
    },
    {
     "name": "stderr",
     "output_type": "stream",
     "text": [
      "/var/folders/ng/r2tzgry96c3cm_rbns2hw5jr0000gn/T/ipykernel_85295/3618602478.py:6: FutureWarning: Downcasting behavior in `replace` is deprecated and will be removed in a future version. To retain the old behavior, explicitly call `result.infer_objects(copy=False)`. To opt-in to the future behavior, set `pd.set_option('future.no_silent_downcasting', True)`\n",
      "  print(series.replace('unknown', 0))\n"
     ]
    }
   ],
   "source": [
    "import pandas as pd\n",
    "\n",
    "data = [1, 'unknown', 3, 'unknown', 5]\n",
    "series = pd.Series(data)\n",
    "\n",
    "print(series.replace('unknown', 0))\n",
    "# Output:\n",
    "# 0    1\n",
    "# 1    0\n",
    "# 2    3\n",
    "# 3    0\n",
    "# 4    5\n",
    "# dtype: int64"
   ]
  },
  {
   "cell_type": "markdown",
   "metadata": {},
   "source": [
    "**Example 3: Replacing Values with a Dictionary**\n",
    "\n",
    "In this example, different values are replaced with different replacement values."
   ]
  },
  {
   "cell_type": "code",
   "execution_count": 63,
   "metadata": {},
   "outputs": [
    {
     "name": "stdout",
     "output_type": "stream",
     "text": [
      "0    1\n",
      "1    0\n",
      "2    3\n",
      "3   -1\n",
      "4    5\n",
      "dtype: int64\n"
     ]
    },
    {
     "name": "stderr",
     "output_type": "stream",
     "text": [
      "/var/folders/ng/r2tzgry96c3cm_rbns2hw5jr0000gn/T/ipykernel_85295/4007625583.py:6: FutureWarning: Downcasting behavior in `replace` is deprecated and will be removed in a future version. To retain the old behavior, explicitly call `result.infer_objects(copy=False)`. To opt-in to the future behavior, set `pd.set_option('future.no_silent_downcasting', True)`\n",
      "  print(series.replace({'unknown': 0, 'missing': -1}))\n"
     ]
    }
   ],
   "source": [
    "import pandas as pd\n",
    "\n",
    "data = [1, 'unknown', 3, 'missing', 5]\n",
    "series = pd.Series(data)\n",
    "\n",
    "print(series.replace({'unknown': 0, 'missing': -1}))\n",
    "# Output:\n",
    "# 0    1\n",
    "# 1    0\n",
    "# 2    3\n",
    "# 3   -1\n",
    "# 4    5\n",
    "# dtype: int64"
   ]
  },
  {
   "cell_type": "markdown",
   "metadata": {},
   "source": [
    "**Example 4: Replacing Values in Place**\n",
    "\n",
    "The `inplace` parameter, when set to `True`, allows to modify the original series."
   ]
  },
  {
   "cell_type": "code",
   "execution_count": 64,
   "metadata": {},
   "outputs": [
    {
     "name": "stdout",
     "output_type": "stream",
     "text": [
      "0          1\n",
      "1          0\n",
      "2          3\n",
      "3    missing\n",
      "4          5\n",
      "dtype: object\n"
     ]
    }
   ],
   "source": [
    "import pandas as pd\n",
    "\n",
    "data = [1, 'unknown', 3, 'missing', 5]\n",
    "series = pd.Series(data)\n",
    "\n",
    "series.replace('unknown', 0, inplace=True)\n",
    "print(series)\n",
    "# Output:\n",
    "# 0         1\n",
    "# 1         0\n",
    "# 2         3\n",
    "# 3    missing\n",
    "# 4         5\n",
    "# dtype: int64"
   ]
  },
  {
   "cell_type": "markdown",
   "metadata": {},
   "source": [
    "**Example 5: Replacing Values Using Regular Expressions**\n",
    "\n",
    "In this example, the `regex` parameter is set to `True`, which means that regular expressions can be used in the `to_replace` parameter."
   ]
  },
  {
   "cell_type": "code",
   "execution_count": 65,
   "metadata": {},
   "outputs": [
    {
     "name": "stdout",
     "output_type": "stream",
     "text": [
      "0      one\n",
      "1    match\n",
      "2    match\n",
      "3     four\n",
      "4     five\n",
      "dtype: object\n"
     ]
    }
   ],
   "source": [
    "import pandas as pd\n",
    "\n",
    "data = ['one', 'two', 'three', 'four', 'five']\n",
    "series = pd.Series(data)\n",
    "\n",
    "print(series.replace(r'^t.*$', 'match', regex=True))\n",
    "# Output:\n",
    "# 0      one\n",
    "# 1    match\n",
    "# 2    match\n",
    "# 3     four\n",
    "# 4     five\n",
    "# dtype: object"
   ]
  },
  {
   "cell_type": "markdown",
   "metadata": {},
   "source": [
    "In this example, all values that start with 't' are replaced with 'match'.\n",
    "\n",
    "## Section 5: Series Functions\n",
    "\n",
    "### 5.1 - `.describe()`\n",
    "\n",
    "The `.describe()` function is used to generate descriptive statistics of a Series or the columns of a DataFrame. It provides central tendency, dispersion, and shape of the dataset's distribution, excluding `NaN` values.\n",
    "\n",
    "**Example 1: Basic Usage of .describe()**"
   ]
  },
  {
   "cell_type": "code",
   "execution_count": 66,
   "metadata": {},
   "outputs": [
    {
     "name": "stdout",
     "output_type": "stream",
     "text": [
      "count    5.000000\n",
      "mean     3.000000\n",
      "std      1.581139\n",
      "min      1.000000\n",
      "25%      2.000000\n",
      "50%      3.000000\n",
      "75%      4.000000\n",
      "max      5.000000\n",
      "dtype: float64\n"
     ]
    }
   ],
   "source": [
    "import pandas as pd\n",
    "\n",
    "data = [1, 2, 3, 4, 5]\n",
    "series = pd.Series(data)\n",
    "\n",
    "print(series.describe())\n",
    "# Output:\n",
    "# count    5.0\n",
    "# mean     3.0\n",
    "# std      1.581139\n",
    "# min      1.0\n",
    "# 25%      2.0\n",
    "# 50%      3.0\n",
    "# 75%      4.0\n",
    "# max      5.0\n",
    "# dtype: float64"
   ]
  },
  {
   "cell_type": "markdown",
   "metadata": {},
   "source": [
    "**Example 2: .describe() with Object Data**\n",
    "\n",
    "When applied to an object Series, `.describe()` returns the count, number of unique values, most frequent value, and frequency of the most frequent value."
   ]
  },
  {
   "cell_type": "code",
   "execution_count": 67,
   "metadata": {},
   "outputs": [
    {
     "name": "stdout",
     "output_type": "stream",
     "text": [
      "count     9\n",
      "unique    3\n",
      "top       a\n",
      "freq      4\n",
      "dtype: object\n"
     ]
    }
   ],
   "source": [
    "import pandas as pd\n",
    "\n",
    "data = ['a', 'b', 'a', 'a', 'b', 'c', 'b', 'b', 'a']\n",
    "series = pd.Series(data)\n",
    "\n",
    "print(series.describe())\n",
    "# Output:\n",
    "# count     9\n",
    "# unique    3\n",
    "# top       a\n",
    "# freq      4\n",
    "# dtype: object"
   ]
  },
  {
   "cell_type": "markdown",
   "metadata": {},
   "source": [
    "**Example 3: .describe() with datetime Data**\n",
    "\n",
    "When applied to a datetime Series, `.describe()` returns the count, number of unique values, most frequent value, and frequency of the most frequent value."
   ]
  },
  {
   "cell_type": "code",
   "execution_count": 68,
   "metadata": {},
   "outputs": [
    {
     "name": "stdout",
     "output_type": "stream",
     "text": [
      "count                      5\n",
      "mean     2020-01-03 00:00:00\n",
      "min      2020-01-01 00:00:00\n",
      "25%      2020-01-02 00:00:00\n",
      "50%      2020-01-03 00:00:00\n",
      "75%      2020-01-04 00:00:00\n",
      "max      2020-01-05 00:00:00\n",
      "dtype: object\n"
     ]
    }
   ],
   "source": [
    "import pandas as pd\n",
    "\n",
    "data = pd.date_range('2020-01-01', periods=5, freq='D')\n",
    "series = pd.Series(data)\n",
    "\n",
    "print(series.describe())\n",
    "# Output:\n",
    "# count                      5\n",
    "# mean     2020-01-03 00:00:00\n",
    "# min      2020-01-01 00:00:00\n",
    "# 25%      2020-01-02 00:00:00\n",
    "# 50%      2020-01-03 00:00:00\n",
    "# 75%      2020-01-04 00:00:00\n",
    "# max      2020-01-05 00:00:00\n",
    "# dtype: object"
   ]
  },
  {
   "cell_type": "markdown",
   "metadata": {},
   "source": [
    "**Example 4: .describe() with Options**\n",
    "\n",
    "You can pass options to `.describe()` to control what summary statistics are calculated. For example, you can use the `percentiles` option to calculate arbitrary percentiles."
   ]
  },
  {
   "cell_type": "code",
   "execution_count": 69,
   "metadata": {},
   "outputs": [
    {
     "name": "stdout",
     "output_type": "stream",
     "text": [
      "count    5.000000\n",
      "mean     3.000000\n",
      "std      1.581139\n",
      "min      1.000000\n",
      "5%       1.200000\n",
      "25%      2.000000\n",
      "50%      3.000000\n",
      "75%      4.000000\n",
      "95%      4.800000\n",
      "max      5.000000\n",
      "dtype: float64\n"
     ]
    }
   ],
   "source": [
    "import pandas as pd\n",
    "\n",
    "data = [1, 2, 3, 4, 5]\n",
    "series = pd.Series(data)\n",
    "\n",
    "print(series.describe(percentiles=[.05, .25, .75, .95]))\n",
    "# Output:\n",
    "# count    5.0\n",
    "# mean     3.0\n",
    "# std      1.581139\n",
    "# min      1.0\n",
    "# 5%       1.2\n",
    "# 25%      2.0\n",
    "# 50%      3.0\n",
    "# 75%      4.0\n",
    "# 95%      4.8\n",
    "# max      5.0\n",
    "# dtype: float64"
   ]
  },
  {
   "cell_type": "markdown",
   "metadata": {},
   "source": [
    "### 5.2 - .count()\n",
    "\n",
    "The `.count()` function is used to count the number of non-NA/null values in the Series.\n",
    "\n",
    "**Example 1: Basic Usage of .count()**"
   ]
  },
  {
   "cell_type": "code",
   "execution_count": 72,
   "metadata": {},
   "outputs": [
    {
     "name": "stdout",
     "output_type": "stream",
     "text": [
      "5\n"
     ]
    }
   ],
   "source": [
    "import pandas as pd\n",
    "\n",
    "data = [1, 2, 3, 4, 5]\n",
    "series = pd.Series(data)\n",
    "\n",
    "print(series.count())  # Output: 5"
   ]
  },
  {
   "cell_type": "markdown",
   "metadata": {},
   "source": [
    "**Example 2: .count() with Missing Values**\n",
    "\n",
    "If the Series contains missing values, they are not included in the count."
   ]
  },
  {
   "cell_type": "code",
   "execution_count": 73,
   "metadata": {},
   "outputs": [
    {
     "name": "stdout",
     "output_type": "stream",
     "text": [
      "5\n"
     ]
    }
   ],
   "source": [
    "import pandas as pd\n",
    "\n",
    "data = ['a', 'b', 'c', 'd', 'e']\n",
    "series = pd.Series(data)\n",
    "\n",
    "print(series.count())  # Output: 5"
   ]
  },
  {
   "cell_type": "markdown",
   "metadata": {},
   "source": [
    "**Example 4: .count() with Boolean Values**\n",
    "\n",
    "When used with a Series of boolean values, `.count()` returns the number of `True` and `False` values, not counting `None` values."
   ]
  },
  {
   "cell_type": "code",
   "execution_count": 74,
   "metadata": {},
   "outputs": [
    {
     "name": "stdout",
     "output_type": "stream",
     "text": [
      "4\n"
     ]
    }
   ],
   "source": [
    "import pandas as pd\n",
    "\n",
    "data = [True, False, True, None, True]\n",
    "series = pd.Series(data)\n",
    "\n",
    "print(series.count())  # Output: 4"
   ]
  },
  {
   "cell_type": "markdown",
   "metadata": {},
   "source": [
    "**Example 5: .count() with Filtering**\n",
    "\n",
    "You can use `.count()` in conjunction with boolean indexing to count the number of values that satisfy a certain condition."
   ]
  },
  {
   "cell_type": "code",
   "execution_count": 75,
   "metadata": {},
   "outputs": [
    {
     "name": "stdout",
     "output_type": "stream",
     "text": [
      "3\n"
     ]
    }
   ],
   "source": [
    "import pandas as pd\n",
    "\n",
    "data = [1, 2, 3, 4, 5]\n",
    "series = pd.Series(data)\n",
    "\n",
    "print(series[series > 2].count())  # Output: 3"
   ]
  },
  {
   "cell_type": "markdown",
   "metadata": {},
   "source": [
    "In this example, `.count()` is used to count the number of values in the series that are greater than 2.\n",
    "\n",
    "### 5.3 - .value_counts()\n",
    "\n",
    "The `.value_counts()` function is used to get a Series containing counts of unique values. The resulting object will have values sorted in descending order so that the first element is the most frequently-occurring element. Excludes NA values by default.\n",
    "\n",
    "**Example 1: Basic Usage of .value_counts()**"
   ]
  },
  {
   "cell_type": "code",
   "execution_count": 76,
   "metadata": {},
   "outputs": [
    {
     "name": "stdout",
     "output_type": "stream",
     "text": [
      "a    4\n",
      "b    4\n",
      "c    1\n",
      "Name: count, dtype: int64\n"
     ]
    }
   ],
   "source": [
    "import pandas as pd\n",
    "\n",
    "data = ['a', 'b', 'a', 'a', 'b', 'c', 'b', 'b', 'a']\n",
    "series = pd.Series(data)\n",
    "\n",
    "print(series.value_counts())\n",
    "# Output:\n",
    "# a    4\n",
    "# b    4\n",
    "# c    1\n",
    "# dtype: int64"
   ]
  },
  {
   "cell_type": "markdown",
   "metadata": {},
   "source": [
    "**Example 2: .value_counts() with Normalization**\n",
    "\n",
    "By setting the `normalize` parameter to `True`, `.value_counts()` will return the relative frequencies of the unique values."
   ]
  },
  {
   "cell_type": "code",
   "execution_count": 77,
   "metadata": {},
   "outputs": [
    {
     "name": "stdout",
     "output_type": "stream",
     "text": [
      "a    0.444444\n",
      "b    0.444444\n",
      "c    0.111111\n",
      "Name: proportion, dtype: float64\n"
     ]
    }
   ],
   "source": [
    "import pandas as pd\n",
    "\n",
    "data = ['a', 'b', 'a', 'a', 'b', 'c', 'b', 'b', 'a']\n",
    "series = pd.Series(data)\n",
    "\n",
    "print(series.value_counts(normalize=True))\n",
    "# Output:\n",
    "# a    0.444444\n",
    "# b    0.444444\n",
    "# c    0.111111\n",
    "# dtype: float64"
   ]
  },
  {
   "cell_type": "markdown",
   "metadata": {},
   "source": [
    "**Example 3: .value_counts() with Binning**\n",
    "\n",
    "If the Series is a numeric series, we can also bin the values into discrete intervals with the `bins` parameter."
   ]
  },
  {
   "cell_type": "code",
   "execution_count": 78,
   "metadata": {},
   "outputs": [
    {
     "name": "stdout",
     "output_type": "stream",
     "text": [
      "(2.5, 4.0]      9\n",
      "(0.996, 2.5]    5\n",
      "Name: count, dtype: int64\n"
     ]
    }
   ],
   "source": [
    "import pandas as pd\n",
    "\n",
    "data = [1, 1, 2, 2, 2, 3, 3, 3, 3, 4, 4, 4, 4, 4]\n",
    "series = pd.Series(data)\n",
    "\n",
    "print(series.value_counts(bins=2))\n",
    "# Output:\n",
    "# (2.5, 4.0]      9\n",
    "# (0.996, 2.5]    5\n",
    "# Name: count, dtype: int64"
   ]
  },
  {
   "cell_type": "markdown",
   "metadata": {},
   "source": [
    "**Example 4: .value_counts() with Missing Values**\n",
    "\n",
    "By default, `.value_counts()` excludes NA values. However, you can include them by passing `dropna=False`."
   ]
  },
  {
   "cell_type": "code",
   "execution_count": 79,
   "metadata": {},
   "outputs": [
    {
     "name": "stdout",
     "output_type": "stream",
     "text": [
      "a      3\n",
      "b      3\n",
      "NaN    2\n",
      "c      1\n",
      "Name: count, dtype: int64\n"
     ]
    }
   ],
   "source": [
    "import pandas as pd\n",
    "import numpy as np\n",
    "\n",
    "data = ['a', 'b', 'a', np.nan, 'b', 'c', 'b', np.nan, 'a']\n",
    "series = pd.Series(data)\n",
    "\n",
    "print(series.value_counts(dropna=False))\n",
    "# Output:\n",
    "# a      3\n",
    "# b      3\n",
    "# NaN    2\n",
    "# c      1\n",
    "# dtype: int64"
   ]
  },
  {
   "cell_type": "markdown",
   "metadata": {},
   "source": [
    "**Example 5: .value_counts() with Data Sorting**\n",
    "\n",
    "The `sort` parameter can be used to sort by values."
   ]
  },
  {
   "cell_type": "code",
   "execution_count": 80,
   "metadata": {},
   "outputs": [
    {
     "name": "stdout",
     "output_type": "stream",
     "text": [
      "a    4\n",
      "b    4\n",
      "c    1\n",
      "Name: count, dtype: int64\n"
     ]
    }
   ],
   "source": [
    "import pandas as pd\n",
    "\n",
    "data = ['a', 'b', 'a', 'a', 'b', 'c', 'b', 'b', 'a']\n",
    "series = pd.Series(data)\n",
    "\n",
    "print(series.value_counts(sort=True))\n",
    "# Output:\n",
    "# a    4\n",
    "# b    4\n",
    "# c    1\n",
    "# dtype: int64"
   ]
  },
  {
   "cell_type": "markdown",
   "metadata": {},
   "source": [
    "Here, the output is sorted by the count in descending order. If `sort=False`, the output will be sorted by the index (i.e., the values in the original Series).\n",
    "\n",
    "## Challenge\n",
    "\n",
    "Following the concept of handling missing data in a Pandas Series as mentioned above, your task is to:\n",
    "\n",
    "1. Create a pandas series from a list which includes some missing values (None or np.nan).\n",
    "2. Write a function called `missing_data_handler` that takes this Series as an input and performs the following tasks:\n",
    "    - Counts and prints the number of missing and non-missing values.\n",
    "    - Fills the missing values with the mean of the non-missing values in the Series, and prints the updated Series.\n",
    "    - Finally, it should return the count of missing values after filling them.\n",
    "\n",
    "### Output Format\n",
    "\n",
    "- The function should first print the count of missing and non-missing values.\n",
    "- Then, it should print the Series after filling the missing values.\n",
    "- Finally, it should return the count of missing values (which should be 0 after filling).\n",
    "\n",
    "### Explanation\n",
    "\n",
    "Consider the following code:\n",
    "\n",
    "```python\n",
    "import pandas as pd\n",
    "import numpy as np\n",
    "\n",
    "# Create a series with missing values\n",
    "series = pd.Series([1, np.nan, 3, np.nan, 5]);\n",
    "\n",
    "# Handle missing data\n",
    "missing_data_handler(series)\n",
    "\n",
    "```\n",
    "\n",
    "The output should show:\n",
    "\n",
    "- The count of missing and non-missing values before handling missing data.\n",
    "- The Series after filling missing values with the mean.\n",
    "- The count of missing values after handling them (which should be 0)."
   ]
  },
  {
   "cell_type": "code",
   "execution_count": null,
   "metadata": {},
   "outputs": [],
   "source": [
    "### WRITE YOUR CODE BELOW THIS LINE ###\n",
    "\n",
    "\n",
    "### WRITE YOUR CODE ABOVE THIS LINE ###"
   ]
  }
 ],
 "metadata": {
  "kernelspec": {
   "display_name": "aia",
   "language": "python",
   "name": "python3"
  },
  "language_info": {
   "codemirror_mode": {
    "name": "ipython",
    "version": 3
   },
   "file_extension": ".py",
   "mimetype": "text/x-python",
   "name": "python",
   "nbconvert_exporter": "python",
   "pygments_lexer": "ipython3",
   "version": "3.10.13"
  }
 },
 "nbformat": 4,
 "nbformat_minor": 2
}
